{
 "cells": [
  {
   "cell_type": "markdown",
   "id": "6d7686b1",
   "metadata": {},
   "source": [
    "Okay this is going to be the python which converts the stitched tiff into an anorthite content map\n",
    "\n",
    "Basic principle\n",
    "\n",
    "import profile files\n",
    "find relevant profiles (this may end up being manual)\n",
    "find profile start and end points (this will definitely be manual)\n",
    "use start and end points to create mapping of stage x-stage y to tiff x tiff y\n",
    "Take half of the data. Find its anorthite content and BSE intensity\n",
    "Use that to create a BSE -> An function\n",
    "Test that function on the other half of the data\n",
    "Apply that function to the tif to generate an image coloured by anorthite content\n"
   ]
  },
  {
   "cell_type": "code",
   "execution_count": 81,
   "id": "67c19877",
   "metadata": {},
   "outputs": [],
   "source": [
    "import numpy as np\n",
    "import matplotlib.pyplot as plt\n",
    "import pandas as pd\n",
    "import glob\n",
    "from PIL import Image\n",
    "from IPython.display import Audio\n",
    "from scipy.optimize import curve_fit\n",
    "from scipy.optimize import differential_evolution\n",
    "from sklearn.linear_model import LinearRegression\n",
    "from sklearn.model_selection import train_test_split \n",
    "from sklearn.metrics import mean_squared_error, mean_absolute_error\n",
    "#from sklearn.model_selection import train_test_split\n",
    "#from sklearn.neural_network import MLPRegressor\n",
    "#import warnings\n",
    "\n",
    "sound_file = './Eldritch_Blast.wav'"
   ]
  },
  {
   "cell_type": "code",
   "execution_count": 82,
   "id": "e7494ef9",
   "metadata": {},
   "outputs": [],
   "source": [
    "make_guideline_fig = 0\n",
    "if make_guideline_fig == 1:\n",
    "    image = np.array(plt.imread('John3_geo_25x_lwremoved.png'))\n",
    "    guidelines = 1\n",
    "    if guidelines == 1:\n",
    "        for i in range(int(np.floor(image.shape[1]/10))):\n",
    "            if i/100 == np.floor(i/100):\n",
    "                image[::,10*i] = 1\n",
    "            elif i/10 == np.floor(i/10):\n",
    "                image[::,(10*i)] = 0.5\n",
    "            else:\n",
    "                image[::,(10*i)] = 0\n",
    "\n",
    "        for j in range(int(np.floor(image.shape[0]/10))):\n",
    "            if j/100 == np.floor(j/100):\n",
    "                image[10*j,::] = 1\n",
    "            elif j/10 == np.floor(j/10):\n",
    "                image[(10*j),::] = 0.5\n",
    "            else:\n",
    "                image[(10*j),::] = 0\n",
    "    #plt.imshow(image)\n",
    "\n",
    "    #image = draw_marker(7085,8335,2,image)\n",
    "    #image = draw_marker(1275,625,2,image)\n",
    "    to_save = Image.fromarray(image)\n",
    "    to_save.save('John3_grid.tif')"
   ]
  },
  {
   "cell_type": "code",
   "execution_count": 8,
   "id": "86f6f56f",
   "metadata": {},
   "outputs": [],
   "source": [
    "#np.floor(image.shape[0]/10)"
   ]
  },
  {
   "cell_type": "code",
   "execution_count": 83,
   "id": "6a1c7da0",
   "metadata": {},
   "outputs": [],
   "source": [
    "raw_probe_data = pd.read_csv('C:/Users/rwfbl/Mapping data/all_profiles_cleaned.csv')\n",
    "row_cleaned = raw_probe_data #For some reason there were three extra rows of nans and 2 columns\n",
    "column_cleaned = row_cleaned.iloc[:,0:14]\n",
    "\n",
    "\n"
   ]
  },
  {
   "cell_type": "code",
   "execution_count": 60,
   "id": "4e025a49-a66e-436c-9086-0ee796f20a25",
   "metadata": {},
   "outputs": [],
   "source": [
    "#with pd.option_context(\"display.max_rows\", 1000):\n",
    "#    print(probe_data.Distance)"
   ]
  },
  {
   "cell_type": "code",
   "execution_count": 42,
   "id": "9a11d01b-24e0-4a0e-a6d7-7afce5ee5fde",
   "metadata": {},
   "outputs": [
    {
     "data": {
      "text/html": [
       "<div>\n",
       "<style scoped>\n",
       "    .dataframe tbody tr th:only-of-type {\n",
       "        vertical-align: middle;\n",
       "    }\n",
       "\n",
       "    .dataframe tbody tr th {\n",
       "        vertical-align: top;\n",
       "    }\n",
       "\n",
       "    .dataframe thead th {\n",
       "        text-align: right;\n",
       "    }\n",
       "</style>\n",
       "<table border=\"1\" class=\"dataframe\">\n",
       "  <thead>\n",
       "    <tr style=\"text-align: right;\">\n",
       "      <th></th>\n",
       "      <th>DataSet_Point</th>\n",
       "      <th>Na_wt</th>\n",
       "      <th>Si_wt</th>\n",
       "      <th>Al_wt</th>\n",
       "      <th>Ca_wt</th>\n",
       "      <th>Fe_wt</th>\n",
       "      <th>K_wt</th>\n",
       "      <th>O_wt</th>\n",
       "      <th>Total_wt</th>\n",
       "      <th>X_stage</th>\n",
       "      <th>Y_stage</th>\n",
       "      <th>Comment</th>\n",
       "      <th>Distance</th>\n",
       "    </tr>\n",
       "  </thead>\n",
       "  <tbody>\n",
       "    <tr>\n",
       "      <th>200</th>\n",
       "      <td>3 / 1 .</td>\n",
       "      <td>0.8800</td>\n",
       "      <td>21.3000</td>\n",
       "      <td>17.6300</td>\n",
       "      <td>12.8200</td>\n",
       "      <td>0.4200</td>\n",
       "      <td>-0.0100</td>\n",
       "      <td>45.5000</td>\n",
       "      <td>98.5500</td>\n",
       "      <td>-13248.0</td>\n",
       "      <td>6111.0</td>\n",
       "      <td>John3_TBO_5_LRprofile_long</td>\n",
       "      <td>147.32</td>\n",
       "    </tr>\n",
       "    <tr>\n",
       "      <th>201</th>\n",
       "      <td>3 / 2 .</td>\n",
       "      <td>0.9700</td>\n",
       "      <td>21.2700</td>\n",
       "      <td>17.7400</td>\n",
       "      <td>12.9400</td>\n",
       "      <td>0.3300</td>\n",
       "      <td>0.0400</td>\n",
       "      <td>45.6300</td>\n",
       "      <td>98.9200</td>\n",
       "      <td>-13254.6</td>\n",
       "      <td>5963.8</td>\n",
       "      <td>John3_TBO_5_LRprofile_long</td>\n",
       "      <td>294.64</td>\n",
       "    </tr>\n",
       "    <tr>\n",
       "      <th>202</th>\n",
       "      <td>3 / 3 .</td>\n",
       "      <td>1.0300</td>\n",
       "      <td>21.5200</td>\n",
       "      <td>17.4400</td>\n",
       "      <td>12.3400</td>\n",
       "      <td>0.3100</td>\n",
       "      <td>0.0300</td>\n",
       "      <td>45.4100</td>\n",
       "      <td>98.0800</td>\n",
       "      <td>-13261.2</td>\n",
       "      <td>5816.7</td>\n",
       "      <td>John3_TBO_5_LRprofile_long</td>\n",
       "      <td>441.96</td>\n",
       "    </tr>\n",
       "    <tr>\n",
       "      <th>203</th>\n",
       "      <td>3 / 4 .</td>\n",
       "      <td>1.0200</td>\n",
       "      <td>21.3900</td>\n",
       "      <td>17.6400</td>\n",
       "      <td>12.5300</td>\n",
       "      <td>0.3400</td>\n",
       "      <td>0.0100</td>\n",
       "      <td>45.5200</td>\n",
       "      <td>98.4600</td>\n",
       "      <td>-13267.7</td>\n",
       "      <td>5669.5</td>\n",
       "      <td>John3_TBO_5_LRprofile_long</td>\n",
       "      <td>589.28</td>\n",
       "    </tr>\n",
       "    <tr>\n",
       "      <th>204</th>\n",
       "      <td>3 / 5 .</td>\n",
       "      <td>1.1000</td>\n",
       "      <td>21.6100</td>\n",
       "      <td>17.4200</td>\n",
       "      <td>12.5300</td>\n",
       "      <td>0.3200</td>\n",
       "      <td>-0.0100</td>\n",
       "      <td>45.5800</td>\n",
       "      <td>98.5500</td>\n",
       "      <td>-13274.3</td>\n",
       "      <td>5522.3</td>\n",
       "      <td>John3_TBO_5_LRprofile_long</td>\n",
       "      <td>736.6</td>\n",
       "    </tr>\n",
       "    <tr>\n",
       "      <th>...</th>\n",
       "      <td>...</td>\n",
       "      <td>...</td>\n",
       "      <td>...</td>\n",
       "      <td>...</td>\n",
       "      <td>...</td>\n",
       "      <td>...</td>\n",
       "      <td>...</td>\n",
       "      <td>...</td>\n",
       "      <td>...</td>\n",
       "      <td>...</td>\n",
       "      <td>...</td>\n",
       "      <td>...</td>\n",
       "      <td>...</td>\n",
       "    </tr>\n",
       "    <tr>\n",
       "      <th>924</th>\n",
       "      <td>5 / 56 .</td>\n",
       "      <td>1.0438</td>\n",
       "      <td>21.7433</td>\n",
       "      <td>17.5527</td>\n",
       "      <td>-0.0055</td>\n",
       "      <td>12.5304</td>\n",
       "      <td>0.3712</td>\n",
       "      <td>45.9376</td>\n",
       "      <td>99.2891</td>\n",
       "      <td>-12411.0</td>\n",
       "      <td>-8150.1</td>\n",
       "      <td>John3_TBO_5_HRprofile_rtoc</td>\n",
       "      <td>548.88</td>\n",
       "    </tr>\n",
       "    <tr>\n",
       "      <th>925</th>\n",
       "      <td>5 / 57 .</td>\n",
       "      <td>1.1730</td>\n",
       "      <td>21.7673</td>\n",
       "      <td>17.4524</td>\n",
       "      <td>0.0046</td>\n",
       "      <td>12.1764</td>\n",
       "      <td>0.3812</td>\n",
       "      <td>45.7934</td>\n",
       "      <td>98.8853</td>\n",
       "      <td>-12411.0</td>\n",
       "      <td>-8125.1</td>\n",
       "      <td>John3_TBO_5_HRprofile_rtoc</td>\n",
       "      <td>573.91</td>\n",
       "    </tr>\n",
       "    <tr>\n",
       "      <th>926</th>\n",
       "      <td>5 / 58 .</td>\n",
       "      <td>1.1086</td>\n",
       "      <td>21.6941</td>\n",
       "      <td>17.5348</td>\n",
       "      <td>-0.0168</td>\n",
       "      <td>12.3641</td>\n",
       "      <td>0.3883</td>\n",
       "      <td>45.8320</td>\n",
       "      <td>99.0292</td>\n",
       "      <td>-12411.0</td>\n",
       "      <td>-8100.1</td>\n",
       "      <td>John3_TBO_5_HRprofile_rtoc</td>\n",
       "      <td>598.94</td>\n",
       "    </tr>\n",
       "    <tr>\n",
       "      <th>927</th>\n",
       "      <td>5 / 59 .</td>\n",
       "      <td>1.3928</td>\n",
       "      <td>22.4661</td>\n",
       "      <td>17.1064</td>\n",
       "      <td>0.0070</td>\n",
       "      <td>11.7309</td>\n",
       "      <td>0.4030</td>\n",
       "      <td>46.2063</td>\n",
       "      <td>99.4914</td>\n",
       "      <td>-12411.0</td>\n",
       "      <td>-8075.0</td>\n",
       "      <td>John3_TBO_5_HRprofile_rtoc</td>\n",
       "      <td>623.97</td>\n",
       "    </tr>\n",
       "    <tr>\n",
       "      <th>928</th>\n",
       "      <td>5 / 60 .</td>\n",
       "      <td>1.5026</td>\n",
       "      <td>22.2401</td>\n",
       "      <td>17.0463</td>\n",
       "      <td>0.0044</td>\n",
       "      <td>11.7444</td>\n",
       "      <td>0.3927</td>\n",
       "      <td>45.9321</td>\n",
       "      <td>99.0231</td>\n",
       "      <td>-12411.0</td>\n",
       "      <td>-8050.0</td>\n",
       "      <td>John3_TBO_5_HRprofile_rtoc</td>\n",
       "      <td>649.01</td>\n",
       "    </tr>\n",
       "  </tbody>\n",
       "</table>\n",
       "<p>260 rows × 13 columns</p>\n",
       "</div>"
      ],
      "text/plain": [
       "    DataSet_Point   Na_wt    Si_wt    Al_wt    Ca_wt    Fe_wt    K_wt  \\\n",
       "200      3 / 1 .   0.8800  21.3000  17.6300  12.8200   0.4200 -0.0100   \n",
       "201      3 / 2 .   0.9700  21.2700  17.7400  12.9400   0.3300  0.0400   \n",
       "202      3 / 3 .   1.0300  21.5200  17.4400  12.3400   0.3100  0.0300   \n",
       "203      3 / 4 .   1.0200  21.3900  17.6400  12.5300   0.3400  0.0100   \n",
       "204      3 / 5 .   1.1000  21.6100  17.4200  12.5300   0.3200 -0.0100   \n",
       "..            ...     ...      ...      ...      ...      ...     ...   \n",
       "924     5 / 56 .   1.0438  21.7433  17.5527  -0.0055  12.5304  0.3712   \n",
       "925     5 / 57 .   1.1730  21.7673  17.4524   0.0046  12.1764  0.3812   \n",
       "926     5 / 58 .   1.1086  21.6941  17.5348  -0.0168  12.3641  0.3883   \n",
       "927     5 / 59 .   1.3928  22.4661  17.1064   0.0070  11.7309  0.4030   \n",
       "928     5 / 60 .   1.5026  22.2401  17.0463   0.0044  11.7444  0.3927   \n",
       "\n",
       "        O_wt  Total_wt  X_stage  Y_stage                           Comment  \\\n",
       "200  45.5000   98.5500 -13248.0   6111.0  John3_TBO_5_LRprofile_long         \n",
       "201  45.6300   98.9200 -13254.6   5963.8  John3_TBO_5_LRprofile_long         \n",
       "202  45.4100   98.0800 -13261.2   5816.7  John3_TBO_5_LRprofile_long         \n",
       "203  45.5200   98.4600 -13267.7   5669.5  John3_TBO_5_LRprofile_long         \n",
       "204  45.5800   98.5500 -13274.3   5522.3  John3_TBO_5_LRprofile_long         \n",
       "..       ...       ...      ...      ...                               ...   \n",
       "924  45.9376   99.2891 -12411.0  -8150.1        John3_TBO_5_HRprofile_rtoc   \n",
       "925  45.7934   98.8853 -12411.0  -8125.1        John3_TBO_5_HRprofile_rtoc   \n",
       "926  45.8320   99.0292 -12411.0  -8100.1        John3_TBO_5_HRprofile_rtoc   \n",
       "927  46.2063   99.4914 -12411.0  -8075.0        John3_TBO_5_HRprofile_rtoc   \n",
       "928  45.9321   99.0231 -12411.0  -8050.0        John3_TBO_5_HRprofile_rtoc   \n",
       "\n",
       "    Distance  \n",
       "200   147.32  \n",
       "201   294.64  \n",
       "202   441.96  \n",
       "203   589.28  \n",
       "204    736.6  \n",
       "..       ...  \n",
       "924   548.88  \n",
       "925   573.91  \n",
       "926   598.94  \n",
       "927   623.97  \n",
       "928   649.01  \n",
       "\n",
       "[260 rows x 13 columns]"
      ]
     },
     "execution_count": 42,
     "metadata": {},
     "output_type": "execute_result"
    }
   ],
   "source": []
  },
  {
   "cell_type": "code",
   "execution_count": 66,
   "id": "d46653e6-c33e-4d5a-93ec-963167192bff",
   "metadata": {},
   "outputs": [
    {
     "ename": "KeyError",
     "evalue": "1",
     "output_type": "error",
     "traceback": [
      "\u001b[1;31m---------------------------------------------------------------------------\u001b[0m",
      "\u001b[1;31mKeyError\u001b[0m                                  Traceback (most recent call last)",
      "\u001b[1;32m~\\AppData\\Local\\Temp/ipykernel_1440/672837612.py\u001b[0m in \u001b[0;36m<module>\u001b[1;34m\u001b[0m\n\u001b[1;32m----> 1\u001b[1;33m \u001b[0mprobe_data\u001b[0m\u001b[1;33m.\u001b[0m\u001b[0mat\u001b[0m\u001b[1;33m[\u001b[0m\u001b[1;36m1\u001b[0m\u001b[1;33m,\u001b[0m \u001b[1;34m'X_stage'\u001b[0m\u001b[1;33m]\u001b[0m\u001b[1;33m\u001b[0m\u001b[1;33m\u001b[0m\u001b[0m\n\u001b[0m",
      "\u001b[1;32m~\\anaconda3\\lib\\site-packages\\pandas\\core\\indexing.py\u001b[0m in \u001b[0;36m__getitem__\u001b[1;34m(self, key)\u001b[0m\n\u001b[0;32m   2273\u001b[0m             \u001b[1;32mreturn\u001b[0m \u001b[0mself\u001b[0m\u001b[1;33m.\u001b[0m\u001b[0mobj\u001b[0m\u001b[1;33m.\u001b[0m\u001b[0mloc\u001b[0m\u001b[1;33m[\u001b[0m\u001b[0mkey\u001b[0m\u001b[1;33m]\u001b[0m\u001b[1;33m\u001b[0m\u001b[1;33m\u001b[0m\u001b[0m\n\u001b[0;32m   2274\u001b[0m \u001b[1;33m\u001b[0m\u001b[0m\n\u001b[1;32m-> 2275\u001b[1;33m         \u001b[1;32mreturn\u001b[0m \u001b[0msuper\u001b[0m\u001b[1;33m(\u001b[0m\u001b[1;33m)\u001b[0m\u001b[1;33m.\u001b[0m\u001b[0m__getitem__\u001b[0m\u001b[1;33m(\u001b[0m\u001b[0mkey\u001b[0m\u001b[1;33m)\u001b[0m\u001b[1;33m\u001b[0m\u001b[1;33m\u001b[0m\u001b[0m\n\u001b[0m\u001b[0;32m   2276\u001b[0m \u001b[1;33m\u001b[0m\u001b[0m\n\u001b[0;32m   2277\u001b[0m     \u001b[1;32mdef\u001b[0m \u001b[0m__setitem__\u001b[0m\u001b[1;33m(\u001b[0m\u001b[0mself\u001b[0m\u001b[1;33m,\u001b[0m \u001b[0mkey\u001b[0m\u001b[1;33m,\u001b[0m \u001b[0mvalue\u001b[0m\u001b[1;33m)\u001b[0m\u001b[1;33m:\u001b[0m\u001b[1;33m\u001b[0m\u001b[1;33m\u001b[0m\u001b[0m\n",
      "\u001b[1;32m~\\anaconda3\\lib\\site-packages\\pandas\\core\\indexing.py\u001b[0m in \u001b[0;36m__getitem__\u001b[1;34m(self, key)\u001b[0m\n\u001b[0;32m   2220\u001b[0m \u001b[1;33m\u001b[0m\u001b[0m\n\u001b[0;32m   2221\u001b[0m         \u001b[0mkey\u001b[0m \u001b[1;33m=\u001b[0m \u001b[0mself\u001b[0m\u001b[1;33m.\u001b[0m\u001b[0m_convert_key\u001b[0m\u001b[1;33m(\u001b[0m\u001b[0mkey\u001b[0m\u001b[1;33m)\u001b[0m\u001b[1;33m\u001b[0m\u001b[1;33m\u001b[0m\u001b[0m\n\u001b[1;32m-> 2222\u001b[1;33m         \u001b[1;32mreturn\u001b[0m \u001b[0mself\u001b[0m\u001b[1;33m.\u001b[0m\u001b[0mobj\u001b[0m\u001b[1;33m.\u001b[0m\u001b[0m_get_value\u001b[0m\u001b[1;33m(\u001b[0m\u001b[1;33m*\u001b[0m\u001b[0mkey\u001b[0m\u001b[1;33m,\u001b[0m \u001b[0mtakeable\u001b[0m\u001b[1;33m=\u001b[0m\u001b[0mself\u001b[0m\u001b[1;33m.\u001b[0m\u001b[0m_takeable\u001b[0m\u001b[1;33m)\u001b[0m\u001b[1;33m\u001b[0m\u001b[1;33m\u001b[0m\u001b[0m\n\u001b[0m\u001b[0;32m   2223\u001b[0m \u001b[1;33m\u001b[0m\u001b[0m\n\u001b[0;32m   2224\u001b[0m     \u001b[1;32mdef\u001b[0m \u001b[0m__setitem__\u001b[0m\u001b[1;33m(\u001b[0m\u001b[0mself\u001b[0m\u001b[1;33m,\u001b[0m \u001b[0mkey\u001b[0m\u001b[1;33m,\u001b[0m \u001b[0mvalue\u001b[0m\u001b[1;33m)\u001b[0m\u001b[1;33m:\u001b[0m\u001b[1;33m\u001b[0m\u001b[1;33m\u001b[0m\u001b[0m\n",
      "\u001b[1;32m~\\anaconda3\\lib\\site-packages\\pandas\\core\\frame.py\u001b[0m in \u001b[0;36m_get_value\u001b[1;34m(self, index, col, takeable)\u001b[0m\n\u001b[0;32m   3577\u001b[0m \u001b[1;33m\u001b[0m\u001b[0m\n\u001b[0;32m   3578\u001b[0m         \u001b[1;32mtry\u001b[0m\u001b[1;33m:\u001b[0m\u001b[1;33m\u001b[0m\u001b[1;33m\u001b[0m\u001b[0m\n\u001b[1;32m-> 3579\u001b[1;33m             \u001b[0mloc\u001b[0m \u001b[1;33m=\u001b[0m \u001b[0mengine\u001b[0m\u001b[1;33m.\u001b[0m\u001b[0mget_loc\u001b[0m\u001b[1;33m(\u001b[0m\u001b[0mindex\u001b[0m\u001b[1;33m)\u001b[0m\u001b[1;33m\u001b[0m\u001b[1;33m\u001b[0m\u001b[0m\n\u001b[0m\u001b[0;32m   3580\u001b[0m             \u001b[1;32mreturn\u001b[0m \u001b[0mseries\u001b[0m\u001b[1;33m.\u001b[0m\u001b[0m_values\u001b[0m\u001b[1;33m[\u001b[0m\u001b[0mloc\u001b[0m\u001b[1;33m]\u001b[0m\u001b[1;33m\u001b[0m\u001b[1;33m\u001b[0m\u001b[0m\n\u001b[0;32m   3581\u001b[0m         \u001b[1;32mexcept\u001b[0m \u001b[0mAttributeError\u001b[0m\u001b[1;33m:\u001b[0m\u001b[1;33m\u001b[0m\u001b[1;33m\u001b[0m\u001b[0m\n",
      "\u001b[1;32m~\\anaconda3\\lib\\site-packages\\pandas\\_libs\\index.pyx\u001b[0m in \u001b[0;36mpandas._libs.index.IndexEngine.get_loc\u001b[1;34m()\u001b[0m\n",
      "\u001b[1;32m~\\anaconda3\\lib\\site-packages\\pandas\\_libs\\index.pyx\u001b[0m in \u001b[0;36mpandas._libs.index.IndexEngine.get_loc\u001b[1;34m()\u001b[0m\n",
      "\u001b[1;32mpandas\\_libs\\hashtable_class_helper.pxi\u001b[0m in \u001b[0;36mpandas._libs.hashtable.Int64HashTable.get_item\u001b[1;34m()\u001b[0m\n",
      "\u001b[1;32mpandas\\_libs\\hashtable_class_helper.pxi\u001b[0m in \u001b[0;36mpandas._libs.hashtable.Int64HashTable.get_item\u001b[1;34m()\u001b[0m\n",
      "\u001b[1;31mKeyError\u001b[0m: 1"
     ]
    }
   ],
   "source": [
    "probe_data.X_stage"
   ]
  },
  {
   "cell_type": "code",
   "execution_count": 11,
   "id": "03775bfe-b009-4904-a1aa-645141bfd1b2",
   "metadata": {},
   "outputs": [],
   "source": [
    "#probe_data.iloc[:,12]"
   ]
  },
  {
   "cell_type": "code",
   "execution_count": 7,
   "id": "dd0a5357",
   "metadata": {},
   "outputs": [],
   "source": [
    "#List of points being used for the calibration in the form (x,y), it is crucial that these are written in the same order in both lists\n",
    "#stage_calibration_points = np.array([(13310,33553),(13438,21243),(11160,23249),(15397,22668),(11507,22382)])\n",
    "#image_calibration_points = np.array([(7085,8335),(1275,625),(3675,870),(775,2485),(3022,476)])\n",
    "#stage_end_points = np.array([(13310,33553),(13438,21243),(11160,23249),(15397,22668), (11507,22382), (12195, 22677)])\n",
    "#image_end_points = np.array([(3022+20,476+133), (2763, 1117), (7085+20,8335+133),(1275+20,625+133),(3675+20,870+133),(775+20,2485+133)])\n",
    "#profile_start_numbers = np.array([0,60,160])\n",
    "\n",
    "#For John1\n",
    "\n",
    "#stage_calibration_points = np.array([(13310,33553),(13438,21243),(11160,23249),(15397,22668), (11507,22382)])\n",
    "image_calibration_points = np.array([(7085+20,8335+133),(1275+20,625+133),(3675+20,870+133),(775+20,2485+133), (3022+20,476+133)])\n",
    "image_end_points = np.array([(7085+20,8335+133),(1275+20,625+133),(3675+20,870+133),(775+20,2485+133), (3022+20,476+133), (2763, 1117)])\n",
    "profile_start_numbers = np.array([0,100,200])\n",
    "\n",
    "placeholder = []\n",
    "for i in range(len(profile_start_numbers)-1):\n",
    "    placeholder.append((probe_data.X_stage[profile_start_numbers[i]:profile_start_numbers[i]+1],probe_data.Y_stage[profile_start_numbers[i]:profile_start_numbers[i]+1]))\n",
    "    placeholder.append((probe_data.X_stage[profile_start_numbers[i+1]-1:profile_start_numbers[i+1]],probe_data.Y_stage[profile_start_numbers[i+1]-1:profile_start_numbers[i+1]]))\n",
    "placeholder.append((probe_data.X_stage[profile_start_numbers[len(profile_start_numbers)-1]:profile_start_numbers[len(profile_start_numbers)-1]+1],probe_data.Y_stage[profile_start_numbers[len(profile_start_numbers)-1]:profile_start_numbers[len(profile_start_numbers)-1]+1]))\n",
    "placeholder.append((probe_data.X_stage[len(probe_data)-1:len(probe_data)],probe_data.Y_stage[len(probe_data)-1:len(probe_data)]))\n",
    "placeholder = np.array(placeholder)\n",
    "stage_calibration_points = []\n",
    "for i in range(len(placeholder)):\n",
    "    stage_calibration_points.append((placeholder[i, 0, 0], placeholder[i, 1, 0]))\n",
    "stage_calibration_points = np.array(stage_calibration_points)\n",
    "\n",
    "#calibrated_end_points = np.array([[2884.0, 560.0],[2756.0, 1100.0],[7145.0, 8421.0],[1473.0, 736.0], [3495.0, 979.0],[849.0, 2438.0]]) #Recorded with play = 200\n",
    "#calibrated_end_points = np.array([[2959.0, 581.0],[2661.0, 1074.0],[7138.0, 8373.0],[1475.0, 758.0],[3724.0, 1094.0],[966.0, 2541.0]]) #Play = 200, John1 geo, long wavelength removed\n",
    "#calibrated_end_points = np.array([[2983.0, 584.0],[2634.0, 1094.0],[7041.0, 8349.0],[1321.0, 824.0],[3736.0, 1130.0],[954.0, 2510.0]]) #Play = 200, John1 arith, long WAVELENGTH REMOVED\n",
    "calibrated_end_points = np.array([[7040.0, 8349.0],[1317.0, 826.0],[3736.0, 1129.0],[954.0, 2510.0],[3179.0, 660.0],[2941.0, 1146.0]]) #Play = 200, John1 offset, long wavelength removed 61,15,15\n",
    "do_all_profiles = np.array([0,1,2])\n",
    "\n",
    "probe_data = column_cleaned.loc[np.r_[0:200, 806:866], :] #For John1\n",
    "\n"
   ]
  },
  {
   "cell_type": "code",
   "execution_count": 23,
   "id": "c9fa8529-1b14-4078-b96b-52e71a89c22f",
   "metadata": {},
   "outputs": [],
   "source": [
    "#For John3\n",
    "\n",
    "#Short profile image [710, 3130],[1083, 3262]\n",
    "#Long profile image [11939, 6116], [1167, 2126]\n",
    "#Medium profile image [5435,7005], [4743,1039]\n",
    "\n",
    "probe_data = column_cleaned.loc[np.r_[200:400, 869:929], :] #For John3\n",
    "profile_start_numbers = np.array([0,100,200])\n",
    "image_end_points = np.array([(11939,6116), (1167,2126), (5435,7005),(4743,1039),(710,3130),(1083, 3262)])\n",
    "image_calibration_points = image_end_points\n",
    "placeholder = []\n",
    "for i in range(len(profile_start_numbers)-1):\n",
    "    placeholder.append((probe_data.X_stage[profile_start_numbers[i]:profile_start_numbers[i]+1],probe_data.Y_stage[profile_start_numbers[i]:profile_start_numbers[i]+1]))\n",
    "    placeholder.append((probe_data.X_stage[profile_start_numbers[i+1]-1:profile_start_numbers[i+1]],probe_data.Y_stage[profile_start_numbers[i+1]-1:profile_start_numbers[i+1]]))\n",
    "placeholder.append((probe_data.X_stage[profile_start_numbers[len(profile_start_numbers)-1]:profile_start_numbers[len(profile_start_numbers)-1]+1],probe_data.Y_stage[profile_start_numbers[len(profile_start_numbers)-1]:profile_start_numbers[len(profile_start_numbers)-1]+1]))\n",
    "placeholder.append((probe_data.X_stage[len(probe_data)-1:len(probe_data)],probe_data.Y_stage[len(probe_data)-1:len(probe_data)]))\n",
    "placeholder = np.array(placeholder)\n",
    "stage_calibration_points = []\n",
    "for i in range(len(placeholder)):\n",
    "    stage_calibration_points.append((placeholder[i, 0, 0], placeholder[i, 1, 0]))\n",
    "stage_calibration_points = np.array(stage_calibration_points)\n",
    "\n",
    "#calibrated_end_points = np.array([[11839.0, 6004.0],[1333.0, 2218.0],[5360.0, 7121.0],[4919.0, 897.0],[755.0, 3320.0],[1261.0, 3238.0]]) #play = 200 John3 arith 25x lwremoved\n",
    "#calibrated_end_points = np.array([[11833.0, 5982.0],[1131.0, 2240.0],[5348.0, 7028.0],[4907.0, 1122.0],[872.0, 2975.0],[1155.0, 3370.0]]) #play = 200 John3 geo 25x lwremoved\n",
    "calibrated_end_points = np.array([[11827.0, 6017.0],[1137.0, 2305.0],[5472.0, 7051.0],[4637.0, 1087.0],[871.0, 2974.0],[1152.0, 3330.0]]) #Offset 08/03/24  Scores:50-14-15\n",
    "\n",
    "do_all_profiles = np.array([0,1,2])\n",
    "    "
   ]
  },
  {
   "cell_type": "code",
   "execution_count": 84,
   "id": "3df34cc4-fed4-40a8-8b8f-6d3889b3a8d1",
   "metadata": {},
   "outputs": [],
   "source": [
    "#For John4\n",
    "\n",
    "#Short profile image [2909, 1309], [3183, 1753]\n",
    "#Long profile image [5649, 15230], [4855, 673]\n",
    "#Medium profile image [1791, 4226], [8990, 8418]\n",
    "\n",
    "probe_data = column_cleaned.loc[np.r_[403:603, 932:992], :]\n",
    "profile_start_numbers = np.array([0, 100, 200])\n",
    "image_end_points = np.array([(5649, 15230), (4855, 673),(1791, 4226), (8990, 8418), (2909, 1309), (3183, 1753)])\n",
    "image_calibration_points = image_end_points\n",
    "placeholder = []\n",
    "for i in range(len(profile_start_numbers)-1):\n",
    "    placeholder.append((probe_data.X_stage[profile_start_numbers[i]:profile_start_numbers[i]+1],probe_data.Y_stage[profile_start_numbers[i]:profile_start_numbers[i]+1]))\n",
    "    placeholder.append((probe_data.X_stage[profile_start_numbers[i+1]-1:profile_start_numbers[i+1]],probe_data.Y_stage[profile_start_numbers[i+1]-1:profile_start_numbers[i+1]]))\n",
    "placeholder.append((probe_data.X_stage[profile_start_numbers[len(profile_start_numbers)-1]:profile_start_numbers[len(profile_start_numbers)-1]+1],probe_data.Y_stage[profile_start_numbers[len(profile_start_numbers)-1]:profile_start_numbers[len(profile_start_numbers)-1]+1]))\n",
    "placeholder.append((probe_data.X_stage[len(probe_data)-1:len(probe_data)],probe_data.Y_stage[len(probe_data)-1:len(probe_data)]))\n",
    "placeholder = np.array(placeholder)\n",
    "stage_calibration_points = []\n",
    "for i in range(len(placeholder)):\n",
    "    stage_calibration_points.append((placeholder[i, 0, 0], placeholder[i, 1, 0]))\n",
    "stage_calibration_points = np.array(stage_calibration_points)\n",
    "\n",
    "calibrated_end_points = np.array([[5649.0, 15208.0],\n",
    "  [4861.0, 636.0],\n",
    "  [1847.0, 4394.0],\n",
    "  [8813.0, 8265.0],\n",
    "  [2753.0, 1370.0],\n",
    "  [3375.0, 1920.0]]) #play = 200 John4 geo levelled scores 3 57 12\n",
    "#calibrated_end_points = np.array([[11833.0, 5982.0],[1131.0, 2240.0],[5348.0, 7028.0],[4907.0, 1122.0],[872.0, 2975.0],[1155.0, 3370.0]]) #play = 200 John3 geo 25x lwremoved\n",
    "\n",
    "\n",
    "do_all_profiles = np.array([0,1,2])"
   ]
  },
  {
   "cell_type": "code",
   "execution_count": null,
   "id": "f4de04d1-c642-48b8-ada1-6a8a61d32ae7",
   "metadata": {},
   "outputs": [],
   "source": []
  },
  {
   "cell_type": "code",
   "execution_count": 23,
   "id": "6ab414aa-0725-448d-92b2-c69916e62bba",
   "metadata": {},
   "outputs": [],
   "source": [
    "#For John6\n",
    "\n",
    "#Short profile image (475, 2506), (780, 2705)\n",
    "\n",
    "probe_data = column_cleaned.loc[1058:1117, :]\n",
    "profile_start_numbers = np.array([0])\n",
    "image_end_points = np.array([(475, 2506), (780, 2705)])\n",
    "image_calibration_points = image_end_points\n",
    "placeholder = []\n",
    "for i in range(len(profile_start_numbers)-1):\n",
    "    placeholder.append((probe_data.X_stage[profile_start_numbers[i]:profile_start_numbers[i]+1],probe_data.Y_stage[profile_start_numbers[i]:profile_start_numbers[i]+1]))\n",
    "    placeholder.append((probe_data.X_stage[profile_start_numbers[i+1]-1:profile_start_numbers[i+1]],probe_data.Y_stage[profile_start_numbers[i+1]-1:profile_start_numbers[i+1]]))\n",
    "placeholder.append((probe_data.X_stage[profile_start_numbers[len(profile_start_numbers)-1]:profile_start_numbers[len(profile_start_numbers)-1]+1],probe_data.Y_stage[profile_start_numbers[len(profile_start_numbers)-1]:profile_start_numbers[len(profile_start_numbers)-1]+1]))\n",
    "placeholder.append((probe_data.X_stage[len(probe_data)-1:len(probe_data)],probe_data.Y_stage[len(probe_data)-1:len(probe_data)]))\n",
    "placeholder = np.array(placeholder)\n",
    "stage_calibration_points = []\n",
    "for i in range(len(placeholder)):\n",
    "    stage_calibration_points.append((placeholder[i, 0, 0], placeholder[i, 1, 0]))\n",
    "stage_calibration_points = np.array(stage_calibration_points)\n",
    "\n",
    "#calibrated_end_points = np.array([[11839.0, 6004.0],[1333.0, 2218.0],[5360.0, 7121.0],[4919.0, 897.0],[755.0, 3320.0],[1261.0, 3238.0]]) #play = 200 John3 arith 25x lwremoved\n",
    "#calibrated_end_points = np.array([[11833.0, 5982.0],[1131.0, 2240.0],[5348.0, 7028.0],[4907.0, 1122.0],[872.0, 2975.0],[1155.0, 3370.0]]) #play = 200 John3 geo 25x lwremoved\n",
    "\n",
    "\n",
    "do_all_profiles = np.array([0])"
   ]
  },
  {
   "cell_type": "code",
   "execution_count": 24,
   "id": "f96d8a41-fe2c-4b23-8b57-0b6ef478ef0a",
   "metadata": {},
   "outputs": [],
   "source": [
    "#probe_data"
   ]
  },
  {
   "cell_type": "code",
   "execution_count": 6,
   "id": "4ca012ee-7aab-4fb9-a0b5-a6e712ee0df1",
   "metadata": {},
   "outputs": [],
   "source": [
    "#For John8\n",
    "\n",
    "#Short profile image (10414, 3764), (10103, 4128)\n",
    "#Long profile image (1681, 1518), (7733,11797)\n",
    "#Medium profile image (505, 4472) (11260, 7628)\n",
    "\n",
    "probe_data = column_cleaned.loc[np.r_[603:803, 995:1055], :]\n",
    "profile_start_numbers = np.array([0, 100, 200])\n",
    "image_end_points = np.array([(1681, 1518), (7733,11797),(505, 4472),(11260, 7628),(10414, 3764), (10103, 4128)])\n",
    "image_calibration_points = image_end_points\n",
    "placeholder = []\n",
    "for i in range(len(profile_start_numbers)-1):\n",
    "    placeholder.append((probe_data.X_stage[profile_start_numbers[i]:profile_start_numbers[i]+1],probe_data.Y_stage[profile_start_numbers[i]:profile_start_numbers[i]+1]))\n",
    "    placeholder.append((probe_data.X_stage[profile_start_numbers[i+1]-1:profile_start_numbers[i+1]],probe_data.Y_stage[profile_start_numbers[i+1]-1:profile_start_numbers[i+1]]))\n",
    "placeholder.append((probe_data.X_stage[profile_start_numbers[len(profile_start_numbers)-1]:profile_start_numbers[len(profile_start_numbers)-1]+1],probe_data.Y_stage[profile_start_numbers[len(profile_start_numbers)-1]:profile_start_numbers[len(profile_start_numbers)-1]+1]))\n",
    "placeholder.append((probe_data.X_stage[len(probe_data)-1:len(probe_data)],probe_data.Y_stage[len(probe_data)-1:len(probe_data)]))\n",
    "placeholder = np.array(placeholder)\n",
    "stage_calibration_points = []\n",
    "for i in range(len(placeholder)):\n",
    "    stage_calibration_points.append((placeholder[i, 0, 0], placeholder[i, 1, 0]))\n",
    "stage_calibration_points = np.array(stage_calibration_points)\n",
    "\n",
    "#calibrated_end_points = np.array([[11839.0, 6004.0],[1333.0, 2218.0],[5360.0, 7121.0],[4919.0, 897.0],[755.0, 3320.0],[1261.0, 3238.0]]) #play = 200 John3 arith 25x lwremoved\n",
    "#calibrated_end_points = np.array([[11833.0, 5982.0],[1131.0, 2240.0],[5348.0, 7028.0],[4907.0, 1122.0],[872.0, 2975.0],[1155.0, 3370.0]]) #play = 200 John3 geo 25x lwremoved\n",
    "\n",
    "\n",
    "do_all_profiles = np.array([0,1,2])"
   ]
  },
  {
   "cell_type": "code",
   "execution_count": 83,
   "id": "3afde8f1-eae5-48da-a876-b5bbdd1e4e50",
   "metadata": {},
   "outputs": [
    {
     "data": {
      "text/plain": [
       "[<matplotlib.lines.Line2D at 0x20ec84063d0>]"
      ]
     },
     "execution_count": 83,
     "metadata": {},
     "output_type": "execute_result"
    },
    {
     "data": {
      "image/png": "[encoded data removed]",
      "text/plain": [
       "<Figure size 432x288 with 1 Axes>"
      ]
     },
     "metadata": {
      "needs_background": "light"
     },
     "output_type": "display_data"
    }
   ],
   "source": [
    "plt.plot(probe_data.X_stage, probe_data.Y_stage)"
   ]
  },
  {
   "cell_type": "code",
   "execution_count": 85,
   "id": "bf7ad8a7-7f89-4bf8-b463-d8f2ba173b3a",
   "metadata": {},
   "outputs": [
    {
     "data": {
      "text/plain": [
       "[<matplotlib.lines.Line2D at 0x20ec847b520>]"
      ]
     },
     "execution_count": 85,
     "metadata": {},
     "output_type": "execute_result"
    },
    {
     "data": {
      "image/png": "[encoded data removed]",
      "text/plain": [
       "<Figure size 432x288 with 1 Axes>"
      ]
     },
     "metadata": {
      "needs_background": "light"
     },
     "output_type": "display_data"
    }
   ],
   "source": [
    "plt.plot(image_end_points[:,0], image_end_points[:,1])"
   ]
  },
  {
   "cell_type": "code",
   "execution_count": 198,
   "id": "43016b5e-3105-41a1-af24-ce55496ec578",
   "metadata": {},
   "outputs": [
    {
     "data": {
      "text/plain": [
       "array([[ 106.,  134.],\n",
       "       [  36., -114.],\n",
       "       [  87.,  -23.],\n",
       "       [-164.,  -83.],\n",
       "       [-162.,  155.],\n",
       "       [ -72., -108.]])"
      ]
     },
     "execution_count": 198,
     "metadata": {},
     "output_type": "execute_result"
    }
   ],
   "source": [
    "image_end_points-calibrated_end_points"
   ]
  },
  {
   "cell_type": "code",
   "execution_count": null,
   "id": "887ef3c6-e7c4-46c2-bc74-a38fead7c960",
   "metadata": {},
   "outputs": [
    {
     "ename": "NameError",
     "evalue": "name 'shear_curvefit_parameter_bundle' is not defined",
     "output_type": "error",
     "traceback": [
      "\u001b[1;31m---------------------------------------------------------------------------\u001b[0m",
      "\u001b[1;31mNameError\u001b[0m                                 Traceback (most recent call last)",
      "\u001b[1;32m~\\AppData\\Local\\Temp/ipykernel_8504/1488413906.py\u001b[0m in \u001b[0;36m<module>\u001b[1;34m\u001b[0m\n\u001b[0;32m      1\u001b[0m \u001b[1;31m#For john1 where one of the end points of one of the profiles is not well known\u001b[0m\u001b[1;33m\u001b[0m\u001b[1;33m\u001b[0m\u001b[0m\n\u001b[0;32m      2\u001b[0m \u001b[0mstage_hr_end_point\u001b[0m \u001b[1;33m=\u001b[0m \u001b[0mnp\u001b[0m\u001b[1;33m.\u001b[0m\u001b[0marray\u001b[0m\u001b[1;33m(\u001b[0m\u001b[1;33m[\u001b[0m\u001b[1;33m(\u001b[0m\u001b[1;36m12195\u001b[0m\u001b[1;33m,\u001b[0m \u001b[1;36m22677\u001b[0m\u001b[1;33m)\u001b[0m\u001b[1;33m]\u001b[0m\u001b[1;33m)\u001b[0m\u001b[1;33m\u001b[0m\u001b[1;33m\u001b[0m\u001b[0m\n\u001b[1;32m----> 3\u001b[1;33m \u001b[0mshear_parameter_bundle\u001b[0m \u001b[1;33m=\u001b[0m \u001b[0mshear_curvefit_parameter_bundle\u001b[0m\u001b[1;33m\u001b[0m\u001b[1;33m\u001b[0m\u001b[0m\n\u001b[0m\u001b[0;32m      4\u001b[0m \u001b[0mimage_hr_end_point\u001b[0m \u001b[1;33m=\u001b[0m \u001b[0mshear_transformer\u001b[0m\u001b[1;33m(\u001b[0m\u001b[0mstage_hr_end_point\u001b[0m\u001b[1;33m,\u001b[0m \u001b[0mshear_parameter_bundle\u001b[0m\u001b[1;33m[\u001b[0m\u001b[1;36m0\u001b[0m\u001b[1;33m]\u001b[0m\u001b[1;33m,\u001b[0m \u001b[0mshear_parameter_bundle\u001b[0m\u001b[1;33m[\u001b[0m\u001b[1;36m1\u001b[0m\u001b[1;33m]\u001b[0m\u001b[1;33m,\u001b[0m \u001b[0mshear_parameter_bundle\u001b[0m\u001b[1;33m[\u001b[0m\u001b[1;36m2\u001b[0m\u001b[1;33m]\u001b[0m\u001b[1;33m,\u001b[0m \u001b[0mshear_parameter_bundle\u001b[0m\u001b[1;33m[\u001b[0m\u001b[1;36m3\u001b[0m\u001b[1;33m]\u001b[0m\u001b[1;33m,\u001b[0m \u001b[0mshear_parameter_bundle\u001b[0m\u001b[1;33m[\u001b[0m\u001b[1;36m4\u001b[0m\u001b[1;33m]\u001b[0m\u001b[1;33m,\u001b[0m \u001b[0mshear_parameter_bundle\u001b[0m\u001b[1;33m[\u001b[0m\u001b[1;36m5\u001b[0m\u001b[1;33m]\u001b[0m\u001b[1;33m)\u001b[0m\u001b[1;33m\u001b[0m\u001b[1;33m\u001b[0m\u001b[0m\n",
      "\u001b[1;31mNameError\u001b[0m: name 'shear_curvefit_parameter_bundle' is not defined"
     ]
    }
   ],
   "source": [
    "#For john1 where one of the end points of one of the profiles is not well known\n",
    "stage_hr_end_point = np.array([(12195, 22677)])\n",
    "shear_parameter_bundle = shear_curvefit_parameter_bundle\n",
    "image_hr_end_point = shear_transformer(stage_hr_end_point, shear_parameter_bundle[0], shear_parameter_bundle[1], shear_parameter_bundle[2], shear_parameter_bundle[3], shear_parameter_bundle[4], shear_parameter_bundle[5])"
   ]
  },
  {
   "cell_type": "code",
   "execution_count": 15,
   "id": "1709d546-fe34-460d-8e04-1ccef63dff5f",
   "metadata": {},
   "outputs": [
    {
     "ename": "NameError",
     "evalue": "name 'image_hr_end_point' is not defined",
     "output_type": "error",
     "traceback": [
      "\u001b[1;31m---------------------------------------------------------------------------\u001b[0m",
      "\u001b[1;31mNameError\u001b[0m                                 Traceback (most recent call last)",
      "\u001b[1;32m~\\AppData\\Local\\Temp/ipykernel_2736/2088298311.py\u001b[0m in \u001b[0;36m<module>\u001b[1;34m\u001b[0m\n\u001b[1;32m----> 1\u001b[1;33m \u001b[0mimage_hr_end_point\u001b[0m\u001b[1;33m\u001b[0m\u001b[1;33m\u001b[0m\u001b[0m\n\u001b[0m",
      "\u001b[1;31mNameError\u001b[0m: name 'image_hr_end_point' is not defined"
     ]
    }
   ],
   "source": [
    "image_hr_end_point"
   ]
  },
  {
   "cell_type": "code",
   "execution_count": null,
   "id": "a461557c-da3e-4b14-b276-ddc0dc082e32",
   "metadata": {},
   "outputs": [],
   "source": []
  },
  {
   "cell_type": "code",
   "execution_count": 18,
   "id": "516b1ae7",
   "metadata": {},
   "outputs": [
    {
     "name": "stdout",
     "output_type": "stream",
     "text": [
      "1.5200036556977325\n",
      "1.523597038160226\n",
      "1.4388961212879854\n"
     ]
    }
   ],
   "source": [
    "stage_profile_1 = stage_calibration_points[1]-stage_calibration_points[0]\n",
    "stage_profile_2 = stage_calibration_points[3]-stage_calibration_points[2]\n",
    "stage_angle = np.arccos(np.dot(stage_profile_1, stage_profile_2)/(np.linalg.norm(stage_profile_1)*np.linalg.norm(stage_profile_1)))\n",
    "print(stage_angle)\n",
    "image_profile_1 = image_calibration_points[1]-image_calibration_points[0]\n",
    "image_profile_2 = image_calibration_points[3]-image_calibration_points[2]\n",
    "image_angle = np.arccos(np.dot(image_profile_1, image_profile_2)/(np.linalg.norm(image_profile_1)*np.linalg.norm(image_profile_1)))\n",
    "print(image_angle)\n",
    "rote_calibrated_1 =calibrated_end_points[3]-calibrated_end_points[2]\n",
    "rote_calibrated_2 = calibrated_end_points[5]-calibrated_end_points[4]\n",
    "image_angle = np.arccos(np.dot(rote_calibrated_1, rote_calibrated_2)/(np.linalg.norm(rote_calibrated_1)*np.linalg.norm(rote_calibrated_2)))\n",
    "print(image_angle)"
   ]
  },
  {
   "cell_type": "code",
   "execution_count": 19,
   "id": "19e3a249",
   "metadata": {
    "scrolled": true
   },
   "outputs": [],
   "source": [
    "#This weirdness is strange but necessary for the optimiser\n",
    "stage_cal_points_for_opt = []\n",
    "image_cal_points_for_opt = []\n",
    "\n",
    "for i in range(len(stage_calibration_points)):\n",
    "    stage_cal_points_for_opt.append(stage_calibration_points[i][0])\n",
    "    stage_cal_points_for_opt.append(stage_calibration_points[i][1])\n",
    "    image_cal_points_for_opt.append(image_calibration_points[i][0])\n",
    "    image_cal_points_for_opt.append(image_calibration_points[i][1])"
   ]
  },
  {
   "cell_type": "code",
   "execution_count": 92,
   "id": "d1ce47a9",
   "metadata": {},
   "outputs": [],
   "source": [
    "image = np.array(plt.imread('C:/users/rwfbl/Stitched_crystals/Long_wavelength_removed/John4_arith_levelled.png'))\n",
    "\n",
    "probe_x_list = probe_data.iloc[:,9]\n",
    "#print(probe_x_list[0]) #for checking that the right column was selected\n",
    "probe_y_list = probe_data.iloc[:,10]\n",
    "probe_points = []\n",
    "for i in range(len(probe_data.iloc[:,9])):\n",
    "    probe_points.append((probe_data.iloc[i,9], probe_data.iloc[i,10]))\n",
    "    #print(i, probe_points[i])\n",
    "probe_points = np.array(probe_points)\n",
    "#probe_y_list[0]\n",
    "anorthite_list = np.array((probe_data.iloc[:,4]/40.078)/((probe_data.iloc[:,4]/40.078)+(probe_data.iloc[:,1]/22.990)+(probe_data.iloc[:,6]/39.098)))\n",
    "dist_list = np.array(probe_data.iloc[:,12]).astype(float)\n",
    "#parameter_bundle = curvefit_parameter_bundle\n",
    "#probe_points_placed = transformer(probe_points, parameter_bundle[0], parameter_bundle[1], parameter_bundle[2], parameter_bundle[3])\n",
    "\n",
    "#shear_parameter_bundle = shear_curvefit_parameter_bundle\n",
    "#probe_points_placed = shear_transformer(probe_points, shear_parameter_bundle[0], shear_parameter_bundle[1], shear_parameter_bundle[2], shear_parameter_bundle[3], shear_parameter_bundle[4], shear_parameter_bundle[5])\n",
    "\n",
    "#probe_points_placed = rote_transformer(calibrated_end_points, do_all_profiles) \n",
    "\n",
    "show_points = 0\n",
    "if show_points == 1:\n",
    "    \n",
    "    #print(probe_points_placed)\n",
    "    for i in range(len(probe_points_placed)):\n",
    "        draw_marker(int(probe_points_placed[i][0]), int(probe_points_placed[i][1]),4,image)\n",
    "    for i in range(len(image_calibration_points)):\n",
    "        draw_marker(int(image_calibration_points[i][0]), int(image_calibration_points[i][1]),4,image)\n",
    "        \n",
    "\n",
    "save = 0\n",
    "if save ==1:\n",
    "    \n",
    "    image_boosted = image *255\n",
    "    to_save = image_boosted.astype(np.uint8)\n",
    "    print(np.max(to_save))\n",
    "    to_save = Image.fromarray(to_save)\n",
    "    to_save.save('rote_calib_200.png')"
   ]
  },
  {
   "cell_type": "code",
   "execution_count": null,
   "id": "6e63e33d-e4a4-4158-87c8-32de2228a2b5",
   "metadata": {},
   "outputs": [],
   "source": [
    "#Big bad bulker\n",
    "\n"
   ]
  },
  {
   "cell_type": "code",
   "execution_count": 70,
   "id": "3f70df5a-b856-4072-ad23-a8952dd50fd3",
   "metadata": {},
   "outputs": [
    {
     "data": {
      "text/plain": [
       "0.0"
      ]
     },
     "execution_count": 70,
     "metadata": {},
     "output_type": "execute_result"
    }
   ],
   "source": [
    "dist_list[0]"
   ]
  },
  {
   "cell_type": "code",
   "execution_count": 78,
   "id": "0c2aa9de-5c96-4894-9a97-4d430942bf17",
   "metadata": {},
   "outputs": [
    {
     "name": "stdout",
     "output_type": "stream",
     "text": [
      "[0.8609119  0.90253995 0.86813231 0.85562531 0.88095974 0.85936136\n",
      " 0.90718721 0.91488782 0.88851179 0.89551474 0.90002672 0.88603628\n",
      " 0.8810767  0.88413872 0.88662518 0.87654264 0.89498744 0.88338849\n",
      " 0.87944869 0.87572145 0.88251223 0.88635046 0.88845913 0.88382534\n",
      " 0.89080502 0.88572659 0.89188029 0.9002388  0.87936073 0.88187015\n",
      " 0.87558563 0.886508   0.88652557 0.88303218 0.88600599 0.89050776\n",
      " 0.88572216 0.8919505  0.88641413 0.8876488  0.88016558 0.88580693\n",
      " 0.88096598 0.88352274 0.69903301 0.89103723 0.87978178 0.89009312\n",
      " 0.88504079 0.89236885 0.89607503 0.89354746 0.88343035 0.88861084\n",
      " 0.88532296 0.87696285 0.87986695 0.88090243 0.88954178 0.88366296\n",
      " 0.87804372 0.87297456 0.88063909 0.87607569 0.88086719 0.87796389\n",
      " 0.88686727 0.89420225 0.88609209 0.8782207  0.89211361 0.87993274\n",
      " 0.87702356 0.88450775 0.87084278 0.87656694 0.87549071 0.88657452\n",
      " 0.87685458 0.8696263  0.88792363 0.87555101 0.51137586 0.88948765\n",
      " 0.8792375  0.89776626 0.8992256  0.90081985 0.91339459 0.90996977\n",
      " 0.91972382 0.90725219 0.88265347 0.88841154 0.89384125 0.90861692\n",
      " 0.90864441 0.88995244 0.86062896 0.87306689 0.87542022 0.87878515\n",
      " 0.87182414 0.86942071 0.87107276 0.86951599 0.88441277 0.90811577\n",
      " 0.91582889 0.92218262 0.90381734 0.90095505 0.89196163 0.89027286\n",
      " 0.88503263 0.88716491 0.88214928 0.88895484 0.88774613 0.87840494\n",
      " 0.88049543 0.88853873 0.87419778 0.8706022  0.87520487 0.87587581\n",
      " 0.88375343 0.88331368 0.88468136 0.87479716 0.8738809  0.88225845\n",
      " 0.88641413 0.88434426 0.89064593 0.88997505 0.87323972 0.88276213\n",
      " 0.87839096 0.87962547 0.86892519 0.88820726 0.87513909 0.88077256\n",
      " 0.88948521 0.88556956 0.86819646 0.87865401 0.88054128 0.86622069\n",
      " 0.89174694 0.87497348 0.88305351 0.87681255 0.90325241 0.88280828\n",
      " 0.84888854 0.87997032 0.88280712 0.87918444 0.87579756 0.87753347\n",
      " 0.8839284  0.88344127 0.87269264 0.8842767  0.88445434 0.87902247\n",
      " 0.88198337 0.88490729 0.88802134 0.89172148 0.89374179 0.88985779\n",
      " 0.87440836 0.88631846 0.87880931 0.89774385 0.87584334 0.89754824\n",
      " 0.89786534 0.89831756 0.89341181 0.89921512 0.90485438 0.91491442\n",
      " 0.9186581  0.92011148 0.90414278 0.89067699 0.86483925 0.86142527\n",
      " 0.88772904 0.86463554 0.8883554  0.87636065 0.86786149 0.87128083\n",
      " 0.89315755 0.88120911 0.76817885 0.78734726 0.77647482 0.85247539\n",
      " 0.86974354 0.85877458 0.87400162 0.86945496 0.89088043 0.87674202\n",
      " 0.86908843 0.86841353 0.87736545 0.88411744 0.87635815 0.87868097\n",
      " 0.878931   0.87117354 0.87097198 0.86762325 0.86767422 0.8642766\n",
      " 0.86486575 0.87224604 0.87153705 0.86800453 0.85543618 0.85186708\n",
      " 0.85793385 0.88193158 0.87616672 0.86179644 0.84408409 0.87089099\n",
      " 0.8851452  0.8683834  0.85567605 0.85310745 0.8681137  0.8745342\n",
      " 0.86932204 0.87477893 0.88751407 0.89086055 0.88340263 0.87302246\n",
      " 0.89732061 0.88905411 0.90411481 0.89705104 0.89426671 0.88302706\n",
      " 0.88698089 0.90042057 0.86731317 0.86497362 0.86608853 0.87999157\n",
      " 0.87697806 0.88623742]\n"
     ]
    }
   ],
   "source": [
    "with pd.option_context(\"display.max_rows\", 1000):\n",
    "    print(anorthite_list)\n"
   ]
  },
  {
   "cell_type": "code",
   "execution_count": 79,
   "id": "d120b9f4-4869-446d-8175-d2eeb8c2d404",
   "metadata": {},
   "outputs": [
    {
     "data": {
      "text/plain": [
       "[<matplotlib.lines.Line2D at 0x24cba5304f0>]"
      ]
     },
     "execution_count": 79,
     "metadata": {},
     "output_type": "execute_result"
    },
    {
     "data": {
      "image/png": "[encoded data removed]",
      "text/plain": [
       "<Figure size 432x288 with 1 Axes>"
      ]
     },
     "metadata": {
      "needs_background": "light"
     },
     "output_type": "display_data"
    }
   ],
   "source": [
    "plt.plot(anorthite_list)"
   ]
  },
  {
   "cell_type": "code",
   "execution_count": 35,
   "id": "989a4882-09d3-49a7-a318-a14cfe0a98af",
   "metadata": {},
   "outputs": [
    {
     "data": {
      "text/plain": [
       "0.16724384"
      ]
     },
     "execution_count": 35,
     "metadata": {},
     "output_type": "execute_result"
    }
   ],
   "source": [
    "np.mean(image)"
   ]
  },
  {
   "cell_type": "code",
   "execution_count": 93,
   "id": "88867fda",
   "metadata": {},
   "outputs": [
    {
     "data": {
      "text/plain": [
       "2400"
      ]
     },
     "execution_count": 93,
     "metadata": {},
     "output_type": "execute_result"
    }
   ],
   "source": [
    "tile_origins[100][0]"
   ]
  },
  {
   "cell_type": "code",
   "execution_count": null,
   "id": "4302c13a-683f-4096-b824-f614159b6ae6",
   "metadata": {},
   "outputs": [],
   "source": []
  },
  {
   "cell_type": "code",
   "execution_count": 23,
   "id": "deab5433",
   "metadata": {},
   "outputs": [
    {
     "ename": "NameError",
     "evalue": "name 'probe_points_placed' is not defined",
     "output_type": "error",
     "traceback": [
      "\u001b[1;31m---------------------------------------------------------------------------\u001b[0m",
      "\u001b[1;31mNameError\u001b[0m                                 Traceback (most recent call last)",
      "\u001b[1;32m~\\AppData\\Local\\Temp/ipykernel_2736/2052425656.py\u001b[0m in \u001b[0;36m<module>\u001b[1;34m\u001b[0m\n\u001b[1;32m----> 1\u001b[1;33m \u001b[0mprobe_points_placed\u001b[0m\u001b[1;33m[\u001b[0m\u001b[1;36m0\u001b[0m\u001b[1;33m,\u001b[0m \u001b[1;36m0\u001b[0m\u001b[1;33m]\u001b[0m\u001b[1;33m\u001b[0m\u001b[1;33m\u001b[0m\u001b[0m\n\u001b[0m",
      "\u001b[1;31mNameError\u001b[0m: name 'probe_points_placed' is not defined"
     ]
    }
   ],
   "source": [
    "probe_points_placed[0, 0]"
   ]
  },
  {
   "cell_type": "code",
   "execution_count": 24,
   "id": "1defe7aa",
   "metadata": {},
   "outputs": [
    {
     "data": {
      "text/plain": [
       "(260,)"
      ]
     },
     "execution_count": 24,
     "metadata": {},
     "output_type": "execute_result"
    }
   ],
   "source": [
    "anorthite_list.shape"
   ]
  },
  {
   "cell_type": "code",
   "execution_count": 27,
   "id": "a262e6b9",
   "metadata": {},
   "outputs": [
    {
     "data": {
      "image/png": "[encoded data removed]",
      "text/plain": [
       "<Figure size 432x288 with 1 Axes>"
      ]
     },
     "metadata": {
      "needs_background": "light"
     },
     "output_type": "display_data"
    }
   ],
   "source": [
    "search_size = 3\n",
    "intensity_list = []\n",
    "for i in range(len(probe_points_placed)):\n",
    "    #print(probe_points_placed[i][0],' ',probe_points_placed[i][1])\n",
    "    intensity_list.append(get_brightness(int(probe_points_placed[i][0]),int(probe_points_placed[i][1]), search_size))\n",
    "    \n",
    "clean_list_entries = []\n",
    "for i in range(len(probe_points_placed)):\n",
    "    if intensity_list[i] >0.4 and intensity_list[i] <0.54 and anorthite_list[i]>0.6 and anorthite_list[i]<1.0:\n",
    "        clean_list_entries.append(i)\n",
    "    \n",
    "#xlim=[0.3,0.6], ylim=[0.8,0.9]\n",
    "fig, ax = plt.subplots(1,1)\n",
    "intensity_array = np.array(intensity_list)\n",
    "clean_intensity_array = intensity_array[clean_list_entries]\n",
    "anorthite_array = np.array(anorthite_list)\n",
    "clean_anorthite_array = anorthite_array[clean_list_entries]\n",
    "clean_x_array = np.array(probe_points_placed)[clean_list_entries, 0]\n",
    "clean_y_array = np.array(probe_points_placed)[clean_list_entries, 1]\n",
    "\n",
    "\n",
    "clean_set = np.array([clean_intensity_array, clean_anorthite_array, clean_x_array, clean_y_array])\n",
    "ax.plot(clean_intensity_array,clean_anorthite_array, 'r+')\n",
    "#ax.set_xlim(0.48,0.55)\n",
    "#ax.set_ylim(0.8,0.93)\n",
    "plt.show()"
   ]
  },
  {
   "cell_type": "code",
   "execution_count": 184,
   "id": "0131488e-aac7-4557-a0f1-a99836971f38",
   "metadata": {},
   "outputs": [
    {
     "data": {
      "text/plain": [
       "260"
      ]
     },
     "execution_count": 184,
     "metadata": {},
     "output_type": "execute_result"
    }
   ],
   "source": [
    "len(probe_points_placed)"
   ]
  },
  {
   "cell_type": "code",
   "execution_count": 153,
   "id": "a9c1b033-e1c5-4d20-986b-49c25a4a446f",
   "metadata": {},
   "outputs": [],
   "source": [
    "#print(\"X\")\n",
    "#for i in range(len(clean_intensity_array)):\n",
    "#    print(clean_x_array[i])\n",
    "#print(\"Y\")\n",
    "#for i in range(len(clean_intensity_array)):\n",
    "#    print(clean_y_array[i])\n",
    "#print(\"Intensity\")\n",
    "#for i in range(len(clean_intensity_array)):\n",
    "#    print(clean_intensity_array[i])\n",
    "#print(\"Real anorthite\")\n",
    "#for i in range(len(clean_intensity_array)):\n",
    "#    print(clean_anorthite_array[i])\n",
    "#print(\"Linear anorthite\")\n",
    "#for i in range(len(clean_intensity_array)):\n",
    "#    print(linfit_predicted_ans[i])\n",
    "#print(\"Squared anorthite\")\n",
    "#for i in range(len(clean_intensity_array)):\n",
    "#    print(linfit_predicted_ans[i])\n",
    "    "
   ]
  },
  {
   "cell_type": "code",
   "execution_count": null,
   "id": "8455c767-f207-493c-b577-30492a606f02",
   "metadata": {},
   "outputs": [],
   "source": []
  },
  {
   "cell_type": "code",
   "execution_count": 86,
   "id": "56b754d2-d738-4c88-ac9b-8241f2db858c",
   "metadata": {
    "jupyter": {
     "source_hidden": true
    },
    "tags": []
   },
   "outputs": [],
   "source": [
    "john3_tile_origins = np.array([[   55,    48],\n",
    "       [   55,   749],\n",
    "       [   55,  1452],\n",
    "       [   55,  2155],\n",
    "       [   55,  2858],\n",
    "       [   55,  3560],\n",
    "       [   55,  4260],\n",
    "       [   55,  4961],\n",
    "       [   55,  5664],\n",
    "       [   55,  6366],\n",
    "       [   55,  7069],\n",
    "       [   55,  7771],\n",
    "       [   55,  8477],\n",
    "       [   55,  9180],\n",
    "       [   55,  9884],\n",
    "       [   55, 10586],\n",
    "       [   55, 11286],\n",
    "       [   55, 11987],\n",
    "       [  522,    51],\n",
    "       [  522,   752],\n",
    "       [  522,  1455],\n",
    "       [  522,  2158],\n",
    "       [  522,  2861],\n",
    "       [  522,  3563],\n",
    "       [  522,  4263],\n",
    "       [  522,  4964],\n",
    "       [  522,  5667],\n",
    "       [  522,  6369],\n",
    "       [  522,  7072],\n",
    "       [  522,  7774],\n",
    "       [  522,  8480],\n",
    "       [  522,  9183],\n",
    "       [  522,  9887],\n",
    "       [  522, 10589],\n",
    "       [  522, 11289],\n",
    "       [  522, 11990],\n",
    "       [  993,    54],\n",
    "       [  993,   755],\n",
    "       [  993,  1458],\n",
    "       [  993,  2161],\n",
    "       [  993,  2864],\n",
    "       [  993,  3566],\n",
    "       [  993,  4266],\n",
    "       [  993,  4967],\n",
    "       [  993,  5670],\n",
    "       [  993,  6372],\n",
    "       [  993,  7075],\n",
    "       [  993,  7777],\n",
    "       [  993,  8483],\n",
    "       [  993,  9186],\n",
    "       [  993,  9890],\n",
    "       [  993, 10592],\n",
    "       [  993, 11292],\n",
    "       [  993, 11993],\n",
    "       [ 1461,    56],\n",
    "       [ 1461,   757],\n",
    "       [ 1461,  1460],\n",
    "       [ 1461,  2163],\n",
    "       [ 1461,  2866],\n",
    "       [ 1461,  3568],\n",
    "       [ 1461,  4268],\n",
    "       [ 1461,  4969],\n",
    "       [ 1461,  5672],\n",
    "       [ 1461,  6374],\n",
    "       [ 1461,  7077],\n",
    "       [ 1461,  7779],\n",
    "       [ 1461,  8485],\n",
    "       [ 1461,  9188],\n",
    "       [ 1461,  9892],\n",
    "       [ 1461, 10594],\n",
    "       [ 1461, 11294],\n",
    "       [ 1461, 11995],\n",
    "       [ 1931,    59],\n",
    "       [ 1931,   760],\n",
    "       [ 1931,  1463],\n",
    "       [ 1931,  2166],\n",
    "       [ 1931,  2869],\n",
    "       [ 1931,  3571],\n",
    "       [ 1931,  4271],\n",
    "       [ 1931,  4972],\n",
    "       [ 1931,  5675],\n",
    "       [ 1931,  6377],\n",
    "       [ 1931,  7080],\n",
    "       [ 1931,  7782],\n",
    "       [ 1931,  8488],\n",
    "       [ 1931,  9191],\n",
    "       [ 1931,  9895],\n",
    "       [ 1931, 10597],\n",
    "       [ 1931, 11297],\n",
    "       [ 1931, 11998],\n",
    "       [ 2400,    61],\n",
    "       [ 2400,   762],\n",
    "       [ 2400,  1465],\n",
    "       [ 2400,  2168],\n",
    "       [ 2400,  2871],\n",
    "       [ 2400,  3573],\n",
    "       [ 2400,  4273],\n",
    "       [ 2400,  4974],\n",
    "       [ 2400,  5677],\n",
    "       [ 2400,  6379],\n",
    "       [ 2400,  7082],\n",
    "       [ 2400,  7784],\n",
    "       [ 2400,  8490],\n",
    "       [ 2400,  9193],\n",
    "       [ 2400,  9897],\n",
    "       [ 2400, 10599],\n",
    "       [ 2400, 11299],\n",
    "       [ 2400, 12000],\n",
    "       [ 2865,    64],\n",
    "       [ 2865,   765],\n",
    "       [ 2865,  1468],\n",
    "       [ 2865,  2171],\n",
    "       [ 2865,  2874],\n",
    "       [ 2865,  3576],\n",
    "       [ 2865,  4276],\n",
    "       [ 2865,  4977],\n",
    "       [ 2865,  5680],\n",
    "       [ 2865,  6382],\n",
    "       [ 2865,  7085],\n",
    "       [ 2865,  7787],\n",
    "       [ 2865,  8493],\n",
    "       [ 2865,  9196],\n",
    "       [ 2865,  9900],\n",
    "       [ 2865, 10602],\n",
    "       [ 2865, 11302],\n",
    "       [ 2865, 12003],\n",
    "       [ 3335,    67],\n",
    "       [ 3335,   768],\n",
    "       [ 3335,  1471],\n",
    "       [ 3335,  2174],\n",
    "       [ 3335,  2877],\n",
    "       [ 3335,  3579],\n",
    "       [ 3335,  4279],\n",
    "       [ 3335,  4980],\n",
    "       [ 3335,  5683],\n",
    "       [ 3335,  6385],\n",
    "       [ 3335,  7088],\n",
    "       [ 3335,  7790],\n",
    "       [ 3335,  8496],\n",
    "       [ 3335,  9199],\n",
    "       [ 3335,  9903],\n",
    "       [ 3335, 10605],\n",
    "       [ 3335, 11305],\n",
    "       [ 3335, 12006],\n",
    "       [ 3805,    70],\n",
    "       [ 3805,   771],\n",
    "       [ 3805,  1474],\n",
    "       [ 3805,  2177],\n",
    "       [ 3805,  2880],\n",
    "       [ 3805,  3582],\n",
    "       [ 3805,  4282],\n",
    "       [ 3805,  4983],\n",
    "       [ 3805,  5686],\n",
    "       [ 3805,  6388],\n",
    "       [ 3805,  7091],\n",
    "       [ 3805,  7793],\n",
    "       [ 3805,  8499],\n",
    "       [ 3805,  9202],\n",
    "       [ 3805,  9906],\n",
    "       [ 3805, 10608],\n",
    "       [ 3805, 11308],\n",
    "       [ 3805, 12009],\n",
    "       [ 4272,    73],\n",
    "       [ 4272,   774],\n",
    "       [ 4272,  1477],\n",
    "       [ 4272,  2180],\n",
    "       [ 4272,  2883],\n",
    "       [ 4272,  3585],\n",
    "       [ 4272,  4285],\n",
    "       [ 4272,  4986],\n",
    "       [ 4272,  5689],\n",
    "       [ 4272,  6391],\n",
    "       [ 4272,  7094],\n",
    "       [ 4272,  7796],\n",
    "       [ 4272,  8502],\n",
    "       [ 4272,  9205],\n",
    "       [ 4272,  9909],\n",
    "       [ 4272, 10611],\n",
    "       [ 4272, 11311],\n",
    "       [ 4272, 12012],\n",
    "       [ 4740,    76],\n",
    "       [ 4740,   777],\n",
    "       [ 4740,  1480],\n",
    "       [ 4740,  2183],\n",
    "       [ 4740,  2886],\n",
    "       [ 4740,  3588],\n",
    "       [ 4740,  4288],\n",
    "       [ 4740,  4989],\n",
    "       [ 4740,  5692],\n",
    "       [ 4740,  6394],\n",
    "       [ 4740,  7097],\n",
    "       [ 4740,  7799],\n",
    "       [ 4740,  8505],\n",
    "       [ 4740,  9208],\n",
    "       [ 4740,  9912],\n",
    "       [ 4740, 10614],\n",
    "       [ 4740, 11314],\n",
    "       [ 4740, 12015],\n",
    "       [ 5204,    79],\n",
    "       [ 5204,   780],\n",
    "       [ 5204,  1483],\n",
    "       [ 5204,  2186],\n",
    "       [ 5204,  2889],\n",
    "       [ 5204,  3591],\n",
    "       [ 5204,  4291],\n",
    "       [ 5204,  4992],\n",
    "       [ 5204,  5695],\n",
    "       [ 5204,  6397],\n",
    "       [ 5204,  7100],\n",
    "       [ 5204,  7802],\n",
    "       [ 5204,  8508],\n",
    "       [ 5204,  9211],\n",
    "       [ 5204,  9915],\n",
    "       [ 5204, 10617],\n",
    "       [ 5204, 11317],\n",
    "       [ 5204, 12018],\n",
    "       [ 5676,    83],\n",
    "       [ 5676,   784],\n",
    "       [ 5676,  1487],\n",
    "       [ 5676,  2190],\n",
    "       [ 5676,  2893],\n",
    "       [ 5676,  3595],\n",
    "       [ 5676,  4295],\n",
    "       [ 5676,  4996],\n",
    "       [ 5676,  5699],\n",
    "       [ 5676,  6401],\n",
    "       [ 5676,  7104],\n",
    "       [ 5676,  7806],\n",
    "       [ 5676,  8512],\n",
    "       [ 5676,  9215],\n",
    "       [ 5676,  9919],\n",
    "       [ 5676, 10621],\n",
    "       [ 5676, 11321],\n",
    "       [ 5676, 12022],\n",
    "       [ 6142,    86],\n",
    "       [ 6142,   787],\n",
    "       [ 6142,  1490],\n",
    "       [ 6142,  2193],\n",
    "       [ 6142,  2896],\n",
    "       [ 6142,  3598],\n",
    "       [ 6142,  4298],\n",
    "       [ 6142,  4999],\n",
    "       [ 6142,  5702],\n",
    "       [ 6142,  6404],\n",
    "       [ 6142,  7107],\n",
    "       [ 6142,  7809],\n",
    "       [ 6142,  8515],\n",
    "       [ 6142,  9218],\n",
    "       [ 6142,  9922],\n",
    "       [ 6142, 10624],\n",
    "       [ 6142, 11324],\n",
    "       [ 6142, 12025],\n",
    "       [ 6610,    88],\n",
    "       [ 6610,   789],\n",
    "       [ 6610,  1492],\n",
    "       [ 6610,  2195],\n",
    "       [ 6610,  2898],\n",
    "       [ 6610,  3600],\n",
    "       [ 6610,  4300],\n",
    "       [ 6610,  5001],\n",
    "       [ 6610,  5704],\n",
    "       [ 6610,  6406],\n",
    "       [ 6610,  7109],\n",
    "       [ 6610,  7811],\n",
    "       [ 6610,  8517],\n",
    "       [ 6610,  9220],\n",
    "       [ 6610,  9924],\n",
    "       [ 6610, 10626],\n",
    "       [ 6610, 11326],\n",
    "       [ 6610, 12027],\n",
    "       [ 7080,    91],\n",
    "       [ 7080,   792],\n",
    "       [ 7080,  1495],\n",
    "       [ 7080,  2198],\n",
    "       [ 7080,  2901],\n",
    "       [ 7080,  3603],\n",
    "       [ 7080,  4303],\n",
    "       [ 7080,  5004],\n",
    "       [ 7080,  5707],\n",
    "       [ 7080,  6409],\n",
    "       [ 7080,  7112],\n",
    "       [ 7080,  7814],\n",
    "       [ 7080,  8520],\n",
    "       [ 7080,  9223],\n",
    "       [ 7080,  9927],\n",
    "       [ 7080, 10629],\n",
    "       [ 7080, 11329],\n",
    "       [ 7080, 12030],\n",
    "       [ 7545,    94],\n",
    "       [ 7545,   795],\n",
    "       [ 7545,  1498],\n",
    "       [ 7545,  2201],\n",
    "       [ 7545,  2904],\n",
    "       [ 7545,  3606],\n",
    "       [ 7545,  4306],\n",
    "       [ 7545,  5007],\n",
    "       [ 7545,  5710],\n",
    "       [ 7545,  6412],\n",
    "       [ 7545,  7115],\n",
    "       [ 7545,  7817],\n",
    "       [ 7545,  8523],\n",
    "       [ 7545,  9226],\n",
    "       [ 7545,  9930],\n",
    "       [ 7545, 10632],\n",
    "       [ 7545, 11332],\n",
    "       [ 7545, 12033],\n",
    "       [ 8017,    96],\n",
    "       [ 8017,   797],\n",
    "       [ 8017,  1500],\n",
    "       [ 8017,  2203],\n",
    "       [ 8017,  2906],\n",
    "       [ 8017,  3608],\n",
    "       [ 8017,  4308],\n",
    "       [ 8017,  5009],\n",
    "       [ 8017,  5712],\n",
    "       [ 8017,  6414],\n",
    "       [ 8017,  7117],\n",
    "       [ 8017,  7819],\n",
    "       [ 8017,  8525],\n",
    "       [ 8017,  9228],\n",
    "       [ 8017,  9932],\n",
    "       [ 8017, 10634],\n",
    "       [ 8017, 11334],\n",
    "       [ 8017, 12035]])\n",
    "\n",
    "john1_tile_origins = np.array([[ 134,   85],\n",
    "       [ 134,  785],\n",
    "       [ 134, 1485],\n",
    "       [ 134, 2185],\n",
    "       [ 134, 2885],\n",
    "       [ 134, 3585],\n",
    "       [ 134, 4285],\n",
    "       [ 134, 4985],\n",
    "       [ 134, 5685],\n",
    "       [ 134, 6385],\n",
    "       [ 134, 7085],\n",
    "       [ 608,   73],\n",
    "       [ 608,  773],\n",
    "       [ 608, 1473],\n",
    "       [ 608, 2173],\n",
    "       [ 608, 2873],\n",
    "       [ 608, 3573],\n",
    "       [ 608, 4273],\n",
    "       [ 608, 4973],\n",
    "       [ 608, 5673],\n",
    "       [ 608, 6373],\n",
    "       [ 608, 7073],\n",
    "       [1082,   65],\n",
    "       [1082,  765],\n",
    "       [1082, 1465],\n",
    "       [1082, 2165],\n",
    "       [1082, 2865],\n",
    "       [1082, 3565],\n",
    "       [1082, 4265],\n",
    "       [1082, 4965],\n",
    "       [1082, 5665],\n",
    "       [1082, 6365],\n",
    "       [1082, 7065],\n",
    "       [1542,   67],\n",
    "       [1542,  767],\n",
    "       [1542, 1467],\n",
    "       [1542, 2167],\n",
    "       [1542, 2867],\n",
    "       [1542, 3567],\n",
    "       [1542, 4267],\n",
    "       [1542, 4967],\n",
    "       [1542, 5667],\n",
    "       [1542, 6367],\n",
    "       [1542, 7067],\n",
    "       [2016,   67],\n",
    "       [2016,  767],\n",
    "       [2016, 1467],\n",
    "       [2016, 2167],\n",
    "       [2016, 2867],\n",
    "       [2016, 3567],\n",
    "       [2016, 4267],\n",
    "       [2016, 4967],\n",
    "       [2016, 5667],\n",
    "       [2016, 6367],\n",
    "       [2016, 7067],\n",
    "       [2475,   72],\n",
    "       [2475,  772],\n",
    "       [2475, 1472],\n",
    "       [2475, 2172],\n",
    "       [2475, 2872],\n",
    "       [2475, 3572],\n",
    "       [2475, 4272],\n",
    "       [2475, 4972],\n",
    "       [2475, 5672],\n",
    "       [2475, 6372],\n",
    "       [2475, 7072],\n",
    "       [2943,   80],\n",
    "       [2943,  780],\n",
    "       [2943, 1480],\n",
    "       [2943, 2180],\n",
    "       [2943, 2880],\n",
    "       [2943, 3580],\n",
    "       [2943, 4280],\n",
    "       [2943, 4980],\n",
    "       [2943, 5680],\n",
    "       [2943, 6380],\n",
    "       [2943, 7080],\n",
    "       [3412,   85],\n",
    "       [3412,  785],\n",
    "       [3412, 1485],\n",
    "       [3412, 2185],\n",
    "       [3412, 2885],\n",
    "       [3412, 3585],\n",
    "       [3412, 4285],\n",
    "       [3412, 4985],\n",
    "       [3412, 5685],\n",
    "       [3412, 6385],\n",
    "       [3412, 7085],\n",
    "       [3869,   98],\n",
    "       [3869,  798],\n",
    "       [3869, 1498],\n",
    "       [3869, 2198],\n",
    "       [3869, 2898],\n",
    "       [3869, 3598],\n",
    "       [3869, 4298],\n",
    "       [3869, 4998],\n",
    "       [3869, 5698],\n",
    "       [3869, 6398],\n",
    "       [3869, 7098],\n",
    "       [4338,  106],\n",
    "       [4338,  806],\n",
    "       [4338, 1506],\n",
    "       [4338, 2206],\n",
    "       [4338, 2906],\n",
    "       [4338, 3606],\n",
    "       [4338, 4306],\n",
    "       [4338, 5006],\n",
    "       [4338, 5706],\n",
    "       [4338, 6406],\n",
    "       [4338, 7106],\n",
    "       [4799,  117],\n",
    "       [4799,  817],\n",
    "       [4799, 1517],\n",
    "       [4799, 2217],\n",
    "       [4799, 2917],\n",
    "       [4799, 3617],\n",
    "       [4799, 4317],\n",
    "       [4799, 5017],\n",
    "       [4799, 5717],\n",
    "       [4799, 6417],\n",
    "       [4799, 7117],\n",
    "       [5264,  125],\n",
    "       [5264,  825],\n",
    "       [5264, 1525],\n",
    "       [5264, 2225],\n",
    "       [5264, 2925],\n",
    "       [5264, 3625],\n",
    "       [5264, 4325],\n",
    "       [5264, 5025],\n",
    "       [5264, 5725],\n",
    "       [5264, 6425],\n",
    "       [5264, 7125],\n",
    "       [5734,  129],\n",
    "       [5734,  829],\n",
    "       [5734, 1529],\n",
    "       [5734, 2229],\n",
    "       [5734, 2929],\n",
    "       [5734, 3629],\n",
    "       [5734, 4329],\n",
    "       [5734, 5029],\n",
    "       [5734, 5729],\n",
    "       [5734, 6429],\n",
    "       [5734, 7129],\n",
    "       [6197,  129],\n",
    "       [6197,  829],\n",
    "       [6197, 1529],\n",
    "       [6197, 2229],\n",
    "       [6197, 2929],\n",
    "       [6197, 3629],\n",
    "       [6197, 4329],\n",
    "       [6197, 5029],\n",
    "       [6197, 5729],\n",
    "       [6197, 6429],\n",
    "       [6197, 7129],\n",
    "       [6668,  136],\n",
    "       [6668,  836],\n",
    "       [6668, 1536],\n",
    "       [6668, 2236],\n",
    "       [6668, 2936],\n",
    "       [6668, 3636],\n",
    "       [6668, 4336],\n",
    "       [6668, 5036],\n",
    "       [6668, 5736],\n",
    "       [6668, 6436],\n",
    "       [6668, 7136],\n",
    "       [7131,  144],\n",
    "       [7131,  844],\n",
    "       [7131, 1544],\n",
    "       [7131, 2244],\n",
    "       [7131, 2944],\n",
    "       [7131, 3644],\n",
    "       [7131, 4344],\n",
    "       [7131, 5044],\n",
    "       [7131, 5744],\n",
    "       [7131, 6444],\n",
    "       [7131, 7144],\n",
    "       [7598,  147],\n",
    "       [7598,  847],\n",
    "       [7598, 1547],\n",
    "       [7598, 2247],\n",
    "       [7598, 2947],\n",
    "       [7598, 3647],\n",
    "       [7598, 4347],\n",
    "       [7598, 5047],\n",
    "       [7598, 5747],\n",
    "       [7598, 6447],\n",
    "       [7598, 7147],\n",
    "       [8068,  150],\n",
    "       [8068,  850],\n",
    "       [8068, 1550],\n",
    "       [8068, 2250],\n",
    "       [8068, 2950],\n",
    "       [8068, 3650],\n",
    "       [8068, 4350],\n",
    "       [8068, 5050],\n",
    "       [8068, 5750],\n",
    "       [8068, 6450],\n",
    "       [8068, 7150],\n",
    "       [8532,  150],\n",
    "       [8532,  850],\n",
    "       [8532, 1550],\n",
    "       [8532, 2250],\n",
    "       [8532, 2950],\n",
    "       [8532, 3650],\n",
    "       [8532, 4350],\n",
    "       [8532, 5050],\n",
    "       [8532, 5750],\n",
    "       [8532, 6450],\n",
    "       [8532, 7150]])\n",
    "\n",
    "john4_tile_origins = np.array([[   17,    91],\n",
    "       [   17,   785],\n",
    "       [   17,  1478],\n",
    "       [   17,  2172],\n",
    "       [   17,  2868],\n",
    "       [   17,  3564],\n",
    "       [   17,  4259],\n",
    "       [   17,  4954],\n",
    "       [   18,  5649],\n",
    "       [   18,  6343],\n",
    "       [   18,  7037],\n",
    "       [   18,  7731],\n",
    "       [   18,  8428],\n",
    "       [   18,  9124],\n",
    "       [  482,    92],\n",
    "       [  482,   786],\n",
    "       [  482,  1479],\n",
    "       [  482,  2173],\n",
    "       [  482,  2869],\n",
    "       [  482,  3565],\n",
    "       [  482,  4260],\n",
    "       [  482,  4955],\n",
    "       [  483,  5650],\n",
    "       [  483,  6344],\n",
    "       [  483,  7038],\n",
    "       [  483,  7732],\n",
    "       [  483,  8429],\n",
    "       [  483,  9125],\n",
    "       [  947,    94],\n",
    "       [  947,   788],\n",
    "       [  947,  1481],\n",
    "       [  947,  2175],\n",
    "       [  947,  2871],\n",
    "       [  947,  3567],\n",
    "       [  947,  4262],\n",
    "       [  947,  4957],\n",
    "       [  948,  5652],\n",
    "       [  948,  6346],\n",
    "       [  948,  7040],\n",
    "       [  948,  7734],\n",
    "       [  948,  8431],\n",
    "       [  948,  9127],\n",
    "       [ 1412,    97],\n",
    "       [ 1412,   791],\n",
    "       [ 1412,  1484],\n",
    "       [ 1412,  2178],\n",
    "       [ 1412,  2874],\n",
    "       [ 1412,  3570],\n",
    "       [ 1412,  4265],\n",
    "       [ 1412,  4960],\n",
    "       [ 1413,  5655],\n",
    "       [ 1413,  6349],\n",
    "       [ 1413,  7043],\n",
    "       [ 1413,  7737],\n",
    "       [ 1413,  8434],\n",
    "       [ 1413,  9130],\n",
    "       [ 1871,    99],\n",
    "       [ 1871,   793],\n",
    "       [ 1871,  1486],\n",
    "       [ 1871,  2180],\n",
    "       [ 1871,  2876],\n",
    "       [ 1871,  3572],\n",
    "       [ 1871,  4267],\n",
    "       [ 1871,  4962],\n",
    "       [ 1872,  5657],\n",
    "       [ 1872,  6351],\n",
    "       [ 1872,  7045],\n",
    "       [ 1872,  7739],\n",
    "       [ 1872,  8436],\n",
    "       [ 1872,  9132],\n",
    "       [ 2338,   101],\n",
    "       [ 2338,   795],\n",
    "       [ 2338,  1488],\n",
    "       [ 2338,  2182],\n",
    "       [ 2338,  2878],\n",
    "       [ 2338,  3574],\n",
    "       [ 2338,  4269],\n",
    "       [ 2338,  4964],\n",
    "       [ 2339,  5659],\n",
    "       [ 2339,  6353],\n",
    "       [ 2339,  7047],\n",
    "       [ 2339,  7741],\n",
    "       [ 2339,  8438],\n",
    "       [ 2339,  9134],\n",
    "       [ 2799,   103],\n",
    "       [ 2799,   797],\n",
    "       [ 2799,  1490],\n",
    "       [ 2799,  2184],\n",
    "       [ 2799,  2880],\n",
    "       [ 2799,  3576],\n",
    "       [ 2799,  4271],\n",
    "       [ 2799,  4966],\n",
    "       [ 2800,  5661],\n",
    "       [ 2800,  6355],\n",
    "       [ 2800,  7049],\n",
    "       [ 2800,  7743],\n",
    "       [ 2800,  8440],\n",
    "       [ 2800,  9136],\n",
    "       [ 3264,   106],\n",
    "       [ 3264,   800],\n",
    "       [ 3264,  1493],\n",
    "       [ 3264,  2187],\n",
    "       [ 3264,  2883],\n",
    "       [ 3264,  3579],\n",
    "       [ 3264,  4274],\n",
    "       [ 3264,  4969],\n",
    "       [ 3265,  5664],\n",
    "       [ 3265,  6358],\n",
    "       [ 3265,  7052],\n",
    "       [ 3265,  7746],\n",
    "       [ 3265,  8443],\n",
    "       [ 3265,  9139],\n",
    "       [ 3729,   109],\n",
    "       [ 3729,   803],\n",
    "       [ 3729,  1496],\n",
    "       [ 3729,  2190],\n",
    "       [ 3729,  2886],\n",
    "       [ 3729,  3582],\n",
    "       [ 3729,  4277],\n",
    "       [ 3729,  4972],\n",
    "       [ 3730,  5667],\n",
    "       [ 3730,  6361],\n",
    "       [ 3730,  7055],\n",
    "       [ 3730,  7749],\n",
    "       [ 3730,  8446],\n",
    "       [ 3730,  9142],\n",
    "       [ 4189,   112],\n",
    "       [ 4189,   806],\n",
    "       [ 4189,  1499],\n",
    "       [ 4189,  2193],\n",
    "       [ 4189,  2889],\n",
    "       [ 4189,  3585],\n",
    "       [ 4189,  4280],\n",
    "       [ 4189,  4975],\n",
    "       [ 4190,  5670],\n",
    "       [ 4190,  6364],\n",
    "       [ 4190,  7058],\n",
    "       [ 4190,  7752],\n",
    "       [ 4190,  8449],\n",
    "       [ 4190,  9145],\n",
    "       [ 4655,   116],\n",
    "       [ 4655,   810],\n",
    "       [ 4655,  1503],\n",
    "       [ 4655,  2197],\n",
    "       [ 4655,  2893],\n",
    "       [ 4655,  3589],\n",
    "       [ 4655,  4284],\n",
    "       [ 4655,  4979],\n",
    "       [ 4656,  5674],\n",
    "       [ 4656,  6368],\n",
    "       [ 4656,  7062],\n",
    "       [ 4656,  7756],\n",
    "       [ 4656,  8453],\n",
    "       [ 4656,  9149],\n",
    "       [ 5116,   119],\n",
    "       [ 5116,   813],\n",
    "       [ 5116,  1506],\n",
    "       [ 5116,  2200],\n",
    "       [ 5116,  2896],\n",
    "       [ 5116,  3592],\n",
    "       [ 5116,  4287],\n",
    "       [ 5116,  4982],\n",
    "       [ 5117,  5677],\n",
    "       [ 5117,  6371],\n",
    "       [ 5117,  7065],\n",
    "       [ 5117,  7759],\n",
    "       [ 5117,  8456],\n",
    "       [ 5117,  9152],\n",
    "       [ 5579,   122],\n",
    "       [ 5579,   816],\n",
    "       [ 5579,  1509],\n",
    "       [ 5579,  2203],\n",
    "       [ 5579,  2899],\n",
    "       [ 5579,  3595],\n",
    "       [ 5579,  4290],\n",
    "       [ 5579,  4985],\n",
    "       [ 5580,  5680],\n",
    "       [ 5580,  6374],\n",
    "       [ 5580,  7068],\n",
    "       [ 5580,  7762],\n",
    "       [ 5580,  8459],\n",
    "       [ 5580,  9155],\n",
    "       [ 6044,   125],\n",
    "       [ 6044,   819],\n",
    "       [ 6044,  1512],\n",
    "       [ 6044,  2206],\n",
    "       [ 6044,  2902],\n",
    "       [ 6044,  3598],\n",
    "       [ 6044,  4293],\n",
    "       [ 6044,  4988],\n",
    "       [ 6045,  5683],\n",
    "       [ 6045,  6377],\n",
    "       [ 6045,  7071],\n",
    "       [ 6045,  7765],\n",
    "       [ 6045,  8462],\n",
    "       [ 6045,  9158],\n",
    "       [ 6504,   128],\n",
    "       [ 6504,   822],\n",
    "       [ 6504,  1515],\n",
    "       [ 6504,  2209],\n",
    "       [ 6504,  2905],\n",
    "       [ 6504,  3601],\n",
    "       [ 6504,  4296],\n",
    "       [ 6504,  4991],\n",
    "       [ 6505,  5686],\n",
    "       [ 6505,  6380],\n",
    "       [ 6505,  7074],\n",
    "       [ 6505,  7768],\n",
    "       [ 6505,  8465],\n",
    "       [ 6505,  9161],\n",
    "       [ 6971,   131],\n",
    "       [ 6971,   825],\n",
    "       [ 6971,  1518],\n",
    "       [ 6971,  2212],\n",
    "       [ 6971,  2908],\n",
    "       [ 6971,  3604],\n",
    "       [ 6971,  4299],\n",
    "       [ 6971,  4994],\n",
    "       [ 6972,  5689],\n",
    "       [ 6972,  6383],\n",
    "       [ 6972,  7077],\n",
    "       [ 6972,  7771],\n",
    "       [ 6972,  8468],\n",
    "       [ 6972,  9164],\n",
    "       [ 7432,   134],\n",
    "       [ 7432,   828],\n",
    "       [ 7432,  1521],\n",
    "       [ 7432,  2215],\n",
    "       [ 7432,  2911],\n",
    "       [ 7432,  3607],\n",
    "       [ 7432,  4302],\n",
    "       [ 7432,  4997],\n",
    "       [ 7433,  5692],\n",
    "       [ 7433,  6386],\n",
    "       [ 7433,  7080],\n",
    "       [ 7433,  7774],\n",
    "       [ 7433,  8471],\n",
    "       [ 7433,  9167],\n",
    "       [ 7897,   138],\n",
    "       [ 7897,   832],\n",
    "       [ 7897,  1525],\n",
    "       [ 7897,  2219],\n",
    "       [ 7897,  2915],\n",
    "       [ 7897,  3611],\n",
    "       [ 7897,  4306],\n",
    "       [ 7897,  5001],\n",
    "       [ 7898,  5696],\n",
    "       [ 7898,  6390],\n",
    "       [ 7898,  7084],\n",
    "       [ 7898,  7778],\n",
    "       [ 7898,  8475],\n",
    "       [ 7898,  9171],\n",
    "       [ 8362,   141],\n",
    "       [ 8362,   835],\n",
    "       [ 8362,  1528],\n",
    "       [ 8362,  2222],\n",
    "       [ 8362,  2918],\n",
    "       [ 8362,  3614],\n",
    "       [ 8362,  4309],\n",
    "       [ 8362,  5004],\n",
    "       [ 8363,  5699],\n",
    "       [ 8363,  6393],\n",
    "       [ 8363,  7087],\n",
    "       [ 8363,  7781],\n",
    "       [ 8363,  8478],\n",
    "       [ 8363,  9174],\n",
    "       [ 8822,   144],\n",
    "       [ 8822,   838],\n",
    "       [ 8822,  1531],\n",
    "       [ 8822,  2225],\n",
    "       [ 8822,  2921],\n",
    "       [ 8822,  3617],\n",
    "       [ 8822,  4312],\n",
    "       [ 8822,  5007],\n",
    "       [ 8823,  5702],\n",
    "       [ 8823,  6396],\n",
    "       [ 8823,  7090],\n",
    "       [ 8823,  7784],\n",
    "       [ 8823,  8481],\n",
    "       [ 8823,  9177],\n",
    "       [ 9290,   147],\n",
    "       [ 9290,   841],\n",
    "       [ 9290,  1534],\n",
    "       [ 9290,  2228],\n",
    "       [ 9290,  2924],\n",
    "       [ 9290,  3620],\n",
    "       [ 9290,  4315],\n",
    "       [ 9290,  5010],\n",
    "       [ 9291,  5705],\n",
    "       [ 9291,  6399],\n",
    "       [ 9291,  7093],\n",
    "       [ 9291,  7787],\n",
    "       [ 9291,  8484],\n",
    "       [ 9291,  9180],\n",
    "       [ 9753,   149],\n",
    "       [ 9753,   843],\n",
    "       [ 9753,  1536],\n",
    "       [ 9753,  2230],\n",
    "       [ 9753,  2926],\n",
    "       [ 9753,  3622],\n",
    "       [ 9753,  4317],\n",
    "       [ 9753,  5012],\n",
    "       [ 9754,  5707],\n",
    "       [ 9754,  6401],\n",
    "       [ 9754,  7095],\n",
    "       [ 9754,  7789],\n",
    "       [ 9754,  8486],\n",
    "       [ 9754,  9182],\n",
    "       [10215,   152],\n",
    "       [10215,   846],\n",
    "       [10215,  1539],\n",
    "       [10215,  2233],\n",
    "       [10215,  2929],\n",
    "       [10215,  3625],\n",
    "       [10215,  4320],\n",
    "       [10215,  5015],\n",
    "       [10216,  5710],\n",
    "       [10216,  6404],\n",
    "       [10216,  7098],\n",
    "       [10216,  7792],\n",
    "       [10216,  8489],\n",
    "       [10216,  9185],\n",
    "       [10680,   155],\n",
    "       [10680,   849],\n",
    "       [10680,  1542],\n",
    "       [10680,  2236],\n",
    "       [10680,  2932],\n",
    "       [10680,  3628],\n",
    "       [10680,  4323],\n",
    "       [10680,  5018],\n",
    "       [10681,  5713],\n",
    "       [10681,  6407],\n",
    "       [10681,  7101],\n",
    "       [10681,  7795],\n",
    "       [10681,  8492],\n",
    "       [10681,  9188],\n",
    "       [11139,   158],\n",
    "       [11139,   852],\n",
    "       [11139,  1545],\n",
    "       [11139,  2239],\n",
    "       [11139,  2935],\n",
    "       [11139,  3631],\n",
    "       [11139,  4326],\n",
    "       [11139,  5021],\n",
    "       [11140,  5716],\n",
    "       [11140,  6410],\n",
    "       [11140,  7104],\n",
    "       [11140,  7798],\n",
    "       [11140,  8495],\n",
    "       [11140,  9191],\n",
    "       [11607,   161],\n",
    "       [11607,   855],\n",
    "       [11607,  1548],\n",
    "       [11607,  2242],\n",
    "       [11607,  2938],\n",
    "       [11607,  3634],\n",
    "       [11607,  4329],\n",
    "       [11607,  5024],\n",
    "       [11608,  5719],\n",
    "       [11608,  6413],\n",
    "       [11608,  7107],\n",
    "       [11608,  7801],\n",
    "       [11608,  8498],\n",
    "       [11608,  9194],\n",
    "       [12070,   164],\n",
    "       [12070,   858],\n",
    "       [12070,  1551],\n",
    "       [12070,  2245],\n",
    "       [12070,  2941],\n",
    "       [12070,  3637],\n",
    "       [12070,  4332],\n",
    "       [12070,  5027],\n",
    "       [12071,  5722],\n",
    "       [12071,  6416],\n",
    "       [12071,  7110],\n",
    "       [12071,  7804],\n",
    "       [12071,  8501],\n",
    "       [12071,  9197],\n",
    "       [12534,   166],\n",
    "       [12534,   860],\n",
    "       [12534,  1553],\n",
    "       [12534,  2247],\n",
    "       [12534,  2943],\n",
    "       [12534,  3639],\n",
    "       [12534,  4334],\n",
    "       [12534,  5029],\n",
    "       [12535,  5724],\n",
    "       [12535,  6418],\n",
    "       [12535,  7112],\n",
    "       [12535,  7806],\n",
    "       [12535,  8503],\n",
    "       [12535,  9199],\n",
    "       [12998,   168],\n",
    "       [12998,   862],\n",
    "       [12998,  1555],\n",
    "       [12998,  2249],\n",
    "       [12998,  2945],\n",
    "       [12998,  3641],\n",
    "       [12998,  4336],\n",
    "       [12998,  5031],\n",
    "       [12999,  5726],\n",
    "       [12999,  6420],\n",
    "       [12999,  7114],\n",
    "       [12999,  7808],\n",
    "       [12999,  8505],\n",
    "       [12999,  9201],\n",
    "       [13459,   170],\n",
    "       [13459,   864],\n",
    "       [13459,  1557],\n",
    "       [13459,  2251],\n",
    "       [13459,  2947],\n",
    "       [13459,  3643],\n",
    "       [13459,  4338],\n",
    "       [13459,  5033],\n",
    "       [13460,  5728],\n",
    "       [13460,  6422],\n",
    "       [13460,  7116],\n",
    "       [13460,  7810],\n",
    "       [13460,  8507],\n",
    "       [13460,  9203],\n",
    "       [13926,   173],\n",
    "       [13926,   867],\n",
    "       [13926,  1560],\n",
    "       [13926,  2254],\n",
    "       [13926,  2950],\n",
    "       [13926,  3646],\n",
    "       [13926,  4341],\n",
    "       [13926,  5036],\n",
    "       [13927,  5731],\n",
    "       [13927,  6425],\n",
    "       [13927,  7119],\n",
    "       [13927,  7813],\n",
    "       [13927,  8510],\n",
    "       [13927,  9206],\n",
    "       [14388,   176],\n",
    "       [14388,   870],\n",
    "       [14388,  1563],\n",
    "       [14388,  2257],\n",
    "       [14388,  2953],\n",
    "       [14388,  3649],\n",
    "       [14388,  4344],\n",
    "       [14388,  5039],\n",
    "       [14389,  5734],\n",
    "       [14389,  6428],\n",
    "       [14389,  7122],\n",
    "       [14389,  7816],\n",
    "       [14389,  8513],\n",
    "       [14389,  9209],\n",
    "       [14853,   179],\n",
    "       [14853,   873],\n",
    "       [14853,  1566],\n",
    "       [14853,  2260],\n",
    "       [14853,  2956],\n",
    "       [14853,  3652],\n",
    "       [14853,  4347],\n",
    "       [14853,  5042],\n",
    "       [14854,  5737],\n",
    "       [14854,  6431],\n",
    "       [14854,  7125],\n",
    "       [14854,  7819],\n",
    "       [14854,  8516],\n",
    "       [14854,  9212],\n",
    "       [15319,   181],\n",
    "       [15319,   875],\n",
    "       [15319,  1568],\n",
    "       [15319,  2262],\n",
    "       [15319,  2958],\n",
    "       [15319,  3654],\n",
    "       [15319,  4349],\n",
    "       [15319,  5044],\n",
    "       [15320,  5739],\n",
    "       [15320,  6433],\n",
    "       [15320,  7127],\n",
    "       [15320,  7821],\n",
    "       [15320,  8518],\n",
    "       [15320,  9214]])\n",
    "\n",
    "john6_tile_origins = np.array([[   14,    32],\n",
    "       [   14,   726],\n",
    "       [   14,  1420],\n",
    "       [   14,  2114],\n",
    "       [   15,  2808],\n",
    "       [   15,  3504],\n",
    "       [   15,  4199],\n",
    "       [   16,  4894],\n",
    "       [   17,  5589],\n",
    "       [   18,  6284],\n",
    "       [   19,  6980],\n",
    "       [   20,  7675],\n",
    "       [   21,  8371],\n",
    "       [   22,  9067],\n",
    "       [   23,  9764],\n",
    "       [   24, 10460],\n",
    "       [   25, 11156],\n",
    "       [   25, 11855],\n",
    "       [  475,    36],\n",
    "       [  475,   730],\n",
    "       [  475,  1424],\n",
    "       [  475,  2118],\n",
    "       [  476,  2812],\n",
    "       [  476,  3508],\n",
    "       [  476,  4203],\n",
    "       [  477,  4898],\n",
    "       [  478,  5593],\n",
    "       [  479,  6288],\n",
    "       [  480,  6984],\n",
    "       [  481,  7679],\n",
    "       [  482,  8375],\n",
    "       [  483,  9071],\n",
    "       [  484,  9768],\n",
    "       [  485, 10464],\n",
    "       [  486, 11160],\n",
    "       [  486, 11859],\n",
    "       [  941,    39],\n",
    "       [  941,   733],\n",
    "       [  941,  1427],\n",
    "       [  941,  2121],\n",
    "       [  942,  2815],\n",
    "       [  942,  3511],\n",
    "       [  942,  4206],\n",
    "       [  943,  4901],\n",
    "       [  944,  5596],\n",
    "       [  945,  6291],\n",
    "       [  946,  6987],\n",
    "       [  947,  7682],\n",
    "       [  948,  8378],\n",
    "       [  949,  9074],\n",
    "       [  950,  9771],\n",
    "       [  951, 10467],\n",
    "       [  952, 11163],\n",
    "       [  952, 11862],\n",
    "       [ 1405,    42],\n",
    "       [ 1405,   736],\n",
    "       [ 1405,  1430],\n",
    "       [ 1405,  2124],\n",
    "       [ 1406,  2818],\n",
    "       [ 1406,  3514],\n",
    "       [ 1406,  4209],\n",
    "       [ 1407,  4904],\n",
    "       [ 1408,  5599],\n",
    "       [ 1409,  6294],\n",
    "       [ 1410,  6990],\n",
    "       [ 1411,  7685],\n",
    "       [ 1412,  8381],\n",
    "       [ 1413,  9077],\n",
    "       [ 1414,  9774],\n",
    "       [ 1415, 10470],\n",
    "       [ 1416, 11166],\n",
    "       [ 1416, 11865],\n",
    "       [ 1869,    45],\n",
    "       [ 1869,   739],\n",
    "       [ 1869,  1433],\n",
    "       [ 1869,  2127],\n",
    "       [ 1870,  2821],\n",
    "       [ 1870,  3517],\n",
    "       [ 1870,  4212],\n",
    "       [ 1871,  4907],\n",
    "       [ 1872,  5602],\n",
    "       [ 1873,  6297],\n",
    "       [ 1874,  6993],\n",
    "       [ 1875,  7688],\n",
    "       [ 1876,  8384],\n",
    "       [ 1877,  9080],\n",
    "       [ 1878,  9777],\n",
    "       [ 1879, 10473],\n",
    "       [ 1880, 11169],\n",
    "       [ 1880, 11868],\n",
    "       [ 2334,    48],\n",
    "       [ 2334,   742],\n",
    "       [ 2334,  1436],\n",
    "       [ 2334,  2130],\n",
    "       [ 2335,  2824],\n",
    "       [ 2335,  3520],\n",
    "       [ 2335,  4215],\n",
    "       [ 2336,  4910],\n",
    "       [ 2337,  5605],\n",
    "       [ 2338,  6300],\n",
    "       [ 2339,  6996],\n",
    "       [ 2340,  7691],\n",
    "       [ 2341,  8387],\n",
    "       [ 2342,  9083],\n",
    "       [ 2343,  9780],\n",
    "       [ 2344, 10476],\n",
    "       [ 2345, 11172],\n",
    "       [ 2345, 11871],\n",
    "       [ 2796,    50],\n",
    "       [ 2796,   744],\n",
    "       [ 2796,  1438],\n",
    "       [ 2796,  2132],\n",
    "       [ 2797,  2826],\n",
    "       [ 2797,  3522],\n",
    "       [ 2797,  4217],\n",
    "       [ 2798,  4912],\n",
    "       [ 2799,  5607],\n",
    "       [ 2800,  6302],\n",
    "       [ 2801,  6998],\n",
    "       [ 2802,  7693],\n",
    "       [ 2803,  8389],\n",
    "       [ 2804,  9085],\n",
    "       [ 2805,  9782],\n",
    "       [ 2806, 10478],\n",
    "       [ 2807, 11174],\n",
    "       [ 2807, 11873],\n",
    "       [ 3263,    53],\n",
    "       [ 3263,   747],\n",
    "       [ 3263,  1441],\n",
    "       [ 3263,  2135],\n",
    "       [ 3264,  2829],\n",
    "       [ 3264,  3525],\n",
    "       [ 3264,  4220],\n",
    "       [ 3265,  4915],\n",
    "       [ 3266,  5610],\n",
    "       [ 3267,  6305],\n",
    "       [ 3268,  7001],\n",
    "       [ 3269,  7696],\n",
    "       [ 3270,  8392],\n",
    "       [ 3271,  9088],\n",
    "       [ 3272,  9785],\n",
    "       [ 3273, 10481],\n",
    "       [ 3274, 11177],\n",
    "       [ 3274, 11876],\n",
    "       [ 3726,    56],\n",
    "       [ 3726,   750],\n",
    "       [ 3726,  1444],\n",
    "       [ 3726,  2138],\n",
    "       [ 3727,  2832],\n",
    "       [ 3727,  3528],\n",
    "       [ 3727,  4223],\n",
    "       [ 3728,  4918],\n",
    "       [ 3729,  5613],\n",
    "       [ 3730,  6308],\n",
    "       [ 3731,  7004],\n",
    "       [ 3732,  7699],\n",
    "       [ 3733,  8395],\n",
    "       [ 3734,  9091],\n",
    "       [ 3735,  9788],\n",
    "       [ 3736, 10484],\n",
    "       [ 3737, 11180],\n",
    "       [ 3737, 11879],\n",
    "       [ 4190,    59],\n",
    "       [ 4190,   753],\n",
    "       [ 4190,  1447],\n",
    "       [ 4190,  2141],\n",
    "       [ 4191,  2835],\n",
    "       [ 4191,  3531],\n",
    "       [ 4191,  4226],\n",
    "       [ 4192,  4921],\n",
    "       [ 4193,  5616],\n",
    "       [ 4194,  6311],\n",
    "       [ 4195,  7007],\n",
    "       [ 4196,  7702],\n",
    "       [ 4197,  8398],\n",
    "       [ 4198,  9094],\n",
    "       [ 4199,  9791],\n",
    "       [ 4200, 10487],\n",
    "       [ 4201, 11183],\n",
    "       [ 4201, 11882],\n",
    "       [ 4657,    61],\n",
    "       [ 4657,   755],\n",
    "       [ 4657,  1449],\n",
    "       [ 4657,  2143],\n",
    "       [ 4658,  2837],\n",
    "       [ 4658,  3533],\n",
    "       [ 4658,  4228],\n",
    "       [ 4659,  4923],\n",
    "       [ 4660,  5618],\n",
    "       [ 4661,  6313],\n",
    "       [ 4662,  7009],\n",
    "       [ 4663,  7704],\n",
    "       [ 4664,  8400],\n",
    "       [ 4665,  9096],\n",
    "       [ 4666,  9793],\n",
    "       [ 4667, 10489],\n",
    "       [ 4668, 11185],\n",
    "       [ 4668, 11884],\n",
    "       [ 5118,    64],\n",
    "       [ 5118,   758],\n",
    "       [ 5118,  1452],\n",
    "       [ 5118,  2146],\n",
    "       [ 5119,  2840],\n",
    "       [ 5119,  3536],\n",
    "       [ 5119,  4231],\n",
    "       [ 5120,  4926],\n",
    "       [ 5121,  5621],\n",
    "       [ 5122,  6316],\n",
    "       [ 5123,  7012],\n",
    "       [ 5124,  7707],\n",
    "       [ 5125,  8403],\n",
    "       [ 5126,  9099],\n",
    "       [ 5127,  9796],\n",
    "       [ 5128, 10492],\n",
    "       [ 5129, 11188],\n",
    "       [ 5129, 11887]])\n",
    "\n",
    "john8_tile_origins = np.array([[   24,    79],\n",
    "       [   25,   774],\n",
    "       [   26,  1466],\n",
    "       [   27,  2159],\n",
    "       [   28,  2854],\n",
    "       [   29,  3547],\n",
    "       [   30,  4241],\n",
    "       [   31,  4939],\n",
    "       [   32,  5635],\n",
    "       [   33,  6332],\n",
    "       [   34,  7029],\n",
    "       [   35,  7725],\n",
    "       [   36,  8422],\n",
    "       [   37,  9118],\n",
    "       [   38,  9813],\n",
    "       [   39, 10510],\n",
    "       [   40, 11206],\n",
    "       [  489,    82],\n",
    "       [  490,   777],\n",
    "       [  491,  1469],\n",
    "       [  492,  2162],\n",
    "       [  493,  2857],\n",
    "       [  494,  3550],\n",
    "       [  495,  4244],\n",
    "       [  496,  4942],\n",
    "       [  497,  5638],\n",
    "       [  498,  6335],\n",
    "       [  499,  7032],\n",
    "       [  500,  7728],\n",
    "       [  501,  8425],\n",
    "       [  502,  9121],\n",
    "       [  503,  9816],\n",
    "       [  504, 10513],\n",
    "       [  505, 11209],\n",
    "       [  951,    85],\n",
    "       [  952,   780],\n",
    "       [  953,  1472],\n",
    "       [  954,  2165],\n",
    "       [  955,  2860],\n",
    "       [  956,  3553],\n",
    "       [  957,  4247],\n",
    "       [  958,  4945],\n",
    "       [  959,  5641],\n",
    "       [  960,  6338],\n",
    "       [  961,  7035],\n",
    "       [  962,  7731],\n",
    "       [  963,  8428],\n",
    "       [  964,  9124],\n",
    "       [  965,  9819],\n",
    "       [  966, 10516],\n",
    "       [  967, 11212],\n",
    "       [ 1415,    87],\n",
    "       [ 1416,   782],\n",
    "       [ 1417,  1474],\n",
    "       [ 1418,  2167],\n",
    "       [ 1419,  2862],\n",
    "       [ 1420,  3555],\n",
    "       [ 1421,  4249],\n",
    "       [ 1422,  4947],\n",
    "       [ 1423,  5643],\n",
    "       [ 1424,  6340],\n",
    "       [ 1425,  7037],\n",
    "       [ 1426,  7733],\n",
    "       [ 1427,  8430],\n",
    "       [ 1428,  9126],\n",
    "       [ 1429,  9821],\n",
    "       [ 1430, 10518],\n",
    "       [ 1431, 11214],\n",
    "       [ 1875,    90],\n",
    "       [ 1876,   785],\n",
    "       [ 1877,  1477],\n",
    "       [ 1878,  2170],\n",
    "       [ 1879,  2865],\n",
    "       [ 1880,  3558],\n",
    "       [ 1881,  4252],\n",
    "       [ 1882,  4950],\n",
    "       [ 1883,  5646],\n",
    "       [ 1884,  6343],\n",
    "       [ 1885,  7040],\n",
    "       [ 1886,  7736],\n",
    "       [ 1887,  8433],\n",
    "       [ 1888,  9129],\n",
    "       [ 1889,  9824],\n",
    "       [ 1890, 10521],\n",
    "       [ 1891, 11217],\n",
    "       [ 2341,    90],\n",
    "       [ 2342,   785],\n",
    "       [ 2343,  1477],\n",
    "       [ 2344,  2170],\n",
    "       [ 2345,  2865],\n",
    "       [ 2346,  3558],\n",
    "       [ 2347,  4252],\n",
    "       [ 2348,  4950],\n",
    "       [ 2349,  5646],\n",
    "       [ 2350,  6343],\n",
    "       [ 2351,  7040],\n",
    "       [ 2352,  7736],\n",
    "       [ 2353,  8433],\n",
    "       [ 2354,  9129],\n",
    "       [ 2355,  9824],\n",
    "       [ 2356, 10521],\n",
    "       [ 2357, 11217],\n",
    "       [ 2804,    88],\n",
    "       [ 2805,   783],\n",
    "       [ 2806,  1475],\n",
    "       [ 2807,  2168],\n",
    "       [ 2808,  2863],\n",
    "       [ 2809,  3556],\n",
    "       [ 2810,  4250],\n",
    "       [ 2811,  4948],\n",
    "       [ 2812,  5644],\n",
    "       [ 2813,  6341],\n",
    "       [ 2814,  7038],\n",
    "       [ 2815,  7734],\n",
    "       [ 2816,  8431],\n",
    "       [ 2817,  9127],\n",
    "       [ 2818,  9822],\n",
    "       [ 2819, 10519],\n",
    "       [ 2820, 11215],\n",
    "       [ 3266,    92],\n",
    "       [ 3267,   787],\n",
    "       [ 3268,  1479],\n",
    "       [ 3269,  2172],\n",
    "       [ 3270,  2867],\n",
    "       [ 3271,  3560],\n",
    "       [ 3272,  4254],\n",
    "       [ 3273,  4952],\n",
    "       [ 3274,  5648],\n",
    "       [ 3275,  6345],\n",
    "       [ 3276,  7042],\n",
    "       [ 3277,  7738],\n",
    "       [ 3278,  8435],\n",
    "       [ 3279,  9131],\n",
    "       [ 3280,  9826],\n",
    "       [ 3281, 10523],\n",
    "       [ 3282, 11219],\n",
    "       [ 3733,    96],\n",
    "       [ 3734,   791],\n",
    "       [ 3735,  1483],\n",
    "       [ 3736,  2176],\n",
    "       [ 3737,  2871],\n",
    "       [ 3738,  3564],\n",
    "       [ 3739,  4258],\n",
    "       [ 3740,  4956],\n",
    "       [ 3741,  5652],\n",
    "       [ 3742,  6349],\n",
    "       [ 3743,  7046],\n",
    "       [ 3744,  7742],\n",
    "       [ 3745,  8439],\n",
    "       [ 3746,  9135],\n",
    "       [ 3747,  9830],\n",
    "       [ 3748, 10527],\n",
    "       [ 3749, 11223],\n",
    "       [ 4193,    99],\n",
    "       [ 4194,   794],\n",
    "       [ 4195,  1486],\n",
    "       [ 4196,  2179],\n",
    "       [ 4197,  2874],\n",
    "       [ 4198,  3567],\n",
    "       [ 4199,  4261],\n",
    "       [ 4200,  4959],\n",
    "       [ 4201,  5655],\n",
    "       [ 4202,  6352],\n",
    "       [ 4203,  7049],\n",
    "       [ 4204,  7745],\n",
    "       [ 4205,  8442],\n",
    "       [ 4206,  9138],\n",
    "       [ 4207,  9833],\n",
    "       [ 4208, 10530],\n",
    "       [ 4209, 11226],\n",
    "       [ 4659,   102],\n",
    "       [ 4660,   797],\n",
    "       [ 4661,  1489],\n",
    "       [ 4662,  2182],\n",
    "       [ 4663,  2877],\n",
    "       [ 4664,  3570],\n",
    "       [ 4665,  4264],\n",
    "       [ 4666,  4962],\n",
    "       [ 4667,  5658],\n",
    "       [ 4668,  6355],\n",
    "       [ 4669,  7052],\n",
    "       [ 4670,  7748],\n",
    "       [ 4671,  8445],\n",
    "       [ 4672,  9141],\n",
    "       [ 4673,  9836],\n",
    "       [ 4674, 10533],\n",
    "       [ 4675, 11229],\n",
    "       [ 5123,   105],\n",
    "       [ 5124,   800],\n",
    "       [ 5125,  1492],\n",
    "       [ 5126,  2185],\n",
    "       [ 5127,  2880],\n",
    "       [ 5128,  3573],\n",
    "       [ 5129,  4267],\n",
    "       [ 5130,  4965],\n",
    "       [ 5131,  5661],\n",
    "       [ 5132,  6358],\n",
    "       [ 5133,  7055],\n",
    "       [ 5134,  7751],\n",
    "       [ 5135,  8448],\n",
    "       [ 5136,  9144],\n",
    "       [ 5137,  9839],\n",
    "       [ 5138, 10536],\n",
    "       [ 5139, 11232],\n",
    "       [ 5586,   108],\n",
    "       [ 5587,   803],\n",
    "       [ 5588,  1495],\n",
    "       [ 5589,  2188],\n",
    "       [ 5590,  2883],\n",
    "       [ 5591,  3576],\n",
    "       [ 5592,  4270],\n",
    "       [ 5593,  4968],\n",
    "       [ 5594,  5664],\n",
    "       [ 5595,  6361],\n",
    "       [ 5596,  7058],\n",
    "       [ 5597,  7754],\n",
    "       [ 5598,  8451],\n",
    "       [ 5599,  9147],\n",
    "       [ 5600,  9842],\n",
    "       [ 5601, 10539],\n",
    "       [ 5602, 11235],\n",
    "       [ 6051,   111],\n",
    "       [ 6052,   806],\n",
    "       [ 6053,  1498],\n",
    "       [ 6054,  2191],\n",
    "       [ 6055,  2886],\n",
    "       [ 6056,  3579],\n",
    "       [ 6057,  4273],\n",
    "       [ 6058,  4971],\n",
    "       [ 6059,  5667],\n",
    "       [ 6060,  6364],\n",
    "       [ 6061,  7061],\n",
    "       [ 6062,  7757],\n",
    "       [ 6063,  8454],\n",
    "       [ 6064,  9150],\n",
    "       [ 6065,  9845],\n",
    "       [ 6066, 10542],\n",
    "       [ 6067, 11238],\n",
    "       [ 6512,   114],\n",
    "       [ 6513,   809],\n",
    "       [ 6514,  1501],\n",
    "       [ 6515,  2194],\n",
    "       [ 6516,  2889],\n",
    "       [ 6517,  3582],\n",
    "       [ 6518,  4276],\n",
    "       [ 6519,  4974],\n",
    "       [ 6520,  5670],\n",
    "       [ 6521,  6367],\n",
    "       [ 6522,  7064],\n",
    "       [ 6523,  7760],\n",
    "       [ 6524,  8457],\n",
    "       [ 6525,  9153],\n",
    "       [ 6526,  9848],\n",
    "       [ 6527, 10545],\n",
    "       [ 6528, 11241],\n",
    "       [ 6978,   117],\n",
    "       [ 6979,   812],\n",
    "       [ 6980,  1504],\n",
    "       [ 6981,  2197],\n",
    "       [ 6982,  2892],\n",
    "       [ 6983,  3585],\n",
    "       [ 6984,  4279],\n",
    "       [ 6985,  4977],\n",
    "       [ 6986,  5673],\n",
    "       [ 6987,  6370],\n",
    "       [ 6988,  7067],\n",
    "       [ 6989,  7763],\n",
    "       [ 6990,  8460],\n",
    "       [ 6991,  9156],\n",
    "       [ 6992,  9851],\n",
    "       [ 6993, 10548],\n",
    "       [ 6994, 11244],\n",
    "       [ 7442,   121],\n",
    "       [ 7443,   816],\n",
    "       [ 7444,  1508],\n",
    "       [ 7445,  2201],\n",
    "       [ 7446,  2896],\n",
    "       [ 7447,  3589],\n",
    "       [ 7448,  4283],\n",
    "       [ 7449,  4981],\n",
    "       [ 7450,  5677],\n",
    "       [ 7451,  6374],\n",
    "       [ 7452,  7071],\n",
    "       [ 7453,  7767],\n",
    "       [ 7454,  8464],\n",
    "       [ 7455,  9160],\n",
    "       [ 7456,  9855],\n",
    "       [ 7457, 10552],\n",
    "       [ 7458, 11248],\n",
    "       [ 7905,   125],\n",
    "       [ 7906,   820],\n",
    "       [ 7907,  1512],\n",
    "       [ 7908,  2205],\n",
    "       [ 7909,  2900],\n",
    "       [ 7910,  3593],\n",
    "       [ 7911,  4287],\n",
    "       [ 7912,  4985],\n",
    "       [ 7913,  5681],\n",
    "       [ 7914,  6378],\n",
    "       [ 7915,  7075],\n",
    "       [ 7916,  7771],\n",
    "       [ 7917,  8468],\n",
    "       [ 7918,  9164],\n",
    "       [ 7919,  9859],\n",
    "       [ 7920, 10556],\n",
    "       [ 7921, 11252],\n",
    "       [ 8374,   129],\n",
    "       [ 8375,   824],\n",
    "       [ 8376,  1516],\n",
    "       [ 8377,  2209],\n",
    "       [ 8378,  2904],\n",
    "       [ 8379,  3597],\n",
    "       [ 8380,  4291],\n",
    "       [ 8381,  4989],\n",
    "       [ 8382,  5685],\n",
    "       [ 8383,  6382],\n",
    "       [ 8384,  7079],\n",
    "       [ 8385,  7775],\n",
    "       [ 8386,  8472],\n",
    "       [ 8387,  9168],\n",
    "       [ 8388,  9863],\n",
    "       [ 8389, 10560],\n",
    "       [ 8390, 11256],\n",
    "       [ 8834,   132],\n",
    "       [ 8835,   827],\n",
    "       [ 8836,  1519],\n",
    "       [ 8837,  2212],\n",
    "       [ 8838,  2907],\n",
    "       [ 8839,  3600],\n",
    "       [ 8840,  4294],\n",
    "       [ 8841,  4992],\n",
    "       [ 8842,  5688],\n",
    "       [ 8843,  6385],\n",
    "       [ 8844,  7082],\n",
    "       [ 8845,  7778],\n",
    "       [ 8846,  8475],\n",
    "       [ 8847,  9171],\n",
    "       [ 8848,  9866],\n",
    "       [ 8849, 10563],\n",
    "       [ 8850, 11259],\n",
    "       [ 9301,   135],\n",
    "       [ 9302,   830],\n",
    "       [ 9303,  1522],\n",
    "       [ 9304,  2215],\n",
    "       [ 9305,  2910],\n",
    "       [ 9306,  3603],\n",
    "       [ 9307,  4297],\n",
    "       [ 9308,  4995],\n",
    "       [ 9309,  5691],\n",
    "       [ 9310,  6388],\n",
    "       [ 9311,  7085],\n",
    "       [ 9312,  7781],\n",
    "       [ 9313,  8478],\n",
    "       [ 9314,  9174],\n",
    "       [ 9315,  9869],\n",
    "       [ 9316, 10566],\n",
    "       [ 9317, 11262],\n",
    "       [ 9766,   139],\n",
    "       [ 9767,   834],\n",
    "       [ 9768,  1526],\n",
    "       [ 9769,  2219],\n",
    "       [ 9770,  2914],\n",
    "       [ 9771,  3607],\n",
    "       [ 9772,  4301],\n",
    "       [ 9773,  4999],\n",
    "       [ 9774,  5695],\n",
    "       [ 9775,  6392],\n",
    "       [ 9776,  7089],\n",
    "       [ 9777,  7785],\n",
    "       [ 9778,  8482],\n",
    "       [ 9779,  9178],\n",
    "       [ 9780,  9873],\n",
    "       [ 9781, 10570],\n",
    "       [ 9782, 11266],\n",
    "       [10229,   142],\n",
    "       [10230,   837],\n",
    "       [10231,  1529],\n",
    "       [10232,  2222],\n",
    "       [10233,  2917],\n",
    "       [10234,  3610],\n",
    "       [10235,  4304],\n",
    "       [10236,  5002],\n",
    "       [10237,  5698],\n",
    "       [10238,  6395],\n",
    "       [10239,  7092],\n",
    "       [10240,  7788],\n",
    "       [10241,  8485],\n",
    "       [10242,  9181],\n",
    "       [10243,  9876],\n",
    "       [10244, 10573],\n",
    "       [10245, 11269],\n",
    "       [10696,   145],\n",
    "       [10697,   840],\n",
    "       [10698,  1532],\n",
    "       [10699,  2225],\n",
    "       [10700,  2920],\n",
    "       [10701,  3613],\n",
    "       [10702,  4307],\n",
    "       [10703,  5005],\n",
    "       [10704,  5701],\n",
    "       [10705,  6398],\n",
    "       [10706,  7095],\n",
    "       [10707,  7791],\n",
    "       [10708,  8488],\n",
    "       [10709,  9184],\n",
    "       [10710,  9879],\n",
    "       [10711, 10576],\n",
    "       [10712, 11272],\n",
    "       [11158,   147],\n",
    "       [11159,   842],\n",
    "       [11160,  1534],\n",
    "       [11161,  2227],\n",
    "       [11162,  2922],\n",
    "       [11163,  3615],\n",
    "       [11164,  4309],\n",
    "       [11165,  5007],\n",
    "       [11166,  5703],\n",
    "       [11167,  6400],\n",
    "       [11168,  7097],\n",
    "       [11169,  7793],\n",
    "       [11170,  8490],\n",
    "       [11171,  9186],\n",
    "       [11172,  9881],\n",
    "       [11173, 10578],\n",
    "       [11174, 11274],\n",
    "       [11624,   149],\n",
    "       [11625,   844],\n",
    "       [11626,  1536],\n",
    "       [11627,  2229],\n",
    "       [11628,  2924],\n",
    "       [11629,  3617],\n",
    "       [11630,  4311],\n",
    "       [11631,  5009],\n",
    "       [11632,  5705],\n",
    "       [11633,  6402],\n",
    "       [11634,  7099],\n",
    "       [11635,  7795],\n",
    "       [11636,  8492],\n",
    "       [11637,  9188],\n",
    "       [11638,  9883],\n",
    "       [11639, 10580],\n",
    "       [11640, 11276],\n",
    "       [12088,   152],\n",
    "       [12089,   847],\n",
    "       [12090,  1539],\n",
    "       [12091,  2232],\n",
    "       [12092,  2927],\n",
    "       [12093,  3620],\n",
    "       [12094,  4314],\n",
    "       [12095,  5012],\n",
    "       [12096,  5708],\n",
    "       [12097,  6405],\n",
    "       [12098,  7102],\n",
    "       [12099,  7798],\n",
    "       [12100,  8495],\n",
    "       [12101,  9191],\n",
    "       [12102,  9886],\n",
    "       [12103, 10583],\n",
    "       [12104, 11279],\n",
    "       [12550,   156],\n",
    "       [12551,   851],\n",
    "       [12552,  1543],\n",
    "       [12553,  2236],\n",
    "       [12554,  2931],\n",
    "       [12555,  3624],\n",
    "       [12556,  4318],\n",
    "       [12557,  5016],\n",
    "       [12558,  5712],\n",
    "       [12559,  6409],\n",
    "       [12560,  7106],\n",
    "       [12561,  7802],\n",
    "       [12562,  8499],\n",
    "       [12563,  9195],\n",
    "       [12564,  9890],\n",
    "       [12565, 10587],\n",
    "       [12566, 11283]])"
   ]
  },
  {
   "cell_type": "code",
   "execution_count": 69,
   "id": "da7db5d1",
   "metadata": {},
   "outputs": [],
   "source": [
    "tile_origins = john3_tile_origins\n",
    "clean_set_by_tile = []\n",
    "for i in range(len(tile_origins)):\n",
    "    clean_set_in_tile = []\n",
    "    for j in range(len(clean_set[0])):\n",
    "        if clean_set[3,j]>tile_origins[i][0] and clean_set[3,j]<tile_origins[i][0]+512 and clean_set[2,j]>tile_origins[i][1] and clean_set[2, j]<tile_origins[i][1]+768:\n",
    "            clean_set_in_tile.append(clean_set[:,j])\n",
    "          \n",
    "    clean_set_in_tile = np.array(clean_set_in_tile)\n",
    "    clean_set_by_tile.append(clean_set_in_tile)"
   ]
  },
  {
   "cell_type": "code",
   "execution_count": null,
   "id": "97dc96c4-209f-4f3a-ada2-546dc9057a81",
   "metadata": {},
   "outputs": [],
   "source": []
  },
  {
   "cell_type": "code",
   "execution_count": 70,
   "id": "f152ec60",
   "metadata": {},
   "outputs": [],
   "source": [
    "clean_set_by_tile = np.array(clean_set_by_tile, dtype=object)"
   ]
  },
  {
   "cell_type": "code",
   "execution_count": 249,
   "id": "ac9e3e42-457b-45c5-8722-f88ea0810ea7",
   "metadata": {},
   "outputs": [],
   "source": [
    "#clean_set_populated_tiles"
   ]
  },
  {
   "cell_type": "code",
   "execution_count": 250,
   "id": "a0d877d1-ec34-4794-b2d1-985bbf60506c",
   "metadata": {},
   "outputs": [],
   "source": [
    "#clean_set_populated_tiles[7]"
   ]
  },
  {
   "cell_type": "code",
   "execution_count": 71,
   "id": "58ccb663",
   "metadata": {},
   "outputs": [],
   "source": [
    "clean_set_populated_tiles = []\n",
    "for i in range(len(clean_set_by_tile)):\n",
    "    if len(clean_set_by_tile[i])>6:\n",
    "        clean_set_populated_tiles.append(clean_set_by_tile[i])\n",
    "        #print(i)\n",
    "    "
   ]
  },
  {
   "cell_type": "code",
   "execution_count": 130,
   "id": "46dd8741-9944-44f7-b33b-43303caadabc",
   "metadata": {},
   "outputs": [
    {
     "data": {
      "text/plain": [
       "array([1931, 4271])"
      ]
     },
     "execution_count": 130,
     "metadata": {},
     "output_type": "execute_result"
    }
   ],
   "source": [
    "tile_origins[78]"
   ]
  },
  {
   "cell_type": "code",
   "execution_count": 131,
   "id": "f1cdea4a-91d2-4dc8-854b-b907de50bddc",
   "metadata": {},
   "outputs": [
    {
     "data": {
      "text/plain": [
       "array([1931, 4972])"
      ]
     },
     "execution_count": 131,
     "metadata": {},
     "output_type": "execute_result"
    }
   ],
   "source": [
    "tile_origins[79]"
   ]
  },
  {
   "cell_type": "code",
   "execution_count": 72,
   "id": "a191acd5",
   "metadata": {},
   "outputs": [
    {
     "name": "stdout",
     "output_type": "stream",
     "text": [
      "0.07295878257339239\n",
      "0.6399996034690988\n",
      "0.7315263025351962\n",
      "0.5769744962400105\n",
      "0.8824379740063827\n",
      "0.7591643758368285\n",
      "0.8474488237034052\n",
      "0.5191193149816117\n",
      "0.49661257574321693\n",
      "0.28825270576768985\n",
      "0.5443159611826963\n",
      "0.23075981168325235\n",
      "0.41757078873059217\n",
      "0.4825809784087945\n",
      "0.9719557387325914\n",
      "0.295082099689122\n",
      "0.7899420871280284\n",
      "0.8586890050048401\n",
      "0.03910340013547083\n",
      "0.6737973616810096\n",
      "0.5436086854925612\n"
     ]
    }
   ],
   "source": [
    "for i in range(len(clean_set_populated_tiles)):\n",
    "    \n",
    "    print(np.corrcoef(clean_set_populated_tiles[i][:,0], clean_set_populated_tiles[i][:,1])[0,1])"
   ]
  },
  {
   "cell_type": "code",
   "execution_count": 73,
   "id": "f6320a49",
   "metadata": {},
   "outputs": [],
   "source": [
    "tilewise_anint_params = []\n",
    "tilewise_predicted_ans = []\n",
    "for i in range(len(clean_set_populated_tiles)):\n",
    "    tile_model = LinearRegression()\n",
    "    #tile_independents = np.transpose(np.array([clean_set_populated_tiles[i][:,2], clean_set_populated_tiles[i][:,3], clean_set_populated_tiles[i][:,0]]))\n",
    "    tile_independents = np.array(clean_set_populated_tiles[i][:,0]).reshape(-1, 1)\n",
    "    tile_dependents = clean_set_populated_tiles[i][:,1]\n",
    "    tile_model.fit(tile_independents, tile_dependents)\n",
    "    predictions = tile_model.predict(tile_independents)\n",
    "    tilewise_predicted_ans.append(np.array(predictions))\n",
    "    tilewise_anint_params.append(np.append(tile_model.coef_,tile_model.intercept_))"
   ]
  },
  {
   "cell_type": "code",
   "execution_count": 74,
   "id": "db618590",
   "metadata": {},
   "outputs": [
    {
     "data": {
      "text/plain": [
       "[array([0.34619421, 0.70688982]),\n",
       " array([0.93560226, 0.44440208]),\n",
       " array([ 2.70647566, -0.35217609]),\n",
       " array([0.65075513, 0.56243467]),\n",
       " array([ 3.15320223, -0.57593779]),\n",
       " array([ 3.92565791, -0.9094558 ]),\n",
       " array([ 2.52640449, -0.30997477]),\n",
       " array([1.17772945, 0.33397795]),\n",
       " array([ 2.37986869, -0.20807444]),\n",
       " array([0.40100686, 0.69125531]),\n",
       " array([1.52849478, 0.18426382]),\n",
       " array([0.32661415, 0.72631291]),\n",
       " array([0.40814104, 0.6873471 ]),\n",
       " array([1.35253859, 0.24962341]),\n",
       " array([ 2.37602388, -0.20471368]),\n",
       " array([1.57547907, 0.15687979]),\n",
       " array([0.62395266, 0.59007771]),\n",
       " array([1.80921568, 0.0659357 ]),\n",
       " array([0.09021848, 0.85590611]),\n",
       " array([ 2.25360613, -0.15193066]),\n",
       " array([ 2.72077385, -0.37004317])]"
      ]
     },
     "execution_count": 74,
     "metadata": {},
     "output_type": "execute_result"
    }
   ],
   "source": [
    "tilewise_anint_params"
   ]
  },
  {
   "cell_type": "code",
   "execution_count": 61,
   "id": "a2ba313b-1eb9-4dd9-81a0-4d8856249b0d",
   "metadata": {},
   "outputs": [
    {
     "ename": "IndexError",
     "evalue": "list index out of range",
     "output_type": "error",
     "traceback": [
      "\u001b[1;31m---------------------------------------------------------------------------\u001b[0m",
      "\u001b[1;31mIndexError\u001b[0m                                Traceback (most recent call last)",
      "\u001b[1;32m~\\AppData\\Local\\Temp/ipykernel_4428/1618045425.py\u001b[0m in \u001b[0;36m<module>\u001b[1;34m\u001b[0m\n\u001b[0;32m      1\u001b[0m \u001b[0mtile_to_see\u001b[0m \u001b[1;33m=\u001b[0m \u001b[1;36m12\u001b[0m\u001b[1;33m\u001b[0m\u001b[1;33m\u001b[0m\u001b[0m\n\u001b[1;32m----> 2\u001b[1;33m \u001b[0mprint\u001b[0m\u001b[1;33m(\u001b[0m\u001b[0mclean_set_populated_tiles\u001b[0m\u001b[1;33m[\u001b[0m\u001b[0mtile_to_see\u001b[0m\u001b[1;33m]\u001b[0m\u001b[1;33m)\u001b[0m\u001b[1;33m\u001b[0m\u001b[1;33m\u001b[0m\u001b[0m\n\u001b[0m\u001b[0;32m      3\u001b[0m \u001b[0mprint\u001b[0m\u001b[1;33m(\u001b[0m\u001b[1;34m\"Anorthites\"\u001b[0m\u001b[1;33m)\u001b[0m\u001b[1;33m\u001b[0m\u001b[1;33m\u001b[0m\u001b[0m\n\u001b[0;32m      4\u001b[0m \u001b[1;32mfor\u001b[0m \u001b[0mi\u001b[0m \u001b[1;32min\u001b[0m \u001b[0mrange\u001b[0m\u001b[1;33m(\u001b[0m\u001b[0mlen\u001b[0m\u001b[1;33m(\u001b[0m\u001b[0mclean_set_populated_tiles\u001b[0m\u001b[1;33m[\u001b[0m\u001b[0mtile_to_see\u001b[0m\u001b[1;33m]\u001b[0m\u001b[1;33m[\u001b[0m\u001b[1;33m:\u001b[0m\u001b[1;33m,\u001b[0m\u001b[1;36m0\u001b[0m\u001b[1;33m]\u001b[0m\u001b[1;33m)\u001b[0m\u001b[1;33m)\u001b[0m\u001b[1;33m:\u001b[0m\u001b[1;33m\u001b[0m\u001b[1;33m\u001b[0m\u001b[0m\n\u001b[0;32m      5\u001b[0m     \u001b[0mprint\u001b[0m\u001b[1;33m(\u001b[0m\u001b[0mclean_set_populated_tiles\u001b[0m\u001b[1;33m[\u001b[0m\u001b[0mtile_to_see\u001b[0m\u001b[1;33m]\u001b[0m\u001b[1;33m[\u001b[0m\u001b[0mi\u001b[0m\u001b[1;33m,\u001b[0m\u001b[1;36m1\u001b[0m\u001b[1;33m]\u001b[0m\u001b[1;33m)\u001b[0m\u001b[1;33m\u001b[0m\u001b[1;33m\u001b[0m\u001b[0m\n",
      "\u001b[1;31mIndexError\u001b[0m: list index out of range"
     ]
    }
   ],
   "source": [
    "tile_to_see = 12\n",
    "print(clean_set_populated_tiles[tile_to_see])\n",
    "print(\"Anorthites\")\n",
    "for i in range(len(clean_set_populated_tiles[tile_to_see][:,0])):\n",
    "    print(clean_set_populated_tiles[tile_to_see][i,1])\n",
    "print(\"Intensities\")\n",
    "for i in range(len(clean_set_populated_tiles[tile_to_see][:,0])):\n",
    "    print(clean_set_populated_tiles[tile_to_see][i,0])\n",
    "print(\"x\")\n",
    "for i in range(len(clean_set_populated_tiles[tile_to_see][:,0])):\n",
    "    print(clean_set_populated_tiles[tile_to_see][i,2])\n",
    "print(\"y\")\n",
    "for i in range(len(clean_set_populated_tiles[tile_to_see][:,0])):\n",
    "    print(clean_set_populated_tiles[tile_to_see][i,3])"
   ]
  },
  {
   "cell_type": "code",
   "execution_count": 37,
   "id": "a2102fea",
   "metadata": {},
   "outputs": [
    {
     "data": {
      "text/plain": [
       "[<matplotlib.lines.Line2D at 0x24cba200790>]"
      ]
     },
     "execution_count": 37,
     "metadata": {},
     "output_type": "execute_result"
    },
    {
     "data": {
      "image/png": "[encoded data removed]",
      "text/plain": [
       "<Figure size 432x288 with 1 Axes>"
      ]
     },
     "metadata": {
      "needs_background": "light"
     },
     "output_type": "display_data"
    }
   ],
   "source": [
    "#x = np.linspace(0.5, 0.53, 20)\n",
    "tile_to_see = 3\n",
    "plt.plot(clean_set_populated_tiles[tile_to_see][:,0], clean_set_populated_tiles[tile_to_see][:,1], 'r+')"
   ]
  },
  {
   "cell_type": "code",
   "execution_count": 67,
   "id": "e2b6fb39-a3d0-4676-8529-8dd9671c924b",
   "metadata": {},
   "outputs": [
    {
     "data": {
      "image/png": "[encoded data removed]",
      "text/plain": [
       "<Figure size 432x288 with 1 Axes>"
      ]
     },
     "metadata": {
      "needs_background": "light"
     },
     "output_type": "display_data"
    }
   ],
   "source": [
    "fig, ax = plt.subplots()\n",
    "tile_to_see = np.array([0,1,2,3,4,5,6,7])\n",
    "tile_to_consider = np.array([20])\n",
    "#tile_to_consider = np.array([6])\n",
    "for i in tile_to_see:\n",
    "    ax.plot(clean_set_populated_tiles[i][:,0], clean_set_populated_tiles[i][:,1], 'r+')\n",
    "for i in tile_to_consider:\n",
    "    ax.plot(clean_set_populated_tiles[i][:,0], clean_set_populated_tiles[i][:,1], 'b+')\n",
    "#ax.plot(x, (x*tilewise_anint_params[7][0]+tilewise_anint_params[7][1]))\n",
    "plt.show()\n",
    "#John4 7 is high res"
   ]
  },
  {
   "cell_type": "code",
   "execution_count": 278,
   "id": "ebb97207-9836-4d7e-af85-82c6f2262be0",
   "metadata": {},
   "outputs": [
    {
     "data": {
      "image/png": "[encoded data removed]",
      "text/plain": [
       "<Figure size 432x288 with 1 Axes>"
      ]
     },
     "metadata": {
      "needs_background": "light"
     },
     "output_type": "display_data"
    }
   ],
   "source": [
    "fig, ax = plt.subplots()\n",
    "for i in tile_to_see:\n",
    "    ax.plot(clean_set_populated_tiles[i][:,2], clean_set_populated_tiles[i][:,3], 'r+')\n",
    "for i in tile_to_consider:\n",
    "    ax.plot(clean_set_populated_tiles[i][:,2], clean_set_populated_tiles[i][:,3], 'b+')\n",
    "plt.show()"
   ]
  },
  {
   "cell_type": "code",
   "execution_count": 156,
   "id": "85198bd4-490c-47cc-b1dd-3eedcf9b601b",
   "metadata": {},
   "outputs": [
    {
     "data": {
      "image/png": "[encoded data removed]",
      "text/plain": [
       "<Figure size 432x288 with 1 Axes>"
      ]
     },
     "metadata": {
      "needs_background": "light"
     },
     "output_type": "display_data"
    }
   ],
   "source": [
    "fig, ax = plt.subplots()\n",
    "tile_to_see = np.array([0,1,2,3,4,5,6,7,8,9,10])\n",
    "for i in tile_to_see:\n",
    "    ax.plot(clean_set_populated_tiles[i][:,1], tilewise_predicted_ans[i], 'r+')\n",
    "ax.plot(x,x)\n",
    "plt.show()"
   ]
  },
  {
   "cell_type": "code",
   "execution_count": 107,
   "id": "0b3fc349-db59-42bb-9dd4-ccea831a6256",
   "metadata": {},
   "outputs": [
    {
     "data": {
      "image/png": "[encoded data removed]",
      "text/plain": [
       "<Figure size 432x288 with 1 Axes>"
      ]
     },
     "metadata": {
      "needs_background": "light"
     },
     "output_type": "display_data"
    }
   ],
   "source": [
    "fig, ax = plt.subplots()\n",
    "tile_to_see = np.array([0,1,2,3,4,5,6,7,8,9,11, 12, 13, 14, 15])\n",
    "for i in tile_to_see:\n",
    "    ax.plot(tilewise_predicted_ans[i], clean_set_populated_tiles[i][:,1] , 'r+')\n",
    "ax.plot(x,x)\n",
    "plt.show()"
   ]
  },
  {
   "cell_type": "code",
   "execution_count": 100,
   "id": "e027baa0",
   "metadata": {},
   "outputs": [
    {
     "data": {
      "text/plain": [
       "[<matplotlib.lines.Line2D at 0x2129c05c5b0>]"
      ]
     },
     "execution_count": 100,
     "metadata": {},
     "output_type": "execute_result"
    },
    {
     "data": {
      "image/png": "[encoded data removed]",
      "text/plain": [
       "<Figure size 432x288 with 1 Axes>"
      ]
     },
     "metadata": {
      "needs_background": "light"
     },
     "output_type": "display_data"
    }
   ],
   "source": [
    "tile_to_see = 4\n",
    "plt.plot(clean_set_populated_tiles[tile_to_see][:,1], tilewise_predicted_ans[tile_to_see], 'r+')\n",
    "plt.plot(x, x)\n",
    "#plt.plot(clean_set_populated_tiles[tile_to_see][:,1], clean_set_populated_tiles[tile_to_see][:,1], 'b+')"
   ]
  },
  {
   "cell_type": "code",
   "execution_count": 83,
   "id": "de9cc719-deed-43c2-89dc-bf2469936245",
   "metadata": {},
   "outputs": [
    {
     "data": {
      "text/plain": [
       "[<matplotlib.lines.Line2D at 0x1bc81ead5e0>]"
      ]
     },
     "execution_count": 83,
     "metadata": {},
     "output_type": "execute_result"
    },
    {
     "data": {
      "image/png": "[encoded data removed]",
      "text/plain": [
       "<Figure size 432x288 with 1 Axes>"
      ]
     },
     "metadata": {
      "needs_background": "light"
     },
     "output_type": "display_data"
    }
   ],
   "source": [
    "tile_to_see = 5\n",
    "plt.plot(clean_set_populated_tiles[tile_to_see][:,2], tilewise_predicted_ans[tile_to_see], 'r+')"
   ]
  },
  {
   "cell_type": "code",
   "execution_count": 84,
   "id": "1ad720e4-90e8-4781-a695-7f8288244924",
   "metadata": {},
   "outputs": [
    {
     "data": {
      "text/plain": [
       "[<matplotlib.lines.Line2D at 0x1bc81f0dfd0>]"
      ]
     },
     "execution_count": 84,
     "metadata": {},
     "output_type": "execute_result"
    },
    {
     "data": {
      "image/png": "[encoded data removed]",
      "text/plain": [
       "<Figure size 432x288 with 1 Axes>"
      ]
     },
     "metadata": {
      "needs_background": "light"
     },
     "output_type": "display_data"
    }
   ],
   "source": [
    "#tile_to_see = 3\n",
    "plt.plot(clean_set_populated_tiles[tile_to_see][:,2],clean_set_populated_tiles[tile_to_see][:,1], 'r+')"
   ]
  },
  {
   "cell_type": "code",
   "execution_count": 248,
   "id": "713f27fc",
   "metadata": {},
   "outputs": [
    {
     "data": {
      "text/plain": [
       "array([0.88176192, 0.87300062, 0.88654137, 0.87731377, 0.88263348,\n",
       "       0.86327857, 0.86903411])"
      ]
     },
     "execution_count": 248,
     "metadata": {},
     "output_type": "execute_result"
    }
   ],
   "source": []
  },
  {
   "cell_type": "code",
   "execution_count": 203,
   "id": "699baf96",
   "metadata": {},
   "outputs": [],
   "source": []
  },
  {
   "cell_type": "code",
   "execution_count": 202,
   "id": "8b81908e",
   "metadata": {},
   "outputs": [],
   "source": [
    "#clean_set[1, :]"
   ]
  },
  {
   "cell_type": "code",
   "execution_count": 201,
   "id": "8ee271e1",
   "metadata": {},
   "outputs": [],
   "source": [
    "#for i in range(clean_set.shape[1]):\n",
    "#    print(clean_set[0,i], clean_set[1,i])"
   ]
  },
  {
   "cell_type": "code",
   "execution_count": 17,
   "id": "e4d6508d-65fd-4979-bfd9-51cf23eed73c",
   "metadata": {},
   "outputs": [],
   "source": [
    "#dist_list"
   ]
  },
  {
   "cell_type": "code",
   "execution_count": 91,
   "id": "8c21d7c0-ef72-4222-b78c-6025d078e0c4",
   "metadata": {},
   "outputs": [],
   "source": [
    "def rote_transformer(image_end_points, profiles_to_transform):\n",
    "    \n",
    "    #Transforms the points by taking the calibration points as rote truth\n",
    "    \n",
    "    probe_points_placed = []\n",
    "    for i in range(len(profiles_to_transform)):\n",
    "        j = int(profiles_to_transform[i])\n",
    "        if j == len(profile_start_numbers)-1:\n",
    "            points_in_profile = probe_points[profile_start_numbers[j]:len(probe_points)]\n",
    "            dist_in_profile = dist_list[profile_start_numbers[j]:len(probe_points)]\n",
    "        else:\n",
    "            points_in_profile = probe_points[profile_start_numbers[j]:profile_start_numbers[j+1]]\n",
    "            dist_in_profile = dist_list[profile_start_numbers[j]:profile_start_numbers[j+1]]\n",
    "        \n",
    "        profile_start = image_end_points[2*i]\n",
    "        profile_end =  image_end_points[(2*i)+1]\n",
    "        profile_vector = profile_end-profile_start\n",
    "        relative_dist = dist_in_profile/np.max(dist_in_profile)\n",
    "        #print(profile_vector)\n",
    "        #print(profile_start)\n",
    "        #print(profile_end)\n",
    "        #print(points_in_profile)\n",
    "        #print(relative_dist)\n",
    "        for k in range(len(relative_dist)):\n",
    "            probe_points_placed.append(np.round((profile_start + (relative_dist[k]*profile_vector))))\n",
    "    return np.array(probe_points_placed)"
   ]
  },
  {
   "cell_type": "code",
   "execution_count": 40,
   "id": "f9ae1c76-c517-4800-a526-93c95be625c0",
   "metadata": {},
   "outputs": [],
   "source": [
    "rote_placed = rote_transformer(probe_points, image_end_points, [0,1,2]) "
   ]
  },
  {
   "cell_type": "code",
   "execution_count": 199,
   "id": "9b0845d5-c3c8-49a4-b69b-30b5b0fbbff2",
   "metadata": {},
   "outputs": [],
   "source": [
    "#image"
   ]
  },
  {
   "cell_type": "code",
   "execution_count": 273,
   "id": "95e99102-cef1-4963-938c-a9198a874bc7",
   "metadata": {},
   "outputs": [
    {
     "ename": "IndexError",
     "evalue": "index 3 is out of bounds for axis 0 with size 3",
     "output_type": "error",
     "traceback": [
      "\u001b[1;31m---------------------------------------------------------------------------\u001b[0m",
      "\u001b[1;31mIndexError\u001b[0m                                Traceback (most recent call last)",
      "\u001b[1;32m~\\AppData\\Local\\Temp/ipykernel_5828/1545776386.py\u001b[0m in \u001b[0;36m<module>\u001b[1;34m\u001b[0m\n\u001b[0;32m      1\u001b[0m \u001b[0mi\u001b[0m \u001b[1;33m=\u001b[0m \u001b[1;36m2\u001b[0m\u001b[1;33m\u001b[0m\u001b[1;33m\u001b[0m\u001b[0m\n\u001b[1;32m----> 2\u001b[1;33m \u001b[0mprint\u001b[0m\u001b[1;33m(\u001b[0m\u001b[0mlen\u001b[0m\u001b[1;33m(\u001b[0m\u001b[0mprobe_points\u001b[0m\u001b[1;33m[\u001b[0m\u001b[0mprofile_start_numbers\u001b[0m\u001b[1;33m[\u001b[0m\u001b[0mi\u001b[0m\u001b[1;33m]\u001b[0m\u001b[1;33m:\u001b[0m\u001b[0mprofile_start_numbers\u001b[0m\u001b[1;33m[\u001b[0m\u001b[0mi\u001b[0m\u001b[1;33m+\u001b[0m\u001b[1;36m1\u001b[0m\u001b[1;33m]\u001b[0m\u001b[1;33m]\u001b[0m\u001b[1;33m)\u001b[0m\u001b[1;33m)\u001b[0m\u001b[1;33m\u001b[0m\u001b[1;33m\u001b[0m\u001b[0m\n\u001b[0m",
      "\u001b[1;31mIndexError\u001b[0m: index 3 is out of bounds for axis 0 with size 3"
     ]
    }
   ],
   "source": [
    "i = 0\n",
    "print(len(probe_points[profile_start_numbers[i]:profile_start_numbers[i+1]]))\n",
    "i = 1\n",
    "print(len(probe_points[profile_start_numbers[i]:profile_start_numbers[i+1]]))"
   ]
  },
  {
   "cell_type": "code",
   "execution_count": 275,
   "id": "9c8ce5a3-9899-429d-8439-5d345072db56",
   "metadata": {},
   "outputs": [
    {
     "name": "stdout",
     "output_type": "stream",
     "text": [
      "0\n"
     ]
    }
   ],
   "source": [
    "i = 2\n",
    "print(len(probe_points[profile_start_numbers[i]:len(profile_start_numbers)]))"
   ]
  },
  {
   "cell_type": "code",
   "execution_count": 90,
   "id": "71dd7f18-6f41-4ab8-9d43-aaddb90a0023",
   "metadata": {},
   "outputs": [],
   "source": [
    "def rote_evaluator(rote_parameter_bundle):\n",
    "    \n",
    "    #This function exists for the genetic optimiser, it needs to be a function which takes a parameter bundle (for the rote transformer the parameters are only the profile concerned's number and image coordinates of its end points)\n",
    "    #and returns a number which is smaller for better results\n",
    "    rote_parameter_bundle = np.round(rote_parameter_bundle)\n",
    "    if isinstance(rote_parameter_bundle[0], np.float64):\n",
    "        profiles_in_question = [rote_parameter_bundle[0]]\n",
    "    else:\n",
    "        profiles_in_question = rote_parameter_bundle[0]\n",
    "    points_from_params = []\n",
    "    for i in range(int(((len(rote_parameter_bundle)-1))/2)):\n",
    "        point_from_params = (rote_parameter_bundle[(2*i)+1], rote_parameter_bundle[(2*i)+2]) #convert 1d params list into set of tuples representing end points\n",
    "        points_from_params.append(point_from_params)\n",
    "    points_from_params = np.array(points_from_params)\n",
    "    \n",
    "    #data_point_numbers = [profile_start_numbers[profile_in_question], profile_start_numbers[profile_in_question+1]]\n",
    "    #relevant_probe_points = probe_points[data_point_numbers[0]:data_point_numbers[1]]\n",
    "    placed_points = rote_transformer(points_from_params, profiles_in_question)\n",
    "    correl_score = correlation_scorer(placed_points, profiles_in_question)\n",
    "    \n",
    "    return 100*(1-correl_score)\n",
    "    "
   ]
  },
  {
   "cell_type": "code",
   "execution_count": 47,
   "id": "6097c65c-c7da-481d-9b5d-9a89543e6e54",
   "metadata": {},
   "outputs": [],
   "source": [
    "thing = [1]"
   ]
  },
  {
   "cell_type": "code",
   "execution_count": 48,
   "id": "1e5c4790-4016-401a-b9e7-6c71c1d24a09",
   "metadata": {},
   "outputs": [
    {
     "data": {
      "text/plain": [
       "1"
      ]
     },
     "execution_count": 48,
     "metadata": {},
     "output_type": "execute_result"
    }
   ],
   "source": []
  },
  {
   "cell_type": "code",
   "execution_count": null,
   "id": "5f25a28a-a6e1-4a03-8f5d-fd3b0d9ccf3a",
   "metadata": {},
   "outputs": [],
   "source": []
  },
  {
   "cell_type": "code",
   "execution_count": 28,
   "id": "623b9432-0265-4b14-8b45-1caf0c81e9eb",
   "metadata": {},
   "outputs": [
    {
     "data": {
      "text/plain": [
       "array([[11507. , 22382. ],\n",
       "       [11511.6, 22384. ],\n",
       "       [11516.2, 22385.9],\n",
       "       [11520.8, 22387.9],\n",
       "       [11525.4, 22389.9],\n",
       "       [11530. , 22391.9],\n",
       "       [11534.6, 22393.8],\n",
       "       [11539.2, 22395.8],\n",
       "       [11543.8, 22397.8],\n",
       "       [11548.4, 22399.7]])"
      ]
     },
     "execution_count": 28,
     "metadata": {},
     "output_type": "execute_result"
    }
   ],
   "source": [
    "probe_points[0:10]"
   ]
  },
  {
   "cell_type": "code",
   "execution_count": 89,
   "id": "5438815f-237a-48a4-8e9b-998dc3f3ac29",
   "metadata": {},
   "outputs": [],
   "source": [
    "def rote_calibrator(end_points, play):\n",
    "    \n",
    "    #Function which looks at different combinations of end points near where they are expected to be\n",
    "    end_values = end_points.flatten()\n",
    "    calibrated_end_points = []\n",
    "    \n",
    "    for i in range(int(len(end_points)/2)):\n",
    "        parameter_bounds = []\n",
    "        parameter_bounds.append([i-0.1,i+0.1])\n",
    "        for j in range(4):\n",
    "            parameter_bounds.append([end_values[(4*i)+j]-play,end_values[(4*i)+j]+play])\n",
    "\n",
    "        genetic_parameters = differential_evolution(rote_evaluator, parameter_bounds, seed = 7, maxiter=500, popsize=50).x #The seed is for the random number generator, setting it leads to stable results\n",
    "        genetic_parameters = np.round(genetic_parameters)\n",
    "        calibrated_end_points.append([genetic_parameters[1], genetic_parameters[2]])\n",
    "        calibrated_end_points.append([genetic_parameters[3], genetic_parameters[4]])\n",
    "        print(\"Just finished profile \", i, \"so far: \", calibrated_end_points)\n",
    "        print(\"This profile got this score: \", rote_evaluator(genetic_parameters))\n",
    "    \n",
    "    return calibrated_end_points, rote_evaluator(genetic_parameters)"
   ]
  },
  {
   "cell_type": "code",
   "execution_count": 152,
   "id": "8b4f2034-d840-4527-a033-1e6fdcde7ce7",
   "metadata": {},
   "outputs": [],
   "source": []
  },
  {
   "cell_type": "code",
   "execution_count": 158,
   "id": "97f7a274-f51b-4339-9c20-d84d7a2953fd",
   "metadata": {},
   "outputs": [],
   "source": [
    "correlation_scorer(probe_points_placed, do_all_profiles)"
   ]
  },
  {
   "cell_type": "code",
   "execution_count": 154,
   "id": "0adcccfc-6e94-4ee6-aeb8-894be8400019",
   "metadata": {},
   "outputs": [
    {
     "data": {
      "text/plain": [
       "0.395773850357447"
      ]
     },
     "execution_count": 154,
     "metadata": {},
     "output_type": "execute_result"
    }
   ],
   "source": [
    "correlation_scorer(probe_points_placed, do_all_profiles)"
   ]
  },
  {
   "cell_type": "code",
   "execution_count": null,
   "id": "1a3112ef-b5c1-4a9e-ac38-bf24390e8f07",
   "metadata": {},
   "outputs": [],
   "source": [
    "rote_calibrator(image_end_points, 200)"
   ]
  },
  {
   "cell_type": "code",
   "execution_count": 12,
   "id": "5b564ea4",
   "metadata": {},
   "outputs": [],
   "source": [
    "def analytic_calibrator(stage_point_1, stage_point_2, image_point_1, image_point_2):\n",
    "\n",
    "    #Transforms the stage coordinates to image coordinates based on exactly two points\n",
    "    \n",
    "    #Set these values\n",
    "\n",
    "    #for John1\n",
    "    stage_start = np.array(stage_point_1) #These can be any two points for which the stage coordinates are known\n",
    "    stage_end = np.array(stage_point_2) #In the form (x,y) which is probably technically suboptimal but is definitely easier to read\n",
    "    image_start = np.array(image_point_1) #These must be the same two points on the image\n",
    "    image_end = np.array(image_point_2)\n",
    "    \n",
    "    #Do not touch\n",
    "    \n",
    "    #Transformation we want is distinctly stage coordinates -> image coordinates\n",
    "    \n",
    "    #We do this in three steps, taking advantage of the knowledge that both coordinate systems are square grids\n",
    "    \n",
    "    stage_calibration_vector = stage_end - stage_start #Our goal is to transform this stage vector into the image vector while preserving the square-gridness\n",
    "    image_calibration_vector = image_end - image_start #This tranformation should then be able to be applied to other points \n",
    "    \n",
    "    stage_cal_length = np.sqrt(stage_calibration_vector[0]**2 + stage_calibration_vector[1]**2)\n",
    "    image_cal_length = np.sqrt(image_calibration_vector[0]**2 + image_calibration_vector[1]**2)\n",
    "    stage_cal_normalised = np.array([(stage_calibration_vector[0]/stage_cal_length),(stage_calibration_vector[1]/stage_cal_length)])\n",
    "    image_cal_normalised = np.array([(image_calibration_vector[0]/image_cal_length),(image_calibration_vector[1]/image_cal_length)])\n",
    "    stage_to_image_scale = image_cal_length/stage_cal_length\n",
    "    #print(stage_to_image_scale)\n",
    "    #print(stage_calibration_vector)\n",
    "    #print(image_calibration_vector)\n",
    "    \n",
    "    theta_from_cos = np.arccos((stage_cal_normalised[0]*image_cal_normalised[0]) + (stage_cal_normalised[1]*image_cal_normalised[1]))\n",
    "    #print(stage_cal_normalised)\n",
    "    #print(image_cal_normalised)\n",
    "    #print(theta_from_cos)\n",
    "    theta = np.pi + np.arcsin((image_cal_normalised[1]-stage_cal_normalised[1]*np.cos(theta_from_cos))/stage_cal_normalised[0]) #There definitely exists a better way to do this but it works\n",
    "    \n",
    "    return stage_to_image_scale, theta, image_start[0], image_start[1]\n",
    "    \n",
    "    \n",
    "def transformer(probe_points, stage_to_image_scale, theta, x_offset, y_offset):\n",
    "    \n",
    "    #probe_x_list = []\n",
    "    #probe_y_list = []\n",
    "    #for i in range(len(probe_points)):\n",
    "        #probe_x_list.append(probe_points[i][0])\n",
    "        #probe_y_list.append(probe_points[i][1])\n",
    "        \n",
    "    #Now onto the actual transformation\n",
    "    probe_x_centred = probe_points[:,0] - stage_calibration_points[0][0]\n",
    "    probe_y_centred = probe_points[:,1] - stage_calibration_points[0][1]\n",
    "    #print(probe_x_centred)\n",
    "    #plt.plot(probe_x_centred, probe_y_centred, 'r+')   \n",
    "    \n",
    "    probe_x_scaled = probe_x_centred * stage_to_image_scale\n",
    "    probe_y_scaled = probe_y_centred * stage_to_image_scale\n",
    "    \n",
    "    #plt.plot(probe_x_scaled, probe_y_scaled, 'r+')\n",
    "    \n",
    "    probe_x_rotated = probe_x_scaled*np.cos(theta) + probe_y_scaled*np.sin(theta)\n",
    "    probe_y_rotated = probe_x_scaled*np.sin(theta) - probe_y_scaled*np.cos(theta)\n",
    "    \n",
    "    #plt.plot(probe_x_rotated, probe_y_rotated, 'r+')\n",
    "    \n",
    "    probe_x_placed = np.round(probe_x_rotated) + np.round(x_offset)\n",
    "    probe_y_placed = np.round(probe_y_rotated) + np.round(y_offset)\n",
    "    \n",
    "    #plt.plot(probe_x_placed, probe_y_placed, 'r+')\n",
    "    \n",
    "    probe_points_placed = []\n",
    "    for i in range(len(probe_points)):\n",
    "        #probe_points_placed.append((probe_x_placed[i], probe_y_placed[i],probe_x_placed[i], probe_y_placed[i],probe_y_placed[i]))\n",
    "        probe_points_placed.append((probe_x_placed[i], probe_y_placed[i]))\n",
    "    probe_points_placed = np.array(probe_points_placed)    \n",
    "    \n",
    "    #plt.plot(probe_points_placed[:,0],probe_points_placed[:,1], 'r+')\n",
    "    \n",
    "    return probe_points_placed\n",
    "\n",
    "def shear_transformer(probe_points, stage_to_image_scale, theta, x_offset, y_offset, x_shear, y_shear):\n",
    "    \n",
    "    #probe_x_list = []\n",
    "    #probe_y_list = []\n",
    "    #for i in range(len(probe_points)):\n",
    "        #probe_x_list.append(probe_points[i][0])\n",
    "        #probe_y_list.append(probe_points[i][1])\n",
    "        \n",
    "    #Now onto the actual transformation\n",
    "    probe_x_centred = probe_points[:,0] - stage_calibration_points[0][0]\n",
    "    probe_y_centred = probe_points[:,1] - stage_calibration_points[0][1]\n",
    "    #print(probe_x_centred)\n",
    "    #plt.plot(probe_x_centred, probe_y_centred, 'r+')   \n",
    "    \n",
    "#    probe_x_sheared = probe_x_centred + shear*probe_y_centred\n",
    "#    probe_y_sheared = probe_y_centred + shear*probe_x_centred\n",
    "#    \n",
    "#    probe_x_scaled = probe_x_sheared * stage_to_image_scale\n",
    "#    probe_y_scaled = probe_y_sheared * stage_to_image_scale\n",
    "\n",
    "    probe_x_scaled = probe_x_centred * stage_to_image_scale\n",
    "    probe_y_scaled = probe_y_centred * stage_to_image_scale\n",
    "    \n",
    "    #plt.plot(probe_x_scaled, probe_y_scaled, 'r+')\n",
    "    \n",
    "    probe_x_rotated = probe_x_scaled*np.cos(theta) + probe_y_scaled*np.sin(theta)\n",
    "    probe_y_rotated = probe_x_scaled*np.sin(theta) - probe_y_scaled*np.cos(theta)\n",
    "    \n",
    "    probe_x_sheared = probe_x_rotated + x_shear*probe_y_rotated\n",
    "    probe_y_sheared = probe_y_rotated + y_shear*probe_x_rotated\n",
    "    \n",
    "    #plt.plot(probe_x_rotated, probe_y_rotated, 'r+')\n",
    "    \n",
    "#    probe_x_placed = np.round(probe_x_rotated) + np.round(x_offset)\n",
    "#    probe_y_placed = np.round(probe_y_rotated) + np.round(y_offset)\n",
    "\n",
    "    probe_x_placed = np.round(probe_x_sheared) + np.round(x_offset)\n",
    "    probe_y_placed = np.round(probe_y_sheared) + np.round(y_offset)\n",
    "\n",
    "    \n",
    "    #plt.plot(probe_x_placed, probe_y_placed, 'r+')\n",
    "    \n",
    "    probe_points_placed = []\n",
    "    for i in range(len(probe_points)):\n",
    "        #probe_points_placed.append((probe_x_placed[i], probe_y_placed[i],probe_x_placed[i], probe_y_placed[i],probe_y_placed[i]))\n",
    "        probe_points_placed.append((probe_x_placed[i], probe_y_placed[i]))\n",
    "    probe_points_placed = np.array(probe_points_placed)    \n",
    "    \n",
    "    #plt.plot(probe_points_placed[:,0],probe_points_placed[:,1], 'r+')\n",
    "    \n",
    "    return probe_points_placed\n"
   ]
  },
  {
   "cell_type": "code",
   "execution_count": 13,
   "id": "942dbc4b",
   "metadata": {},
   "outputs": [],
   "source": [
    "def transformer_for_opt(optimiser_points, stage_to_image_scale, theta, x_offset, y_offset):\n",
    "    \n",
    "    probe_x_list = []\n",
    "    probe_y_list = []\n",
    "    for i in range(int(len(optimiser_points)/2)):\n",
    "        probe_x_list.append(optimiser_points[2*i])\n",
    "        probe_y_list.append(optimiser_points[(2*i)+1])\n",
    "        \n",
    "    #Now onto the actual transformation\n",
    "    probe_x_centred = probe_x_list - stage_calibration_points[0][0]\n",
    "    probe_y_centred = probe_y_list - stage_calibration_points[0][1]\n",
    "    #print(probe_x_centred)\n",
    "    #plt.plot(probe_x_centred, probe_y_centred, 'r+')   \n",
    "    \n",
    "    probe_x_scaled = probe_x_centred * stage_to_image_scale\n",
    "    probe_y_scaled = probe_y_centred * stage_to_image_scale\n",
    "    \n",
    "    #plt.plot(probe_x_scaled, probe_y_scaled, 'r+')\n",
    "    \n",
    "    probe_x_rotated = probe_x_scaled*np.cos(theta) + probe_y_scaled*np.sin(theta)\n",
    "    probe_y_rotated = probe_x_scaled*np.sin(theta) - probe_y_scaled*np.cos(theta)\n",
    "    \n",
    "    #plt.plot(probe_x_rotated, probe_y_rotated, 'r+')\n",
    "    \n",
    "    probe_x_placed = np.round(probe_x_rotated) + x_offset\n",
    "    probe_y_placed = np.round(probe_y_rotated) + y_offset\n",
    "    \n",
    "    #plt.plot(probe_x_placed, probe_y_placed, 'r+')\n",
    "    \n",
    "    probe_points_placed = []\n",
    "    for i in range(int(len(optimiser_points)/2)):\n",
    "        #probe_points_placed.append((probe_x_placed[i], probe_y_placed[i],probe_x_placed[i], probe_y_placed[i],probe_y_placed[i]))\n",
    "        probe_points_placed.append(probe_x_placed[i])\n",
    "        probe_points_placed.append(probe_y_placed[i])\n",
    "    probe_points_placed = np.array(probe_points_placed)    \n",
    "    \n",
    "    #plt.plot(probe_points_placed[:,0],probe_points_placed[:,1], 'r+')\n",
    "    \n",
    "    return probe_points_placed\n",
    "\n",
    "def shear_transformer_for_opt(optimiser_points, stage_to_image_scale, theta, x_offset, y_offset, x_shear, y_shear):\n",
    "    \n",
    "    probe_x_list = []\n",
    "    probe_y_list = []\n",
    "    for i in range(int(len(optimiser_points)/2)):\n",
    "        probe_x_list.append(optimiser_points[2*i])\n",
    "        probe_y_list.append(optimiser_points[(2*i)+1])\n",
    "        \n",
    "    #Now onto the actual transformation\n",
    "    probe_x_centred = probe_x_list - stage_calibration_points[0][0]\n",
    "    probe_y_centred = probe_y_list - stage_calibration_points[0][1]\n",
    "    #print(probe_x_centred)\n",
    "    #plt.plot(probe_x_centred, probe_y_centred, 'r+')   \n",
    "    \n",
    "#    probe_x_sheared = probe_x_centred + shear*probe_y_centred\n",
    "#    probe_y_sheared = probe_y_centred + shear*probe_x_centred\n",
    "#    \n",
    "#    probe_x_scaled = probe_x_sheared * stage_to_image_scale\n",
    "#    probe_y_scaled = probe_y_sheared * stage_to_image_scale\n",
    "\n",
    "    probe_x_scaled = probe_x_centred * stage_to_image_scale\n",
    "    probe_y_scaled = probe_y_centred * stage_to_image_scale\n",
    "    \n",
    "    #plt.plot(probe_x_scaled, probe_y_scaled, 'r+')\n",
    "    \n",
    "    probe_x_rotated = probe_x_scaled*np.cos(theta) + probe_y_scaled*np.sin(theta)\n",
    "    probe_y_rotated = probe_x_scaled*np.sin(theta) - probe_y_scaled*np.cos(theta)\n",
    "    \n",
    "    probe_x_sheared = probe_x_rotated + x_shear*probe_y_rotated\n",
    "    probe_y_sheared = probe_y_rotated + y_shear*probe_x_rotated\n",
    "    \n",
    "    #plt.plot(probe_x_rotated, probe_y_rotated, 'r+')\n",
    "    \n",
    "#    probe_x_placed = np.round(probe_x_rotated) + np.round(x_offset)\n",
    "#    probe_y_placed = np.round(probe_y_rotated) + np.round(y_offset)\n",
    "\n",
    "    probe_x_placed = np.round(probe_x_sheared) + np.round(x_offset)\n",
    "    probe_y_placed = np.round(probe_y_sheared) + np.round(y_offset)\n",
    "    \n",
    "    #plt.plot(probe_x_placed, probe_y_placed, 'r+')\n",
    "    \n",
    "    probe_points_placed = []\n",
    "    for i in range(int(len(optimiser_points)/2)):\n",
    "        #probe_points_placed.append((probe_x_placed[i], probe_y_placed[i],probe_x_placed[i], probe_y_placed[i],probe_y_placed[i]))\n",
    "        probe_points_placed.append(probe_x_placed[i])\n",
    "        probe_points_placed.append(probe_y_placed[i])\n",
    "    probe_points_placed = np.array(probe_points_placed)    \n",
    "    \n",
    "    #plt.plot(probe_points_placed[:,0],probe_points_placed[:,1], 'r+')\n",
    "    \n",
    "    return probe_points_placed"
   ]
  },
  {
   "cell_type": "code",
   "execution_count": 14,
   "id": "b864154d",
   "metadata": {},
   "outputs": [],
   "source": [
    "#probe_points[:,0]\n",
    "#transformer(probe_points, analytic_parameter_bundle[0], analytic_parameter_bundle[1], analytic_parameter_bundle[2], analytic_parameter_bundle[3])"
   ]
  },
  {
   "cell_type": "code",
   "execution_count": 15,
   "id": "581a48dc",
   "metadata": {},
   "outputs": [],
   "source": [
    "def statistical_calibrator():\n",
    "    \n",
    "    #Transforms the stage coordinates to image coordinates with the same methodology as above\n",
    "    #but finds the parameters for the transformation statistically using as many points as have been supplied\n",
    "    \n",
    "\n",
    "    \n",
    "    \n",
    "    #Find starting parameters, since I already have an approximate method for doing this, I may as well start the search off in very nearly the \"right place\" and search a relatively narrow range\n",
    "    \n",
    "    analytic_parameter_bundle = analytic_calibrator(stage_calibration_points[0], stage_calibration_points[1], image_calibration_points[0], image_calibration_points[1])\n",
    "    max_stage_to_image_scale = analytic_parameter_bundle[0]*2 #This should be easily large enough in each direction and scales\n",
    "    min_stage_to_image_scale = analytic_parameter_bundle[0]*-2 #in case in future this is used in a context with a very different scale factor\n",
    "    max_theta = analytic_parameter_bundle[1] + (np.pi/6) #Sixty degrees of play ought to be enough\n",
    "    min_theta = analytic_parameter_bundle[1] - (np.pi/6)\n",
    "    #max_x_centring = (analytic_parameter_bundle[2]*1.1) + 100*np.sign(analytic_parameter_bundle[2]) #This is less obvious\n",
    "    #min_x_centring = (analytic_parameter_bundle[2]*0.9) - 100*np.sign(analytic_parameter_bundle[2]) #but should work for most cases\n",
    "    #max_y_centring = (analytic_parameter_bundle[3]*1.1) + 100*np.sign(analytic_parameter_bundle[3])\n",
    "    #min_y_centring = (analytic_parameter_bundle[3]*0.9) - 100*np.sign(analytic_parameter_bundle[3])\n",
    "    max_x_offset = (analytic_parameter_bundle[2]*1.1) + 100*np.sign(analytic_parameter_bundle[2]) #These ranges are quite large\n",
    "    min_x_offset = (analytic_parameter_bundle[2]*0.9) - 100*np.sign(analytic_parameter_bundle[2]) #ultimately larger is better\n",
    "    max_y_offset = (analytic_parameter_bundle[3]*1.1) + 100*np.sign(analytic_parameter_bundle[3]) #so long as it still runs in a \n",
    "    min_y_offset = (analytic_parameter_bundle[3]*0.9) - 100*np.sign(analytic_parameter_bundle[3]) #reasonable time\n",
    "    \n",
    "    parameter_bounds = []\n",
    "    parameter_bounds.append([min_stage_to_image_scale,max_stage_to_image_scale])\n",
    "    parameter_bounds.append([min_theta,max_theta])\n",
    "    #parameter_bounds.append([min_x_centring,max_x_centring])\n",
    "    #parameter_bounds.append([min_y_centring,max_y_centring])\n",
    "    parameter_bounds.append([min_x_offset,max_x_offset])\n",
    "    parameter_bounds.append([min_y_offset,max_y_offset])\n",
    "    \n",
    "    genetic_parameters = differential_evolution(mean_of_squared_error, parameter_bounds, seed = 7, maxiter=1000, popsize=100).x #The seed is for the random number generator, setting it leads to stable results\n",
    "    \n",
    "    fitted_parameters, pcov = curve_fit(transformer_for_opt, stage_cal_points_for_opt, image_cal_points_for_opt, genetic_parameters)\n",
    "    return genetic_parameters, fitted_parameters"
   ]
  },
  {
   "cell_type": "code",
   "execution_count": 16,
   "id": "ee71487f-3241-4d7b-b667-f637a4420843",
   "metadata": {},
   "outputs": [],
   "source": [
    "def shear_statistical_calibrator():\n",
    "    \n",
    "    #Transforms the stage coordinates to image coordinates with the same methodology as above\n",
    "    #but finds the parameters for the transformation statistically using as many points as have been supplied\n",
    "    \n",
    "\n",
    "    \n",
    "    \n",
    "    #Find starting parameters, since I already have an approximate method for doing this, I may as well start the search off in very nearly the \"right place\" and search a relatively narrow range\n",
    "    \n",
    "    analytic_parameter_bundle = analytic_calibrator(stage_calibration_points[0], stage_calibration_points[1], image_calibration_points[0], image_calibration_points[1])\n",
    "    max_stage_to_image_scale = analytic_parameter_bundle[0]*2 #This should be easily large enough in each direction and scales\n",
    "    min_stage_to_image_scale = analytic_parameter_bundle[0]*-2 #in case in future this is used in a context with a very different scale factor\n",
    "    max_theta = analytic_parameter_bundle[1] + (np.pi/6) #Sixty degrees of play ought to be enough\n",
    "    min_theta = analytic_parameter_bundle[1] - (np.pi/6)\n",
    "    #max_x_centring = (analytic_parameter_bundle[2]*1.1) + 100*np.sign(analytic_parameter_bundle[2]) #This is less obvious\n",
    "    #min_x_centring = (analytic_parameter_bundle[2]*0.9) - 100*np.sign(analytic_parameter_bundle[2]) #but should work for most cases\n",
    "    #max_y_centring = (analytic_parameter_bundle[3]*1.1) + 100*np.sign(analytic_parameter_bundle[3])\n",
    "    #min_y_centring = (analytic_parameter_bundle[3]*0.9) - 100*np.sign(analytic_parameter_bundle[3])\n",
    "    max_x_offset = (analytic_parameter_bundle[2]*1.1) + 100*np.sign(analytic_parameter_bundle[2]) #These ranges are quite large\n",
    "    min_x_offset = (analytic_parameter_bundle[2]*0.9) - 100*np.sign(analytic_parameter_bundle[2]) #ultimately larger is better\n",
    "    max_y_offset = (analytic_parameter_bundle[3]*1.1) + 100*np.sign(analytic_parameter_bundle[3]) #so long as it still runs in a \n",
    "    min_y_offset = (analytic_parameter_bundle[3]*0.9) - 100*np.sign(analytic_parameter_bundle[3]) #reasonable time\n",
    "    max_x_shear = 0.5 #This should be plenty enough even for particularly egregious miss-positionings\n",
    "    min_x_shear = -0.5 \n",
    "    max_y_shear = 0.5 #This should be plenty enough even for particularly egregious miss-positionings\n",
    "    min_y_shear = -0.5 \n",
    "    \n",
    "    parameter_bounds = []\n",
    "    parameter_bounds.append([min_stage_to_image_scale,max_stage_to_image_scale])\n",
    "    parameter_bounds.append([min_theta,max_theta])\n",
    "    #parameter_bounds.append([min_x_centring,max_x_centring])\n",
    "    #parameter_bounds.append([min_y_centring,max_y_centring])\n",
    "    parameter_bounds.append([min_x_offset,max_x_offset])\n",
    "    parameter_bounds.append([min_y_offset,max_y_offset])\n",
    "    parameter_bounds.append([min_x_shear,max_x_shear])\n",
    "    parameter_bounds.append([min_y_shear,max_y_shear])\n",
    "    \n",
    "    shear_genetic_parameters = differential_evolution(mean_of_squared_error, parameter_bounds, seed = 7, maxiter=1000, popsize=100).x #The seed is for the random number generator, setting it leads to stable results\n",
    "    \n",
    "    shear_fitted_parameters, pcov = curve_fit(shear_transformer_for_opt, stage_cal_points_for_opt, image_cal_points_for_opt, shear_genetic_parameters)\n",
    "    return shear_genetic_parameters, shear_fitted_parameters"
   ]
  },
  {
   "cell_type": "code",
   "execution_count": 17,
   "id": "fd6f1e0e-5749-4410-9517-2253de9da24d",
   "metadata": {},
   "outputs": [],
   "source": [
    "#for i in range(len(probe_points_placed[:,0])):\n",
    "#    print(probe_points_placed[i,1])"
   ]
  },
  {
   "cell_type": "code",
   "execution_count": 18,
   "id": "aaf73e6d",
   "metadata": {},
   "outputs": [],
   "source": [
    "def mean_of_squared_error(parameter_bundle):\n",
    "    \n",
    "    #Computes the mean squared error of position of the calibration points for a given transformer parameter bundle\n",
    "    \n",
    "    #print(parameter_bundle)\n",
    "    if len(parameter_bundle) == 4:\n",
    "        image_points = transformer(stage_calibration_points, parameter_bundle[0], parameter_bundle[1], parameter_bundle[2], parameter_bundle[3])\n",
    "    elif len(parameter_bundle) == 6:\n",
    "        image_points = shear_transformer(stage_calibration_points, parameter_bundle[0], parameter_bundle[1], parameter_bundle[2], parameter_bundle[3],parameter_bundle[4], parameter_bundle[5])\n",
    "    total = 0\n",
    "    #print(image_points)\n",
    "    for i in range(len(image_points)):\n",
    "        total = total + ((image_points[i][0]-image_calibration_points[i][0])**2) + ((image_points[i][1]-image_calibration_points[i][1])**2)\n",
    "        #print(((image_points[i][0]-image_calibration_points[i][0])**2) + ((image_points[i][1]-image_calibration_points[i][1])**2))\n",
    "    return (total/len(image_points))"
   ]
  },
  {
   "cell_type": "code",
   "execution_count": 88,
   "id": "8361215c-7e78-4e58-869c-73cef20c3a35",
   "metadata": {},
   "outputs": [],
   "source": [
    "def correlation_scorer(probe_points_placed, profiles_in_question):\n",
    "    search_size = 3\n",
    "    relevant_intensities = []\n",
    "    for i in range(len(probe_points_placed)):\n",
    "        #print(probe_points_placed[i][0],' ',probe_points_placed[i][1])\n",
    "        relevant_intensities.append(get_brightness(int(probe_points_placed[i][0]),int(probe_points_placed[i][1]), search_size))\n",
    "    relevant_intensities = np.array(relevant_intensities)\n",
    "    relevant_intensities = relevant_intensities.flatten()\n",
    "    relevant_anorthites = []\n",
    "    for i in range(len(profiles_in_question)):\n",
    "        j = int(profiles_in_question[i])\n",
    "        if j == len(profile_start_numbers)-1:\n",
    "            relevant_anorthites.extend(np.array(anorthite_list[profile_start_numbers[j]:len(probe_points)]))\n",
    "        else:\n",
    "            relevant_anorthites.extend(np.array(anorthite_list[profile_start_numbers[j]:profile_start_numbers[j+1]]))\n",
    "    \n",
    "    relevant_anorthites = np.array(relevant_anorthites)\n",
    "    relevant_anorthites =  relevant_anorthites.flatten()\n",
    "    #print(relevant_anorthites.shape)\n",
    "    #print(relevant_intensities.shape)\n",
    "    #print(relevant_anorthites)\n",
    "    #print(relevant_intensities)\n",
    "    correlation_thing = np.transpose(np.column_stack((relevant_intensities, relevant_anorthites)))\n",
    "    #print(correlation_thing.shape)\n",
    "    cross_correlation = np.corrcoef(correlation_thing)[0,1]\n",
    "    #print(cross_correlation)\n",
    "    return cross_correlation"
   ]
  },
  {
   "cell_type": "code",
   "execution_count": 20,
   "id": "7feefcd9-e5b9-404e-9b55-40bc87124340",
   "metadata": {},
   "outputs": [],
   "source": [
    "def full_fit_scorer(probe_points_placed, profiles_in_question):\n",
    "    search_size = 2\n",
    "    relevant_intensities = []\n",
    "    for i in range(len(probe_points_placed)):\n",
    "        #print(probe_points_placed[i][0],' ',probe_points_placed[i][1])\n",
    "        relevant_intensities.append(get_brightness(int(probe_points_placed[i][0]),int(probe_points_placed[i][1]), search_size))\n",
    "    relevant_intensities = np.array(relevant_intensities)\n",
    "    relevant_intensities = relevant_intensities.flatten()\n",
    "    relevant_anorthites = []\n",
    "    relevant_x = []\n",
    "    relevant_y = []\n",
    "    for i in range(len(profiles_in_question)):\n",
    "        j = int(profiles_in_question[i])\n",
    "        if j == len(profile_start_numbers)-1:\n",
    "            relevant_anorthites.extend(np.array(anorthite_list[profile_start_numbers[j]:len(probe_points)]))\n",
    "            relevant_x.extend(np.array(probe_points_placed[0, profile_start_numbers[j]:len(probe_points)]))\n",
    "            relevant_y.extend(np.array(probe_points_placed[1, profile_start_numbers[j]:len(probe_points)]))\n",
    "        else:\n",
    "            relevant_anorthites.extend(np.array(anorthite_list[profile_start_numbers[j]:profile_start_numbers[j+1]]))\n",
    "            relevant_x.extend(np.array(probe_points_placed[0, profile_start_numbers[j]:profile_start_numbers[j+1]]))\n",
    "            relevant_y.extend(np.array(probe_points_placed[1, profile_start_numbers[j]:profile_start_numbers[j+1]]))\n",
    "    relevant_anorthites = np.array(relevant_anorthites)\n",
    "    relevant_anorthites =  relevant_anorthites.flatten()\n",
    "    relevant_x = np.array(relevant_x)\n",
    "    relevant_x =  relevant_x.flatten()\n",
    "    relevant_y = np.array(relevant_y)\n",
    "    relevant_y =  relevant_y.flatten()\n",
    "    "
   ]
  },
  {
   "cell_type": "code",
   "execution_count": null,
   "id": "c50d0dbd-e914-4e6f-be1b-b8b43b7d36d3",
   "metadata": {},
   "outputs": [],
   "source": [
    "parameter_bundle = curvefit_parameter_bundle\n",
    "probe_points_placed = transformer(probe_points, parameter_bundle[0], parameter_bundle[1], parameter_bundle[2], parameter_bundle[3])\n",
    "correlation_scorer(probe_points_placed)\n",
    "shear_parameter_bundle = shear_curvefit_parameter_bundle\n",
    "probe_points_placed = shear_transformer(probe_points, shear_parameter_bundle[0], shear_parameter_bundle[1], shear_parameter_bundle[2], shear_parameter_bundle[3], shear_parameter_bundle[4], shear_parameter_bundle[5])\n",
    "correlation_scorer(probe_points_placed)\n",
    "probe_points_placed = rote_transformer(probe_points, image_end_points, profile_start_numbers) \n",
    "correlation_scorer(probe_points_placed)\n"
   ]
  },
  {
   "cell_type": "code",
   "execution_count": 311,
   "id": "0f4b5153-ccbb-453b-b572-40ee477e92ab",
   "metadata": {},
   "outputs": [
    {
     "data": {
      "text/plain": [
       "array([[1., 1.],\n",
       "       [1., 1.]])"
      ]
     },
     "execution_count": 311,
     "metadata": {},
     "output_type": "execute_result"
    }
   ],
   "source": [
    "correlation_thing = np.transpose(np.column_stack((intensity_array, intensity_array)))\n",
    "np.corrcoef(correlation_thing)"
   ]
  },
  {
   "cell_type": "code",
   "execution_count": 12,
   "id": "cebe3d16",
   "metadata": {},
   "outputs": [
    {
     "ename": "NameError",
     "evalue": "name 'analytic_calibrator' is not defined",
     "output_type": "error",
     "traceback": [
      "\u001b[1;31m---------------------------------------------------------------------------\u001b[0m",
      "\u001b[1;31mNameError\u001b[0m                                 Traceback (most recent call last)",
      "\u001b[1;32m~\\AppData\\Local\\Temp/ipykernel_16600/4167454890.py\u001b[0m in \u001b[0;36m<module>\u001b[1;34m\u001b[0m\n\u001b[0;32m      2\u001b[0m     \u001b[1;32mfor\u001b[0m \u001b[0mj\u001b[0m \u001b[1;32min\u001b[0m \u001b[0mrange\u001b[0m\u001b[1;33m(\u001b[0m\u001b[0mlen\u001b[0m\u001b[1;33m(\u001b[0m\u001b[0mstage_calibration_points\u001b[0m\u001b[1;33m)\u001b[0m\u001b[1;33m)\u001b[0m\u001b[1;33m:\u001b[0m\u001b[1;33m\u001b[0m\u001b[1;33m\u001b[0m\u001b[0m\n\u001b[0;32m      3\u001b[0m         \u001b[1;32mif\u001b[0m \u001b[0mi\u001b[0m \u001b[1;33m!=\u001b[0m \u001b[0mj\u001b[0m\u001b[1;33m:\u001b[0m\u001b[1;33m\u001b[0m\u001b[1;33m\u001b[0m\u001b[0m\n\u001b[1;32m----> 4\u001b[1;33m             \u001b[0manalytic_parameter_bundle\u001b[0m \u001b[1;33m=\u001b[0m \u001b[0manalytic_calibrator\u001b[0m\u001b[1;33m(\u001b[0m\u001b[0mstage_calibration_points\u001b[0m\u001b[1;33m[\u001b[0m\u001b[0mi\u001b[0m\u001b[1;33m]\u001b[0m\u001b[1;33m,\u001b[0m \u001b[0mstage_calibration_points\u001b[0m\u001b[1;33m[\u001b[0m\u001b[0mj\u001b[0m\u001b[1;33m]\u001b[0m\u001b[1;33m,\u001b[0m \u001b[0mimage_calibration_points\u001b[0m\u001b[1;33m[\u001b[0m\u001b[0mi\u001b[0m\u001b[1;33m]\u001b[0m\u001b[1;33m,\u001b[0m \u001b[0mimage_calibration_points\u001b[0m\u001b[1;33m[\u001b[0m\u001b[0mj\u001b[0m\u001b[1;33m]\u001b[0m\u001b[1;33m)\u001b[0m\u001b[1;33m\u001b[0m\u001b[1;33m\u001b[0m\u001b[0m\n\u001b[0m\u001b[0;32m      5\u001b[0m             \u001b[0mprint\u001b[0m\u001b[1;33m(\u001b[0m\u001b[0manalytic_parameter_bundle\u001b[0m\u001b[1;33m)\u001b[0m\u001b[1;33m\u001b[0m\u001b[1;33m\u001b[0m\u001b[0m\n\u001b[0;32m      6\u001b[0m             \u001b[0mprint\u001b[0m\u001b[1;33m(\u001b[0m\u001b[0msum_of_squared_error\u001b[0m\u001b[1;33m(\u001b[0m\u001b[0manalytic_parameter_bundle\u001b[0m\u001b[1;33m)\u001b[0m\u001b[1;33m)\u001b[0m\u001b[1;33m\u001b[0m\u001b[1;33m\u001b[0m\u001b[0m\n",
      "\u001b[1;31mNameError\u001b[0m: name 'analytic_calibrator' is not defined"
     ]
    }
   ],
   "source": [
    "for i in range(len(stage_calibration_points)):\n",
    "    for j in range(len(stage_calibration_points)):\n",
    "        if i != j:\n",
    "            analytic_parameter_bundle = analytic_calibrator(stage_calibration_points[i], stage_calibration_points[j], image_calibration_points[i], image_calibration_points[j])\n",
    "            print(analytic_parameter_bundle)\n",
    "            print(sum_of_squared_error(analytic_parameter_bundle))"
   ]
  },
  {
   "cell_type": "code",
   "execution_count": 18,
   "id": "a4aba8c2",
   "metadata": {},
   "outputs": [
    {
     "data": {
      "text/plain": [
       "13751.25"
      ]
     },
     "execution_count": 18,
     "metadata": {},
     "output_type": "execute_result"
    }
   ],
   "source": [
    "hand_parameters = np.array((0.77, 2.5, 7000, 8300))\n",
    "sum_of_squared_error(hand_parameters)"
   ]
  },
  {
   "cell_type": "code",
   "execution_count": 42,
   "id": "730e3b80",
   "metadata": {},
   "outputs": [
    {
     "name": "stderr",
     "output_type": "stream",
     "text": [
      "C:\\Users\\rwfbl\\anaconda3\\lib\\site-packages\\scipy\\optimize\\minpack.py:833: OptimizeWarning: Covariance of the parameters could not be estimated\n",
      "  warnings.warn('Covariance of the parameters could not be estimated',\n"
     ]
    },
    {
     "name": "stdout",
     "output_type": "stream",
     "text": [
      "(0.7842000987543746, 2.4854150249494142, 7105, 8468)\n",
      "29874.6\n",
      "[7.80749866e-01 2.50513644e+00 7.11354869e+03 8.46305544e+03]\n",
      "962.8\n",
      "[7.80749866e-01 2.50513644e+00 7.11380000e+03 8.46200000e+03]\n",
      "961.8\n"
     ]
    }
   ],
   "source": [
    "analytic_parameter_bundle = analytic_calibrator(stage_calibration_points[0], stage_calibration_points[1], image_calibration_points[0], image_calibration_points[1])\n",
    "genetic_parameter_bundle = statistical_calibrator()[0]\n",
    "curvefit_parameter_bundle = statistical_calibrator()[1]\n",
    "print(analytic_parameter_bundle)\n",
    "print(mean_of_squared_error(analytic_parameter_bundle))\n",
    "print(genetic_parameter_bundle)\n",
    "print(mean_of_squared_error(genetic_parameter_bundle))\n",
    "print(curvefit_parameter_bundle)\n",
    "print(mean_of_squared_error(curvefit_parameter_bundle))"
   ]
  },
  {
   "cell_type": "code",
   "execution_count": 43,
   "id": "121a40fd",
   "metadata": {},
   "outputs": [],
   "source": [
    "shear_genetic_parameter_bundle, shear_curvefit_parameter_bundle = shear_statistical_calibrator()"
   ]
  },
  {
   "cell_type": "code",
   "execution_count": 44,
   "id": "29991353-f656-4353-9bdb-235aefea5902",
   "metadata": {},
   "outputs": [
    {
     "name": "stdout",
     "output_type": "stream",
     "text": [
      "[ 7.68878838e-01  2.34457257e+00  7.11633433e+03  8.47068554e+03\n",
      " -1.59415255e-01  1.66634650e-01]\n",
      "918.2\n",
      "[ 7.68878838e-01  2.34457257e+00  7.11633433e+03  8.47068554e+03\n",
      " -1.59415255e-01  1.66634650e-01]\n",
      "918.2\n"
     ]
    }
   ],
   "source": [
    "print(shear_genetic_parameter_bundle)\n",
    "print(mean_of_squared_error(shear_genetic_parameter_bundle))\n",
    "print(shear_curvefit_parameter_bundle)\n",
    "print(mean_of_squared_error(shear_curvefit_parameter_bundle))"
   ]
  },
  {
   "cell_type": "code",
   "execution_count": 45,
   "id": "46024844-9d6e-492c-b8b5-9f63a9b36a66",
   "metadata": {},
   "outputs": [
    {
     "ename": "TypeError",
     "evalue": "shear_transformer() missing 1 required positional argument: 'y_shear'",
     "output_type": "error",
     "traceback": [
      "\u001b[1;31m---------------------------------------------------------------------------\u001b[0m",
      "\u001b[1;31mTypeError\u001b[0m                                 Traceback (most recent call last)",
      "\u001b[1;32m~\\AppData\\Local\\Temp/ipykernel_18948/939563807.py\u001b[0m in \u001b[0;36m<module>\u001b[1;34m\u001b[0m\n\u001b[1;32m----> 1\u001b[1;33m \u001b[0mshear_placed\u001b[0m \u001b[1;33m=\u001b[0m \u001b[0mshear_transformer\u001b[0m\u001b[1;33m(\u001b[0m\u001b[0mprobe_points\u001b[0m\u001b[1;33m,\u001b[0m \u001b[0mshear_genetic_parameter_bundle\u001b[0m\u001b[1;33m[\u001b[0m\u001b[1;36m0\u001b[0m\u001b[1;33m]\u001b[0m\u001b[1;33m,\u001b[0m \u001b[0mshear_genetic_parameter_bundle\u001b[0m\u001b[1;33m[\u001b[0m\u001b[1;36m1\u001b[0m\u001b[1;33m]\u001b[0m\u001b[1;33m,\u001b[0m \u001b[0mshear_genetic_parameter_bundle\u001b[0m\u001b[1;33m[\u001b[0m\u001b[1;36m2\u001b[0m\u001b[1;33m]\u001b[0m\u001b[1;33m,\u001b[0m \u001b[0mshear_genetic_parameter_bundle\u001b[0m\u001b[1;33m[\u001b[0m\u001b[1;36m3\u001b[0m\u001b[1;33m]\u001b[0m\u001b[1;33m,\u001b[0m \u001b[0mshear_genetic_parameter_bundle\u001b[0m\u001b[1;33m[\u001b[0m\u001b[1;36m4\u001b[0m\u001b[1;33m]\u001b[0m\u001b[1;33m)\u001b[0m\u001b[1;33m\u001b[0m\u001b[1;33m\u001b[0m\u001b[0m\n\u001b[0m\u001b[0;32m      2\u001b[0m \u001b[0mstage_profile_1\u001b[0m \u001b[1;33m=\u001b[0m \u001b[0mstage_calibration_points\u001b[0m\u001b[1;33m[\u001b[0m\u001b[1;36m1\u001b[0m\u001b[1;33m]\u001b[0m\u001b[1;33m-\u001b[0m\u001b[0mstage_calibration_points\u001b[0m\u001b[1;33m[\u001b[0m\u001b[1;36m0\u001b[0m\u001b[1;33m]\u001b[0m\u001b[1;33m\u001b[0m\u001b[1;33m\u001b[0m\u001b[0m\n\u001b[0;32m      3\u001b[0m \u001b[0mstage_profile_2\u001b[0m \u001b[1;33m=\u001b[0m \u001b[0mstage_calibration_points\u001b[0m\u001b[1;33m[\u001b[0m\u001b[1;36m3\u001b[0m\u001b[1;33m]\u001b[0m\u001b[1;33m-\u001b[0m\u001b[0mstage_calibration_points\u001b[0m\u001b[1;33m[\u001b[0m\u001b[1;36m2\u001b[0m\u001b[1;33m]\u001b[0m\u001b[1;33m\u001b[0m\u001b[1;33m\u001b[0m\u001b[0m\n\u001b[0;32m      4\u001b[0m \u001b[0mstage_angle\u001b[0m \u001b[1;33m=\u001b[0m \u001b[0mnp\u001b[0m\u001b[1;33m.\u001b[0m\u001b[0marccos\u001b[0m\u001b[1;33m(\u001b[0m\u001b[0mnp\u001b[0m\u001b[1;33m.\u001b[0m\u001b[0mdot\u001b[0m\u001b[1;33m(\u001b[0m\u001b[0mstage_profile_1\u001b[0m\u001b[1;33m,\u001b[0m \u001b[0mstage_profile_2\u001b[0m\u001b[1;33m)\u001b[0m\u001b[1;33m/\u001b[0m\u001b[1;33m(\u001b[0m\u001b[0mnp\u001b[0m\u001b[1;33m.\u001b[0m\u001b[0mlinalg\u001b[0m\u001b[1;33m.\u001b[0m\u001b[0mnorm\u001b[0m\u001b[1;33m(\u001b[0m\u001b[0mstage_profile_1\u001b[0m\u001b[1;33m)\u001b[0m\u001b[1;33m*\u001b[0m\u001b[0mnp\u001b[0m\u001b[1;33m.\u001b[0m\u001b[0mlinalg\u001b[0m\u001b[1;33m.\u001b[0m\u001b[0mnorm\u001b[0m\u001b[1;33m(\u001b[0m\u001b[0mstage_profile_1\u001b[0m\u001b[1;33m)\u001b[0m\u001b[1;33m)\u001b[0m\u001b[1;33m)\u001b[0m\u001b[1;33m\u001b[0m\u001b[1;33m\u001b[0m\u001b[0m\n\u001b[0;32m      5\u001b[0m \u001b[0mprint\u001b[0m\u001b[1;33m(\u001b[0m\u001b[0mstage_angle\u001b[0m\u001b[1;33m)\u001b[0m\u001b[1;33m\u001b[0m\u001b[1;33m\u001b[0m\u001b[0m\n",
      "\u001b[1;31mTypeError\u001b[0m: shear_transformer() missing 1 required positional argument: 'y_shear'"
     ]
    }
   ],
   "source": [
    "shear_placed = shear_transformer(probe_points, shear_genetic_parameter_bundle[0], shear_genetic_parameter_bundle[1], shear_genetic_parameter_bundle[2], shear_genetic_parameter_bundle[3], shear_genetic_parameter_bundle[4])\n",
    "stage_profile_1 = stage_calibration_points[1]-stage_calibration_points[0]\n",
    "stage_profile_2 = stage_calibration_points[3]-stage_calibration_points[2]\n",
    "stage_angle = np.arccos(np.dot(stage_profile_1, stage_profile_2)/(np.linalg.norm(stage_profile_1)*np.linalg.norm(stage_profile_1)))\n",
    "print(stage_angle)\n",
    "image_profile_1 = image_calibration_points[1]-image_calibration_points[0]\n",
    "image_profile_2 = image_calibration_points[3]-image_calibration_points[2]\n",
    "image_angle = np.arccos(np.dot(image_profile_1, image_profile_2)/(np.linalg.norm(image_profile_1)*np.linalg.norm(image_profile_1)))\n",
    "print(image_angle)\n",
    "sheared_profile_1 =shear_placed[65]-shear_placed[155]\n",
    "sheared_profile_2 = shear_placed[165]-shear_placed[255]\n",
    "sheared_angle = np.arccos(np.dot(sheared_profile_1, sheared_profile_2)/(np.linalg.norm(sheared_profile_1)*np.linalg.norm(sheared_profile_1)))\n",
    "print(sheared_angle)\n"
   ]
  },
  {
   "cell_type": "code",
   "execution_count": 23,
   "id": "61437c36",
   "metadata": {},
   "outputs": [
    {
     "ename": "NameError",
     "evalue": "name 'genetic_parameter_bundle' is not defined",
     "output_type": "error",
     "traceback": [
      "\u001b[1;31m---------------------------------------------------------------------------\u001b[0m",
      "\u001b[1;31mNameError\u001b[0m                                 Traceback (most recent call last)",
      "\u001b[1;32m~\\AppData\\Local\\Temp/ipykernel_9632/3011754263.py\u001b[0m in \u001b[0;36m<module>\u001b[1;34m\u001b[0m\n\u001b[1;32m----> 1\u001b[1;33m \u001b[0mgenetic_parameter_bundle\u001b[0m \u001b[1;33m=\u001b[0m \u001b[0mstatistical_calibrator\u001b[0m\u001b[1;33m(\u001b[0m\u001b[1;33m)\u001b[0m\u001b[1;33m\u001b[0m\u001b[1;33m\u001b[0m\u001b[0m\n\u001b[0m\u001b[0;32m      2\u001b[0m \u001b[0mprint\u001b[0m\u001b[1;33m(\u001b[0m\u001b[0msum_of_squared_error\u001b[0m\u001b[1;33m(\u001b[0m\u001b[0mgenetic_parameter_bundle\u001b[0m\u001b[1;33m)\u001b[0m\u001b[1;33m)\u001b[0m\u001b[1;33m\u001b[0m\u001b[1;33m\u001b[0m\u001b[0m\n\u001b[0;32m      3\u001b[0m \u001b[1;33m\u001b[0m\u001b[0m\n\u001b[0;32m      4\u001b[0m \u001b[0mprint\u001b[0m\u001b[1;33m(\u001b[0m\u001b[0msum_of_squared_error\u001b[0m\u001b[1;33m(\u001b[0m\u001b[0mfitted_parameters\u001b[0m\u001b[1;33m)\u001b[0m\u001b[1;33m)\u001b[0m\u001b[1;33m\u001b[0m\u001b[1;33m\u001b[0m\u001b[0m\n\u001b[0;32m      5\u001b[0m \u001b[0mprint\u001b[0m\u001b[1;33m(\u001b[0m\u001b[0mfitted_parameters\u001b[0m\u001b[1;33m)\u001b[0m\u001b[1;33m\u001b[0m\u001b[1;33m\u001b[0m\u001b[0m\n",
      "\u001b[1;32m~\\AppData\\Local\\Temp/ipykernel_9632/320559748.py\u001b[0m in \u001b[0;36mstatistical_calibrator\u001b[1;34m()\u001b[0m\n\u001b[0;32m     33\u001b[0m     \u001b[0mgenetic_parameters\u001b[0m \u001b[1;33m=\u001b[0m \u001b[0mdifferential_evolution\u001b[0m\u001b[1;33m(\u001b[0m\u001b[0msum_of_squared_error\u001b[0m\u001b[1;33m,\u001b[0m \u001b[0mparameter_bounds\u001b[0m\u001b[1;33m,\u001b[0m \u001b[0mseed\u001b[0m \u001b[1;33m=\u001b[0m \u001b[1;36m7\u001b[0m\u001b[1;33m,\u001b[0m \u001b[0mmaxiter\u001b[0m\u001b[1;33m=\u001b[0m\u001b[1;36m1000\u001b[0m\u001b[1;33m,\u001b[0m \u001b[0mpopsize\u001b[0m\u001b[1;33m=\u001b[0m\u001b[1;36m100\u001b[0m\u001b[1;33m)\u001b[0m\u001b[1;33m.\u001b[0m\u001b[0mx\u001b[0m \u001b[1;31m#The seed is for the random number generator, setting it leads to stable results\u001b[0m\u001b[1;33m\u001b[0m\u001b[1;33m\u001b[0m\u001b[0m\n\u001b[0;32m     34\u001b[0m \u001b[1;33m\u001b[0m\u001b[0m\n\u001b[1;32m---> 35\u001b[1;33m     \u001b[0mfitted_parameters\u001b[0m\u001b[1;33m,\u001b[0m \u001b[0mpcov\u001b[0m \u001b[1;33m=\u001b[0m \u001b[0mcurve_fit\u001b[0m\u001b[1;33m(\u001b[0m\u001b[0mtransformer_for_opt\u001b[0m\u001b[1;33m,\u001b[0m \u001b[0mstage_cal_points_for_opt\u001b[0m\u001b[1;33m,\u001b[0m \u001b[0mimage_cal_points_for_opt\u001b[0m\u001b[1;33m,\u001b[0m \u001b[0mgenetic_parameter_bundle\u001b[0m\u001b[1;33m)\u001b[0m\u001b[1;33m\u001b[0m\u001b[1;33m\u001b[0m\u001b[0m\n\u001b[0m\u001b[0;32m     36\u001b[0m     \u001b[1;32mreturn\u001b[0m \u001b[0mgenetic_parameters\u001b[0m\u001b[1;33m,\u001b[0m \u001b[0mfitted_parameters\u001b[0m\u001b[1;33m\u001b[0m\u001b[1;33m\u001b[0m\u001b[0m\n",
      "\u001b[1;31mNameError\u001b[0m: name 'genetic_parameter_bundle' is not defined"
     ]
    }
   ],
   "source": [
    "genetic_parameter_bundle = statistical_calibrator()\n",
    "print(sum_of_squared_error(genetic_parameter_bundle))\n",
    "\n",
    "print(sum_of_squared_error(fitted_parameters))\n",
    "print(fitted_parameters)"
   ]
  },
  {
   "cell_type": "code",
   "execution_count": 226,
   "id": "bb056ac9",
   "metadata": {},
   "outputs": [
    {
     "data": {
      "text/plain": [
       "array([13310, 33553])"
      ]
     },
     "execution_count": 226,
     "metadata": {},
     "output_type": "execute_result"
    }
   ],
   "source": [
    "stage_calibration_points[:][0]"
   ]
  },
  {
   "cell_type": "code",
   "execution_count": 468,
   "id": "aec8692f",
   "metadata": {},
   "outputs": [
    {
     "name": "stdout",
     "output_type": "stream",
     "text": [
      "[[6580.4973133  7389.73205911]\n",
      " [1668.4973133  1010.73205911]\n",
      " [1309.4973133  2962.73205911]\n",
      " [3251.4973133   951.73205911]]\n",
      "1148054.4409651242\n",
      "303629.35699871695\n",
      "9975130.431996152\n",
      "8483949.521356385\n"
     ]
    },
    {
     "data": {
      "text/plain": [
       "19910763.751316376"
      ]
     },
     "execution_count": 468,
     "metadata": {},
     "output_type": "execute_result"
    }
   ],
   "source": [
    "sum_of_squared_error(genetic_parameter_bundle)"
   ]
  },
  {
   "cell_type": "code",
   "execution_count": 87,
   "id": "fd0cc684",
   "metadata": {},
   "outputs": [],
   "source": [
    "def get_brightness(x,y,size): #Gets the mean brightness of a square extending size units out in each direction \n",
    "    #brightness_array = []\n",
    "    #for i in range((2*size)+1):\n",
    "    #    for j in range((2*size)+1):\n",
    "    #        brightness_array.append(image[y-size+i][x-size+j])\n",
    "    \n",
    "    brightness_array = image[y-size:y+size+1, x-size:x+size+1]\n",
    "    brightness_array = brightness_array.flatten()\n",
    "    return np.mean(brightness_array)\n",
    "    #return np.median(brightness_array)"
   ]
  },
  {
   "cell_type": "code",
   "execution_count": 22,
   "id": "bc8d7aa0",
   "metadata": {},
   "outputs": [],
   "source": [
    "#def mapping_func(anint_parameter_bundle):\n",
    "#    x = np.array(clean_set[2,:])\n",
    "#    y = np.array(clean_set[3,:])\n",
    "#    intensity = np.array(clean_set[0,:])\n",
    "#    x_offset, x_coeff, y_offset, y_coeff, intensity_offset, intensity_coeff, offset = anint_parameter_bundle\n",
    "#    anorthite_predicted = (x-x_offset)*x_coeff + (y-y_offset)*y_coeff + intensity_coeff*(intensity-intensity_offset)+offset \n",
    "#    return np.array(anorthite_predicted)"
   ]
  },
  {
   "cell_type": "code",
   "execution_count": 315,
   "id": "4916c208",
   "metadata": {},
   "outputs": [],
   "source": [
    "def mapping_func(anint_parameter_bundle):\n",
    "    x = np.array(clean_set[2,:])\n",
    "    y = np.array(clean_set[3,:])\n",
    "    intensity = np.array(clean_set[0,:])\n",
    "    if len(anint_parameter_bundle) == 4:\n",
    "        anint_parameter_bundle = np.insert(anint_parameter_bundle, 1, 0)\n",
    "        anint_parameter_bundle = np.insert(anint_parameter_bundle, 3, 0)\n",
    "        anint_parameter_bundle = np.insert(anint_parameter_bundle, 5, 0)\n",
    "    if len(anint_parameter_bundle) == 5:\n",
    "        anint_parameter_bundle = np.insert(anint_parameter_bundle, 1, 0)\n",
    "        anint_parameter_bundle = np.insert(anint_parameter_bundle, 3, 0)\n",
    "            \n",
    "    #x_coeff, y_coeff, intensity_coeff, offset = anint_parameter_bundle\n",
    "    x_coeff, x2_coeff, y_coeff, y2_coeff, intensity_coeff, intensity_squared_coeff, offset = anint_parameter_bundle\n",
    "    #anorthite_predicted = (x)*x_coeff + (y)*y_coeff + intensity_coeff*(intensity)+offset \n",
    "    #anorthite_predicted = x*x_coeff+y*y_coeff+intensity_coeff*intensity+intensity_squared_coeff*(intensity**2)+offset\n",
    "    anorthite_predicted = x*x_coeff+ (x**2)*x2_coeff+y*y_coeff+(y**2)*y2_coeff+intensity_coeff*intensity+intensity_squared_coeff*(intensity**2)+offset\n",
    "    return np.array(anorthite_predicted)"
   ]
  },
  {
   "cell_type": "code",
   "execution_count": 161,
   "id": "e8af6a0f",
   "metadata": {},
   "outputs": [],
   "source": [
    "def draw_marker(x,y,size, image): #Draws a marker on the image so you can check if you have selected the correct start and end points\n",
    "    for i in range((2*size)+1):\n",
    "        image[y-size+i][x] = 1\n",
    "    for j in range((2*size)+1):\n",
    "        image[y][x-size+j] = 1\n",
    "    return image"
   ]
  },
  {
   "cell_type": "code",
   "execution_count": 318,
   "id": "2a5037f2",
   "metadata": {},
   "outputs": [],
   "source": [
    "def get_anint_params(clean_set):\n",
    "    #anint parameter bundle  = x_coefficient, y_coefficient, intensity_coefficient, offset\n",
    "#    parameter_bounds = []\n",
    "#    parameter_bounds.append([-5000,5000])\n",
    "#    parameter_bounds.append([-1/1000,1/1000])\n",
    "#    parameter_bounds.append([-5000,5000])\n",
    "#    parameter_bounds.append([-1/1000,1/1000])\n",
    "#    parameter_bounds.append([-1,1])\n",
    "#    parameter_bounds.append([-10,10])\n",
    "#    parameter_bounds.append([-10,10])\n",
    "    \n",
    "    parameter_bounds = []\n",
    "\n",
    "#    parameter_bounds.append([-1/10000,1/10000])\n",
    "#    parameter_bounds.append([-1/10000,1/10000])\n",
    "#    parameter_bounds.append([-20,20])\n",
    "#    parameter_bounds.append([-20,20])\n",
    "#    parameter_bounds.append([-10000,10000])\n",
    "\n",
    "#    parameter_bounds.append([-1/1000,1/1000])\n",
    "#    parameter_bounds.append([-1/1000,1/1000])\n",
    "#    parameter_bounds.append([tilewise_anint_params[7][0]*0.9,tilewise_anint_params[7][0]*1.1])\n",
    "#    parameter_bounds.append([-10000,10000])\n",
    "\n",
    "    parameter_bounds.append([-1/1000,1/1000])\n",
    "    parameter_bounds.append([-1/1000,1/1000])\n",
    "    parameter_bounds.append([-1/1000,1/1000])\n",
    "    parameter_bounds.append([-1/1000,1/1000])\n",
    "    parameter_bounds.append([tilewise_anint_params[7][0]*0.9,tilewise_anint_params[7][0]*1.1])\n",
    "    parameter_bounds.append([-0.000001, 0.0000001])\n",
    "    parameter_bounds.append([-100000,100000])\n",
    "\n",
    "    \n",
    "    genetic_anint_parameters = differential_evolution(anint_mean_squared_error, parameter_bounds, seed = 7, maxiter=1000, popsize=100).x\n",
    "    return genetic_anint_parameters"
   ]
  },
  {
   "cell_type": "code",
   "execution_count": 163,
   "id": "977d53dd",
   "metadata": {},
   "outputs": [],
   "source": [
    "def anint_mean_squared_error(anint_parameter_bundle):\n",
    "    probe_ans = clean_set[1,:]\n",
    "    predicted_ans = mapping_func(anint_parameter_bundle)\n",
    "    point_errors = []\n",
    "    for i in range(len(probe_ans)):\n",
    "        point_errors.append((probe_ans[i]-predicted_ans[i])**2)\n",
    "    total_error = np.sum(point_errors)\n",
    "    return total_error/len(point_errors)"
   ]
  },
  {
   "cell_type": "code",
   "execution_count": 164,
   "id": "772268e1",
   "metadata": {},
   "outputs": [],
   "source": [
    "def get_expected_intensities(anint_parameter_bundle):\n",
    "    \n",
    "    x = np.array(clean_set[2,:])\n",
    "    y = np.array(clean_set[3,:])\n",
    "    anorthite = np.array(clean_set[1,:])\n",
    "    x_coeff, y_coeff, intensity_coeff, offset = anint_parameter_bundle\n",
    "    intensities = (anorthite - ((x)*x_coeff + (y)*y_coeff + offset))/intensity_coeff\n",
    "    \n",
    "    return intensities"
   ]
  },
  {
   "cell_type": "code",
   "execution_count": 165,
   "id": "0c3372bc",
   "metadata": {},
   "outputs": [],
   "source": [
    "def draw_intensity_squares(intensities, size):\n",
    "    for i in range(len(intensities)):\n",
    "        x = int(clean_set[2,i])\n",
    "        y = int(clean_set[3,i])\n",
    "        image[y-size-1:y+size+2,x-size-1:x+size+2] = 1\n",
    "        image[y-size:y+size+1,x-size:x+size+1] = intensities[i]\n",
    "        "
   ]
  },
  {
   "cell_type": "code",
   "execution_count": 166,
   "id": "1cfeca23",
   "metadata": {},
   "outputs": [],
   "source": [
    "def draw_intensity_comparison(intensities, size, column_spacing, filename):\n",
    "    height = int(np.ceil((np.sqrt(len(intensities))/10)))*10\n",
    "    width = int(np.ceil(len(intensities)/height))\n",
    "    units = 2*(size+1)\n",
    "    baseline = np.zeros((height*units, width*(3*units+column_spacing)))\n",
    "    for i in range(len(intensities)):\n",
    "        y_placement = units*np.mod(i, height) +size\n",
    "        x_placement = (3*units+column_spacing)*np.floor_divide(i, height) +size\n",
    "        baseline[y_placement-size:y_placement+size+1, x_placement-size: x_placement+size+1] = image[int(clean_set[3,i]-size):int(clean_set[3,i]+size+1),int(clean_set[2,i]-size):int(clean_set[2,i]+size+1)]\n",
    "        x_placement = x_placement + units\n",
    "        baseline[y_placement-size:y_placement+size+1, x_placement-size: x_placement+size+1] = clean_set[0,i]\n",
    "        x_placement = x_placement + units\n",
    "        baseline[y_placement-size:y_placement+size+1, x_placement-size: x_placement+size+1] = intensities[i]\n",
    "    name = filename+\".tif\"\n",
    "    baseline = baseline *((256*256)-1)\n",
    "    to_save = baseline.astype(np.uint16)\n",
    "    to_save = Image.fromarray(to_save)\n",
    "    to_save.save(name)\n",
    "    return baseline"
   ]
  },
  {
   "cell_type": "code",
   "execution_count": 22,
   "id": "742fa9a6",
   "metadata": {},
   "outputs": [
    {
     "ename": "NameError",
     "evalue": "name 'clean_set' is not defined",
     "output_type": "error",
     "traceback": [
      "\u001b[1;31m---------------------------------------------------------------------------\u001b[0m",
      "\u001b[1;31mNameError\u001b[0m                                 Traceback (most recent call last)",
      "\u001b[1;32m~\\AppData\\Local\\Temp/ipykernel_5828/2596186990.py\u001b[0m in \u001b[0;36m<module>\u001b[1;34m\u001b[0m\n\u001b[0;32m      1\u001b[0m \u001b[0msize\u001b[0m \u001b[1;33m=\u001b[0m \u001b[1;36m4\u001b[0m\u001b[1;33m\u001b[0m\u001b[1;33m\u001b[0m\u001b[0m\n\u001b[1;32m----> 2\u001b[1;33m \u001b[1;32mfor\u001b[0m \u001b[0mi\u001b[0m \u001b[1;32min\u001b[0m \u001b[0mrange\u001b[0m\u001b[1;33m(\u001b[0m\u001b[0mlen\u001b[0m\u001b[1;33m(\u001b[0m\u001b[0mclean_set\u001b[0m\u001b[1;33m[\u001b[0m\u001b[1;36m3\u001b[0m\u001b[1;33m]\u001b[0m\u001b[1;33m)\u001b[0m\u001b[1;33m)\u001b[0m\u001b[1;33m:\u001b[0m\u001b[1;33m\u001b[0m\u001b[1;33m\u001b[0m\u001b[0m\n\u001b[0m\u001b[0;32m      3\u001b[0m     \u001b[0mprint\u001b[0m\u001b[1;33m(\u001b[0m\u001b[0mi\u001b[0m\u001b[1;33m)\u001b[0m\u001b[1;33m\u001b[0m\u001b[1;33m\u001b[0m\u001b[0m\n\u001b[0;32m      4\u001b[0m     \u001b[0mprint\u001b[0m\u001b[1;33m(\u001b[0m\u001b[0mimage\u001b[0m\u001b[1;33m[\u001b[0m\u001b[0mint\u001b[0m\u001b[1;33m(\u001b[0m\u001b[0mclean_set\u001b[0m\u001b[1;33m[\u001b[0m\u001b[1;36m3\u001b[0m\u001b[1;33m,\u001b[0m\u001b[0mi\u001b[0m\u001b[1;33m]\u001b[0m\u001b[1;33m-\u001b[0m\u001b[0msize\u001b[0m\u001b[1;33m)\u001b[0m\u001b[1;33m:\u001b[0m\u001b[0mint\u001b[0m\u001b[1;33m(\u001b[0m\u001b[0mclean_set\u001b[0m\u001b[1;33m[\u001b[0m\u001b[1;36m3\u001b[0m\u001b[1;33m,\u001b[0m\u001b[0mi\u001b[0m\u001b[1;33m]\u001b[0m\u001b[1;33m+\u001b[0m\u001b[0msize\u001b[0m\u001b[1;33m+\u001b[0m\u001b[1;36m1\u001b[0m\u001b[1;33m)\u001b[0m\u001b[1;33m,\u001b[0m\u001b[0mint\u001b[0m\u001b[1;33m(\u001b[0m\u001b[0mclean_set\u001b[0m\u001b[1;33m[\u001b[0m\u001b[1;36m2\u001b[0m\u001b[1;33m,\u001b[0m\u001b[0mi\u001b[0m\u001b[1;33m]\u001b[0m\u001b[1;33m-\u001b[0m\u001b[0msize\u001b[0m\u001b[1;33m)\u001b[0m\u001b[1;33m:\u001b[0m\u001b[0mint\u001b[0m\u001b[1;33m(\u001b[0m\u001b[0mclean_set\u001b[0m\u001b[1;33m[\u001b[0m\u001b[1;36m2\u001b[0m\u001b[1;33m,\u001b[0m\u001b[0mi\u001b[0m\u001b[1;33m]\u001b[0m\u001b[1;33m+\u001b[0m\u001b[0msize\u001b[0m\u001b[1;33m+\u001b[0m\u001b[1;36m1\u001b[0m\u001b[1;33m)\u001b[0m\u001b[1;33m]\u001b[0m\u001b[1;33m)\u001b[0m\u001b[1;33m\u001b[0m\u001b[1;33m\u001b[0m\u001b[0m\n",
      "\u001b[1;31mNameError\u001b[0m: name 'clean_set' is not defined"
     ]
    }
   ],
   "source": [
    "size = 4\n",
    "for i in range(len(clean_set[3])):\n",
    "    print(i)\n",
    "    print(image[int(clean_set[3,i]-size):int(clean_set[3,i]+size+1),int(clean_set[2,i]-size):int(clean_set[2,i]+size+1)])\n"
   ]
  },
  {
   "cell_type": "code",
   "execution_count": 156,
   "id": "858235d7",
   "metadata": {},
   "outputs": [
    {
     "data": {
      "text/plain": [
       "array([[27709.99904752, 27915.9998104 , 28117.00064957, ...,\n",
       "            0.        ,     0.        ,     0.        ],\n",
       "       [28029.00003925, 28190.99952042, 28304.99973401, ...,\n",
       "            0.        ,     0.        ,     0.        ],\n",
       "       [28298.99982557, 28338.99921522, 28415.99999338, ...,\n",
       "            0.        ,     0.        ,     0.        ],\n",
       "       ...,\n",
       "       [33052.99954981, 32744.00035858, 33360.99875629, ...,\n",
       "            0.        ,     0.        ,     0.        ],\n",
       "       [32467.00067908, 33044.99967188, 32675.99944308, ...,\n",
       "            0.        ,     0.        ,     0.        ],\n",
       "       [    0.        ,     0.        ,     0.        , ...,\n",
       "            0.        ,     0.        ,     0.        ]])"
      ]
     },
     "execution_count": 156,
     "metadata": {},
     "output_type": "execute_result"
    }
   ],
   "source": [
    "draw_intensity_comparison(get_expected_intensities(multi_lin_reg_parameter_bundle), 4, 9, \"intensity_comparison_wide\")"
   ]
  },
  {
   "cell_type": "code",
   "execution_count": 79,
   "id": "a5c4d81e",
   "metadata": {},
   "outputs": [],
   "source": [
    "draw_intensity_squares(get_expected_intensities(multi_lin_reg_parameter_bundle), 4)\n"
   ]
  },
  {
   "cell_type": "code",
   "execution_count": 90,
   "id": "d9998b48",
   "metadata": {},
   "outputs": [
    {
     "data": {
      "text/plain": [
       "9"
      ]
     },
     "execution_count": 90,
     "metadata": {},
     "output_type": "execute_result"
    }
   ],
   "source": [
    "len(image[0, 5-4:5+4+1])"
   ]
  },
  {
   "cell_type": "code",
   "execution_count": 80,
   "id": "1d2d1ada",
   "metadata": {},
   "outputs": [],
   "source": [
    "to_save = Image.fromarray(image)\n",
    "to_save.save('expected_intensities.tif')"
   ]
  },
  {
   "cell_type": "code",
   "execution_count": 319,
   "id": "291c6653",
   "metadata": {},
   "outputs": [],
   "source": [
    "anint_parameter_bundle = get_anint_params(clean_set)"
   ]
  },
  {
   "cell_type": "code",
   "execution_count": 320,
   "id": "c22f2ee1",
   "metadata": {},
   "outputs": [
    {
     "name": "stdout",
     "output_type": "stream",
     "text": [
      "[ 3.44745260e-05 -2.56029712e-09 -6.41854616e-06  7.93946469e-10\n",
      "  3.73640548e+00 -4.97898095e-07 -1.11172795e+00]\n"
     ]
    }
   ],
   "source": [
    "print(anint_parameter_bundle)"
   ]
  },
  {
   "cell_type": "code",
   "execution_count": 321,
   "id": "e6ab7c2c-992f-4b48-9de4-2b69e5c95ce1",
   "metadata": {},
   "outputs": [],
   "source": [
    "squaredfit_predicted_ans = mapping_func(anint_parameter_bundle)"
   ]
  },
  {
   "cell_type": "code",
   "execution_count": 322,
   "id": "08ef9570",
   "metadata": {},
   "outputs": [
    {
     "data": {
      "text/plain": [
       "0.00020921650447521033"
      ]
     },
     "execution_count": 322,
     "metadata": {},
     "output_type": "execute_result"
    }
   ],
   "source": [
    "anint_mean_squared_error(anint_parameter_bundle)"
   ]
  },
  {
   "cell_type": "code",
   "execution_count": 324,
   "id": "352ab143",
   "metadata": {},
   "outputs": [
    {
     "data": {
      "text/plain": [
       "LinearRegression()"
      ]
     },
     "execution_count": 324,
     "metadata": {},
     "output_type": "execute_result"
    }
   ],
   "source": [
    "model = LinearRegression()\n",
    "independents = np.transpose(np.array([clean_set[2], clean_set[2]**2, clean_set[3],  clean_set[3]**2, clean_set[0],clean_set[0]**2]))\n",
    "dependents = clean_set[1]\n",
    "#ind_train, ind_test, dep_train, dep_test = train_test_split( \n",
    "#    independents, dependents, test_size=0.3, random_state=7) \n",
    "model.fit(independents, dependents)"
   ]
  },
  {
   "cell_type": "code",
   "execution_count": 325,
   "id": "a3e3aba1",
   "metadata": {},
   "outputs": [
    {
     "name": "stdout",
     "output_type": "stream",
     "text": [
      "mean_squared_error for multi lin:  0.00018839370314469985\n"
     ]
    }
   ],
   "source": [
    "multi_lin_predict = model.predict(independents)\n",
    "#genetic_predict = mapping_func(anint_parameter_bundle)\n",
    "\n",
    "print('mean_squared_error for multi lin: ', mean_squared_error(clean_set[1], multi_lin_predict)) \n",
    "#print('mean_squared_error for genetic: ', mean_squared_error(clean_set[1], genetic_predict)) \n",
    "\n",
    "\n"
   ]
  },
  {
   "cell_type": "code",
   "execution_count": null,
   "id": "b38a300f-2519-41aa-86ce-aba788e700b7",
   "metadata": {},
   "outputs": [],
   "source": []
  },
  {
   "cell_type": "code",
   "execution_count": 285,
   "id": "fbd13e68",
   "metadata": {},
   "outputs": [],
   "source": [
    "multi_lin_reg_parameter_bundle = np.append(model.coef_,model.intercept_)"
   ]
  },
  {
   "cell_type": "code",
   "execution_count": 249,
   "id": "04e70728-14aa-4f4c-80b3-a2b5b913a48d",
   "metadata": {},
   "outputs": [
    {
     "name": "stdout",
     "output_type": "stream",
     "text": [
      "[ 4.12226048e-06 -3.14992794e-06  2.66029140e+01 -2.62760649e+01\n",
      " -5.83468035e+00]\n"
     ]
    }
   ],
   "source": [
    "print(multi_lin_reg_parameter_bundle)\n",
    "linfit_predicted_ans = mapping_func(multi_lin_reg_parameter_bundle)"
   ]
  },
  {
   "cell_type": "code",
   "execution_count": 192,
   "id": "afdfc527-5f45-41d7-ae63-5880ad8d4371",
   "metadata": {},
   "outputs": [],
   "source": [
    "#linfit_predicted_ans"
   ]
  },
  {
   "cell_type": "code",
   "execution_count": 193,
   "id": "3c0f0dca-ce3f-48d9-b7d4-489d60c07dfa",
   "metadata": {},
   "outputs": [],
   "source": [
    "#model.predict(independents)"
   ]
  },
  {
   "cell_type": "code",
   "execution_count": 158,
   "id": "e7722886-0d05-49f6-8b34-bc076c87e07c",
   "metadata": {},
   "outputs": [
    {
     "data": {
      "text/plain": [
       "258"
      ]
     },
     "execution_count": 158,
     "metadata": {},
     "output_type": "execute_result"
    }
   ],
   "source": [
    "len(linfit_predicted_ans)"
   ]
  },
  {
   "cell_type": "code",
   "execution_count": 159,
   "id": "0b24e148-edc2-40d7-a0c7-7bbee5619cef",
   "metadata": {},
   "outputs": [
    {
     "data": {
      "text/plain": [
       "258"
      ]
     },
     "execution_count": 159,
     "metadata": {},
     "output_type": "execute_result"
    }
   ],
   "source": [
    "len(squaredfit_predicted_ans)"
   ]
  },
  {
   "cell_type": "code",
   "execution_count": 194,
   "id": "a3f90fb5",
   "metadata": {},
   "outputs": [
    {
     "data": {
      "text/plain": [
       "0.00011605042750845133"
      ]
     },
     "execution_count": 194,
     "metadata": {},
     "output_type": "execute_result"
    }
   ],
   "source": [
    "anint_mean_squared_error(multi_lin_reg_parameter_bundle)"
   ]
  },
  {
   "cell_type": "code",
   "execution_count": 168,
   "id": "8ece7ddb-155f-4604-a2e9-f5a83932ac48",
   "metadata": {},
   "outputs": [
    {
     "data": {
      "text/plain": [
       "0.00016202288712032262"
      ]
     },
     "execution_count": 168,
     "metadata": {},
     "output_type": "execute_result"
    }
   ],
   "source": [
    "anint_mean_squared_error(anint_parameter_bundle)"
   ]
  },
  {
   "cell_type": "code",
   "execution_count": 156,
   "id": "3777d1ac",
   "metadata": {},
   "outputs": [
    {
     "data": {
      "text/plain": [
       "{'copy_X': True,\n",
       " 'fit_intercept': True,\n",
       " 'n_jobs': None,\n",
       " 'normalize': False,\n",
       " 'positive': False}"
      ]
     },
     "execution_count": 156,
     "metadata": {},
     "output_type": "execute_result"
    }
   ],
   "source": [
    "model.get_params()"
   ]
  },
  {
   "cell_type": "code",
   "execution_count": 341,
   "id": "e0ee1c30",
   "metadata": {},
   "outputs": [
    {
     "name": "stdout",
     "output_type": "stream",
     "text": [
      "0.9615001661810787 0.7957191992473733\n",
      "0.9799745895703929 0.7693001523308667\n",
      "0.9758325162195595 0.7477947412694583\n"
     ]
    }
   ],
   "source": [
    "print(np.max(multi_lin_predict), np.min(multi_lin_predict))\n",
    "print(np.max(squaredfit_predicted_ans), np.min(squaredfit_predicted_ans))\n",
    "print(np.max(clean_set[1]), np.min(clean_set[1]))\n"
   ]
  },
  {
   "cell_type": "code",
   "execution_count": 251,
   "id": "489db54c",
   "metadata": {},
   "outputs": [
    {
     "data": {
      "text/plain": [
       "0.26866163891197936"
      ]
     },
     "execution_count": 251,
     "metadata": {},
     "output_type": "execute_result"
    }
   ],
   "source": [
    "model.score(independents, dependents)"
   ]
  },
  {
   "cell_type": "code",
   "execution_count": 191,
   "id": "6d9154ae",
   "metadata": {},
   "outputs": [
    {
     "ename": "NameError",
     "evalue": "name 'anint_sum_of_squared_error' is not defined",
     "output_type": "error",
     "traceback": [
      "\u001b[1;31m---------------------------------------------------------------------------\u001b[0m",
      "\u001b[1;31mNameError\u001b[0m                                 Traceback (most recent call last)",
      "\u001b[1;32m~\\AppData\\Local\\Temp/ipykernel_5828/2240582445.py\u001b[0m in \u001b[0;36m<module>\u001b[1;34m\u001b[0m\n\u001b[1;32m----> 1\u001b[1;33m \u001b[0mprint\u001b[0m\u001b[1;33m(\u001b[0m\u001b[0manint_sum_of_squared_error\u001b[0m\u001b[1;33m(\u001b[0m\u001b[0manint_parameter_bundle\u001b[0m\u001b[1;33m)\u001b[0m\u001b[1;33m)\u001b[0m\u001b[1;33m\u001b[0m\u001b[1;33m\u001b[0m\u001b[0m\n\u001b[0m",
      "\u001b[1;31mNameError\u001b[0m: name 'anint_sum_of_squared_error' is not defined"
     ]
    }
   ],
   "source": [
    "print(anint_sum_of_squared_error(anint_parameter_bundle))"
   ]
  },
  {
   "cell_type": "code",
   "execution_count": 192,
   "id": "f31b2277",
   "metadata": {},
   "outputs": [
    {
     "ename": "NameError",
     "evalue": "name 'anint_parameter_bundle' is not defined",
     "output_type": "error",
     "traceback": [
      "\u001b[1;31m---------------------------------------------------------------------------\u001b[0m",
      "\u001b[1;31mNameError\u001b[0m                                 Traceback (most recent call last)",
      "\u001b[1;32m~\\AppData\\Local\\Temp/ipykernel_5828/125458333.py\u001b[0m in \u001b[0;36m<module>\u001b[1;34m\u001b[0m\n\u001b[1;32m----> 1\u001b[1;33m \u001b[0mprint\u001b[0m\u001b[1;33m(\u001b[0m\u001b[0manint_parameter_bundle\u001b[0m\u001b[1;33m)\u001b[0m\u001b[1;33m\u001b[0m\u001b[1;33m\u001b[0m\u001b[0m\n\u001b[0m",
      "\u001b[1;31mNameError\u001b[0m: name 'anint_parameter_bundle' is not defined"
     ]
    }
   ],
   "source": [
    "print(anint_parameter_bundle)"
   ]
  },
  {
   "cell_type": "code",
   "execution_count": null,
   "id": "e67c28f7",
   "metadata": {},
   "outputs": [],
   "source": [
    "#old anint params\n",
    "#[-2.28197631e+03 -2.18965047e-07  4.56878803e+02 -2.12759749e-06\n",
    "#  5.30254008e-01  1.11776470e+00  9.52672984e-01]"
   ]
  },
  {
   "cell_type": "code",
   "execution_count": 170,
   "id": "b5967d5b",
   "metadata": {},
   "outputs": [],
   "source": [
    "#for i in range(len(clean_set[1,:])):\n",
    "#    print(clean_set[0,i])"
   ]
  },
  {
   "cell_type": "code",
   "execution_count": 171,
   "id": "f7bace3f",
   "metadata": {},
   "outputs": [],
   "source": [
    "#predicted_ans = mapping_func(anint_parameter_bundle)\n",
    "#for i in range(len(clean_set[1,:])):\n",
    "#    print(predicted_ans[i])"
   ]
  },
  {
   "cell_type": "code",
   "execution_count": 339,
   "id": "b12522de",
   "metadata": {},
   "outputs": [
    {
     "data": {
      "text/plain": [
       "[<matplotlib.lines.Line2D at 0x20ec9465a60>]"
      ]
     },
     "execution_count": 339,
     "metadata": {},
     "output_type": "execute_result"
    },
    {
     "data": {
      "image/png": "[encoded data removed]",
      "text/plain": [
       "<Figure size 432x288 with 1 Axes>"
      ]
     },
     "metadata": {
      "needs_background": "light"
     },
     "output_type": "display_data"
    }
   ],
   "source": [
    "plt.plot(clean_set[1,:], (multi_lin_predict-clean_set[1,:]), 'r+')   "
   ]
  },
  {
   "cell_type": "code",
   "execution_count": 338,
   "id": "297fbdae",
   "metadata": {},
   "outputs": [
    {
     "data": {
      "text/plain": [
       "[<matplotlib.lines.Line2D at 0x20ec93577f0>]"
      ]
     },
     "execution_count": 338,
     "metadata": {},
     "output_type": "execute_result"
    },
    {
     "data": {
      "image/png": "[encoded data removed]",
      "text/plain": [
       "<Figure size 432x288 with 1 Axes>"
      ]
     },
     "metadata": {
      "needs_background": "light"
     },
     "output_type": "display_data"
    }
   ],
   "source": [
    "plt.plot(multi_lin_predict, (clean_set[1,:]-multi_lin_predict), 'r+')   "
   ]
  },
  {
   "cell_type": "code",
   "execution_count": 337,
   "id": "8c8d653b",
   "metadata": {},
   "outputs": [
    {
     "data": {
      "text/plain": [
       "[<matplotlib.lines.Line2D at 0x20ec930a790>]"
      ]
     },
     "execution_count": 337,
     "metadata": {},
     "output_type": "execute_result"
    },
    {
     "data": {
      "image/png": "[encoded data removed]",
      "text/plain": [
       "<Figure size 432x288 with 1 Axes>"
      ]
     },
     "metadata": {
      "needs_background": "light"
     },
     "output_type": "display_data"
    }
   ],
   "source": [
    "plt.plot((clean_set[1,:]-multi_lin_predict), 'r+')   "
   ]
  },
  {
   "cell_type": "code",
   "execution_count": 336,
   "id": "953010ac",
   "metadata": {},
   "outputs": [
    {
     "data": {
      "text/plain": [
       "[<matplotlib.lines.Line2D at 0x20ec9210f70>]"
      ]
     },
     "execution_count": 336,
     "metadata": {},
     "output_type": "execute_result"
    },
    {
     "data": {
      "image/png": "[encoded data removed]",
      "text/plain": [
       "<Figure size 432x288 with 1 Axes>"
      ]
     },
     "metadata": {
      "needs_background": "light"
     },
     "output_type": "display_data"
    }
   ],
   "source": [
    "plt.plot(multi_lin_predict, clean_set[1,:], 'r+')  "
   ]
  },
  {
   "cell_type": "code",
   "execution_count": 327,
   "id": "549fad1f",
   "metadata": {},
   "outputs": [
    {
     "data": {
      "text/plain": [
       "[<matplotlib.lines.Line2D at 0x20ec874b430>]"
      ]
     },
     "execution_count": 327,
     "metadata": {},
     "output_type": "execute_result"
    },
    {
     "data": {
      "image/png": "[encoded data removed]",
      "text/plain": [
       "<Figure size 432x288 with 1 Axes>"
      ]
     },
     "metadata": {
      "needs_background": "light"
     },
     "output_type": "display_data"
    }
   ],
   "source": [
    "plt.plot(multi_lin_predict, 'r+')"
   ]
  },
  {
   "cell_type": "code",
   "execution_count": 328,
   "id": "d98286f1",
   "metadata": {},
   "outputs": [
    {
     "data": {
      "text/plain": [
       "[<matplotlib.lines.Line2D at 0x20ec8f19e20>]"
      ]
     },
     "execution_count": 328,
     "metadata": {},
     "output_type": "execute_result"
    },
    {
     "data": {
      "image/png": "[encoded data removed]",
      "text/plain": [
       "<Figure size 432x288 with 1 Axes>"
      ]
     },
     "metadata": {
      "needs_background": "light"
     },
     "output_type": "display_data"
    }
   ],
   "source": [
    "plt.plot(clean_set[1,:], 'r+')"
   ]
  },
  {
   "cell_type": "code",
   "execution_count": 329,
   "id": "df190d9f",
   "metadata": {},
   "outputs": [
    {
     "data": {
      "text/plain": [
       "[<matplotlib.lines.Line2D at 0x20ec765aaf0>]"
      ]
     },
     "execution_count": 329,
     "metadata": {},
     "output_type": "execute_result"
    },
    {
     "data": {
      "image/png": "[encoded data removed]",
      "text/plain": [
       "<Figure size 432x288 with 1 Axes>"
      ]
     },
     "metadata": {
      "needs_background": "light"
     },
     "output_type": "display_data"
    }
   ],
   "source": [
    "plt.plot(clean_set[0,:], 'r+')"
   ]
  },
  {
   "cell_type": "code",
   "execution_count": 331,
   "id": "d1e0b863-b36f-4aec-aa70-4c48bb9e6c6f",
   "metadata": {},
   "outputs": [
    {
     "data": {
      "text/plain": [
       "[<matplotlib.lines.Line2D at 0x20ec928ba30>]"
      ]
     },
     "execution_count": 331,
     "metadata": {},
     "output_type": "execute_result"
    },
    {
     "data": {
      "image/png": "[encoded data removed]",
      "text/plain": [
       "<Figure size 432x288 with 1 Axes>"
      ]
     },
     "metadata": {
      "needs_background": "light"
     },
     "output_type": "display_data"
    }
   ],
   "source": [
    "plt.plot(clean_set[0,:],clean_set[2,:], 'r+')"
   ]
  },
  {
   "cell_type": "code",
   "execution_count": 332,
   "id": "736368bd-c9cd-4101-8192-4c31a587ddc5",
   "metadata": {},
   "outputs": [
    {
     "data": {
      "text/plain": [
       "[<matplotlib.lines.Line2D at 0x20ec90f6850>]"
      ]
     },
     "execution_count": 332,
     "metadata": {},
     "output_type": "execute_result"
    },
    {
     "data": {
      "image/png": "[encoded data removed]",
      "text/plain": [
       "<Figure size 432x288 with 1 Axes>"
      ]
     },
     "metadata": {
      "needs_background": "light"
     },
     "output_type": "display_data"
    }
   ],
   "source": [
    "plt.plot(clean_set[0,:],clean_set[3,:], 'r+')"
   ]
  },
  {
   "cell_type": "code",
   "execution_count": 333,
   "id": "b9ef37b5-2594-47da-a8b1-a4ef1e41ce12",
   "metadata": {},
   "outputs": [
    {
     "data": {
      "text/plain": [
       "[<matplotlib.lines.Line2D at 0x20ec904a2e0>]"
      ]
     },
     "execution_count": 333,
     "metadata": {},
     "output_type": "execute_result"
    },
    {
     "data": {
      "image/png": "[encoded data removed]",
      "text/plain": [
       "<Figure size 432x288 with 1 Axes>"
      ]
     },
     "metadata": {
      "needs_background": "light"
     },
     "output_type": "display_data"
    }
   ],
   "source": [
    "plt.plot(clean_set[1,:],clean_set[2,:], 'r+')"
   ]
  },
  {
   "cell_type": "code",
   "execution_count": 334,
   "id": "b7092792-cf2c-4af0-af9a-b3e3ced43896",
   "metadata": {},
   "outputs": [
    {
     "data": {
      "text/plain": [
       "[<matplotlib.lines.Line2D at 0x20ec7b47eb0>]"
      ]
     },
     "execution_count": 334,
     "metadata": {},
     "output_type": "execute_result"
    },
    {
     "data": {
      "image/png": "[encoded data removed]",
      "text/plain": [
       "<Figure size 432x288 with 1 Axes>"
      ]
     },
     "metadata": {
      "needs_background": "light"
     },
     "output_type": "display_data"
    }
   ],
   "source": [
    "plt.plot(clean_set[1,:],clean_set[3,:], 'r+')"
   ]
  },
  {
   "cell_type": "code",
   "execution_count": 307,
   "id": "e1fac5bd-2fa9-4239-a772-790e6340307f",
   "metadata": {},
   "outputs": [
    {
     "data": {
      "text/plain": [
       "[<matplotlib.lines.Line2D at 0x20ec9079e50>]"
      ]
     },
     "execution_count": 307,
     "metadata": {},
     "output_type": "execute_result"
    },
    {
     "data": {
      "image/png": "[encoded data removed]",
      "text/plain": [
       "<Figure size 432x288 with 1 Axes>"
      ]
     },
     "metadata": {
      "needs_background": "light"
     },
     "output_type": "display_data"
    }
   ],
   "source": [
    "plt.plot(clean_set[2,:], 'r+')"
   ]
  },
  {
   "cell_type": "code",
   "execution_count": 308,
   "id": "79266db6-80ed-437a-9803-f3946ae4d8a5",
   "metadata": {},
   "outputs": [
    {
     "data": {
      "text/plain": [
       "[<matplotlib.lines.Line2D at 0x20ec8e413d0>]"
      ]
     },
     "execution_count": 308,
     "metadata": {},
     "output_type": "execute_result"
    },
    {
     "data": {
      "image/png": "[encoded data removed]",
      "text/plain": [
       "<Figure size 432x288 with 1 Axes>"
      ]
     },
     "metadata": {
      "needs_background": "light"
     },
     "output_type": "display_data"
    }
   ],
   "source": [
    "plt.plot(clean_set[3,:], 'r+')"
   ]
  },
  {
   "cell_type": "code",
   "execution_count": 182,
   "id": "04f8d2d0-8c5d-44ef-b5fd-aa28f7e5189f",
   "metadata": {},
   "outputs": [
    {
     "data": {
      "text/plain": [
       "[<matplotlib.lines.Line2D at 0x20ec858e340>]"
      ]
     },
     "execution_count": 182,
     "metadata": {},
     "output_type": "execute_result"
    },
    {
     "data": {
      "image/png": "[encoded data removed]",
      "text/plain": [
       "<Figure size 432x288 with 1 Axes>"
      ]
     },
     "metadata": {
      "needs_background": "light"
     },
     "output_type": "display_data"
    }
   ],
   "source": [
    "plt.plot(clean_set[2,:], clean_set[3,:], 'r+')"
   ]
  },
  {
   "cell_type": "code",
   "execution_count": 335,
   "id": "680155db-4689-4b00-ad29-5574107bf6bb",
   "metadata": {},
   "outputs": [
    {
     "data": {
      "text/plain": [
       "[<matplotlib.lines.Line2D at 0x20ec9386610>]"
      ]
     },
     "execution_count": 335,
     "metadata": {},
     "output_type": "execute_result"
    },
    {
     "data": {
      "image/png": "[encoded data removed]",
      "text/plain": [
       "<Figure size 432x288 with 1 Axes>"
      ]
     },
     "metadata": {
      "needs_background": "light"
     },
     "output_type": "display_data"
    }
   ],
   "source": [
    "plt.plot(squaredfit_predicted_ans, 'r+')\n",
    "#plt.plot(multi_lin_predict, 'b+')\n",
    "plt.plot(clean_set[1], 'g+')"
   ]
  },
  {
   "cell_type": "code",
   "execution_count": 340,
   "id": "0cfce9dc-fdb2-4c74-83df-00a7efb0d53b",
   "metadata": {},
   "outputs": [
    {
     "data": {
      "text/plain": [
       "[<matplotlib.lines.Line2D at 0x20ec94cf520>]"
      ]
     },
     "execution_count": 340,
     "metadata": {},
     "output_type": "execute_result"
    },
    {
     "data": {
      "image/png": "[encoded data removed]",
      "text/plain": [
       "<Figure size 432x288 with 1 Axes>"
      ]
     },
     "metadata": {
      "needs_background": "light"
     },
     "output_type": "display_data"
    }
   ],
   "source": [
    "#plt.plot(squaredfit_predicted_ans, 'r+')\n",
    "plt.plot(multi_lin_predict, 'b+')\n",
    "plt.plot(clean_set[1], 'g+')"
   ]
  },
  {
   "cell_type": "code",
   "execution_count": 121,
   "id": "85d440c4",
   "metadata": {},
   "outputs": [
    {
     "ename": "ValueError",
     "evalue": "too many values to unpack (expected 4)",
     "output_type": "error",
     "traceback": [
      "\u001b[1;31m---------------------------------------------------------------------------\u001b[0m",
      "\u001b[1;31mValueError\u001b[0m                                Traceback (most recent call last)",
      "\u001b[1;32m~\\AppData\\Local\\Temp/ipykernel_10756/2781554618.py\u001b[0m in \u001b[0;36m<module>\u001b[1;34m\u001b[0m\n\u001b[1;32m----> 1\u001b[1;33m \u001b[0mexpected_intensities\u001b[0m \u001b[1;33m=\u001b[0m \u001b[0mget_expected_intensities\u001b[0m\u001b[1;33m(\u001b[0m\u001b[0mmulti_lin_reg_parameter_bundle\u001b[0m\u001b[1;33m)\u001b[0m\u001b[1;33m\u001b[0m\u001b[1;33m\u001b[0m\u001b[0m\n\u001b[0m\u001b[0;32m      2\u001b[0m \u001b[0mplt\u001b[0m\u001b[1;33m.\u001b[0m\u001b[0mplot\u001b[0m\u001b[1;33m(\u001b[0m\u001b[0mexpected_intensities\u001b[0m\u001b[1;33m,\u001b[0m \u001b[0mclean_set\u001b[0m\u001b[1;33m[\u001b[0m\u001b[1;36m0\u001b[0m\u001b[1;33m,\u001b[0m\u001b[1;33m:\u001b[0m\u001b[1;33m]\u001b[0m\u001b[1;33m-\u001b[0m\u001b[0mexpected_intensities\u001b[0m\u001b[1;33m,\u001b[0m  \u001b[1;34m'r+'\u001b[0m\u001b[1;33m)\u001b[0m\u001b[1;33m\u001b[0m\u001b[1;33m\u001b[0m\u001b[0m\n",
      "\u001b[1;32m~\\AppData\\Local\\Temp/ipykernel_10756/3152856525.py\u001b[0m in \u001b[0;36mget_expected_intensities\u001b[1;34m(anint_parameter_bundle)\u001b[0m\n\u001b[0;32m      4\u001b[0m     \u001b[0my\u001b[0m \u001b[1;33m=\u001b[0m \u001b[0mnp\u001b[0m\u001b[1;33m.\u001b[0m\u001b[0marray\u001b[0m\u001b[1;33m(\u001b[0m\u001b[0mclean_set\u001b[0m\u001b[1;33m[\u001b[0m\u001b[1;36m3\u001b[0m\u001b[1;33m,\u001b[0m\u001b[1;33m:\u001b[0m\u001b[1;33m]\u001b[0m\u001b[1;33m)\u001b[0m\u001b[1;33m\u001b[0m\u001b[1;33m\u001b[0m\u001b[0m\n\u001b[0;32m      5\u001b[0m     \u001b[0manorthite\u001b[0m \u001b[1;33m=\u001b[0m \u001b[0mnp\u001b[0m\u001b[1;33m.\u001b[0m\u001b[0marray\u001b[0m\u001b[1;33m(\u001b[0m\u001b[0mclean_set\u001b[0m\u001b[1;33m[\u001b[0m\u001b[1;36m1\u001b[0m\u001b[1;33m,\u001b[0m\u001b[1;33m:\u001b[0m\u001b[1;33m]\u001b[0m\u001b[1;33m)\u001b[0m\u001b[1;33m\u001b[0m\u001b[1;33m\u001b[0m\u001b[0m\n\u001b[1;32m----> 6\u001b[1;33m     \u001b[0mx_coeff\u001b[0m\u001b[1;33m,\u001b[0m \u001b[0my_coeff\u001b[0m\u001b[1;33m,\u001b[0m \u001b[0mintensity_coeff\u001b[0m\u001b[1;33m,\u001b[0m \u001b[0moffset\u001b[0m \u001b[1;33m=\u001b[0m \u001b[0manint_parameter_bundle\u001b[0m\u001b[1;33m\u001b[0m\u001b[1;33m\u001b[0m\u001b[0m\n\u001b[0m\u001b[0;32m      7\u001b[0m     \u001b[0mintensities\u001b[0m \u001b[1;33m=\u001b[0m \u001b[1;33m(\u001b[0m\u001b[0manorthite\u001b[0m \u001b[1;33m-\u001b[0m \u001b[1;33m(\u001b[0m\u001b[1;33m(\u001b[0m\u001b[0mx\u001b[0m\u001b[1;33m)\u001b[0m\u001b[1;33m*\u001b[0m\u001b[0mx_coeff\u001b[0m \u001b[1;33m+\u001b[0m \u001b[1;33m(\u001b[0m\u001b[0my\u001b[0m\u001b[1;33m)\u001b[0m\u001b[1;33m*\u001b[0m\u001b[0my_coeff\u001b[0m \u001b[1;33m+\u001b[0m \u001b[0moffset\u001b[0m\u001b[1;33m)\u001b[0m\u001b[1;33m)\u001b[0m\u001b[1;33m/\u001b[0m\u001b[0mintensity_coeff\u001b[0m\u001b[1;33m\u001b[0m\u001b[1;33m\u001b[0m\u001b[0m\n\u001b[0;32m      8\u001b[0m \u001b[1;33m\u001b[0m\u001b[0m\n",
      "\u001b[1;31mValueError\u001b[0m: too many values to unpack (expected 4)"
     ]
    }
   ],
   "source": [
    "expected_intensities = get_expected_intensities(multi_lin_reg_parameter_bundle)\n",
    "plt.plot(expected_intensities, clean_set[0,:]-expected_intensities,  'r+')"
   ]
  },
  {
   "cell_type": "code",
   "execution_count": 30,
   "id": "f69bfa89",
   "metadata": {},
   "outputs": [],
   "source": [
    "def anorthise(image, anint_params):\n",
    "    image_copy = image.copy()\n",
    "    if len(anint_params) == 4:\n",
    "        anint_params = np.insert(anint_params, 3, 0)\n",
    "        print(anint_params)\n",
    "    \n",
    "    image_copy[image_copy<40/256] = 0\n",
    "    points = np.nonzero(image)\n",
    "    brightnesses = image[points]\n",
    "    anorthites = points[1]*anint_params[0] + points[0]*anint_params[1]+ brightnesses*anint_params[2] + (brightnesses**2)*anint_params[3]+anint_params[4]\n",
    "    image_copy[points] = anorthites\n",
    "    image_copy[image_copy<0.6] = 0\n",
    "    \n",
    "    return image_copy, anorthites\n",
    "    \n",
    "    "
   ]
  },
  {
   "cell_type": "code",
   "execution_count": 31,
   "id": "759cb935-a628-45d0-99cf-2692ba649c11",
   "metadata": {},
   "outputs": [],
   "source": [
    "def colourise(anorthites_image): #0-1 image please\n",
    "    points = 0\n",
    "    colours = plt.get_cmap('plasma')\n",
    "    points = np.nonzero(anorthites_image)\n",
    "    print(np.array(points).shape)\n",
    "    rgba_shape = np.array((anorthites_image.shape[0], anorthites_image.shape[1], 4))\n",
    "    anorthites_image_rgba = np.zeros((rgba_shape))\n",
    "    anorthites_image_copy = (anorthites_image.copy()-0.6)/(1-0.6)\n",
    "    #anorthites_image_copy[anorthites_image_copy == 0] = np.array([0,0,0,0])\n",
    "    anorthites_image_rgba[points] = colours(anorthites_image_copy[points])\n",
    "    #print(anorthites_image_copy[points].shape)\n",
    "    #print(colours(anorthites_image[points]).shape)\n",
    "    \n",
    "    return anorthites_image_rgba, colours(anorthites_image_copy[points])\n",
    "    \n",
    "    \n",
    "    \n",
    "    "
   ]
  },
  {
   "cell_type": "code",
   "execution_count": 286,
   "id": "469952a8",
   "metadata": {},
   "outputs": [],
   "source": [
    "anint_test_params = multi_lin_reg_parameter_bundle"
   ]
  },
  {
   "cell_type": "code",
   "execution_count": 287,
   "id": "cfa102c0",
   "metadata": {},
   "outputs": [],
   "source": [
    "anorth_image, anorth_nums = anorthise(image, anint_test_params)"
   ]
  },
  {
   "cell_type": "code",
   "execution_count": 209,
   "id": "cb70f7d4-08e3-46f4-9351-6aa8ad582cc6",
   "metadata": {},
   "outputs": [],
   "source": [
    "anorth_nums = 0"
   ]
  },
  {
   "cell_type": "code",
   "execution_count": 210,
   "id": "baa12260-7dc0-499f-94ac-af19b9d0386a",
   "metadata": {},
   "outputs": [
    {
     "data": {
      "text/plain": [
       "<matplotlib.image.AxesImage at 0x269277d3100>"
      ]
     },
     "execution_count": 210,
     "metadata": {},
     "output_type": "execute_result"
    },
    {
     "data": {
      "image/png": "[encoded data removed]",
      "text/plain": [
       "<Figure size 432x288 with 1 Axes>"
      ]
     },
     "metadata": {
      "needs_background": "light"
     },
     "output_type": "display_data"
    }
   ],
   "source": [
    "plt.imshow(anorth_image)"
   ]
  },
  {
   "cell_type": "code",
   "execution_count": 213,
   "id": "23dd921c-395b-4028-825c-85c04cb5bca5",
   "metadata": {},
   "outputs": [],
   "source": [
    "anorth_series = pd.Series(anorth_nums[::1000])"
   ]
  },
  {
   "cell_type": "code",
   "execution_count": 214,
   "id": "0ce61dd3-6714-4476-8379-248e2041b70e",
   "metadata": {},
   "outputs": [],
   "source": [
    "real_anorth_series = pd.Series(anorthite_list)"
   ]
  },
  {
   "cell_type": "code",
   "execution_count": 215,
   "id": "877e99d6-e4a0-43bd-807d-2e10b994dd49",
   "metadata": {},
   "outputs": [
    {
     "data": {
      "text/plain": [
       "0      0.795742\n",
       "1      0.861012\n",
       "2      0.896795\n",
       "3      0.895374\n",
       "4      0.889862\n",
       "         ...   \n",
       "255    0.895992\n",
       "256    0.873764\n",
       "257    0.869140\n",
       "258    0.868759\n",
       "259    0.897276\n",
       "Length: 260, dtype: float64"
      ]
     },
     "execution_count": 215,
     "metadata": {},
     "output_type": "execute_result"
    }
   ],
   "source": [
    "real_anorth_series"
   ]
  },
  {
   "cell_type": "code",
   "execution_count": 17,
   "id": "0071d2d5-e378-4b84-90b5-26b7e012b0a6",
   "metadata": {},
   "outputs": [],
   "source": [
    "anorth_image_series = pd.Series(anorth_image.flatten()[::10000])"
   ]
  },
  {
   "cell_type": "code",
   "execution_count": 18,
   "id": "07e6d122-4dd8-449f-8ba4-f476034b3a37",
   "metadata": {},
   "outputs": [
    {
     "data": {
      "text/plain": [
       "0       0.0\n",
       "1       0.0\n",
       "2       0.0\n",
       "3       0.0\n",
       "4       0.0\n",
       "       ... \n",
       "9006    0.0\n",
       "9007    0.0\n",
       "9008    0.0\n",
       "9009    0.0\n",
       "9010    0.0\n",
       "Length: 9011, dtype: float32"
      ]
     },
     "execution_count": 18,
     "metadata": {},
     "output_type": "execute_result"
    }
   ],
   "source": [
    "#anorth_image_series"
   ]
  },
  {
   "cell_type": "code",
   "execution_count": 14,
   "id": "0820f022-0838-4118-b8ed-3a8c7095339c",
   "metadata": {},
   "outputs": [
    {
     "data": {
      "text/plain": [
       "0        0.374182\n",
       "1        0.778066\n",
       "2        0.881631\n",
       "3        0.709452\n",
       "4        0.904304\n",
       "           ...   \n",
       "32240    0.849428\n",
       "32241    0.875664\n",
       "32242    0.858357\n",
       "32243    0.858169\n",
       "32244    0.819414\n",
       "Length: 32245, dtype: float64"
      ]
     },
     "execution_count": 14,
     "metadata": {},
     "output_type": "execute_result"
    }
   ],
   "source": [
    "#anorth_series"
   ]
  },
  {
   "cell_type": "code",
   "execution_count": 40,
   "id": "f3c7c4da-4c6b-40b5-9198-35ac63084acd",
   "metadata": {},
   "outputs": [
    {
     "data": {
      "image/png": "[encoded data removed]",
      "text/plain": [
       "<Figure size 432x288 with 1 Axes>"
      ]
     },
     "metadata": {
      "needs_background": "light"
     },
     "output_type": "display_data"
    }
   ],
   "source": [
    "#ax = anorth_series.plot.kde(bw_method = 0.01) Geo mean John1\n",
    "#ax = real_anorth_series.plot.kde(bw_method = 0.01)"
   ]
  },
  {
   "cell_type": "code",
   "execution_count": 217,
   "id": "16d324aa-7aed-4865-ae9a-bda354e0f313",
   "metadata": {},
   "outputs": [
    {
     "data": {
      "image/png": "[encoded data removed]",
      "text/plain": [
       "<Figure size 432x288 with 1 Axes>"
      ]
     },
     "metadata": {
      "needs_background": "light"
     },
     "output_type": "display_data"
    }
   ],
   "source": [
    "ax = anorth_series.plot.kde(bw_method = 1) #\n",
    "ax = real_anorth_series.plot.kde(bw_method = 1)"
   ]
  },
  {
   "cell_type": "code",
   "execution_count": 22,
   "id": "d012138b-544a-4100-95e4-52a7c63d215b",
   "metadata": {},
   "outputs": [],
   "source": [
    "anorth_image[np.nonzero(anorth_image)] = anorth_image[np.nonzero(anorth_image)]-0.75"
   ]
  },
  {
   "cell_type": "code",
   "execution_count": 23,
   "id": "03c625cc-10bf-448c-8b5b-6ca8d8c601ea",
   "metadata": {},
   "outputs": [],
   "source": [
    "anorth_image_series = pd.Series(anorth_image.flatten()[::10000])"
   ]
  },
  {
   "cell_type": "code",
   "execution_count": 24,
   "id": "374d6a5b-0c9e-4bc7-ab69-d2386970adcf",
   "metadata": {},
   "outputs": [
    {
     "data": {
      "text/plain": [
       "0       0.0\n",
       "1       0.0\n",
       "2       0.0\n",
       "3       0.0\n",
       "4       0.0\n",
       "       ... \n",
       "9006    0.0\n",
       "9007    0.0\n",
       "9008    0.0\n",
       "9009    0.0\n",
       "9010    0.0\n",
       "Length: 9011, dtype: float32"
      ]
     },
     "execution_count": 24,
     "metadata": {},
     "output_type": "execute_result"
    }
   ],
   "source": [
    "anorth_image_series"
   ]
  },
  {
   "cell_type": "code",
   "execution_count": 25,
   "id": "b6da7e0f-5c76-416d-aabb-c6221a99d775",
   "metadata": {},
   "outputs": [
    {
     "data": {
      "image/png": "[encoded data removed]",
      "text/plain": [
       "<Figure size 432x288 with 1 Axes>"
      ]
     },
     "metadata": {
      "needs_background": "light"
     },
     "output_type": "display_data"
    }
   ],
   "source": [
    "ax = anorth_image_series.plot.kde(bw_method = 0.01)"
   ]
  },
  {
   "cell_type": "code",
   "execution_count": 32,
   "id": "c4d1b8f4-f5fb-4b9e-9d11-d1fa18d4cf68",
   "metadata": {},
   "outputs": [],
   "source": [
    "anorth_image[np.nonzero(anorth_image)] = anorth_image[np.nonzero(anorth_image)]+0.01"
   ]
  },
  {
   "cell_type": "code",
   "execution_count": 33,
   "id": "36b9450f-938e-401a-84e7-40da1cd73be2",
   "metadata": {},
   "outputs": [],
   "source": [
    "anorth_image_series = pd.Series(anorth_image.flatten()[::10000])"
   ]
  },
  {
   "cell_type": "code",
   "execution_count": 34,
   "id": "22e62efa-10d1-4e39-8b88-d326abe111d1",
   "metadata": {},
   "outputs": [
    {
     "data": {
      "image/png": "[encoded data removed]",
      "text/plain": [
       "<Figure size 432x288 with 1 Axes>"
      ]
     },
     "metadata": {
      "needs_background": "light"
     },
     "output_type": "display_data"
    }
   ],
   "source": [
    "ax = anorth_image_series.plot.kde(bw_method = 0.01)"
   ]
  },
  {
   "cell_type": "code",
   "execution_count": 36,
   "id": "2249a67a-b0e3-4203-9196-8165a7fc113d",
   "metadata": {},
   "outputs": [
    {
     "data": {
      "text/plain": [
       "<matplotlib.image.AxesImage at 0x210ab06a760>"
      ]
     },
     "execution_count": 36,
     "metadata": {},
     "output_type": "execute_result"
    },
    {
     "data": {
      "image/png": "[encoded data removed]",
      "text/plain": [
       "<Figure size 432x288 with 1 Axes>"
      ]
     },
     "metadata": {
      "needs_background": "light"
     },
     "output_type": "display_data"
    }
   ],
   "source": [
    "plt.imshow(anorth_image)"
   ]
  },
  {
   "cell_type": "code",
   "execution_count": 288,
   "id": "2fea7a69-b17c-4743-9d50-a9fb13e455af",
   "metadata": {},
   "outputs": [
    {
     "name": "stdout",
     "output_type": "stream",
     "text": [
      "(2, 32233265)\n"
     ]
    }
   ],
   "source": [
    "colour_im, colour_nums = colourise(anorth_image)"
   ]
  },
  {
   "cell_type": "code",
   "execution_count": 221,
   "id": "202730a9-462a-4c08-b9cb-800264dced9b",
   "metadata": {},
   "outputs": [],
   "source": [
    "anorth_image = 0"
   ]
  },
  {
   "cell_type": "code",
   "execution_count": 33,
   "id": "d7cb7c9d-0959-4758-b8eb-063b9a105817",
   "metadata": {},
   "outputs": [
    {
     "data": {
      "text/plain": [
       "0.11164683656655348"
      ]
     },
     "execution_count": 33,
     "metadata": {},
     "output_type": "execute_result"
    }
   ],
   "source": [
    "np.mean(colour_im[:,:,2])"
   ]
  },
  {
   "cell_type": "code",
   "execution_count": 22,
   "id": "0883ad69-88d5-40ef-bec1-abdfbc976337",
   "metadata": {},
   "outputs": [
    {
     "data": {
      "text/plain": [
       "<matplotlib.image.AxesImage at 0x269124727f0>"
      ]
     },
     "execution_count": 22,
     "metadata": {},
     "output_type": "execute_result"
    },
    {
     "data": {
      "image/png": "[encoded data removed]",
      "text/plain": [
       "<Figure size 432x288 with 1 Axes>"
      ]
     },
     "metadata": {
      "needs_background": "light"
     },
     "output_type": "display_data"
    }
   ],
   "source": [
    "plt.imshow(colour_im)"
   ]
  },
  {
   "cell_type": "code",
   "execution_count": 23,
   "id": "4e3899bc-1ef0-4b5c-a011-323a6994293c",
   "metadata": {},
   "outputs": [
    {
     "data": {
      "text/plain": [
       "(10178, 8853, 4)"
      ]
     },
     "execution_count": 23,
     "metadata": {},
     "output_type": "execute_result"
    }
   ],
   "source": [
    "colour_im.shape"
   ]
  },
  {
   "cell_type": "code",
   "execution_count": 289,
   "id": "e5e7108a-022e-4098-b9bb-f6b0a9f2200b",
   "metadata": {},
   "outputs": [],
   "source": [
    "to_save = (colour_im*255).astype(np.uint8)\n",
    "to_save = Image.fromarray(to_save)\n",
    "to_save.save('John1_offset_coloured.tif')"
   ]
  },
  {
   "cell_type": "code",
   "execution_count": null,
   "id": "7122aea2-4303-49df-a08c-c93c6f3c68d9",
   "metadata": {},
   "outputs": [],
   "source": []
  }
 ],
 "metadata": {
  "kernelspec": {
   "display_name": "Python 3 (ipykernel)",
   "language": "python",
   "name": "python3"
  },
  "language_info": {
   "codemirror_mode": {
    "name": "ipython",
    "version": 3
   },
   "file_extension": ".py",
   "mimetype": "text/x-python",
   "name": "python",
   "nbconvert_exporter": "python",
   "pygments_lexer": "ipython3",
   "version": "3.9.7"
  }
 },
 "nbformat": 4,
 "nbformat_minor": 5
}
