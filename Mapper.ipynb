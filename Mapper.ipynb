{
 "cells": [
  {
   "cell_type": "markdown",
   "id": "6d7686b1",
   "metadata": {},
   "source": [
    "Okay this is going to be the python which converts the stitched tiff into an anorthite content map\n",
    "\n",
    "Basic principle\n",
    "\n",
    "import profile files\n",
    "find relevant profiles (this may end up being manual)\n",
    "find profile start and end points (this will definitely be manual)\n",
    "use start and end points to create mapping of stage x-stage y to tiff x tiff y\n",
    "Take half of the data. Find its anorthite content and BSE intensity\n",
    "Use that to create a BSE -> An function\n",
    "Test that function on the other half of the data\n",
    "Apply that function to the tif to generate an image coloured by anorthite content\n"
   ]
  },
  {
   "cell_type": "code",
   "execution_count": 1,
   "id": "67c19877",
   "metadata": {},
   "outputs": [],
   "source": [
    "import numpy as np\n",
    "import matplotlib.pyplot as plt\n",
    "import pandas as pd\n",
    "import glob\n",
    "from PIL import Image\n",
    "from IPython.display import Audio\n",
    "from scipy.optimize import curve_fit\n",
    "from scipy.optimize import differential_evolution\n",
    "from sklearn.linear_model import LinearRegression\n",
    "from sklearn.model_selection import train_test_split \n",
    "from sklearn.metrics import mean_squared_error, mean_absolute_error\n",
    "#from sklearn.model_selection import train_test_split\n",
    "#from sklearn.neural_network import MLPRegressor\n",
    "#import warnings\n",
    "\n",
    "sound_file = './Eldritch_Blast.wav'"
   ]
  },
  {
   "cell_type": "code",
   "execution_count": 38,
   "id": "e7494ef9",
   "metadata": {},
   "outputs": [],
   "source": [
    "image = np.array(plt.imread('translated_genetic_again.png'))\n",
    "guidelines = 1\n",
    "if guidelines == 1:\n",
    "    for i in range(int(np.floor(image.shape[1]/10))):\n",
    "        if i/100 == np.floor(i/100):\n",
    "            image[::,10*i] = 1\n",
    "        elif i/10 == np.floor(i/10):\n",
    "            image[::,(10*i)] = 0.5\n",
    "        else:\n",
    "            image[::,(10*i)] = 0\n",
    "        \n",
    "    for j in range(int(np.floor(image.shape[0]/10))):\n",
    "        if j/100 == np.floor(j/100):\n",
    "            image[10*j,::] = 1\n",
    "        elif j/10 == np.floor(j/10):\n",
    "            image[(10*j),::] = 0.5\n",
    "        else:\n",
    "            image[(10*j),::] = 0\n",
    "#plt.imshow(image)\n",
    "\n",
    "#image = draw_marker(7085,8335,2,image)\n",
    "#image = draw_marker(1275,625,2,image)\n",
    "to_save = Image.fromarray(image)\n",
    "to_save.save('trans_gen_grid.tif')"
   ]
  },
  {
   "cell_type": "code",
   "execution_count": 569,
   "id": "86f6f56f",
   "metadata": {},
   "outputs": [
    {
     "data": {
      "text/plain": [
       "1017.0"
      ]
     },
     "execution_count": 569,
     "metadata": {},
     "output_type": "execute_result"
    }
   ],
   "source": [
    "np.floor(image.shape[0]/10)"
   ]
  },
  {
   "cell_type": "code",
   "execution_count": 2,
   "id": "6a1c7da0",
   "metadata": {},
   "outputs": [],
   "source": [
    "raw_probe_data = pd.read_csv('C:/Users/rwfbl/Mapping data/John1_profiles_cleaned.csv')\n",
    "row_cleaned = raw_probe_data[60:260] #For some reason there were three extra rows of nans and 2 columns\n",
    "column_cleaned = row_cleaned.iloc[:,0:14]\n",
    "probe_data = column_cleaned\n"
   ]
  },
  {
   "cell_type": "code",
   "execution_count": 60,
   "id": "235bd5fe",
   "metadata": {},
   "outputs": [
    {
     "data": {
      "text/html": [
       "<div>\n",
       "<style scoped>\n",
       "    .dataframe tbody tr th:only-of-type {\n",
       "        vertical-align: middle;\n",
       "    }\n",
       "\n",
       "    .dataframe tbody tr th {\n",
       "        vertical-align: top;\n",
       "    }\n",
       "\n",
       "    .dataframe thead th {\n",
       "        text-align: right;\n",
       "    }\n",
       "</style>\n",
       "<table border=\"1\" class=\"dataframe\">\n",
       "  <thead>\n",
       "    <tr style=\"text-align: right;\">\n",
       "      <th></th>\n",
       "      <th>DataSet/Point</th>\n",
       "      <th>Na_wt</th>\n",
       "      <th>Si_wt</th>\n",
       "      <th>Al_wt</th>\n",
       "      <th>Ca_wt</th>\n",
       "      <th>Fe_wt</th>\n",
       "      <th>K_wt</th>\n",
       "      <th>O_wt</th>\n",
       "      <th>Total_wt</th>\n",
       "      <th>X_stage</th>\n",
       "      <th>Y_stage</th>\n",
       "      <th>Comment</th>\n",
       "      <th>Distance (?)</th>\n",
       "      <th>Point#</th>\n",
       "    </tr>\n",
       "  </thead>\n",
       "  <tbody>\n",
       "    <tr>\n",
       "      <th>60</th>\n",
       "      <td>1 / 1 .</td>\n",
       "      <td>1.08</td>\n",
       "      <td>21.41</td>\n",
       "      <td>17.23</td>\n",
       "      <td>12.65</td>\n",
       "      <td>0.34</td>\n",
       "      <td>0.03</td>\n",
       "      <td>45.25</td>\n",
       "      <td>97.98</td>\n",
       "      <td>13310.0</td>\n",
       "      <td>33553.0</td>\n",
       "      <td>John1_KS_4_LRprofile_long</td>\n",
       "      <td>0.00</td>\n",
       "      <td>1.0</td>\n",
       "    </tr>\n",
       "    <tr>\n",
       "      <th>61</th>\n",
       "      <td>1 / 2 .</td>\n",
       "      <td>1.25</td>\n",
       "      <td>21.70</td>\n",
       "      <td>17.18</td>\n",
       "      <td>12.00</td>\n",
       "      <td>0.32</td>\n",
       "      <td>0.01</td>\n",
       "      <td>45.32</td>\n",
       "      <td>97.78</td>\n",
       "      <td>13311.3</td>\n",
       "      <td>33428.7</td>\n",
       "      <td>John1_KS_4_LRprofile_long</td>\n",
       "      <td>124.35</td>\n",
       "      <td>2.0</td>\n",
       "    </tr>\n",
       "    <tr>\n",
       "      <th>62</th>\n",
       "      <td>1 / 3 .</td>\n",
       "      <td>0.74</td>\n",
       "      <td>21.03</td>\n",
       "      <td>17.89</td>\n",
       "      <td>13.11</td>\n",
       "      <td>0.34</td>\n",
       "      <td>0.00</td>\n",
       "      <td>45.46</td>\n",
       "      <td>98.58</td>\n",
       "      <td>13312.6</td>\n",
       "      <td>33304.3</td>\n",
       "      <td>John1_KS_4_LRprofile_long</td>\n",
       "      <td>248.72</td>\n",
       "      <td>3.0</td>\n",
       "    </tr>\n",
       "    <tr>\n",
       "      <th>63</th>\n",
       "      <td>1 / 4 .</td>\n",
       "      <td>1.08</td>\n",
       "      <td>21.31</td>\n",
       "      <td>17.57</td>\n",
       "      <td>12.42</td>\n",
       "      <td>0.29</td>\n",
       "      <td>0.02</td>\n",
       "      <td>45.32</td>\n",
       "      <td>98.01</td>\n",
       "      <td>13313.9</td>\n",
       "      <td>33180.0</td>\n",
       "      <td>John1_KS_4_LRprofile_long</td>\n",
       "      <td>373.07</td>\n",
       "      <td>4.0</td>\n",
       "    </tr>\n",
       "    <tr>\n",
       "      <th>64</th>\n",
       "      <td>1 / 5 .</td>\n",
       "      <td>0.94</td>\n",
       "      <td>21.27</td>\n",
       "      <td>17.54</td>\n",
       "      <td>12.58</td>\n",
       "      <td>0.30</td>\n",
       "      <td>0.02</td>\n",
       "      <td>45.28</td>\n",
       "      <td>97.95</td>\n",
       "      <td>13315.2</td>\n",
       "      <td>33055.6</td>\n",
       "      <td>John1_KS_4_LRprofile_long</td>\n",
       "      <td>497.44</td>\n",
       "      <td>5.0</td>\n",
       "    </tr>\n",
       "    <tr>\n",
       "      <th>...</th>\n",
       "      <td>...</td>\n",
       "      <td>...</td>\n",
       "      <td>...</td>\n",
       "      <td>...</td>\n",
       "      <td>...</td>\n",
       "      <td>...</td>\n",
       "      <td>...</td>\n",
       "      <td>...</td>\n",
       "      <td>...</td>\n",
       "      <td>...</td>\n",
       "      <td>...</td>\n",
       "      <td>...</td>\n",
       "      <td>...</td>\n",
       "      <td>...</td>\n",
       "    </tr>\n",
       "    <tr>\n",
       "      <th>255</th>\n",
       "      <td>2 / 96 .</td>\n",
       "      <td>0.85</td>\n",
       "      <td>21.22</td>\n",
       "      <td>17.82</td>\n",
       "      <td>13.03</td>\n",
       "      <td>0.33</td>\n",
       "      <td>0.03</td>\n",
       "      <td>45.62</td>\n",
       "      <td>98.90</td>\n",
       "      <td>15225.8</td>\n",
       "      <td>22691.5</td>\n",
       "      <td>John1_KS_4_LRprofile_short</td>\n",
       "      <td>4104.72</td>\n",
       "      <td>196.0</td>\n",
       "    </tr>\n",
       "    <tr>\n",
       "      <th>256</th>\n",
       "      <td>2 / 97 .</td>\n",
       "      <td>1.04</td>\n",
       "      <td>21.12</td>\n",
       "      <td>17.52</td>\n",
       "      <td>12.62</td>\n",
       "      <td>0.38</td>\n",
       "      <td>0.01</td>\n",
       "      <td>45.16</td>\n",
       "      <td>97.85</td>\n",
       "      <td>15268.6</td>\n",
       "      <td>22685.6</td>\n",
       "      <td>John1_KS_4_LRprofile_short</td>\n",
       "      <td>4147.93</td>\n",
       "      <td>197.0</td>\n",
       "    </tr>\n",
       "    <tr>\n",
       "      <th>257</th>\n",
       "      <td>2 / 98 .</td>\n",
       "      <td>1.03</td>\n",
       "      <td>21.39</td>\n",
       "      <td>17.65</td>\n",
       "      <td>12.13</td>\n",
       "      <td>0.26</td>\n",
       "      <td>0.03</td>\n",
       "      <td>45.35</td>\n",
       "      <td>97.84</td>\n",
       "      <td>15311.4</td>\n",
       "      <td>22679.7</td>\n",
       "      <td>John1_KS_4_LRprofile_short</td>\n",
       "      <td>4191.13</td>\n",
       "      <td>198.0</td>\n",
       "    </tr>\n",
       "    <tr>\n",
       "      <th>258</th>\n",
       "      <td>2 / 99 .</td>\n",
       "      <td>1.06</td>\n",
       "      <td>21.57</td>\n",
       "      <td>17.34</td>\n",
       "      <td>12.30</td>\n",
       "      <td>0.31</td>\n",
       "      <td>0.01</td>\n",
       "      <td>45.38</td>\n",
       "      <td>97.98</td>\n",
       "      <td>15354.2</td>\n",
       "      <td>22673.9</td>\n",
       "      <td>John1_KS_4_LRprofile_short</td>\n",
       "      <td>4234.34</td>\n",
       "      <td>199.0</td>\n",
       "    </tr>\n",
       "    <tr>\n",
       "      <th>259</th>\n",
       "      <td>2 / 100 .</td>\n",
       "      <td>0.84</td>\n",
       "      <td>20.76</td>\n",
       "      <td>17.68</td>\n",
       "      <td>12.97</td>\n",
       "      <td>0.27</td>\n",
       "      <td>0.02</td>\n",
       "      <td>44.94</td>\n",
       "      <td>97.49</td>\n",
       "      <td>15397.0</td>\n",
       "      <td>22668.0</td>\n",
       "      <td>John1_KS_4_LRprofile_short</td>\n",
       "      <td>4277.55</td>\n",
       "      <td>200.0</td>\n",
       "    </tr>\n",
       "  </tbody>\n",
       "</table>\n",
       "<p>200 rows × 14 columns</p>\n",
       "</div>"
      ],
      "text/plain": [
       "    DataSet/Point  Na_wt  Si_wt  Al_wt  Ca_wt  Fe_wt  K_wt   O_wt  Total_wt  \\\n",
       "60       1 / 1 .    1.08  21.41  17.23  12.65   0.34  0.03  45.25     97.98   \n",
       "61       1 / 2 .    1.25  21.70  17.18  12.00   0.32  0.01  45.32     97.78   \n",
       "62       1 / 3 .    0.74  21.03  17.89  13.11   0.34  0.00  45.46     98.58   \n",
       "63       1 / 4 .    1.08  21.31  17.57  12.42   0.29  0.02  45.32     98.01   \n",
       "64       1 / 5 .    0.94  21.27  17.54  12.58   0.30  0.02  45.28     97.95   \n",
       "..            ...    ...    ...    ...    ...    ...   ...    ...       ...   \n",
       "255     2 / 96 .    0.85  21.22  17.82  13.03   0.33  0.03  45.62     98.90   \n",
       "256     2 / 97 .    1.04  21.12  17.52  12.62   0.38  0.01  45.16     97.85   \n",
       "257     2 / 98 .    1.03  21.39  17.65  12.13   0.26  0.03  45.35     97.84   \n",
       "258     2 / 99 .    1.06  21.57  17.34  12.30   0.31  0.01  45.38     97.98   \n",
       "259    2 / 100 .    0.84  20.76  17.68  12.97   0.27  0.02  44.94     97.49   \n",
       "\n",
       "      X_stage   Y_stage                           Comment  Distance (?)  \\\n",
       "60    13310.0   33553.0         John1_KS_4_LRprofile_long          0.00   \n",
       "61    13311.3   33428.7         John1_KS_4_LRprofile_long        124.35   \n",
       "62    13312.6   33304.3         John1_KS_4_LRprofile_long        248.72   \n",
       "63    13313.9   33180.0         John1_KS_4_LRprofile_long        373.07   \n",
       "64    13315.2   33055.6         John1_KS_4_LRprofile_long        497.44   \n",
       "..        ...       ...                               ...           ...   \n",
       "255   15225.8   22691.5  John1_KS_4_LRprofile_short             4104.72   \n",
       "256   15268.6   22685.6  John1_KS_4_LRprofile_short             4147.93   \n",
       "257   15311.4   22679.7  John1_KS_4_LRprofile_short             4191.13   \n",
       "258   15354.2   22673.9  John1_KS_4_LRprofile_short             4234.34   \n",
       "259   15397.0   22668.0  John1_KS_4_LRprofile_short             4277.55   \n",
       "\n",
       "     Point#  \n",
       "60      1.0  \n",
       "61      2.0  \n",
       "62      3.0  \n",
       "63      4.0  \n",
       "64      5.0  \n",
       "..      ...  \n",
       "255   196.0  \n",
       "256   197.0  \n",
       "257   198.0  \n",
       "258   199.0  \n",
       "259   200.0  \n",
       "\n",
       "[200 rows x 14 columns]"
      ]
     },
     "execution_count": 60,
     "metadata": {},
     "output_type": "execute_result"
    }
   ],
   "source": [
    "probe_data"
   ]
  },
  {
   "cell_type": "code",
   "execution_count": 3,
   "id": "dd0a5357",
   "metadata": {},
   "outputs": [],
   "source": [
    "#List of points being used for the calibration in the form (x,y), it is crucial that these are written in the same order in both lists\n",
    "#stage_calibration_points = np.array([(13310,33553),(13438,21243),(11160,23249),(15397,22668),(11507,22382)])\n",
    "#image_calibration_points = np.array([(7085,8335),(1275,625),(3675,870),(775,2485),(3022,476)])\n",
    "\n",
    "stage_calibration_points = np.array([(13310,33553),(13438,21243),(11160,23249),(15397,22668)])\n",
    "image_calibration_points = np.array([(7085+20,8335+133),(1275+20,625+133),(3675+20,870+133),(775+20,2485+133)])"
   ]
  },
  {
   "cell_type": "code",
   "execution_count": 4,
   "id": "516b1ae7",
   "metadata": {},
   "outputs": [
    {
     "name": "stdout",
     "output_type": "stream",
     "text": [
      "1.5200036556977325\n",
      "1.523597038160226\n"
     ]
    }
   ],
   "source": [
    "stage_profile_1 = stage_calibration_points[1]-stage_calibration_points[0]\n",
    "stage_profile_2 = stage_calibration_points[3]-stage_calibration_points[2]\n",
    "stage_angle = np.arccos(np.dot(stage_profile_1, stage_profile_2)/(np.linalg.norm(stage_profile_1)*np.linalg.norm(stage_profile_1)))\n",
    "print(stage_angle)\n",
    "image_profile_1 = image_calibration_points[1]-image_calibration_points[0]\n",
    "image_profile_2 = image_calibration_points[3]-image_calibration_points[2]\n",
    "image_angle = np.arccos(np.dot(image_profile_1, image_profile_2)/(np.linalg.norm(image_profile_1)*np.linalg.norm(image_profile_1)))\n",
    "print(image_angle)"
   ]
  },
  {
   "cell_type": "code",
   "execution_count": 5,
   "id": "19e3a249",
   "metadata": {
    "scrolled": true
   },
   "outputs": [],
   "source": [
    "#This weirdness is strange but necessary for the optimiser\n",
    "stage_cal_points_for_opt = []\n",
    "image_cal_points_for_opt = []\n",
    "\n",
    "for i in range(len(stage_calibration_points)):\n",
    "    stage_cal_points_for_opt.append(stage_calibration_points[i][0])\n",
    "    stage_cal_points_for_opt.append(stage_calibration_points[i][1])\n",
    "    image_cal_points_for_opt.append(image_calibration_points[i][0])\n",
    "    image_cal_points_for_opt.append(image_calibration_points[i][1])"
   ]
  },
  {
   "cell_type": "code",
   "execution_count": 25,
   "id": "d1ce47a9",
   "metadata": {},
   "outputs": [],
   "source": [
    "image = np.array(plt.imread('denoising_weight1.png'))\n",
    "\n",
    "probe_x_list = probe_data.iloc[:,9]\n",
    "#print(probe_x_list[0]) #for checking that the right column was selected\n",
    "probe_y_list = probe_data.iloc[:,10]\n",
    "probe_points = []\n",
    "for i in range(len(probe_data.iloc[:,9])):\n",
    "    probe_points.append((probe_data.iloc[i,9], probe_data.iloc[i,10]))\n",
    "    #print(i, probe_points[i])\n",
    "probe_points = np.array(probe_points)\n",
    "#probe_y_list[0]\n",
    "anorthite_list = np.array((probe_data.iloc[:,4]/40.078)/((probe_data.iloc[:,4]/40.078)+(probe_data.iloc[:,1]/22.990)+(probe_data.iloc[:,6]/39.098)))\n",
    "\n",
    "parameter_bundle = curvefit_parameter_bundle\n",
    "probe_points_placed = transformer(probe_points, parameter_bundle[0], parameter_bundle[1], parameter_bundle[2], parameter_bundle[3])\n",
    "show_points = 0\n",
    "if show_points == 1:\n",
    "    \n",
    "    #print(probe_points_placed)\n",
    "    for i in range(len(probe_points_placed)):\n",
    "        draw_marker(int(probe_points_placed[i][0]), int(probe_points_placed[i][1]),4,image)\n",
    "    for i in range(len(image_calibration_points)):\n",
    "        draw_marker(int(image_calibration_points[i][0]), int(image_calibration_points[i][1]),4,image)\n",
    "        \n",
    "\n",
    "#image_boosted = image *255\n",
    "#to_save = image_boosted.astype(np.uint8)\n",
    "#print(np.max(to_save))\n",
    "#to_save = Image.fromarray(to_save)\n",
    "#to_save.save('translated_genetic_again.png')"
   ]
  },
  {
   "cell_type": "code",
   "execution_count": 28,
   "id": "f9f3039a",
   "metadata": {},
   "outputs": [],
   "source": [
    "tile_origins = [( 134 , 85 ),\n",
    "( 134 , 785 ),\n",
    "( 134 , 1485 ),\n",
    "( 134 , 2185 ),\n",
    "( 134 , 2885 ),\n",
    "( 134 , 3585 ),\n",
    "( 134 , 4285 ),\n",
    "( 134 , 4985 ),\n",
    "( 134 , 5685 ),\n",
    "( 134 , 6385 ),\n",
    "( 134 , 7085 ),\n",
    "( 608 , 73 ),\n",
    "( 608 , 773 ),\n",
    "( 608 , 1473 ),\n",
    "( 608 , 2173 ),\n",
    "( 608 , 2873 ),\n",
    "( 608 , 3573 ),\n",
    "( 608 , 4273 ),\n",
    "( 608 , 4973 ),\n",
    "( 608 , 5673 ),\n",
    "( 608 , 6373 ),\n",
    "( 608 , 7073 ),\n",
    "( 1082 , 65 ),\n",
    "( 1082 , 765 ),\n",
    "( 1082 , 1465 ),\n",
    "( 1082 , 2165 ),\n",
    "( 1082 , 2865 ),\n",
    "( 1082 , 3565 ),\n",
    "( 1082 , 4265 ),\n",
    "( 1082 , 4965 ),\n",
    "( 1082 , 5665 ),\n",
    "( 1082 , 6365 ),\n",
    "( 1082 , 7065 ),\n",
    "( 1542 , 67 ),\n",
    "( 1542 , 767 ),\n",
    "( 1542 , 1467 ),\n",
    "( 1542 , 2167 ),\n",
    "( 1542 , 2867 ),\n",
    "( 1542 , 3567 ),\n",
    "( 1542 , 4267 ),\n",
    "( 1542 , 4967 ),\n",
    "( 1542 , 5667 ),\n",
    "( 1542 , 6367 ),\n",
    "( 1542 , 7067 ),\n",
    "( 2016 , 67 ),\n",
    "( 2016 , 767 ),\n",
    "( 2016 , 1467 ),\n",
    "( 2016 , 2167 ),\n",
    "( 2016 , 2867 ),\n",
    "( 2016 , 3567 ),\n",
    "( 2016 , 4267 ),\n",
    "( 2016 , 4967 ),\n",
    "( 2016 , 5667 ),\n",
    "( 2016 , 6367 ),\n",
    "( 2016 , 7067 ),\n",
    "( 2475 , 72 ),\n",
    "( 2475 , 772 ),\n",
    "( 2475 , 1472 ),\n",
    "( 2475 , 2172 ),\n",
    "( 2475 , 2872 ),\n",
    "( 2475 , 3572 ),\n",
    "( 2475 , 4272 ),\n",
    "( 2475 , 4972 ),\n",
    "( 2475 , 5672 ),\n",
    "( 2475 , 6372 ),\n",
    "( 2475 , 7072 ),\n",
    "( 2943 , 80 ),\n",
    "( 2943 , 780 ),\n",
    "( 2943 , 1480 ),\n",
    "( 2943 , 2180 ),\n",
    "( 2943 , 2880 ),\n",
    "( 2943 , 3580 ),\n",
    "( 2943 , 4280 ),\n",
    "( 2943 , 4980 ),\n",
    "( 2943 , 5680 ),\n",
    "( 2943 , 6380 ),\n",
    "( 2943 , 7080 ),\n",
    "( 3412 , 85 ),\n",
    "( 3412 , 785 ),\n",
    "( 3412 , 1485 ),\n",
    "( 3412 , 2185 ),\n",
    "( 3412 , 2885 ),\n",
    "( 3412 , 3585 ),\n",
    "( 3412 , 4285 ),\n",
    "( 3412 , 4985 ),\n",
    "( 3412 , 5685 ),\n",
    "( 3412 , 6385 ),\n",
    "( 3412 , 7085 ),\n",
    "( 3869 , 98 ),\n",
    "( 3869 , 798 ),\n",
    "( 3869 , 1498 ),\n",
    "( 3869 , 2198 ),\n",
    "( 3869 , 2898 ),\n",
    "( 3869 , 3598 ),\n",
    "( 3869 , 4298 ),\n",
    "( 3869 , 4998 ),\n",
    "( 3869 , 5698 ),\n",
    "( 3869 , 6398 ),\n",
    "( 3869 , 7098 ),\n",
    "( 4338 , 106 ),\n",
    "( 4338 , 806 ),\n",
    "( 4338 , 1506 ),\n",
    "( 4338 , 2206 ),\n",
    "( 4338 , 2906 ),\n",
    "( 4338 , 3606 ),\n",
    "( 4338 , 4306 ),\n",
    "( 4338 , 5006 ),\n",
    "( 4338 , 5706 ),\n",
    "( 4338 , 6406 ),\n",
    "( 4338 , 7106 ),\n",
    "( 4799 , 117 ),\n",
    "( 4799 , 817 ),\n",
    "( 4799 , 1517 ),\n",
    "( 4799 , 2217 ),\n",
    "( 4799 , 2917 ),\n",
    "( 4799 , 3617 ),\n",
    "( 4799 , 4317 ),\n",
    "( 4799 , 5017 ),\n",
    "( 4799 , 5717 ),\n",
    "( 4799 , 6417 ),\n",
    "( 4799 , 7117 ),\n",
    "( 5264 , 125 ),\n",
    "( 5264 , 825 ),\n",
    "( 5264 , 1525 ),\n",
    "( 5264 , 2225 ),\n",
    "( 5264 , 2925 ),\n",
    "( 5264 , 3625 ),\n",
    "( 5264 , 4325 ),\n",
    "( 5264 , 5025 ),\n",
    "( 5264 , 5725 ),\n",
    "( 5264 , 6425 ),\n",
    "( 5264 , 7125 ),\n",
    "( 5734 , 129 ),\n",
    "( 5734 , 829 ),\n",
    "( 5734 , 1529 ),\n",
    "( 5734 , 2229 ),\n",
    "( 5734 , 2929 ),\n",
    "( 5734 , 3629 ),\n",
    "( 5734 , 4329 ),\n",
    "( 5734 , 5029 ),\n",
    "( 5734 , 5729 ),\n",
    "( 5734 , 6429 ),\n",
    "( 5734 , 7129 ),\n",
    "( 6197 , 129 ),\n",
    "( 6197 , 829 ),\n",
    "( 6197 , 1529 ),\n",
    "( 6197 , 2229 ),\n",
    "( 6197 , 2929 ),\n",
    "( 6197 , 3629 ),\n",
    "( 6197 , 4329 ),\n",
    "( 6197 , 5029 ),\n",
    "( 6197 , 5729 ),\n",
    "( 6197 , 6429 ),\n",
    "( 6197 , 7129 ),\n",
    "( 6668 , 136 ),\n",
    "( 6668 , 836 ),\n",
    "( 6668 , 1536 ),\n",
    "( 6668 , 2236 ),\n",
    "( 6668 , 2936 ),\n",
    "( 6668 , 3636 ),\n",
    "( 6668 , 4336 ),\n",
    "( 6668 , 5036 ),\n",
    "( 6668 , 5736 ),\n",
    "( 6668 , 6436 ),\n",
    "( 6668 , 7136 ),\n",
    "( 7131 , 144 ),\n",
    "( 7131 , 844 ),\n",
    "( 7131 , 1544 ),\n",
    "( 7131 , 2244 ),\n",
    "( 7131 , 2944 ),\n",
    "( 7131 , 3644 ),\n",
    "( 7131 , 4344 ),\n",
    "( 7131 , 5044 ),\n",
    "( 7131 , 5744 ),\n",
    "( 7131 , 6444 ),\n",
    "( 7131 , 7144 ),\n",
    "( 7598 , 147 ),\n",
    "( 7598 , 847 ),\n",
    "( 7598 , 1547 ),\n",
    "( 7598 , 2247 ),\n",
    "( 7598 , 2947 ),\n",
    "( 7598 , 3647 ),\n",
    "( 7598 , 4347 ),\n",
    "( 7598 , 5047 ),\n",
    "( 7598 , 5747 ),\n",
    "( 7598 , 6447 ),\n",
    "( 7598 , 7147 ),\n",
    "( 8068 , 150 ),\n",
    "( 8068 , 850 ),\n",
    "( 8068 , 1550 ),\n",
    "( 8068 , 2250 ),\n",
    "( 8068 , 2950 ),\n",
    "( 8068 , 3650 ),\n",
    "( 8068 , 4350 ),\n",
    "( 8068 , 5050 ),\n",
    "( 8068 , 5750 ),\n",
    "( 8068 , 6450 ),\n",
    "( 8068 , 7150 ),\n",
    "( 8532 , 150 ),\n",
    "( 8532 , 850 ),\n",
    "( 8532 , 1550 ),\n",
    "( 8532 , 2250 ),\n",
    "( 8532 , 2950 ),\n",
    "( 8532 , 3650 ),\n",
    "( 8532 , 4350 ),\n",
    "( 8532 , 5050 ),\n",
    "( 8532 , 5750 ),\n",
    "( 8532 , 6450 ),\n",
    "( 8532 , 7150 )]"
   ]
  },
  {
   "cell_type": "code",
   "execution_count": 162,
   "id": "88867fda",
   "metadata": {},
   "outputs": [
    {
     "data": {
      "text/plain": [
       "4338"
      ]
     },
     "execution_count": 162,
     "metadata": {},
     "output_type": "execute_result"
    }
   ],
   "source": [
    "tile_origins[100][0]"
   ]
  },
  {
   "cell_type": "code",
   "execution_count": 88,
   "id": "deab5433",
   "metadata": {},
   "outputs": [
    {
     "data": {
      "text/plain": [
       "7112.0"
      ]
     },
     "execution_count": 88,
     "metadata": {},
     "output_type": "execute_result"
    }
   ],
   "source": [
    "probe_points_placed[0, 0]"
   ]
  },
  {
   "cell_type": "code",
   "execution_count": 73,
   "id": "1defe7aa",
   "metadata": {},
   "outputs": [
    {
     "data": {
      "text/plain": [
       "(200,)"
      ]
     },
     "execution_count": 73,
     "metadata": {},
     "output_type": "execute_result"
    }
   ],
   "source": [
    "anorthite_list.shape"
   ]
  },
  {
   "cell_type": "code",
   "execution_count": 26,
   "id": "a262e6b9",
   "metadata": {},
   "outputs": [
    {
     "data": {
      "image/png": "[encoded data removed]",
      "text/plain": [
       "<Figure size 432x288 with 1 Axes>"
      ]
     },
     "metadata": {
      "needs_background": "light"
     },
     "output_type": "display_data"
    }
   ],
   "source": [
    "search_size = 6\n",
    "intensity_list = []\n",
    "for i in range(len(probe_points_placed)):\n",
    "    #print(probe_points_placed[i][0],' ',probe_points_placed[i][1])\n",
    "    intensity_list.append(get_brightness(int(probe_points_placed[i][0]),int(probe_points_placed[i][1]), search_size))\n",
    "    \n",
    "clean_list_entries = []\n",
    "for i in range(len(probe_points_placed)):\n",
    "    if intensity_list[i] >70/256 and intensity_list[i] <250/256 and anorthite_list[i]>0.8 and anorthite_list[i]<0.9:\n",
    "        clean_list_entries.append(i)\n",
    "    \n",
    "#xlim=[0.3,0.6], ylim=[0.8,0.9]\n",
    "fig, ax = plt.subplots(1,1)\n",
    "intensity_array = np.array(intensity_list)\n",
    "clean_intensity_array = intensity_array[clean_list_entries]\n",
    "anorthite_array = np.array(anorthite_list)\n",
    "clean_anorthite_array = anorthite_array[clean_list_entries]\n",
    "clean_x_array = np.array(probe_points_placed)[clean_list_entries, 0]\n",
    "clean_y_array = np.array(probe_points_placed)[clean_list_entries, 1]\n",
    "\n",
    "\n",
    "clean_set = np.array([clean_intensity_array, clean_anorthite_array, clean_x_array, clean_y_array])\n",
    "ax.plot(clean_intensity_array,clean_anorthite_array, 'r+')\n",
    "#ax.set_xlim(0.45*255,0.5*255)\n",
    "#ax.set_ylim(0.8,0.93)\n",
    "plt.show()"
   ]
  },
  {
   "cell_type": "code",
   "execution_count": 33,
   "id": "da7db5d1",
   "metadata": {},
   "outputs": [],
   "source": [
    "clean_set_by_tile = []\n",
    "for i in range(len(tile_origins)):\n",
    "    clean_set_in_tile = []\n",
    "    for j in range(len(clean_set[0])):\n",
    "        if clean_set[3,j]>tile_origins[i][0] and clean_set[3,j]<tile_origins[i][0]+512 and clean_set[2,j]>tile_origins[i][1] and clean_set[2, j]<tile_origins[i][1]+768:\n",
    "            clean_set_in_tile.append(clean_set[:,j])\n",
    "    clean_set_in_tile = np.array(clean_set_in_tile)\n",
    "    clean_set_by_tile.append(clean_set_in_tile)"
   ]
  },
  {
   "cell_type": "code",
   "execution_count": 34,
   "id": "f152ec60",
   "metadata": {},
   "outputs": [],
   "source": [
    "clean_set_by_tile = np.array(clean_set_by_tile, dtype=object)"
   ]
  },
  {
   "cell_type": "code",
   "execution_count": 35,
   "id": "58ccb663",
   "metadata": {},
   "outputs": [],
   "source": [
    "clean_set_populated_tiles = []\n",
    "for i in range(len(clean_set_by_tile)):\n",
    "    if len(clean_set_by_tile[i])>6:\n",
    "        clean_set_populated_tiles.append(clean_set_by_tile[i])\n",
    "    "
   ]
  },
  {
   "cell_type": "code",
   "execution_count": 36,
   "id": "a191acd5",
   "metadata": {},
   "outputs": [],
   "source": [
    "#clean_set_populated_tiles"
   ]
  },
  {
   "cell_type": "code",
   "execution_count": 37,
   "id": "f6320a49",
   "metadata": {},
   "outputs": [],
   "source": [
    "tilewise_anint_params = []\n",
    "tilewise_predicted_ans = []\n",
    "for i in range(len(clean_set_populated_tiles)):\n",
    "    tile_model = LinearRegression()\n",
    "    tile_independents = np.transpose(np.array([clean_set_populated_tiles[i][:,2], clean_set_populated_tiles[i][:,3], clean_set_populated_tiles[i][:,0]]))\n",
    "    tile_dependents = clean_set_populated_tiles[i][:,1]\n",
    "    tile_model.fit(tile_independents, tile_dependents)\n",
    "    predictions = tile_model.predict(tile_independents)\n",
    "    tilewise_predicted_ans.append(np.array(predictions))\n",
    "    tilewise_anint_params.append(np.append(tile_model.coef_,tile_model.intercept_))"
   ]
  },
  {
   "cell_type": "code",
   "execution_count": 250,
   "id": "db618590",
   "metadata": {},
   "outputs": [
    {
     "data": {
      "text/plain": [
       "array([0.41013199, 0.41622034, 0.38937971, 0.41872281, 0.41850919,\n",
       "       0.40325016, 0.40350959])"
      ]
     },
     "execution_count": 250,
     "metadata": {},
     "output_type": "execute_result"
    }
   ],
   "source": [
    "clean_set_populated_tiles[tile_to_see][:,0]"
   ]
  },
  {
   "cell_type": "code",
   "execution_count": 52,
   "id": "a2102fea",
   "metadata": {},
   "outputs": [
    {
     "data": {
      "text/plain": [
       "[<matplotlib.lines.Line2D at 0x1bc8129af10>]"
      ]
     },
     "execution_count": 52,
     "metadata": {},
     "output_type": "execute_result"
    },
    {
     "data": {
      "image/png": "[encoded data removed]",
      "text/plain": [
       "<Figure size 432x288 with 1 Axes>"
      ]
     },
     "metadata": {
      "needs_background": "light"
     },
     "output_type": "display_data"
    }
   ],
   "source": [
    "tile_to_see = 1\n",
    "plt.plot(clean_set_populated_tiles[tile_to_see][:,0], clean_set_populated_tiles[tile_to_see][:,1], 'r+')"
   ]
  },
  {
   "cell_type": "code",
   "execution_count": 70,
   "id": "e027baa0",
   "metadata": {},
   "outputs": [
    {
     "data": {
      "text/plain": [
       "[<matplotlib.lines.Line2D at 0x1bc8195aee0>]"
      ]
     },
     "execution_count": 70,
     "metadata": {},
     "output_type": "execute_result"
    },
    {
     "data": {
      "image/png": "[encoded data removed]",
      "text/plain": [
       "<Figure size 432x288 with 1 Axes>"
      ]
     },
     "metadata": {
      "needs_background": "light"
     },
     "output_type": "display_data"
    }
   ],
   "source": [
    "tile_to_see = 2\n",
    "plt.plot(clean_set_populated_tiles[tile_to_see][:,1], tilewise_predicted_ans[tile_to_see], 'r+')\n",
    "#plt.plot(clean_set_populated_tiles[tile_to_see][:,1], clean_set_populated_tiles[tile_to_see][:,1], 'b+')"
   ]
  },
  {
   "cell_type": "code",
   "execution_count": 83,
   "id": "de9cc719-deed-43c2-89dc-bf2469936245",
   "metadata": {},
   "outputs": [
    {
     "data": {
      "text/plain": [
       "[<matplotlib.lines.Line2D at 0x1bc81ead5e0>]"
      ]
     },
     "execution_count": 83,
     "metadata": {},
     "output_type": "execute_result"
    },
    {
     "data": {
      "image/png": "[encoded data removed]",
      "text/plain": [
       "<Figure size 432x288 with 1 Axes>"
      ]
     },
     "metadata": {
      "needs_background": "light"
     },
     "output_type": "display_data"
    }
   ],
   "source": [
    "tile_to_see = 5\n",
    "plt.plot(clean_set_populated_tiles[tile_to_see][:,2], tilewise_predicted_ans[tile_to_see], 'r+')"
   ]
  },
  {
   "cell_type": "code",
   "execution_count": 84,
   "id": "1ad720e4-90e8-4781-a695-7f8288244924",
   "metadata": {},
   "outputs": [
    {
     "data": {
      "text/plain": [
       "[<matplotlib.lines.Line2D at 0x1bc81f0dfd0>]"
      ]
     },
     "execution_count": 84,
     "metadata": {},
     "output_type": "execute_result"
    },
    {
     "data": {
      "image/png": "[encoded data removed]",
      "text/plain": [
       "<Figure size 432x288 with 1 Axes>"
      ]
     },
     "metadata": {
      "needs_background": "light"
     },
     "output_type": "display_data"
    }
   ],
   "source": [
    "#tile_to_see = 3\n",
    "plt.plot(clean_set_populated_tiles[tile_to_see][:,2],clean_set_populated_tiles[tile_to_see][:,1], 'r+')"
   ]
  },
  {
   "cell_type": "code",
   "execution_count": 248,
   "id": "713f27fc",
   "metadata": {},
   "outputs": [
    {
     "data": {
      "text/plain": [
       "array([0.88176192, 0.87300062, 0.88654137, 0.87731377, 0.88263348,\n",
       "       0.86327857, 0.86903411])"
      ]
     },
     "execution_count": 248,
     "metadata": {},
     "output_type": "execute_result"
    }
   ],
   "source": []
  },
  {
   "cell_type": "code",
   "execution_count": 227,
   "id": "699baf96",
   "metadata": {},
   "outputs": [
    {
     "data": {
      "text/plain": [
       "[array([ 0.00625282, -0.00471236,  0.37400231, -3.85615472]),\n",
       " array([ 1.50269122e-03,  2.69825654e-03,  1.16866420e-01, -7.36193901e+00]),\n",
       " array([ 1.68431801e-03,  3.12456681e-03,  5.42479324e-02, -8.46470196e+00]),\n",
       " array([-3.44206782e-05, -4.27369550e-05,  9.33712399e-02,  9.92672640e-01]),\n",
       " array([-2.59873895e-05, -8.32511141e-05,  1.63007906e-01,  1.01409751e+00]),\n",
       " array([ 2.14794195e-03,  3.95282314e-03,  1.23249947e-01, -1.10342887e+01]),\n",
       " array([ 1.10982368e-02,  2.03839990e-02, -8.49207401e-02, -6.03213062e+01]),\n",
       " array([-1.37153770e-02,  1.03788005e-02,  3.86369208e-01,  1.06889511e+01]),\n",
       " array([ 1.85325277e-03,  3.52057350e-03, -2.48182437e-01, -9.54385686e+00]),\n",
       " array([ 0.00291561, -0.00220779, -0.02060273, -1.20395749]),\n",
       " array([-6.11225282e-03,  4.61042865e-03,  7.25436056e-02,  5.28336353e+00]),\n",
       " array([-1.12240226e-02,  8.45788633e-03,  1.61686091e-01,  9.01128046e+00])]"
      ]
     },
     "execution_count": 227,
     "metadata": {},
     "output_type": "execute_result"
    }
   ],
   "source": [
    "tilewise_anint_params"
   ]
  },
  {
   "cell_type": "code",
   "execution_count": 103,
   "id": "8b81908e",
   "metadata": {},
   "outputs": [
    {
     "data": {
      "text/plain": [
       "array([0.86861024, 0.84570469, 0.86712204, 0.88347758, 0.88531617,\n",
       "       0.87306076, 0.8920417 , 0.89579782, 0.8814027 , 0.88964559,\n",
       "       0.89103867, 0.88615816, 0.86624668, 0.84766921, 0.85985441,\n",
       "       0.87164139, 0.88523571, 0.87871385, 0.865728  , 0.87580316,\n",
       "       0.88028962, 0.87205164, 0.88429198, 0.87916508, 0.88103945,\n",
       "       0.86762454, 0.88866071, 0.89139838, 0.87323807, 0.8691184 ,\n",
       "       0.87000099, 0.86980758, 0.87394595, 0.86942465, 0.86344322,\n",
       "       0.87011774, 0.86863548, 0.8602103 , 0.86077177, 0.86348702,\n",
       "       0.86709305, 0.87128083, 0.87611472, 0.87474673, 0.87447169,\n",
       "       0.87815442, 0.86977078, 0.87279804, 0.86783539, 0.86854297,\n",
       "       0.87587821, 0.86116817, 0.85232783, 0.87129184, 0.87323727,\n",
       "       0.8840092 , 0.86613521, 0.87754616, 0.865564  , 0.86693974,\n",
       "       0.88903596, 0.88697697, 0.88932792, 0.88582588, 0.87847543,\n",
       "       0.87386256, 0.87279458, 0.8612733 , 0.87367854, 0.87008576,\n",
       "       0.84759607, 0.86314971, 0.88553202, 0.89305076, 0.87893761,\n",
       "       0.89505391, 0.89240712, 0.88996725, 0.88316104, 0.88720434,\n",
       "       0.8964227 , 0.8947119 , 0.8866849 , 0.86712226, 0.85945996,\n",
       "       0.87341183, 0.86822547, 0.88178722, 0.86267671, 0.87429693,\n",
       "       0.87874846, 0.88106246, 0.88326877, 0.89857623, 0.89123109,\n",
       "       0.88926833, 0.89256042, 0.88846404, 0.89957094, 0.89060476,\n",
       "       0.89634954, 0.89352387, 0.88896167, 0.89432728, 0.89327418,\n",
       "       0.89443238, 0.89339353, 0.88781247, 0.89800652, 0.89603997,\n",
       "       0.89051852, 0.89430364, 0.87854485, 0.88425091, 0.88430304,\n",
       "       0.87611472, 0.87198159, 0.88576125, 0.88270285, 0.87753798,\n",
       "       0.88950229, 0.88803143, 0.87154443, 0.87743   , 0.87705133,\n",
       "       0.87486686, 0.87332432, 0.88317564, 0.86940466, 0.88151165,\n",
       "       0.87192318, 0.88169929, 0.87835707, 0.87997032, 0.8574666 ,\n",
       "       0.88453177, 0.87341435, 0.87787805, 0.87743476, 0.88326244,\n",
       "       0.87061349, 0.87723411, 0.88561075, 0.8835409 , 0.87881574,\n",
       "       0.88731777, 0.89041574, 0.87709929, 0.87332534, 0.88993012,\n",
       "       0.88327374, 0.87697936, 0.86426011, 0.88871856, 0.87445922,\n",
       "       0.89343805, 0.89624634, 0.88743463, 0.86662425, 0.89470231,\n",
       "       0.8886976 , 0.8915137 , 0.89692027, 0.8924164 , 0.8847207 ,\n",
       "       0.88153997, 0.89027873, 0.8958222 , 0.88957664, 0.87341579,\n",
       "       0.89233467, 0.89056688, 0.88540266, 0.86984839, 0.8751852 ,\n",
       "       0.89599205, 0.87376386, 0.86913966, 0.86875897, 0.89727631])"
      ]
     },
     "execution_count": 103,
     "metadata": {},
     "output_type": "execute_result"
    }
   ],
   "source": [
    "clean_set[1, :]"
   ]
  },
  {
   "cell_type": "code",
   "execution_count": 102,
   "id": "8ee271e1",
   "metadata": {},
   "outputs": [
    {
     "name": "stdout",
     "output_type": "stream",
     "text": [
      "0.47136643528938293 0.8686102376276024\n",
      "0.4730601906776428 0.84570468552098\n",
      "0.47127488255500793 0.8671220395043767\n",
      "0.4764324426651001 0.8834775795050487\n",
      "0.4757000207901001 0.885316173816894\n",
      "0.4744029939174652 0.8730607583008568\n",
      "0.4773327112197876 0.8920416997915704\n",
      "0.4731059670448303 0.8957978243743224\n",
      "0.47885861992836 0.8814026955215518\n",
      "0.4758373498916626 0.8896455901225367\n",
      "0.4762951135635376 0.8910386664792902\n",
      "0.4747081696987152 0.8861581605292066\n",
      "0.46613261103630066 0.8662466847792931\n",
      "0.4744792878627777 0.8476692134598461\n",
      "0.4734569191932678 0.8598544124800044\n",
      "0.4635995924472809 0.8716413907195067\n",
      "0.4737316071987152 0.8852357100130588\n",
      "0.47084763646125793 0.8787138548191707\n",
      "0.47031357884407043 0.8657280029937003\n",
      "0.4757763147354126 0.8758031564389148\n",
      "0.4730601906776428 0.8802896219977748\n",
      "0.46730753779411316 0.8720516380306095\n",
      "0.4731364846229553 0.8842919841266452\n",
      "0.4731670022010803 0.8791650830258502\n",
      "0.4735789895057678 0.8810394528459989\n",
      "0.4723582863807678 0.8676245372664648\n",
      "0.4758831262588501 0.8886607121637105\n",
      "0.4736705720424652 0.891398376897196\n",
      "0.4756237268447876 0.8732380710238359\n",
      "0.4736553132534027 0.8691184022778954\n",
      "0.4724193215370178 0.8700009947193378\n",
      "0.4767223596572876 0.8698075767099543\n",
      "0.4739299714565277 0.8739459500938345\n",
      "0.4733958840370178 0.8694246494556988\n",
      "0.4740215241909027 0.863443218513609\n",
      "0.4722362160682678 0.870117737543147\n",
      "0.46977952122688293 0.8686354846110983\n",
      "0.4766155481338501 0.8602103007263638\n",
      "0.46547645330429077 0.8607717696513958\n",
      "0.47035935521125793 0.8634870196773335\n",
      "0.47086289525032043 0.867093050457288\n",
      "0.47153428196907043 0.8712808324768757\n",
      "0.46944379806518555 0.8761147208560648\n",
      "0.46707865595817566 0.8747467267990703\n",
      "0.4735026955604553 0.87447169269348\n",
      "0.4741283357143402 0.8781544201050291\n",
      "0.4734111428260803 0.8697707761797677\n",
      "0.4725108742713928 0.8727980431444748\n",
      "0.4723277688026428 0.8678353922412815\n",
      "0.47130540013313293 0.8685429653210547\n",
      "0.47154954075813293 0.8758782073237378\n",
      "0.47125962376594543 0.8611681713388815\n",
      "0.46829938888549805 0.8523278251301932\n",
      "0.47055771946907043 0.8712918393944555\n",
      "0.4721141457557678 0.8732372679770041\n",
      "0.46729227900505066 0.8840091980431078\n",
      "0.4727397561073303 0.8661352138402431\n",
      "0.4720531105995178 0.8775461606771284\n",
      "0.46961164474487305 0.8655639988385266\n",
      "0.4721599221229553 0.866939736060248\n",
      "0.4718394875526428 0.8890359647684811\n",
      "0.46907758712768555 0.8869769659713875\n",
      "0.47026780247688293 0.8893279155093133\n",
      "0.46962690353393555 0.8858258813467894\n",
      "0.46968793869018555 0.8784754301928573\n",
      "0.46773478388786316 0.8738625577920396\n",
      "0.47017624974250793 0.8727945771986035\n",
      "0.46738383173942566 0.8612733042239342\n",
      "0.47066453099250793 0.8736785428139104\n",
      "0.47029832005500793 0.8700857550938907\n",
      "0.46895551681518555 0.8475960697958285\n",
      "0.46910810470581055 0.863149711231683\n",
      "0.46840620040893555 0.8855320240474895\n",
      "0.46926069259643555 0.8930507635333493\n",
      "0.46430152654647827 0.8789376104222493\n",
      "0.46761271357536316 0.895053909796023\n",
      "0.46993210911750793 0.8924071218938353\n",
      "0.47043564915657043 0.8899672466004277\n",
      "0.46710917353630066 0.8831610407558034\n",
      "0.4721751809120178 0.8872043428817908\n",
      "0.4736705720424652 0.8964227016841468\n",
      "0.46819257736206055 0.8947118961015602\n",
      "0.46900129318237305 0.8866849015216683\n",
      "0.46697184443473816 0.8671222640688971\n",
      "0.46961164474487305 0.8594599555843\n",
      "0.46834516525268555 0.8734118289018626\n",
      "0.46767374873161316 0.8682254672087342\n",
      "0.46836042404174805 0.881787216062295\n",
      "0.4727702736854553 0.8626767077444564\n",
      "0.46953535079956055 0.8742969331168917\n",
      "0.46836042404174805 0.8787484637294496\n",
      "0.46721598505973816 0.8810624559017283\n",
      "0.47057297825813293 0.8832687657745755\n",
      "0.47142747044563293 0.8985762325450446\n",
      "0.47020676732063293 0.8912310864475121\n",
      "0.47037461400032043 0.8892683277246379\n",
      "0.47040513157844543 0.8925604236837035\n",
      "0.4737010896205902 0.8884640414616929\n",
      "0.46883344650268555 0.8995709400598785\n",
      "0.4724650979042053 0.8906047584801924\n",
      "0.47028306126594543 0.8963495405621941\n",
      "0.46810102462768555 0.8935238714884172\n",
      "0.4724498391151428 0.88896167285665\n",
      "0.47129014134407043 0.8943272760019492\n",
      "0.47148850560188293 0.8932741802765743\n",
      "0.47034409642219543 0.894432384985093\n",
      "0.4717021584510803 0.8933935274434193\n",
      "0.47049668431282043 0.8878124662888448\n",
      "0.47132065892219543 0.8980065158894789\n",
      "0.4722514748573303 0.896039966876096\n",
      "0.47042039036750793 0.8905185160539543\n",
      "0.46884870529174805 0.8943036363948041\n",
      "0.46865034103393555 0.8785448535207537\n",
      "0.46866559982299805 0.8842509065390559\n",
      "0.47022202610969543 0.884303040604859\n",
      "0.47080186009407043 0.8761147208560648\n",
      "0.47020676732063293 0.8719815861058559\n",
      "0.46808576583862305 0.8857612523880399\n",
      "0.47025254368782043 0.8827028451130373\n",
      "0.46945905685424805 0.8775379790405818\n",
      "0.46930646896362305 0.8895022851486932\n",
      "0.4722362160682678 0.8880314320579101\n",
      "0.47141221165657043 0.8715444274855609\n",
      "0.46805524826049805 0.8774300023261878\n",
      "0.47096970677375793 0.8770513348624218\n",
      "0.47147324681282043 0.8748668565483331\n",
      "0.46756693720817566 0.87332432214279\n",
      "0.47017624974250793 0.8831756358908885\n",
      "0.4724650979042053 0.8694046584954943\n",
      "0.4724956154823303 0.8815116501680015\n",
      "0.47067978978157043 0.871923184806562\n",
      "0.47098496556282043 0.881699292228657\n",
      "0.47040513157844543 0.8783570744646642\n",
      "0.46918439865112305 0.879970320147595\n",
      "0.46890974044799805 0.8574665962877998\n",
      "0.46968793869018555 0.8845317739842157\n",
      "0.47005417943000793 0.8734143468412735\n",
      "0.46889448165893555 0.8778780507793482\n",
      "0.47003892064094543 0.8774347601112195\n",
      "0.47104600071907043 0.8832624377348385\n",
      "0.46732279658317566 0.870613485971785\n",
      "0.46927595138549805 0.8772341082766935\n",
      "0.46816205978393555 0.8856107476309818\n",
      "0.46927595138549805 0.8835409036656994\n",
      "0.47060349583625793 0.8788157391047794\n",
      "0.47071030735969543 0.8873177669828626\n",
      "0.46956586837768555 0.8904157434327418\n",
      "0.47139695286750793 0.8770992932351631\n",
      "0.46767374873161316 0.8733253388647522\n",
      "0.46865034103393555 0.8899301218704649\n",
      "0.4725719094276428 0.883273743225857\n",
      "0.4727397561073303 0.876979355454055\n",
      "0.47080186009407043 0.8642601085789573\n",
      "0.4717784523963928 0.8887185551447869\n",
      "0.47142747044563293 0.8744592236961679\n",
      "0.47049668431282043 0.8934380471521443\n",
      "0.4717326760292053 0.8962463410451963\n",
      "0.4722209572792053 0.8874346289505629\n",
      "0.46985581517219543 0.8666242543788821\n",
      "0.46968793869018555 0.8947023135366605\n",
      "0.47119858860969543 0.8886976040121539\n",
      "0.46796369552612305 0.8915136965652928\n",
      "0.4729686379432678 0.8969202702969029\n",
      "0.47165635228157043 0.8924164001212244\n",
      "0.47003892064094543 0.8847207041362252\n",
      "0.46880292892456055 0.8815399713246865\n",
      "0.47078660130500793 0.8902787251067735\n",
      "0.47107651829719543 0.8958222045080825\n",
      "0.4717021584510803 0.8895766354193393\n",
      "0.46929121017456055 0.8734157851004289\n",
      "0.46991685032844543 0.89233466530449\n",
      "0.4725719094276428 0.8905668849109022\n",
      "0.46813154220581055 0.8854026567575302\n",
      "0.46926069259643555 0.8698483909061626\n",
      "0.46919965744018555 0.8751851958058612\n",
      "0.46784162521362305 0.8959920534777284\n",
      "0.46924543380737305 0.8737638639890907\n",
      "0.47112229466438293 0.8691396642533233\n",
      "0.4728007912635803 0.8687589746541443\n",
      "0.47110703587532043 0.897276305170253\n"
     ]
    }
   ],
   "source": [
    "for i in range(clean_set.shape[1]):\n",
    "    print(clean_set[0,i], clean_set[1,i])"
   ]
  },
  {
   "cell_type": "code",
   "execution_count": 7,
   "id": "5b564ea4",
   "metadata": {},
   "outputs": [],
   "source": [
    "def analytic_calibrator(stage_point_1, stage_point_2, image_point_1, image_point_2):\n",
    "\n",
    "    #Transforms the stage coordinates to image coordinates based on exactly two points\n",
    "    \n",
    "    #Set these values\n",
    "\n",
    "    #for John1\n",
    "    stage_start = np.array(stage_point_1) #These can be any two points for which the stage coordinates are known\n",
    "    stage_end = np.array(stage_point_2) #In the form (x,y) which is probably technically suboptimal but is definitely easier to read\n",
    "    image_start = np.array(image_point_1) #These must be the same two points on the image\n",
    "    image_end = np.array(image_point_2)\n",
    "    \n",
    "    #Do not touch\n",
    "    \n",
    "    #Transformation we want is distinctly stage coordinates -> image coordinates\n",
    "    \n",
    "    #We do this in three steps, taking advantage of the knowledge that both coordinate systems are square grids\n",
    "    \n",
    "    stage_calibration_vector = stage_end - stage_start #Our goal is to transform this stage vector into the image vector while preserving the square-gridness\n",
    "    image_calibration_vector = image_end - image_start #This tranformation should then be able to be applied to other points \n",
    "    \n",
    "    stage_cal_length = np.sqrt(stage_calibration_vector[0]**2 + stage_calibration_vector[1]**2)\n",
    "    image_cal_length = np.sqrt(image_calibration_vector[0]**2 + image_calibration_vector[1]**2)\n",
    "    stage_cal_normalised = np.array([(stage_calibration_vector[0]/stage_cal_length),(stage_calibration_vector[1]/stage_cal_length)])\n",
    "    image_cal_normalised = np.array([(image_calibration_vector[0]/image_cal_length),(image_calibration_vector[1]/image_cal_length)])\n",
    "    stage_to_image_scale = image_cal_length/stage_cal_length\n",
    "    #print(stage_to_image_scale)\n",
    "    #print(stage_calibration_vector)\n",
    "    #print(image_calibration_vector)\n",
    "    \n",
    "    theta_from_cos = np.arccos((stage_cal_normalised[0]*image_cal_normalised[0]) + (stage_cal_normalised[1]*image_cal_normalised[1]))\n",
    "    #print(stage_cal_normalised)\n",
    "    #print(image_cal_normalised)\n",
    "    #print(theta_from_cos)\n",
    "    theta = np.pi + np.arcsin((image_cal_normalised[1]-stage_cal_normalised[1]*np.cos(theta_from_cos))/stage_cal_normalised[0]) #There definitely exists a better way to do this but it works\n",
    "    \n",
    "    return stage_to_image_scale, theta, image_start[0], image_start[1]\n",
    "    \n",
    "    \n",
    "def transformer(probe_points, stage_to_image_scale, theta, x_offset, y_offset):\n",
    "    \n",
    "    #probe_x_list = []\n",
    "    #probe_y_list = []\n",
    "    #for i in range(len(probe_points)):\n",
    "        #probe_x_list.append(probe_points[i][0])\n",
    "        #probe_y_list.append(probe_points[i][1])\n",
    "        \n",
    "    #Now onto the actual transformation\n",
    "    probe_x_centred = probe_points[:,0] - stage_calibration_points[0][0]\n",
    "    probe_y_centred = probe_points[:,1] - stage_calibration_points[0][1]\n",
    "    #print(probe_x_centred)\n",
    "    #plt.plot(probe_x_centred, probe_y_centred, 'r+')   \n",
    "    \n",
    "    probe_x_scaled = probe_x_centred * stage_to_image_scale\n",
    "    probe_y_scaled = probe_y_centred * stage_to_image_scale\n",
    "    \n",
    "    #plt.plot(probe_x_scaled, probe_y_scaled, 'r+')\n",
    "    \n",
    "    probe_x_rotated = probe_x_scaled*np.cos(theta) + probe_y_scaled*np.sin(theta)\n",
    "    probe_y_rotated = probe_x_scaled*np.sin(theta) - probe_y_scaled*np.cos(theta)\n",
    "    \n",
    "    #plt.plot(probe_x_rotated, probe_y_rotated, 'r+')\n",
    "    \n",
    "    probe_x_placed = np.round(probe_x_rotated) + np.round(x_offset)\n",
    "    probe_y_placed = np.round(probe_y_rotated) + np.round(y_offset)\n",
    "    \n",
    "    #plt.plot(probe_x_placed, probe_y_placed, 'r+')\n",
    "    \n",
    "    probe_points_placed = []\n",
    "    for i in range(len(probe_points)):\n",
    "        #probe_points_placed.append((probe_x_placed[i], probe_y_placed[i],probe_x_placed[i], probe_y_placed[i],probe_y_placed[i]))\n",
    "        probe_points_placed.append((probe_x_placed[i], probe_y_placed[i]))\n",
    "    probe_points_placed = np.array(probe_points_placed)    \n",
    "    \n",
    "    #plt.plot(probe_points_placed[:,0],probe_points_placed[:,1], 'r+')\n",
    "    \n",
    "    return probe_points_placed\n"
   ]
  },
  {
   "cell_type": "code",
   "execution_count": 8,
   "id": "942dbc4b",
   "metadata": {},
   "outputs": [],
   "source": [
    "def transformer_for_opt(optimiser_points, stage_to_image_scale, theta, x_offset, y_offset):\n",
    "    \n",
    "    probe_x_list = []\n",
    "    probe_y_list = []\n",
    "    for i in range(int(len(optimiser_points)/2)):\n",
    "        probe_x_list.append(optimiser_points[2*i])\n",
    "        probe_y_list.append(optimiser_points[(2*i)+1])\n",
    "        \n",
    "    #Now onto the actual transformation\n",
    "    probe_x_centred = probe_x_list - stage_calibration_points[0][0]\n",
    "    probe_y_centred = probe_y_list - stage_calibration_points[0][1]\n",
    "    #print(probe_x_centred)\n",
    "    #plt.plot(probe_x_centred, probe_y_centred, 'r+')   \n",
    "    \n",
    "    probe_x_scaled = probe_x_centred * stage_to_image_scale\n",
    "    probe_y_scaled = probe_y_centred * stage_to_image_scale\n",
    "    \n",
    "    #plt.plot(probe_x_scaled, probe_y_scaled, 'r+')\n",
    "    \n",
    "    probe_x_rotated = probe_x_scaled*np.cos(theta) + probe_y_scaled*np.sin(theta)\n",
    "    probe_y_rotated = probe_x_scaled*np.sin(theta) - probe_y_scaled*np.cos(theta)\n",
    "    \n",
    "    #plt.plot(probe_x_rotated, probe_y_rotated, 'r+')\n",
    "    \n",
    "    probe_x_placed = np.round(probe_x_rotated) + x_offset\n",
    "    probe_y_placed = np.round(probe_y_rotated) + y_offset\n",
    "    \n",
    "    #plt.plot(probe_x_placed, probe_y_placed, 'r+')\n",
    "    \n",
    "    probe_points_placed = []\n",
    "    for i in range(int(len(optimiser_points)/2)):\n",
    "        #probe_points_placed.append((probe_x_placed[i], probe_y_placed[i],probe_x_placed[i], probe_y_placed[i],probe_y_placed[i]))\n",
    "        probe_points_placed.append(probe_x_placed[i])\n",
    "        probe_points_placed.append(probe_y_placed[i])\n",
    "    probe_points_placed = np.array(probe_points_placed)    \n",
    "    \n",
    "    #plt.plot(probe_points_placed[:,0],probe_points_placed[:,1], 'r+')\n",
    "    \n",
    "    return probe_points_placed"
   ]
  },
  {
   "cell_type": "code",
   "execution_count": 9,
   "id": "b864154d",
   "metadata": {},
   "outputs": [],
   "source": [
    "#probe_points[:,0]\n",
    "#transformer(probe_points, analytic_parameter_bundle[0], analytic_parameter_bundle[1], analytic_parameter_bundle[2], analytic_parameter_bundle[3])"
   ]
  },
  {
   "cell_type": "code",
   "execution_count": 10,
   "id": "581a48dc",
   "metadata": {},
   "outputs": [],
   "source": [
    "def statistical_calibrator():\n",
    "    \n",
    "    #Transforms the stage coordinates to image coordinates with the same methodology as above\n",
    "    #but finds the parameters for the transformation statistically using as many points as have been supplied\n",
    "    \n",
    "\n",
    "    \n",
    "    \n",
    "    #Find starting parameters, since I already have an approximate method for doing this, I may as well start the search off in very nearly the \"right place\" and search a relatively narrow range\n",
    "    \n",
    "    analytic_parameter_bundle = analytic_calibrator(stage_calibration_points[0], stage_calibration_points[1], image_calibration_points[0], image_calibration_points[1])\n",
    "    max_stage_to_image_scale = analytic_parameter_bundle[0]*2 #This should be easily large enough in each direction and scales\n",
    "    min_stage_to_image_scale = analytic_parameter_bundle[0]*-2 #in case in future this is used in a context with a very different scale factor\n",
    "    max_theta = analytic_parameter_bundle[1] + (np.pi/6) #Sixty degrees of play ought to be enough\n",
    "    min_theta = analytic_parameter_bundle[1] - (np.pi/6)\n",
    "    #max_x_centring = (analytic_parameter_bundle[2]*1.1) + 100*np.sign(analytic_parameter_bundle[2]) #This is less obvious\n",
    "    #min_x_centring = (analytic_parameter_bundle[2]*0.9) - 100*np.sign(analytic_parameter_bundle[2]) #but should work for most cases\n",
    "    #max_y_centring = (analytic_parameter_bundle[3]*1.1) + 100*np.sign(analytic_parameter_bundle[3])\n",
    "    #min_y_centring = (analytic_parameter_bundle[3]*0.9) - 100*np.sign(analytic_parameter_bundle[3])\n",
    "    max_x_offset = (analytic_parameter_bundle[2]*1.1) + 100*np.sign(analytic_parameter_bundle[2]) #These ranges are quite large\n",
    "    min_x_offset = (analytic_parameter_bundle[2]*0.9) - 100*np.sign(analytic_parameter_bundle[2]) #ultimately larger is better\n",
    "    max_y_offset = (analytic_parameter_bundle[3]*1.1) + 100*np.sign(analytic_parameter_bundle[3]) #so long as it still runs in a \n",
    "    min_y_offset = (analytic_parameter_bundle[3]*0.9) - 100*np.sign(analytic_parameter_bundle[3]) #reasonable time\n",
    "    \n",
    "    parameter_bounds = []\n",
    "    parameter_bounds.append([min_stage_to_image_scale,max_stage_to_image_scale])\n",
    "    parameter_bounds.append([min_theta,max_theta])\n",
    "    #parameter_bounds.append([min_x_centring,max_x_centring])\n",
    "    #parameter_bounds.append([min_y_centring,max_y_centring])\n",
    "    parameter_bounds.append([min_x_offset,max_x_offset])\n",
    "    parameter_bounds.append([min_y_offset,max_y_offset])\n",
    "    \n",
    "    genetic_parameters = differential_evolution(sum_of_squared_error, parameter_bounds, seed = 7, maxiter=1000, popsize=100).x #The seed is for the random number generator, setting it leads to stable results\n",
    "    \n",
    "    fitted_parameters, pcov = curve_fit(transformer_for_opt, stage_cal_points_for_opt, image_cal_points_for_opt, genetic_parameters)\n",
    "    return genetic_parameters, fitted_parameters"
   ]
  },
  {
   "cell_type": "code",
   "execution_count": 11,
   "id": "aaf73e6d",
   "metadata": {},
   "outputs": [],
   "source": [
    "def sum_of_squared_error(parameter_bundle):\n",
    "    #print(parameter_bundle)\n",
    "    image_points = transformer(stage_calibration_points, parameter_bundle[0], parameter_bundle[1], parameter_bundle[2], parameter_bundle[3])\n",
    "    total = 0\n",
    "    #print(image_points)\n",
    "    for i in range(len(image_points)):\n",
    "        total = total + ((image_points[i][0]-image_calibration_points[i][0])**2) + ((image_points[i][1]-image_calibration_points[i][1])**2)\n",
    "        #print(((image_points[i][0]-image_calibration_points[i][0])**2) + ((image_points[i][1]-image_calibration_points[i][1])**2))\n",
    "    return (total/len(image_points))"
   ]
  },
  {
   "cell_type": "code",
   "execution_count": 12,
   "id": "cebe3d16",
   "metadata": {},
   "outputs": [
    {
     "ename": "NameError",
     "evalue": "name 'analytic_calibrator' is not defined",
     "output_type": "error",
     "traceback": [
      "\u001b[1;31m---------------------------------------------------------------------------\u001b[0m",
      "\u001b[1;31mNameError\u001b[0m                                 Traceback (most recent call last)",
      "\u001b[1;32m~\\AppData\\Local\\Temp/ipykernel_16600/4167454890.py\u001b[0m in \u001b[0;36m<module>\u001b[1;34m\u001b[0m\n\u001b[0;32m      2\u001b[0m     \u001b[1;32mfor\u001b[0m \u001b[0mj\u001b[0m \u001b[1;32min\u001b[0m \u001b[0mrange\u001b[0m\u001b[1;33m(\u001b[0m\u001b[0mlen\u001b[0m\u001b[1;33m(\u001b[0m\u001b[0mstage_calibration_points\u001b[0m\u001b[1;33m)\u001b[0m\u001b[1;33m)\u001b[0m\u001b[1;33m:\u001b[0m\u001b[1;33m\u001b[0m\u001b[1;33m\u001b[0m\u001b[0m\n\u001b[0;32m      3\u001b[0m         \u001b[1;32mif\u001b[0m \u001b[0mi\u001b[0m \u001b[1;33m!=\u001b[0m \u001b[0mj\u001b[0m\u001b[1;33m:\u001b[0m\u001b[1;33m\u001b[0m\u001b[1;33m\u001b[0m\u001b[0m\n\u001b[1;32m----> 4\u001b[1;33m             \u001b[0manalytic_parameter_bundle\u001b[0m \u001b[1;33m=\u001b[0m \u001b[0manalytic_calibrator\u001b[0m\u001b[1;33m(\u001b[0m\u001b[0mstage_calibration_points\u001b[0m\u001b[1;33m[\u001b[0m\u001b[0mi\u001b[0m\u001b[1;33m]\u001b[0m\u001b[1;33m,\u001b[0m \u001b[0mstage_calibration_points\u001b[0m\u001b[1;33m[\u001b[0m\u001b[0mj\u001b[0m\u001b[1;33m]\u001b[0m\u001b[1;33m,\u001b[0m \u001b[0mimage_calibration_points\u001b[0m\u001b[1;33m[\u001b[0m\u001b[0mi\u001b[0m\u001b[1;33m]\u001b[0m\u001b[1;33m,\u001b[0m \u001b[0mimage_calibration_points\u001b[0m\u001b[1;33m[\u001b[0m\u001b[0mj\u001b[0m\u001b[1;33m]\u001b[0m\u001b[1;33m)\u001b[0m\u001b[1;33m\u001b[0m\u001b[1;33m\u001b[0m\u001b[0m\n\u001b[0m\u001b[0;32m      5\u001b[0m             \u001b[0mprint\u001b[0m\u001b[1;33m(\u001b[0m\u001b[0manalytic_parameter_bundle\u001b[0m\u001b[1;33m)\u001b[0m\u001b[1;33m\u001b[0m\u001b[1;33m\u001b[0m\u001b[0m\n\u001b[0;32m      6\u001b[0m             \u001b[0mprint\u001b[0m\u001b[1;33m(\u001b[0m\u001b[0msum_of_squared_error\u001b[0m\u001b[1;33m(\u001b[0m\u001b[0manalytic_parameter_bundle\u001b[0m\u001b[1;33m)\u001b[0m\u001b[1;33m)\u001b[0m\u001b[1;33m\u001b[0m\u001b[1;33m\u001b[0m\u001b[0m\n",
      "\u001b[1;31mNameError\u001b[0m: name 'analytic_calibrator' is not defined"
     ]
    }
   ],
   "source": [
    "for i in range(len(stage_calibration_points)):\n",
    "    for j in range(len(stage_calibration_points)):\n",
    "        if i != j:\n",
    "            analytic_parameter_bundle = analytic_calibrator(stage_calibration_points[i], stage_calibration_points[j], image_calibration_points[i], image_calibration_points[j])\n",
    "            print(analytic_parameter_bundle)\n",
    "            print(sum_of_squared_error(analytic_parameter_bundle))"
   ]
  },
  {
   "cell_type": "code",
   "execution_count": 18,
   "id": "a4aba8c2",
   "metadata": {},
   "outputs": [
    {
     "data": {
      "text/plain": [
       "13751.25"
      ]
     },
     "execution_count": 18,
     "metadata": {},
     "output_type": "execute_result"
    }
   ],
   "source": [
    "hand_parameters = np.array((0.77, 2.5, 7000, 8300))\n",
    "sum_of_squared_error(hand_parameters)"
   ]
  },
  {
   "cell_type": "code",
   "execution_count": 12,
   "id": "730e3b80",
   "metadata": {},
   "outputs": [
    {
     "name": "stderr",
     "output_type": "stream",
     "text": [
      "C:\\Users\\rwfbl\\anaconda3\\lib\\site-packages\\scipy\\optimize\\minpack.py:833: OptimizeWarning: Covariance of the parameters could not be estimated\n",
      "  warnings.warn('Covariance of the parameters could not be estimated',\n"
     ]
    },
    {
     "name": "stdout",
     "output_type": "stream",
     "text": [
      "(0.7842000987543746, 2.4854150249494142, 7105, 8468)\n",
      "30106.75\n",
      "[7.81023297e-01 2.50670615e+00 7.11400173e+03 8.47121119e+03]\n",
      "1062.5\n",
      "[7.81023297e-01 2.50670615e+00 7.11200000e+03 8.47050000e+03]\n",
      "1058.5\n"
     ]
    }
   ],
   "source": [
    "analytic_parameter_bundle = analytic_calibrator(stage_calibration_points[0], stage_calibration_points[1], image_calibration_points[0], image_calibration_points[1])\n",
    "genetic_parameter_bundle = statistical_calibrator()[0]\n",
    "curvefit_parameter_bundle = statistical_calibrator()[1]\n",
    "print(analytic_parameter_bundle)\n",
    "print(sum_of_squared_error(analytic_parameter_bundle))\n",
    "print(genetic_parameter_bundle)\n",
    "print(sum_of_squared_error(genetic_parameter_bundle))\n",
    "print(curvefit_parameter_bundle)\n",
    "print(sum_of_squared_error(curvefit_parameter_bundle))"
   ]
  },
  {
   "cell_type": "code",
   "execution_count": 24,
   "id": "121a40fd",
   "metadata": {},
   "outputs": [
    {
     "ename": "NameError",
     "evalue": "name 'genetic_parameter_bundle' is not defined",
     "output_type": "error",
     "traceback": [
      "\u001b[1;31m---------------------------------------------------------------------------\u001b[0m",
      "\u001b[1;31mNameError\u001b[0m                                 Traceback (most recent call last)",
      "\u001b[1;32m~\\AppData\\Local\\Temp/ipykernel_9632/3771020742.py\u001b[0m in \u001b[0;36m<module>\u001b[1;34m\u001b[0m\n\u001b[1;32m----> 1\u001b[1;33m \u001b[0mgenetic_parameter_bundle\u001b[0m \u001b[1;33m=\u001b[0m \u001b[0mstatistical_calibrator\u001b[0m\u001b[1;33m(\u001b[0m\u001b[1;33m)\u001b[0m\u001b[1;33m\u001b[0m\u001b[1;33m\u001b[0m\u001b[0m\n\u001b[0m",
      "\u001b[1;32m~\\AppData\\Local\\Temp/ipykernel_9632/320559748.py\u001b[0m in \u001b[0;36mstatistical_calibrator\u001b[1;34m()\u001b[0m\n\u001b[0;32m     33\u001b[0m     \u001b[0mgenetic_parameters\u001b[0m \u001b[1;33m=\u001b[0m \u001b[0mdifferential_evolution\u001b[0m\u001b[1;33m(\u001b[0m\u001b[0msum_of_squared_error\u001b[0m\u001b[1;33m,\u001b[0m \u001b[0mparameter_bounds\u001b[0m\u001b[1;33m,\u001b[0m \u001b[0mseed\u001b[0m \u001b[1;33m=\u001b[0m \u001b[1;36m7\u001b[0m\u001b[1;33m,\u001b[0m \u001b[0mmaxiter\u001b[0m\u001b[1;33m=\u001b[0m\u001b[1;36m1000\u001b[0m\u001b[1;33m,\u001b[0m \u001b[0mpopsize\u001b[0m\u001b[1;33m=\u001b[0m\u001b[1;36m100\u001b[0m\u001b[1;33m)\u001b[0m\u001b[1;33m.\u001b[0m\u001b[0mx\u001b[0m \u001b[1;31m#The seed is for the random number generator, setting it leads to stable results\u001b[0m\u001b[1;33m\u001b[0m\u001b[1;33m\u001b[0m\u001b[0m\n\u001b[0;32m     34\u001b[0m \u001b[1;33m\u001b[0m\u001b[0m\n\u001b[1;32m---> 35\u001b[1;33m     \u001b[0mfitted_parameters\u001b[0m\u001b[1;33m,\u001b[0m \u001b[0mpcov\u001b[0m \u001b[1;33m=\u001b[0m \u001b[0mcurve_fit\u001b[0m\u001b[1;33m(\u001b[0m\u001b[0mtransformer_for_opt\u001b[0m\u001b[1;33m,\u001b[0m \u001b[0mstage_cal_points_for_opt\u001b[0m\u001b[1;33m,\u001b[0m \u001b[0mimage_cal_points_for_opt\u001b[0m\u001b[1;33m,\u001b[0m \u001b[0mgenetic_parameter_bundle\u001b[0m\u001b[1;33m)\u001b[0m\u001b[1;33m\u001b[0m\u001b[1;33m\u001b[0m\u001b[0m\n\u001b[0m\u001b[0;32m     36\u001b[0m     \u001b[1;32mreturn\u001b[0m \u001b[0mgenetic_parameters\u001b[0m\u001b[1;33m,\u001b[0m \u001b[0mfitted_parameters\u001b[0m\u001b[1;33m\u001b[0m\u001b[1;33m\u001b[0m\u001b[0m\n",
      "\u001b[1;31mNameError\u001b[0m: name 'genetic_parameter_bundle' is not defined"
     ]
    }
   ],
   "source": [
    "genetic_parameter_bundle = statistical_calibrator()"
   ]
  },
  {
   "cell_type": "code",
   "execution_count": 23,
   "id": "61437c36",
   "metadata": {},
   "outputs": [
    {
     "ename": "NameError",
     "evalue": "name 'genetic_parameter_bundle' is not defined",
     "output_type": "error",
     "traceback": [
      "\u001b[1;31m---------------------------------------------------------------------------\u001b[0m",
      "\u001b[1;31mNameError\u001b[0m                                 Traceback (most recent call last)",
      "\u001b[1;32m~\\AppData\\Local\\Temp/ipykernel_9632/3011754263.py\u001b[0m in \u001b[0;36m<module>\u001b[1;34m\u001b[0m\n\u001b[1;32m----> 1\u001b[1;33m \u001b[0mgenetic_parameter_bundle\u001b[0m \u001b[1;33m=\u001b[0m \u001b[0mstatistical_calibrator\u001b[0m\u001b[1;33m(\u001b[0m\u001b[1;33m)\u001b[0m\u001b[1;33m\u001b[0m\u001b[1;33m\u001b[0m\u001b[0m\n\u001b[0m\u001b[0;32m      2\u001b[0m \u001b[0mprint\u001b[0m\u001b[1;33m(\u001b[0m\u001b[0msum_of_squared_error\u001b[0m\u001b[1;33m(\u001b[0m\u001b[0mgenetic_parameter_bundle\u001b[0m\u001b[1;33m)\u001b[0m\u001b[1;33m)\u001b[0m\u001b[1;33m\u001b[0m\u001b[1;33m\u001b[0m\u001b[0m\n\u001b[0;32m      3\u001b[0m \u001b[1;33m\u001b[0m\u001b[0m\n\u001b[0;32m      4\u001b[0m \u001b[0mprint\u001b[0m\u001b[1;33m(\u001b[0m\u001b[0msum_of_squared_error\u001b[0m\u001b[1;33m(\u001b[0m\u001b[0mfitted_parameters\u001b[0m\u001b[1;33m)\u001b[0m\u001b[1;33m)\u001b[0m\u001b[1;33m\u001b[0m\u001b[1;33m\u001b[0m\u001b[0m\n\u001b[0;32m      5\u001b[0m \u001b[0mprint\u001b[0m\u001b[1;33m(\u001b[0m\u001b[0mfitted_parameters\u001b[0m\u001b[1;33m)\u001b[0m\u001b[1;33m\u001b[0m\u001b[1;33m\u001b[0m\u001b[0m\n",
      "\u001b[1;32m~\\AppData\\Local\\Temp/ipykernel_9632/320559748.py\u001b[0m in \u001b[0;36mstatistical_calibrator\u001b[1;34m()\u001b[0m\n\u001b[0;32m     33\u001b[0m     \u001b[0mgenetic_parameters\u001b[0m \u001b[1;33m=\u001b[0m \u001b[0mdifferential_evolution\u001b[0m\u001b[1;33m(\u001b[0m\u001b[0msum_of_squared_error\u001b[0m\u001b[1;33m,\u001b[0m \u001b[0mparameter_bounds\u001b[0m\u001b[1;33m,\u001b[0m \u001b[0mseed\u001b[0m \u001b[1;33m=\u001b[0m \u001b[1;36m7\u001b[0m\u001b[1;33m,\u001b[0m \u001b[0mmaxiter\u001b[0m\u001b[1;33m=\u001b[0m\u001b[1;36m1000\u001b[0m\u001b[1;33m,\u001b[0m \u001b[0mpopsize\u001b[0m\u001b[1;33m=\u001b[0m\u001b[1;36m100\u001b[0m\u001b[1;33m)\u001b[0m\u001b[1;33m.\u001b[0m\u001b[0mx\u001b[0m \u001b[1;31m#The seed is for the random number generator, setting it leads to stable results\u001b[0m\u001b[1;33m\u001b[0m\u001b[1;33m\u001b[0m\u001b[0m\n\u001b[0;32m     34\u001b[0m \u001b[1;33m\u001b[0m\u001b[0m\n\u001b[1;32m---> 35\u001b[1;33m     \u001b[0mfitted_parameters\u001b[0m\u001b[1;33m,\u001b[0m \u001b[0mpcov\u001b[0m \u001b[1;33m=\u001b[0m \u001b[0mcurve_fit\u001b[0m\u001b[1;33m(\u001b[0m\u001b[0mtransformer_for_opt\u001b[0m\u001b[1;33m,\u001b[0m \u001b[0mstage_cal_points_for_opt\u001b[0m\u001b[1;33m,\u001b[0m \u001b[0mimage_cal_points_for_opt\u001b[0m\u001b[1;33m,\u001b[0m \u001b[0mgenetic_parameter_bundle\u001b[0m\u001b[1;33m)\u001b[0m\u001b[1;33m\u001b[0m\u001b[1;33m\u001b[0m\u001b[0m\n\u001b[0m\u001b[0;32m     36\u001b[0m     \u001b[1;32mreturn\u001b[0m \u001b[0mgenetic_parameters\u001b[0m\u001b[1;33m,\u001b[0m \u001b[0mfitted_parameters\u001b[0m\u001b[1;33m\u001b[0m\u001b[1;33m\u001b[0m\u001b[0m\n",
      "\u001b[1;31mNameError\u001b[0m: name 'genetic_parameter_bundle' is not defined"
     ]
    }
   ],
   "source": [
    "genetic_parameter_bundle = statistical_calibrator()\n",
    "print(sum_of_squared_error(genetic_parameter_bundle))\n",
    "\n",
    "print(sum_of_squared_error(fitted_parameters))\n",
    "print(fitted_parameters)"
   ]
  },
  {
   "cell_type": "code",
   "execution_count": 226,
   "id": "bb056ac9",
   "metadata": {},
   "outputs": [
    {
     "data": {
      "text/plain": [
       "array([13310, 33553])"
      ]
     },
     "execution_count": 226,
     "metadata": {},
     "output_type": "execute_result"
    }
   ],
   "source": [
    "stage_calibration_points[:][0]"
   ]
  },
  {
   "cell_type": "code",
   "execution_count": 468,
   "id": "aec8692f",
   "metadata": {},
   "outputs": [
    {
     "name": "stdout",
     "output_type": "stream",
     "text": [
      "[[6580.4973133  7389.73205911]\n",
      " [1668.4973133  1010.73205911]\n",
      " [1309.4973133  2962.73205911]\n",
      " [3251.4973133   951.73205911]]\n",
      "1148054.4409651242\n",
      "303629.35699871695\n",
      "9975130.431996152\n",
      "8483949.521356385\n"
     ]
    },
    {
     "data": {
      "text/plain": [
       "19910763.751316376"
      ]
     },
     "execution_count": 468,
     "metadata": {},
     "output_type": "execute_result"
    }
   ],
   "source": [
    "sum_of_squared_error(genetic_parameter_bundle)"
   ]
  },
  {
   "cell_type": "code",
   "execution_count": 13,
   "id": "fd0cc684",
   "metadata": {},
   "outputs": [],
   "source": [
    "def get_brightness(x,y,size): #Gets the mean brightness of a square extending size units out in each direction \n",
    "    brightness_array = []\n",
    "    for i in range((2*size)+1):\n",
    "        for j in range((2*size)+1):\n",
    "            brightness_array.append(image[y-size+i][x-size+j])\n",
    "            \n",
    "    #return np.mean(brightness_array)\n",
    "    return np.median(brightness_array)"
   ]
  },
  {
   "cell_type": "code",
   "execution_count": 14,
   "id": "bc8d7aa0",
   "metadata": {},
   "outputs": [],
   "source": [
    "#def mapping_func(anint_parameter_bundle):\n",
    "#    x = np.array(clean_set[2,:])\n",
    "#    y = np.array(clean_set[3,:])\n",
    "#    intensity = np.array(clean_set[0,:])\n",
    "#    x_offset, x_coeff, y_offset, y_coeff, intensity_offset, intensity_coeff, offset = anint_parameter_bundle\n",
    "#    anorthite_predicted = (x-x_offset)*x_coeff + (y-y_offset)*y_coeff + intensity_coeff*(intensity-intensity_offset)+offset \n",
    "#    return np.array(anorthite_predicted)"
   ]
  },
  {
   "cell_type": "code",
   "execution_count": 15,
   "id": "4916c208",
   "metadata": {},
   "outputs": [],
   "source": [
    "def mapping_func(anint_parameter_bundle):\n",
    "    x = np.array(clean_set[2,:])\n",
    "    y = np.array(clean_set[3,:])\n",
    "    intensity = np.array(clean_set[0,:])\n",
    "    x_coeff, y_coeff, intensity_coeff, offset = anint_parameter_bundle\n",
    "    anorthite_predicted = (x)*x_coeff + (y)*y_coeff + intensity_coeff*(intensity)+offset \n",
    "    return np.array(anorthite_predicted)"
   ]
  },
  {
   "cell_type": "code",
   "execution_count": 16,
   "id": "e8af6a0f",
   "metadata": {},
   "outputs": [],
   "source": [
    "def draw_marker(x,y,size, image): #Draws a marker on the image so you can check if you have selected the correct start and end points\n",
    "    for i in range((2*size)+1):\n",
    "        image[y-size+i][x] = 1\n",
    "    for j in range((2*size)+1):\n",
    "        image[y][x-size+j] = 1\n",
    "    return image"
   ]
  },
  {
   "cell_type": "code",
   "execution_count": 17,
   "id": "2a5037f2",
   "metadata": {},
   "outputs": [],
   "source": [
    "def get_anint_params(clean_set):\n",
    "    #anint parameter bundle  = x_offset, x_coefficient, y_offset, y_coefficient, intensity_offset, intensity_coefficient, offset\n",
    "#    parameter_bounds = []\n",
    "#    parameter_bounds.append([-5000,5000])\n",
    "#    parameter_bounds.append([-1/1000,1/1000])\n",
    "#    parameter_bounds.append([-5000,5000])\n",
    "#    parameter_bounds.append([-1/1000,1/1000])\n",
    "#    parameter_bounds.append([-1,1])\n",
    "#    parameter_bounds.append([-10,10])\n",
    "#    parameter_bounds.append([-10,10])\n",
    "    \n",
    "    parameter_bounds = []\n",
    "\n",
    "    parameter_bounds.append([-1/1000,1/1000])\n",
    "    parameter_bounds.append([-1/1000,1/1000])\n",
    "    parameter_bounds.append([-10,10])\n",
    "    parameter_bounds.append([-10,10])\n",
    "    \n",
    "    genetic_anint_parameters = differential_evolution(anint_sum_of_squared_error, parameter_bounds, seed = 7, maxiter=1000, popsize=100).x\n",
    "    return genetic_anint_parameters"
   ]
  },
  {
   "cell_type": "code",
   "execution_count": 18,
   "id": "977d53dd",
   "metadata": {},
   "outputs": [],
   "source": [
    "def anint_mean_squared_error(anint_parameter_bundle):\n",
    "    probe_ans = clean_set[1,:]\n",
    "    predicted_ans = mapping_func(anint_parameter_bundle)\n",
    "    point_errors = []\n",
    "    for i in range(len(probe_ans)):\n",
    "        point_errors.append((probe_ans[i]-predicted_ans[i])**2)\n",
    "    total_error = np.sum(point_errors)\n",
    "    return total_error/len(point_errors)"
   ]
  },
  {
   "cell_type": "code",
   "execution_count": 19,
   "id": "772268e1",
   "metadata": {},
   "outputs": [],
   "source": [
    "def get_expected_intensities(anint_parameter_bundle):\n",
    "    \n",
    "    x = np.array(clean_set[2,:])\n",
    "    y = np.array(clean_set[3,:])\n",
    "    anorthite = np.array(clean_set[1,:])\n",
    "    x_coeff, y_coeff, intensity_coeff, offset = anint_parameter_bundle\n",
    "    intensities = (anorthite - ((x)*x_coeff + (y)*y_coeff + offset))/intensity_coeff\n",
    "    \n",
    "    return intensities"
   ]
  },
  {
   "cell_type": "code",
   "execution_count": 20,
   "id": "0c3372bc",
   "metadata": {},
   "outputs": [],
   "source": [
    "def draw_intensity_squares(intensities, size):\n",
    "    for i in range(len(intensities)):\n",
    "        x = int(clean_set[2,i])\n",
    "        y = int(clean_set[3,i])\n",
    "        image[y-size-1:y+size+2,x-size-1:x+size+2] = 1\n",
    "        image[y-size:y+size+1,x-size:x+size+1] = intensities[i]\n",
    "        "
   ]
  },
  {
   "cell_type": "code",
   "execution_count": 21,
   "id": "1cfeca23",
   "metadata": {},
   "outputs": [],
   "source": [
    "def draw_intensity_comparison(intensities, size, column_spacing, filename):\n",
    "    height = int(np.ceil((np.sqrt(len(intensities))/10)))*10\n",
    "    width = int(np.ceil(len(intensities)/height))\n",
    "    units = 2*(size+1)\n",
    "    baseline = np.zeros((height*units, width*(3*units+column_spacing)))\n",
    "    for i in range(len(intensities)):\n",
    "        y_placement = units*np.mod(i, height) +size\n",
    "        x_placement = (3*units+column_spacing)*np.floor_divide(i, height) +size\n",
    "        baseline[y_placement-size:y_placement+size+1, x_placement-size: x_placement+size+1] = image[int(clean_set[3,i]-size):int(clean_set[3,i]+size+1),int(clean_set[2,i]-size):int(clean_set[2,i]+size+1)]\n",
    "        x_placement = x_placement + units\n",
    "        baseline[y_placement-size:y_placement+size+1, x_placement-size: x_placement+size+1] = clean_set[0,i]\n",
    "        x_placement = x_placement + units\n",
    "        baseline[y_placement-size:y_placement+size+1, x_placement-size: x_placement+size+1] = intensities[i]\n",
    "    name = filename+\".tif\"\n",
    "    baseline = baseline *((256*256)-1)\n",
    "    to_save = baseline.astype(np.uint16)\n",
    "    to_save = Image.fromarray(to_save)\n",
    "    to_save.save(name)\n",
    "    return baseline"
   ]
  },
  {
   "cell_type": "code",
   "execution_count": 22,
   "id": "742fa9a6",
   "metadata": {},
   "outputs": [
    {
     "ename": "NameError",
     "evalue": "name 'clean_set' is not defined",
     "output_type": "error",
     "traceback": [
      "\u001b[1;31m---------------------------------------------------------------------------\u001b[0m",
      "\u001b[1;31mNameError\u001b[0m                                 Traceback (most recent call last)",
      "\u001b[1;32m~\\AppData\\Local\\Temp/ipykernel_5828/2596186990.py\u001b[0m in \u001b[0;36m<module>\u001b[1;34m\u001b[0m\n\u001b[0;32m      1\u001b[0m \u001b[0msize\u001b[0m \u001b[1;33m=\u001b[0m \u001b[1;36m4\u001b[0m\u001b[1;33m\u001b[0m\u001b[1;33m\u001b[0m\u001b[0m\n\u001b[1;32m----> 2\u001b[1;33m \u001b[1;32mfor\u001b[0m \u001b[0mi\u001b[0m \u001b[1;32min\u001b[0m \u001b[0mrange\u001b[0m\u001b[1;33m(\u001b[0m\u001b[0mlen\u001b[0m\u001b[1;33m(\u001b[0m\u001b[0mclean_set\u001b[0m\u001b[1;33m[\u001b[0m\u001b[1;36m3\u001b[0m\u001b[1;33m]\u001b[0m\u001b[1;33m)\u001b[0m\u001b[1;33m)\u001b[0m\u001b[1;33m:\u001b[0m\u001b[1;33m\u001b[0m\u001b[1;33m\u001b[0m\u001b[0m\n\u001b[0m\u001b[0;32m      3\u001b[0m     \u001b[0mprint\u001b[0m\u001b[1;33m(\u001b[0m\u001b[0mi\u001b[0m\u001b[1;33m)\u001b[0m\u001b[1;33m\u001b[0m\u001b[1;33m\u001b[0m\u001b[0m\n\u001b[0;32m      4\u001b[0m     \u001b[0mprint\u001b[0m\u001b[1;33m(\u001b[0m\u001b[0mimage\u001b[0m\u001b[1;33m[\u001b[0m\u001b[0mint\u001b[0m\u001b[1;33m(\u001b[0m\u001b[0mclean_set\u001b[0m\u001b[1;33m[\u001b[0m\u001b[1;36m3\u001b[0m\u001b[1;33m,\u001b[0m\u001b[0mi\u001b[0m\u001b[1;33m]\u001b[0m\u001b[1;33m-\u001b[0m\u001b[0msize\u001b[0m\u001b[1;33m)\u001b[0m\u001b[1;33m:\u001b[0m\u001b[0mint\u001b[0m\u001b[1;33m(\u001b[0m\u001b[0mclean_set\u001b[0m\u001b[1;33m[\u001b[0m\u001b[1;36m3\u001b[0m\u001b[1;33m,\u001b[0m\u001b[0mi\u001b[0m\u001b[1;33m]\u001b[0m\u001b[1;33m+\u001b[0m\u001b[0msize\u001b[0m\u001b[1;33m+\u001b[0m\u001b[1;36m1\u001b[0m\u001b[1;33m)\u001b[0m\u001b[1;33m,\u001b[0m\u001b[0mint\u001b[0m\u001b[1;33m(\u001b[0m\u001b[0mclean_set\u001b[0m\u001b[1;33m[\u001b[0m\u001b[1;36m2\u001b[0m\u001b[1;33m,\u001b[0m\u001b[0mi\u001b[0m\u001b[1;33m]\u001b[0m\u001b[1;33m-\u001b[0m\u001b[0msize\u001b[0m\u001b[1;33m)\u001b[0m\u001b[1;33m:\u001b[0m\u001b[0mint\u001b[0m\u001b[1;33m(\u001b[0m\u001b[0mclean_set\u001b[0m\u001b[1;33m[\u001b[0m\u001b[1;36m2\u001b[0m\u001b[1;33m,\u001b[0m\u001b[0mi\u001b[0m\u001b[1;33m]\u001b[0m\u001b[1;33m+\u001b[0m\u001b[0msize\u001b[0m\u001b[1;33m+\u001b[0m\u001b[1;36m1\u001b[0m\u001b[1;33m)\u001b[0m\u001b[1;33m]\u001b[0m\u001b[1;33m)\u001b[0m\u001b[1;33m\u001b[0m\u001b[1;33m\u001b[0m\u001b[0m\n",
      "\u001b[1;31mNameError\u001b[0m: name 'clean_set' is not defined"
     ]
    }
   ],
   "source": [
    "size = 4\n",
    "for i in range(len(clean_set[3])):\n",
    "    print(i)\n",
    "    print(image[int(clean_set[3,i]-size):int(clean_set[3,i]+size+1),int(clean_set[2,i]-size):int(clean_set[2,i]+size+1)])\n"
   ]
  },
  {
   "cell_type": "code",
   "execution_count": 156,
   "id": "858235d7",
   "metadata": {},
   "outputs": [
    {
     "data": {
      "text/plain": [
       "array([[27709.99904752, 27915.9998104 , 28117.00064957, ...,\n",
       "            0.        ,     0.        ,     0.        ],\n",
       "       [28029.00003925, 28190.99952042, 28304.99973401, ...,\n",
       "            0.        ,     0.        ,     0.        ],\n",
       "       [28298.99982557, 28338.99921522, 28415.99999338, ...,\n",
       "            0.        ,     0.        ,     0.        ],\n",
       "       ...,\n",
       "       [33052.99954981, 32744.00035858, 33360.99875629, ...,\n",
       "            0.        ,     0.        ,     0.        ],\n",
       "       [32467.00067908, 33044.99967188, 32675.99944308, ...,\n",
       "            0.        ,     0.        ,     0.        ],\n",
       "       [    0.        ,     0.        ,     0.        , ...,\n",
       "            0.        ,     0.        ,     0.        ]])"
      ]
     },
     "execution_count": 156,
     "metadata": {},
     "output_type": "execute_result"
    }
   ],
   "source": [
    "draw_intensity_comparison(get_expected_intensities(multi_lin_reg_parameter_bundle), 4, 9, \"intensity_comparison_wide\")"
   ]
  },
  {
   "cell_type": "code",
   "execution_count": 79,
   "id": "a5c4d81e",
   "metadata": {},
   "outputs": [],
   "source": [
    "draw_intensity_squares(get_expected_intensities(multi_lin_reg_parameter_bundle), 4)\n"
   ]
  },
  {
   "cell_type": "code",
   "execution_count": 90,
   "id": "d9998b48",
   "metadata": {},
   "outputs": [
    {
     "data": {
      "text/plain": [
       "9"
      ]
     },
     "execution_count": 90,
     "metadata": {},
     "output_type": "execute_result"
    }
   ],
   "source": [
    "len(image[0, 5-4:5+4+1])"
   ]
  },
  {
   "cell_type": "code",
   "execution_count": 80,
   "id": "1d2d1ada",
   "metadata": {},
   "outputs": [],
   "source": [
    "to_save = Image.fromarray(image)\n",
    "to_save.save('expected_intensities.tif')"
   ]
  },
  {
   "cell_type": "code",
   "execution_count": 42,
   "id": "291c6653",
   "metadata": {},
   "outputs": [],
   "source": [
    "anint_parameter_bundle = get_anint_params(clean_set)"
   ]
  },
  {
   "cell_type": "code",
   "execution_count": 43,
   "id": "c22f2ee1",
   "metadata": {},
   "outputs": [
    {
     "name": "stdout",
     "output_type": "stream",
     "text": [
      "[-2.50548905e-07 -2.42361589e-06  1.54623054e-01  8.06373510e-01]\n"
     ]
    }
   ],
   "source": [
    "print(anint_parameter_bundle)"
   ]
  },
  {
   "cell_type": "code",
   "execution_count": 28,
   "id": "08ef9570",
   "metadata": {},
   "outputs": [],
   "source": []
  },
  {
   "cell_type": "code",
   "execution_count": 195,
   "id": "352ab143",
   "metadata": {},
   "outputs": [
    {
     "data": {
      "text/plain": [
       "LinearRegression()"
      ]
     },
     "execution_count": 195,
     "metadata": {},
     "output_type": "execute_result"
    }
   ],
   "source": [
    "model = LinearRegression()\n",
    "independents = np.transpose(np.array([clean_set[2], clean_set[3], clean_set[0]]))\n",
    "dependents = clean_set[1]\n",
    "#ind_train, ind_test, dep_train, dep_test = train_test_split( \n",
    "#    independents, dependents, test_size=0.3, random_state=7) \n",
    "model.fit(independents, dependents)"
   ]
  },
  {
   "cell_type": "code",
   "execution_count": 196,
   "id": "a3e3aba1",
   "metadata": {},
   "outputs": [
    {
     "name": "stdout",
     "output_type": "stream",
     "text": [
      "mean_squared_error for multi lin:  0.00010494980704605813\n"
     ]
    }
   ],
   "source": [
    "multi_lin_predict = model.predict(independents)\n",
    "#genetic_predict = mapping_func(anint_parameter_bundle)\n",
    "\n",
    "print('mean_squared_error for multi lin: ', mean_squared_error(clean_set[1], multi_lin_predict)) \n",
    "#print('mean_squared_error for genetic: ', mean_squared_error(clean_set[1], genetic_predict)) \n",
    "\n",
    "\n"
   ]
  },
  {
   "cell_type": "code",
   "execution_count": 47,
   "id": "fbd13e68",
   "metadata": {},
   "outputs": [],
   "source": [
    "multi_lin_reg_parameter_bundle = np.append(model.coef_,model.intercept_)"
   ]
  },
  {
   "cell_type": "code",
   "execution_count": 51,
   "id": "a3f90fb5",
   "metadata": {},
   "outputs": [
    {
     "data": {
      "text/plain": [
       "0.0001056652365439409"
      ]
     },
     "execution_count": 51,
     "metadata": {},
     "output_type": "execute_result"
    }
   ],
   "source": [
    "anint_mean_squared_error(multi_lin_reg_parameter_bundle)"
   ]
  },
  {
   "cell_type": "code",
   "execution_count": 41,
   "id": "3777d1ac",
   "metadata": {},
   "outputs": [
    {
     "data": {
      "text/plain": [
       "{'copy_X': True,\n",
       " 'fit_intercept': True,\n",
       " 'n_jobs': None,\n",
       " 'normalize': False,\n",
       " 'positive': False}"
      ]
     },
     "execution_count": 41,
     "metadata": {},
     "output_type": "execute_result"
    }
   ],
   "source": [
    "model.get_params()"
   ]
  },
  {
   "cell_type": "code",
   "execution_count": 193,
   "id": "e0ee1c30",
   "metadata": {},
   "outputs": [
    {
     "name": "stdout",
     "output_type": "stream",
     "text": [
      "0.8887208940848486 0.8643318406915288\n",
      "0.8995709400598785 0.84570468552098\n"
     ]
    }
   ],
   "source": [
    "print(np.max(multi_lin_predict), np.min(multi_lin_predict))\n",
    "#print(np.max(genetic_predict), np.min(genetic_predict))\n",
    "print(np.max(clean_set[1]), np.min(clean_set[1]))\n"
   ]
  },
  {
   "cell_type": "code",
   "execution_count": 267,
   "id": "489db54c",
   "metadata": {},
   "outputs": [
    {
     "data": {
      "text/plain": [
       "0.12148244095905869"
      ]
     },
     "execution_count": 267,
     "metadata": {},
     "output_type": "execute_result"
    }
   ],
   "source": [
    "model.score(independents, dependents)"
   ]
  },
  {
   "cell_type": "code",
   "execution_count": 165,
   "id": "6d9154ae",
   "metadata": {},
   "outputs": [
    {
     "name": "stdout",
     "output_type": "stream",
     "text": [
      "0.019572577291602063\n"
     ]
    }
   ],
   "source": [
    "print(anint_sum_of_squared_error(anint_parameter_bundle))"
   ]
  },
  {
   "cell_type": "code",
   "execution_count": 52,
   "id": "f31b2277",
   "metadata": {},
   "outputs": [
    {
     "name": "stdout",
     "output_type": "stream",
     "text": [
      "[-2.50548905e-07 -2.42361589e-06  1.54623054e-01  8.06373510e-01]\n"
     ]
    }
   ],
   "source": [
    "print(anint_parameter_bundle)"
   ]
  },
  {
   "cell_type": "code",
   "execution_count": null,
   "id": "e67c28f7",
   "metadata": {},
   "outputs": [],
   "source": [
    "#old anint params\n",
    "#[-2.28197631e+03 -2.18965047e-07  4.56878803e+02 -2.12759749e-06\n",
    "#  5.30254008e-01  1.11776470e+00  9.52672984e-01]"
   ]
  },
  {
   "cell_type": "code",
   "execution_count": 170,
   "id": "b5967d5b",
   "metadata": {},
   "outputs": [],
   "source": [
    "#for i in range(len(clean_set[1,:])):\n",
    "#    print(clean_set[0,i])"
   ]
  },
  {
   "cell_type": "code",
   "execution_count": 171,
   "id": "f7bace3f",
   "metadata": {},
   "outputs": [],
   "source": [
    "#predicted_ans = mapping_func(anint_parameter_bundle)\n",
    "#for i in range(len(clean_set[1,:])):\n",
    "#    print(predicted_ans[i])"
   ]
  },
  {
   "cell_type": "code",
   "execution_count": 197,
   "id": "b12522de",
   "metadata": {},
   "outputs": [
    {
     "data": {
      "text/plain": [
       "[<matplotlib.lines.Line2D at 0x1a901512670>]"
      ]
     },
     "execution_count": 197,
     "metadata": {},
     "output_type": "execute_result"
    },
    {
     "data": {
      "image/png": "[encoded data removed]",
      "text/plain": [
       "<Figure size 432x288 with 1 Axes>"
      ]
     },
     "metadata": {
      "needs_background": "light"
     },
     "output_type": "display_data"
    }
   ],
   "source": [
    "plt.plot(clean_set[1,0:181], (multi_lin_predict-clean_set[1,0:181]), 'r+')   "
   ]
  },
  {
   "cell_type": "code",
   "execution_count": 198,
   "id": "297fbdae",
   "metadata": {},
   "outputs": [
    {
     "data": {
      "text/plain": [
       "[<matplotlib.lines.Line2D at 0x1a9015755b0>]"
      ]
     },
     "execution_count": 198,
     "metadata": {},
     "output_type": "execute_result"
    },
    {
     "data": {
      "image/png": "[encoded data removed]",
      "text/plain": [
       "<Figure size 432x288 with 1 Axes>"
      ]
     },
     "metadata": {
      "needs_background": "light"
     },
     "output_type": "display_data"
    }
   ],
   "source": [
    "plt.plot(multi_lin_predict, (clean_set[1,0:181]-multi_lin_predict), 'r+')   "
   ]
  },
  {
   "cell_type": "code",
   "execution_count": 199,
   "id": "8c8d653b",
   "metadata": {},
   "outputs": [
    {
     "data": {
      "text/plain": [
       "[<matplotlib.lines.Line2D at 0x1a9015d2940>]"
      ]
     },
     "execution_count": 199,
     "metadata": {},
     "output_type": "execute_result"
    },
    {
     "data": {
      "image/png": "[encoded data removed]",
      "text/plain": [
       "<Figure size 432x288 with 1 Axes>"
      ]
     },
     "metadata": {
      "needs_background": "light"
     },
     "output_type": "display_data"
    }
   ],
   "source": [
    "plt.plot((clean_set[1,0:181]-multi_lin_predict), 'r+')   "
   ]
  },
  {
   "cell_type": "code",
   "execution_count": 200,
   "id": "953010ac",
   "metadata": {},
   "outputs": [
    {
     "data": {
      "text/plain": [
       "[<matplotlib.lines.Line2D at 0x1a90163a9a0>]"
      ]
     },
     "execution_count": 200,
     "metadata": {},
     "output_type": "execute_result"
    },
    {
     "data": {
      "image/png": "[encoded data removed]",
      "text/plain": [
       "<Figure size 432x288 with 1 Axes>"
      ]
     },
     "metadata": {
      "needs_background": "light"
     },
     "output_type": "display_data"
    }
   ],
   "source": [
    "plt.plot(multi_lin_predict, clean_set[1,0:181], 'r+')   "
   ]
  },
  {
   "cell_type": "code",
   "execution_count": 201,
   "id": "549fad1f",
   "metadata": {},
   "outputs": [
    {
     "data": {
      "text/plain": [
       "[<matplotlib.lines.Line2D at 0x1a901698a90>]"
      ]
     },
     "execution_count": 201,
     "metadata": {},
     "output_type": "execute_result"
    },
    {
     "data": {
      "image/png": "[encoded data removed]",
      "text/plain": [
       "<Figure size 432x288 with 1 Axes>"
      ]
     },
     "metadata": {
      "needs_background": "light"
     },
     "output_type": "display_data"
    }
   ],
   "source": [
    "plt.plot(multi_lin_predict, 'r+')"
   ]
  },
  {
   "cell_type": "code",
   "execution_count": 202,
   "id": "d98286f1",
   "metadata": {},
   "outputs": [
    {
     "data": {
      "text/plain": [
       "[<matplotlib.lines.Line2D at 0x1a9013d0c40>]"
      ]
     },
     "execution_count": 202,
     "metadata": {},
     "output_type": "execute_result"
    },
    {
     "data": {
      "image/png": "[encoded data removed]",
      "text/plain": [
       "<Figure size 432x288 with 1 Axes>"
      ]
     },
     "metadata": {
      "needs_background": "light"
     },
     "output_type": "display_data"
    }
   ],
   "source": [
    "plt.plot(clean_set[1,:], 'r+')"
   ]
  },
  {
   "cell_type": "code",
   "execution_count": 35,
   "id": "df190d9f",
   "metadata": {},
   "outputs": [
    {
     "data": {
      "text/plain": [
       "[<matplotlib.lines.Line2D at 0x1a90108cb50>]"
      ]
     },
     "execution_count": 35,
     "metadata": {},
     "output_type": "execute_result"
    },
    {
     "data": {
      "image/png": "[encoded data removed]",
      "text/plain": [
       "<Figure size 432x288 with 1 Axes>"
      ]
     },
     "metadata": {
      "needs_background": "light"
     },
     "output_type": "display_data"
    }
   ],
   "source": [
    "plt.plot(clean_set[0,:], 'r+')"
   ]
  },
  {
   "cell_type": "code",
   "execution_count": 154,
   "id": "85d440c4",
   "metadata": {},
   "outputs": [
    {
     "data": {
      "text/plain": [
       "[<matplotlib.lines.Line2D at 0x1a90131f130>]"
      ]
     },
     "execution_count": 154,
     "metadata": {},
     "output_type": "execute_result"
    },
    {
     "data": {
      "image/png": "[encoded data removed]",
      "text/plain": [
       "<Figure size 432x288 with 1 Axes>"
      ]
     },
     "metadata": {
      "needs_background": "light"
     },
     "output_type": "display_data"
    }
   ],
   "source": [
    "expected_intensities = get_expected_intensities(multi_lin_reg_parameter_bundle)\n",
    "plt.plot(expected_intensities, clean_set[0,:]-expected_intensities,  'r+')"
   ]
  },
  {
   "cell_type": "code",
   "execution_count": 48,
   "id": "f69bfa89",
   "metadata": {},
   "outputs": [
    {
     "data": {
      "text/plain": [
       "[<matplotlib.lines.Line2D at 0x23a9a21cee0>]"
      ]
     },
     "execution_count": 48,
     "metadata": {},
     "output_type": "execute_result"
    },
    {
     "data": {
      "image/png": "[encoded data removed]",
      "text/plain": [
       "<Figure size 432x288 with 1 Axes>"
      ]
     },
     "metadata": {
      "needs_background": "light"
     },
     "output_type": "display_data"
    }
   ],
   "source": [
    "plt.plot(probe_x_rotated, probe_y_rotated, 'r+')"
   ]
  },
  {
   "cell_type": "code",
   "execution_count": 49,
   "id": "469952a8",
   "metadata": {},
   "outputs": [
    {
     "data": {
      "text/plain": [
       "[<matplotlib.lines.Line2D at 0x23a9a039cd0>]"
      ]
     },
     "execution_count": 49,
     "metadata": {},
     "output_type": "execute_result"
    },
    {
     "data": {
      "image/png": "[encoded data removed]",
      "text/plain": [
       "<Figure size 432x288 with 1 Axes>"
      ]
     },
     "metadata": {
      "needs_background": "light"
     },
     "output_type": "display_data"
    }
   ],
   "source": [
    "plt.plot(probe_x_placed, probe_y_placed, 'r+')"
   ]
  },
  {
   "cell_type": "code",
   "execution_count": null,
   "id": "cfa102c0",
   "metadata": {},
   "outputs": [],
   "source": []
  }
 ],
 "metadata": {
  "kernelspec": {
   "display_name": "Python 3 (ipykernel)",
   "language": "python",
   "name": "python3"
  },
  "language_info": {
   "codemirror_mode": {
    "name": "ipython",
    "version": 3
   },
   "file_extension": ".py",
   "mimetype": "text/x-python",
   "name": "python",
   "nbconvert_exporter": "python",
   "pygments_lexer": "ipython3",
   "version": "3.9.7"
  }
 },
 "nbformat": 4,
 "nbformat_minor": 5
}
