{
 "cells": [
  {
   "cell_type": "markdown",
   "id": "6d7686b1",
   "metadata": {},
   "source": [
    "Okay this is going to be the python which converts the stitched tiff into an anorthite content map\n",
    "\n",
    "Basic principle\n",
    "\n",
    "import profile files\n",
    "find relevant profiles (this may end up being manual)\n",
    "find profile start and end points (this will definitely be manual)\n",
    "use start and end points to create mapping of stage x-stage y to tiff x tiff y\n",
    "Take half of the data. Find its anorthite content and BSE intensity\n",
    "Use that to create a BSE -> An function\n",
    "Test that function on the other half of the data\n",
    "Apply that function to the tif to generate an image coloured by anorthite content\n"
   ]
  },
  {
   "cell_type": "code",
   "execution_count": 567,
   "id": "67c19877",
   "metadata": {},
   "outputs": [],
   "source": [
    "import numpy as np\n",
    "import matplotlib.pyplot as plt\n",
    "import pandas as pd\n",
    "import glob\n",
    "from PIL import Image\n",
    "from IPython.display import Audio\n",
    "from scipy.optimize import curve_fit\n",
    "from scipy.optimize import differential_evolution\n",
    "#from sklearn.model_selection import train_test_split\n",
    "#from sklearn.neural_network import MLPRegressor\n",
    "#import warnings\n",
    "\n",
    "sound_file = './Eldritch_Blast.wav'"
   ]
  },
  {
   "cell_type": "code",
   "execution_count": 568,
   "id": "e7494ef9",
   "metadata": {},
   "outputs": [],
   "source": [
    "image = np.array(plt.imread('John1_stitched_high_res.png'))\n",
    "guidelines = 0\n",
    "if guidelines == 1:\n",
    "    for i in range(int(np.floor(image.shape[1]/10))):\n",
    "        if i/100 == np.floor(i/100):\n",
    "            image[::,10*i] = 1\n",
    "        elif i/10 == np.floor(i/10):\n",
    "            image[::,(10*i)] = 0.5\n",
    "        else:\n",
    "            image[::,(10*i)] = 0\n",
    "        \n",
    "    for j in range(int(np.floor(image.shape[0]/10))):\n",
    "        if j/100 == np.floor(j/100):\n",
    "            image[10*j,::] = 1\n",
    "        elif j/10 == np.floor(j/10):\n",
    "            image[(10*j),::] = 0.5\n",
    "        else:\n",
    "            image[(10*j),::] = 0\n",
    "#plt.imshow(image)\n",
    "\n",
    "#image = draw_marker(7085,8335,2,image)\n",
    "#image = draw_marker(1275,625,2,image)\n",
    "to_save = Image.fromarray(image)\n",
    "to_save.save('John1_gridlines_check.tif')"
   ]
  },
  {
   "cell_type": "code",
   "execution_count": 569,
   "id": "86f6f56f",
   "metadata": {},
   "outputs": [
    {
     "data": {
      "text/plain": [
       "1017.0"
      ]
     },
     "execution_count": 569,
     "metadata": {},
     "output_type": "execute_result"
    }
   ],
   "source": [
    "np.floor(image.shape[0]/10)"
   ]
  },
  {
   "cell_type": "code",
   "execution_count": 570,
   "id": "6a1c7da0",
   "metadata": {},
   "outputs": [],
   "source": [
    "raw_probe_data = pd.read_csv('./Mapping data/John1_profiles_cleaned.csv')\n",
    "row_cleaned = raw_probe_data[0:260] #For some reason there were three extra rows of nans and 2 columns\n",
    "column_cleaned = row_cleaned.iloc[:,0:14]\n",
    "probe_data = column_cleaned"
   ]
  },
  {
   "cell_type": "code",
   "execution_count": 571,
   "id": "dd0a5357",
   "metadata": {},
   "outputs": [],
   "source": [
    "#List of points being used for the calibration in the form (x,y), it is crucial that these are written in the same order in both lists\n",
    "#stage_calibration_points = np.array([(13310,33553),(13438,21243),(11160,23249),(15397,22668),(11507,22382)])\n",
    "#image_calibration_points = np.array([(7085,8335),(1275,625),(3675,870),(775,2485),(3022,476)])\n",
    "\n",
    "stage_calibration_points = np.array([(13310,33553),(13438,21243),(11160,23249),(15397,22668)])\n",
    "image_calibration_points = np.array([(7085,8335),(1275,625),(3675,870),(775,2485)])"
   ]
  },
  {
   "cell_type": "code",
   "execution_count": 572,
   "id": "516b1ae7",
   "metadata": {},
   "outputs": [
    {
     "name": "stdout",
     "output_type": "stream",
     "text": [
      "1.5200036556977325\n",
      "1.523597038160226\n"
     ]
    }
   ],
   "source": [
    "stage_profile_1 = stage_calibration_points[1]-stage_calibration_points[0]\n",
    "stage_profile_2 = stage_calibration_points[3]-stage_calibration_points[2]\n",
    "stage_angle = np.arccos(np.dot(stage_profile_1, stage_profile_2)/(np.linalg.norm(stage_profile_1)*np.linalg.norm(stage_profile_1)))\n",
    "print(stage_angle)\n",
    "image_profile_1 = image_calibration_points[1]-image_calibration_points[0]\n",
    "image_profile_2 = image_calibration_points[3]-image_calibration_points[2]\n",
    "image_angle = np.arccos(np.dot(image_profile_1, image_profile_2)/(np.linalg.norm(image_profile_1)*np.linalg.norm(image_profile_1)))\n",
    "print(image_angle)"
   ]
  },
  {
   "cell_type": "code",
   "execution_count": 573,
   "id": "19e3a249",
   "metadata": {
    "scrolled": true
   },
   "outputs": [],
   "source": [
    "#This weirdness is strange but necessary for the optimiser\n",
    "stage_cal_points_for_opt = []\n",
    "image_cal_points_for_opt = []\n",
    "\n",
    "for i in range(len(stage_calibration_points)):\n",
    "    stage_cal_points_for_opt.append(stage_calibration_points[i][0])\n",
    "    stage_cal_points_for_opt.append(stage_calibration_points[i][1])\n",
    "    image_cal_points_for_opt.append(image_calibration_points[i][0])\n",
    "    image_cal_points_for_opt.append(image_calibration_points[i][1])"
   ]
  },
  {
   "cell_type": "code",
   "execution_count": 549,
   "id": "d1ce47a9",
   "metadata": {},
   "outputs": [
    {
     "name": "stdout",
     "output_type": "stream",
     "text": [
      "255\n"
     ]
    }
   ],
   "source": [
    "image = np.array(plt.imread('John1_stitched_high_res.png'))\n",
    "\n",
    "probe_x_list = probe_data.iloc[:,9]\n",
    "#print(probe_x_list[0]) #for checking that the right column was selected\n",
    "probe_y_list = probe_data.iloc[:,10]\n",
    "probe_points = []\n",
    "for i in range(len(probe_data.iloc[:,9])):\n",
    "    probe_points.append((probe_data.iloc[i,9], probe_data.iloc[i,10]))\n",
    "    #print(i, probe_points[i])\n",
    "probe_points = np.array(probe_points)\n",
    "#probe_y_list[0]\n",
    "anorthite_list = (probe_data.iloc[:,4]/40.078)/((probe_data.iloc[:,4]/40.078)+(probe_data.iloc[:,1]/22.990)+(probe_data.iloc[:,6]/39.098))\n",
    "parameter_bundle = curvefit_parameter_bundle\n",
    "probe_points_placed = transformer(probe_points, parameter_bundle[0], parameter_bundle[1], parameter_bundle[2], parameter_bundle[3])\n",
    "show_points = 0\n",
    "if show_points == 1:\n",
    "    \n",
    "    #print(probe_points_placed)\n",
    "    for i in range(len(probe_points_placed)):\n",
    "        draw_marker(int(probe_points_placed[i][0]), int(probe_points_placed[i][1]),4,image)\n",
    "    for i in range(len(image_calibration_points)):\n",
    "        draw_marker(int(image_calibration_points[i][0]), int(image_calibration_points[i][1]),4,image)\n",
    "image_boosted = image *255\n",
    "to_save = image_boosted.astype(np.uint8)\n",
    "print(np.max(to_save))\n",
    "to_save = Image.fromarray(to_save)\n",
    "to_save.save('John1_curve_4points_png_test.png')"
   ]
  },
  {
   "cell_type": "code",
   "execution_count": 577,
   "id": "a262e6b9",
   "metadata": {},
   "outputs": [
    {
     "data": {
      "image/png": "[encoded data removed]",
      "text/plain": [
       "<Figure size 432x288 with 1 Axes>"
      ]
     },
     "metadata": {
      "needs_background": "light"
     },
     "output_type": "display_data"
    }
   ],
   "source": [
    "search_size = 2\n",
    "intensity_list = []\n",
    "for i in range(len(probe_points_placed)):\n",
    "    #print(probe_points_placed[i][0],' ',probe_points_placed[i][1])\n",
    "    intensity_list.append(get_brightness(int(probe_points_placed[i][0]),int(probe_points_placed[i][1]), search_size))\n",
    "#xlim=[0.3,0.6], ylim=[0.8,0.9]\n",
    "fig, ax = plt.subplots(1,1)\n",
    "intensity_list = np.array(intensity_list)\n",
    "ax.plot(intensity_list,anorthite_list , 'r+')\n",
    "#ax.set_xlim(0.45*255,0.5*255)\n",
    "#ax.set_ylim(0.8,0.93)\n",
    "plt.show()"
   ]
  },
  {
   "cell_type": "code",
   "execution_count": 575,
   "id": "8b81908e",
   "metadata": {},
   "outputs": [
    {
     "name": "stdout",
     "output_type": "stream",
     "text": [
      "0.5475242 , 0.7957421140671793\n",
      "0.47524223 , 0.8610115121475637\n",
      "0.4669566 , 0.8967952162988423\n",
      "0.46746013 , 0.8953740227313302\n",
      "0.48142213 , 0.8898618309441411\n",
      "0.4745861 , 0.8958689756122059\n",
      "0.47888914 , 0.8893052189440778\n",
      "0.48220035 , 0.8959142868001949\n",
      "0.48374152 , 0.8873196238585304\n",
      "0.4814832 , 0.8967286459894764\n",
      "0.4814832 , 0.8853610342154686\n",
      "0.47687495 , 0.8929849375375206\n",
      "0.4793469 , 0.8784663863373033\n",
      "0.47943845 , 0.8653693864245644\n",
      "0.47904173 , 0.8579747987982318\n",
      "0.47374687 , 0.850987522675457\n",
      "0.4751812 , 0.8785009167931062\n",
      "0.48250553 , 0.8728193077765598\n",
      "0.47449455 , 0.856850348183688\n",
      "0.48003358 , 0.8624564376770951\n",
      "0.47437248 , 0.8889692896892731\n",
      "0.47400627 , 0.878512867415377\n",
      "0.4800641 , 0.8855556319041891\n",
      "0.4790112 , 0.8959930709987899\n",
      "0.4846418 , 0.8981685325885076\n",
      "0.47795835 , 0.8949882888737517\n",
      "0.4822919 , 0.8968435941375865\n",
      "0.4839704 , 0.8615076576295108\n",
      "0.47672236 , 0.8774701320840231\n",
      "0.4764477 , 0.8689637075956221\n",
      "0.47351795 , 0.8695856989715427\n",
      "0.47296864 , 0.8699041318233366\n",
      "0.4805066 , 0.8653896598043647\n",
      "0.4806134 , 0.8698990972714098\n",
      "0.47470817 , 0.8650880426509533\n",
      "0.4757763 , 0.8613424298060125\n",
      "0.47330433 , 0.8718640572062021\n",
      "0.48468757 , 0.8718949931854482\n",
      "0.47595942 , 0.8291810014440745\n",
      "0.47400627 , 0.8675306447206435\n",
      "0.47818723 , 0.8646146674041385\n",
      "0.47959107 , 0.8724143323126513\n",
      "0.47653925 , 0.9076438448489936\n",
      "0.476112 , 0.9047778961571417\n",
      "0.46730754 , 0.8921998444369152\n",
      "0.46767375 , 0.8854542973143518\n",
      "0.4673991 , 0.8682880678612328\n",
      "0.46330968 , 0.8728037301366626\n",
      "0.46109712 , 0.8821777652852802\n",
      "0.47051194 , 0.8846270579242883\n",
      "0.47602046 , 0.8869571755320904\n",
      "0.47281605 , 0.9013100397620664\n",
      "0.46965742 , 0.890236302870994\n",
      "0.47263294 , 0.8977395486496754\n",
      "0.4741436 , 0.8751826298689139\n",
      "0.47595942 , 0.8975022636152308\n",
      "0.47568476 , 0.8892175693006278\n",
      "0.46288243 , 0.898135713049314\n",
      "0.46596476 , 0.8997497889591674\n",
      "0.46540016 , 0.8963494776427559\n",
      "0.47829404 , 0.8686102376276024\n",
      "0.47408256 , 0.84570468552098\n",
      "0.48206303 , 0.9104149616461378\n",
      "0.47312123 , 0.8671220395043767\n",
      "0.46895552 , 0.8834775795050487\n",
      "0.4780499 , 0.885316173816894\n",
      "0.46919966 , 0.8730607583008568\n",
      "0.48346686 , 0.8920416997915704\n",
      "0.4750286 , 0.8957978243743224\n",
      "0.47486076 , 0.9029955322015989\n",
      "0.47713435 , 0.8814026955215518\n",
      "0.47731745 , 0.8896455901225367\n",
      "0.4755169 , 0.8910386664792902\n",
      "0.4780194 , 0.8861581605292066\n",
      "0.4436408 , 0.8641564319131353\n",
      "0.4755932 , 0.8662466847792931\n",
      "0.4781262 , 0.8476692134598461\n",
      "0.47989625 , 0.8598544124800044\n",
      "0.31909665 , 0.8576769184952828\n",
      "0.47512016 , 0.8716413907195067\n",
      "0.48284122 , 0.8852357100130588\n",
      "0.4687419 , 0.8787138548191707\n",
      "0.4670939 , 0.8657280029937003\n",
      "0.47824827 , 0.8758031564389148\n",
      "0.47716486 , 0.8802896219977748\n",
      "0.4758221 , 0.8720516380306095\n",
      "0.47690547 , 0.8842919841266452\n",
      "0.4738079 , 0.8791650830258502\n",
      "0.46868086 , 0.8756143974425953\n",
      "0.4770428 , 0.8810394528459989\n",
      "0.47124436 , 0.8676245372664648\n",
      "0.47351795 , 0.8886607121637105\n",
      "0.4721294 , 0.891398376897196\n",
      "0.4687419 , 0.8732380710238359\n",
      "0.5059434 , 0.8624842801557161\n",
      "0.46947432 , 0.8691184022778954\n",
      "0.46883345 , 0.8700009947193378\n",
      "0.4790112 , 0.8698075767099543\n",
      "0.46834517 , 0.8739459500938345\n",
      "0.47705805 , 0.8694246494556988\n",
      "0.473991 , 0.863443218513609\n",
      "0.47278553 , 0.870117737543147\n",
      "0.4669871 , 0.8686354846110983\n",
      "0.47682917 , 0.8602103007263638\n",
      "0.3804532 , 0.8591500249961258\n",
      "0.46170747 , 0.8607717696513958\n",
      "0.47963685 , 0.8634870196773335\n",
      "0.47013047 , 0.867093050457288\n",
      "0.477409 , 0.8712808324768757\n",
      "0.48816663 , 0.8761147208560648\n",
      "0.46123445 , 0.8747467267990703\n",
      "0.48249027 , 0.87447169269348\n",
      "0.47161058 , 0.8781544201050291\n",
      "0.47667658 , 0.8697707761797677\n",
      "0.46652934 , 0.8727980431444748\n",
      "0.47724116 , 0.8678353922412815\n",
      "0.47191578 , 0.8685429653210547\n",
      "0.47359425 , 0.8614477478464789\n",
      "0.32007325 , 0.9159486654912968\n",
      "0.47519645 , 0.8758782073237378\n",
      "0.4612497 , 0.867058528684472\n",
      "0.4726482 , 0.8611681713388815\n",
      "0.46160066 , 0.8523278251301932\n",
      "0.48099488 , 0.8712918393944555\n",
      "0.47774473 , 0.8732372679770041\n",
      "0.4691844 , 0.7639152657015452\n",
      "0.5285725 , 0.8846224534605689\n",
      "0.46756694 , 0.8840091980431078\n",
      "0.3820554 , 0.879718309868135\n",
      "0.47922483 , 0.8661352138402431\n",
      "0.47675288 , 0.8775461606771284\n",
      "0.4760357 , 0.8655639988385266\n",
      "0.47446403 , 0.866939736060248\n",
      "0.46712443 , 0.8890359647684811\n",
      "0.4682536 , 0.8869769659713875\n",
      "0.47304493 , 0.8893279155093133\n",
      "0.4730144 , 0.8858258813467894\n",
      "0.47627985 , 0.8784754301928573\n",
      "0.46987107 , 0.8738625577920396\n",
      "0.4690318 , 0.8727945771986035\n",
      "0.4720989 , 0.8612733042239342\n",
      "0.48223087 , 0.8736785428139104\n",
      "0.473579 , 0.8700857550938907\n",
      "0.4745098 , 0.8475960697958285\n",
      "0.47017625 , 0.863149711231683\n",
      "0.4747387 , 0.8855320240474895\n",
      "0.47100022 , 0.8930507635333493\n",
      "0.4350805 , 0.8789376104222493\n",
      "0.46923018 , 0.895053909796023\n",
      "0.4766003 , 0.8924071218938353\n",
      "0.473167 , 0.8899672466004277\n",
      "0.46483558 , 0.8831610407558034\n",
      "0.47498283 , 0.8872043428817908\n",
      "0.48310062 , 0.8964227016841468\n",
      "0.47345692 , 0.8947118961015602\n",
      "0.4766003 , 0.8866849015216683\n",
      "0.46607158 , 0.8782569066226572\n",
      "0.46619365 , 0.8671222640688971\n",
      "0.47142747 , 0.9013130112382938\n",
      "0.47174793 , 0.8594599555843\n",
      "0.48671702 , 0.8734118289018626\n",
      "0.476524 , 0.8682254672087342\n",
      "0.47505912 , 0.9066066692813408\n",
      "0.473167 , 0.9039938358576137\n",
      "0.4716411 , 0.881787216062295\n",
      "0.4692912 , 0.8626767077444564\n",
      "0.46451515 , 0.8742969331168917\n",
      "0.45981535 , 0.8787484637294496\n",
      "0.46659037 , 0.8810624559017283\n",
      "0.4753643 , 0.8832687657745755\n",
      "0.4790875 , 0.8985762325450446\n",
      "0.47177845 , 0.8912310864475121\n",
      "0.46611735 , 0.8892683277246379\n",
      "0.47765318 , 0.8925604236837035\n",
      "0.46770427 , 0.8884640414616929\n",
      "0.46619365 , 0.8995709400598785\n",
      "0.47452506 , 0.8906047584801924\n",
      "0.48125428 , 0.8963495405621941\n",
      "0.46526283 , 0.8935238714884172\n",
      "0.47106126 , 0.88896167285665\n",
      "0.47512016 , 0.8943272760019492\n",
      "0.4705272 , 0.8932741802765743\n",
      "0.47837034 , 0.894432384985093\n",
      "0.4763409 , 0.8933935274434193\n",
      "0.47672236 , 0.8878124662888448\n",
      "0.47127488 , 0.8980065158894789\n",
      "0.4770428 , 0.896039966876096\n",
      "0.4704509 , 0.8905185160539543\n",
      "0.4630045 , 0.8943036363948041\n",
      "0.46317235 , 0.8785448535207537\n",
      "0.46541542 , 0.8842509065390559\n",
      "0.4706035 , 0.884303040604859\n",
      "0.4698253 , 0.8761147208560648\n",
      "0.47475395 , 0.8719815861058559\n",
      "0.47090867 , 0.8857612523880399\n",
      "0.47557792 , 0.8827028451130373\n",
      "0.472755 , 0.8775379790405818\n",
      "0.47675288 , 0.8895022851486932\n",
      "0.47647822 , 0.8880314320579101\n",
      "0.4784924 , 0.8715444274855609\n",
      "0.47310597 , 0.8774300023261878\n",
      "0.4779431 , 0.8770513348624218\n",
      "0.4823682 , 0.8748668565483331\n",
      "0.4711528 , 0.87332432214279\n",
      "0.47222096 , 0.8831756358908885\n",
      "0.47997254 , 0.8694046584954943\n",
      "0.47206837 , 0.8815116501680015\n",
      "0.47165635 , 0.871923184806562\n",
      "0.4728771 , 0.881699292228657\n",
      "0.47064927 , 0.8783570744646642\n",
      "0.46381322 , 0.879970320147595\n",
      "0.45403218 , 0.8574665962877998\n",
      "0.46440834 , 0.8845317739842157\n",
      "0.47444877 , 0.3174229353332182\n",
      "0.47206837 , 0.8734143468412735\n",
      "0.4806592 , 0.8778780507793482\n",
      "0.4808728 , 0.8774347601112195\n",
      "0.47978944 , 0.8832624377348385\n",
      "0.47505912 , 0.870613485971785\n",
      "0.47020677 , 0.8772341082766935\n",
      "0.47698176 , 0.8856107476309818\n",
      "0.47455558 , 0.8835409036656994\n",
      "0.46794844 , 0.8788157391047794\n",
      "0.46764323 , 0.8873177669828626\n",
      "0.47756162 , 0.8904157434327418\n",
      "0.47135118 , 0.8770992932351631\n",
      "0.47188526 , 0.8733253388647522\n",
      "0.47461662 , 0.8899301218704649\n",
      "0.47472343 , 0.883273743225857\n",
      "0.41544214 , 0.8822584462117525\n",
      "0.47560847 , 0.876979355454055\n",
      "0.4699016 , 0.8642601085789573\n",
      "0.47818723 , 0.8887185551447869\n",
      "0.47313648 , 0.8744592236961679\n",
      "0.47147325 , 0.8934380471521443\n",
      "0.47692072 , 0.8962463410451963\n",
      "0.47087815 , 0.8874346289505629\n",
      "0.4682994 , 0.8666242543788821\n",
      "0.46923018 , 0.8947023135366605\n",
      "0.47408256 , 0.8886976040121539\n",
      "0.48215458 , 0.8915136965652928\n",
      "0.48029298 , 0.48816944233341303\n",
      "0.4843366 , 0.8969202702969029\n",
      "0.47870603 , 0.8924164001212244\n",
      "0.47151902 , 0.8847207041362252\n",
      "0.47415885 , 0.8815399713246865\n",
      "0.47136644 , 0.8902787251067735\n",
      "0.472282 , 0.8958222045080825\n",
      "0.46887922 , 0.8895766354193393\n",
      "0.47248036 , 0.8734157851004289\n",
      "0.47620356 , 0.89233466530449\n",
      "0.4836347 , 0.8905668849109022\n",
      "0.46410316 , 0.8854026567575302\n",
      "0.4726482 , 0.8698483909061626\n",
      "0.47710383 , 0.8751851958058612\n",
      "0.48047608 , 0.8959920534777284\n",
      "0.4786755 , 0.8737638639890907\n",
      "0.4726482 , 0.8691396642533233\n",
      "0.47377738 , 0.8687589746541443\n",
      "0.47512016 , 0.897276305170253\n"
     ]
    }
   ],
   "source": [
    "for i in range(len(intensity_list)):\n",
    "    print(intensity_list[i], ',', anorthite_list[i])"
   ]
  },
  {
   "cell_type": "code",
   "execution_count": 547,
   "id": "5b564ea4",
   "metadata": {},
   "outputs": [],
   "source": [
    "def analytic_calibrator(stage_point_1, stage_point_2, image_point_1, image_point_2):\n",
    "\n",
    "    #Transforms the stage coordinates to image coordinates based on exactly two points\n",
    "    \n",
    "    #Set these values\n",
    "\n",
    "    #for John1\n",
    "    stage_start = np.array(stage_point_1) #These can be any two points for which the stage coordinates are known\n",
    "    stage_end = np.array(stage_point_2) #In the form (x,y) which is probably technically suboptimal but is definitely easier to read\n",
    "    image_start = np.array(image_point_1) #These must be the same two points on the image\n",
    "    image_end = np.array(image_point_2)\n",
    "    \n",
    "    #Do not touch\n",
    "    \n",
    "    #Transformation we want is distinctly stage coordinates -> image coordinates\n",
    "    \n",
    "    #We do this in three steps, taking advantage of the knowledge that both coordinate systems are square grids\n",
    "    \n",
    "    stage_calibration_vector = stage_end - stage_start #Our goal is to transform this stage vector into the image vector while preserving the square-gridness\n",
    "    image_calibration_vector = image_end - image_start #This tranformation should then be able to be applied to other points \n",
    "    \n",
    "    stage_cal_length = np.sqrt(stage_calibration_vector[0]**2 + stage_calibration_vector[1]**2)\n",
    "    image_cal_length = np.sqrt(image_calibration_vector[0]**2 + image_calibration_vector[1]**2)\n",
    "    stage_cal_normalised = np.array([(stage_calibration_vector[0]/stage_cal_length),(stage_calibration_vector[1]/stage_cal_length)])\n",
    "    image_cal_normalised = np.array([(image_calibration_vector[0]/image_cal_length),(image_calibration_vector[1]/image_cal_length)])\n",
    "    stage_to_image_scale = image_cal_length/stage_cal_length\n",
    "    #print(stage_to_image_scale)\n",
    "    #print(stage_calibration_vector)\n",
    "    #print(image_calibration_vector)\n",
    "    \n",
    "    theta_from_cos = np.arccos((stage_cal_normalised[0]*image_cal_normalised[0]) + (stage_cal_normalised[1]*image_cal_normalised[1]))\n",
    "    #print(stage_cal_normalised)\n",
    "    #print(image_cal_normalised)\n",
    "    #print(theta_from_cos)\n",
    "    theta = np.pi + np.arcsin((image_cal_normalised[1]-stage_cal_normalised[1]*np.cos(theta_from_cos))/stage_cal_normalised[0]) #There definitely exists a better way to do this but it works\n",
    "    \n",
    "    return stage_to_image_scale, theta, image_start[0], image_start[1]\n",
    "    \n",
    "    \n",
    "def transformer(probe_points, stage_to_image_scale, theta, x_offset, y_offset):\n",
    "    \n",
    "    #probe_x_list = []\n",
    "    #probe_y_list = []\n",
    "    #for i in range(len(probe_points)):\n",
    "        #probe_x_list.append(probe_points[i][0])\n",
    "        #probe_y_list.append(probe_points[i][1])\n",
    "        \n",
    "    #Now onto the actual transformation\n",
    "    probe_x_centred = probe_points[:,0] - stage_calibration_points[0][0]\n",
    "    probe_y_centred = probe_points[:,1] - stage_calibration_points[0][1]\n",
    "    #print(probe_x_centred)\n",
    "    #plt.plot(probe_x_centred, probe_y_centred, 'r+')   \n",
    "    \n",
    "    probe_x_scaled = probe_x_centred * stage_to_image_scale\n",
    "    probe_y_scaled = probe_y_centred * stage_to_image_scale\n",
    "    \n",
    "    #plt.plot(probe_x_scaled, probe_y_scaled, 'r+')\n",
    "    \n",
    "    probe_x_rotated = probe_x_scaled*np.cos(theta) + probe_y_scaled*np.sin(theta)\n",
    "    probe_y_rotated = probe_x_scaled*np.sin(theta) - probe_y_scaled*np.cos(theta)\n",
    "    \n",
    "    #plt.plot(probe_x_rotated, probe_y_rotated, 'r+')\n",
    "    \n",
    "    probe_x_placed = np.round(probe_x_rotated) + np.round(x_offset)\n",
    "    probe_y_placed = np.round(probe_y_rotated) + np.round(y_offset)\n",
    "    \n",
    "    #plt.plot(probe_x_placed, probe_y_placed, 'r+')\n",
    "    \n",
    "    probe_points_placed = []\n",
    "    for i in range(len(probe_points)):\n",
    "        #probe_points_placed.append((probe_x_placed[i], probe_y_placed[i],probe_x_placed[i], probe_y_placed[i],probe_y_placed[i]))\n",
    "        probe_points_placed.append((probe_x_placed[i], probe_y_placed[i]))\n",
    "    probe_points_placed = np.array(probe_points_placed)    \n",
    "    \n",
    "    #plt.plot(probe_points_placed[:,0],probe_points_placed[:,1], 'r+')\n",
    "    \n",
    "    return probe_points_placed\n"
   ]
  },
  {
   "cell_type": "code",
   "execution_count": 490,
   "id": "942dbc4b",
   "metadata": {},
   "outputs": [],
   "source": [
    "def transformer_for_opt(optimiser_points, stage_to_image_scale, theta, x_offset, y_offset):\n",
    "    \n",
    "    probe_x_list = []\n",
    "    probe_y_list = []\n",
    "    for i in range(int(len(optimiser_points)/2)):\n",
    "        probe_x_list.append(optimiser_points[2*i])\n",
    "        probe_y_list.append(optimiser_points[(2*i)+1])\n",
    "        \n",
    "    #Now onto the actual transformation\n",
    "    probe_x_centred = probe_x_list - stage_calibration_points[0][0]\n",
    "    probe_y_centred = probe_y_list - stage_calibration_points[0][1]\n",
    "    #print(probe_x_centred)\n",
    "    #plt.plot(probe_x_centred, probe_y_centred, 'r+')   \n",
    "    \n",
    "    probe_x_scaled = probe_x_centred * stage_to_image_scale\n",
    "    probe_y_scaled = probe_y_centred * stage_to_image_scale\n",
    "    \n",
    "    #plt.plot(probe_x_scaled, probe_y_scaled, 'r+')\n",
    "    \n",
    "    probe_x_rotated = probe_x_scaled*np.cos(theta) + probe_y_scaled*np.sin(theta)\n",
    "    probe_y_rotated = probe_x_scaled*np.sin(theta) - probe_y_scaled*np.cos(theta)\n",
    "    \n",
    "    #plt.plot(probe_x_rotated, probe_y_rotated, 'r+')\n",
    "    \n",
    "    probe_x_placed = np.round(probe_x_rotated) + x_offset\n",
    "    probe_y_placed = np.round(probe_y_rotated) + y_offset\n",
    "    \n",
    "    #plt.plot(probe_x_placed, probe_y_placed, 'r+')\n",
    "    \n",
    "    probe_points_placed = []\n",
    "    for i in range(int(len(optimiser_points)/2)):\n",
    "        #probe_points_placed.append((probe_x_placed[i], probe_y_placed[i],probe_x_placed[i], probe_y_placed[i],probe_y_placed[i]))\n",
    "        probe_points_placed.append(probe_x_placed[i])\n",
    "        probe_points_placed.append(probe_y_placed[i])\n",
    "    probe_points_placed = np.array(probe_points_placed)    \n",
    "    \n",
    "    #plt.plot(probe_points_placed[:,0],probe_points_placed[:,1], 'r+')\n",
    "    \n",
    "    return probe_points_placed"
   ]
  },
  {
   "cell_type": "code",
   "execution_count": 410,
   "id": "b864154d",
   "metadata": {},
   "outputs": [],
   "source": [
    "#probe_points[:,0]\n",
    "#transformer(probe_points, analytic_parameter_bundle[0], analytic_parameter_bundle[1], analytic_parameter_bundle[2], analytic_parameter_bundle[3])"
   ]
  },
  {
   "cell_type": "code",
   "execution_count": 511,
   "id": "581a48dc",
   "metadata": {},
   "outputs": [],
   "source": [
    "def statistical_calibrator():\n",
    "    \n",
    "    #Transforms the stage coordinates to image coordinates with the same methodology as above\n",
    "    #but finds the parameters for the transformation statistically using as many points as have been supplied\n",
    "    \n",
    "\n",
    "    \n",
    "    \n",
    "    #Find starting parameters, since I already have an approximate method for doing this, I may as well start the search off in very nearly the \"right place\" and search a relatively narrow range\n",
    "    \n",
    "    analytic_parameter_bundle = analytic_calibrator(stage_calibration_points[0], stage_calibration_points[1], image_calibration_points[0], image_calibration_points[1])\n",
    "    max_stage_to_image_scale = analytic_parameter_bundle[0]*2 #This should be easily large enough in each direction and scales\n",
    "    min_stage_to_image_scale = analytic_parameter_bundle[0]*-2 #in case in future this is used in a context with a very different scale factor\n",
    "    max_theta = analytic_parameter_bundle[1] + (np.pi/6) #Sixty degrees of play ought to be enough\n",
    "    min_theta = analytic_parameter_bundle[1] - (np.pi/6)\n",
    "    #max_x_centring = (analytic_parameter_bundle[2]*1.1) + 100*np.sign(analytic_parameter_bundle[2]) #This is less obvious\n",
    "    #min_x_centring = (analytic_parameter_bundle[2]*0.9) - 100*np.sign(analytic_parameter_bundle[2]) #but should work for most cases\n",
    "    #max_y_centring = (analytic_parameter_bundle[3]*1.1) + 100*np.sign(analytic_parameter_bundle[3])\n",
    "    #min_y_centring = (analytic_parameter_bundle[3]*0.9) - 100*np.sign(analytic_parameter_bundle[3])\n",
    "    max_x_offset = (analytic_parameter_bundle[2]*1.1) + 100*np.sign(analytic_parameter_bundle[2]) #These ranges are quite large\n",
    "    min_x_offset = (analytic_parameter_bundle[2]*0.9) - 100*np.sign(analytic_parameter_bundle[2]) #ultimately larger is better\n",
    "    max_y_offset = (analytic_parameter_bundle[3]*1.1) + 100*np.sign(analytic_parameter_bundle[3]) #so long as it still runs in a \n",
    "    min_y_offset = (analytic_parameter_bundle[3]*0.9) - 100*np.sign(analytic_parameter_bundle[3]) #reasonable time\n",
    "    \n",
    "    parameter_bounds = []\n",
    "    parameter_bounds.append([min_stage_to_image_scale,max_stage_to_image_scale])\n",
    "    parameter_bounds.append([min_theta,max_theta])\n",
    "    #parameter_bounds.append([min_x_centring,max_x_centring])\n",
    "    #parameter_bounds.append([min_y_centring,max_y_centring])\n",
    "    parameter_bounds.append([min_x_offset,max_x_offset])\n",
    "    parameter_bounds.append([min_y_offset,max_y_offset])\n",
    "    \n",
    "    genetic_parameters = differential_evolution(sum_of_squared_error, parameter_bounds, seed = 7, maxiter=1000, popsize=100).x #The seed is for the random number generator, setting it leads to stable results\n",
    "    \n",
    "    fitted_parameters, pcov = curve_fit(transformer_for_opt, stage_cal_points_for_opt, image_cal_points_for_opt, genetic_parameter_bundle)\n",
    "    return genetic_parameters, fitted_parameters"
   ]
  },
  {
   "cell_type": "code",
   "execution_count": 521,
   "id": "aaf73e6d",
   "metadata": {},
   "outputs": [],
   "source": [
    "def sum_of_squared_error(parameter_bundle):\n",
    "    #print(parameter_bundle)\n",
    "    image_points = transformer(stage_calibration_points, parameter_bundle[0], parameter_bundle[1], parameter_bundle[2], parameter_bundle[3])\n",
    "    total = 0\n",
    "    #print(image_points)\n",
    "    for i in range(len(image_points)):\n",
    "        total = total + ((image_points[i][0]-image_calibration_points[i][0])**2) + ((image_points[i][1]-image_calibration_points[i][1])**2)\n",
    "        #print(((image_points[i][0]-image_calibration_points[i][0])**2) + ((image_points[i][1]-image_calibration_points[i][1])**2))\n",
    "    return (total/len(image_points))"
   ]
  },
  {
   "cell_type": "code",
   "execution_count": 522,
   "id": "cebe3d16",
   "metadata": {},
   "outputs": [
    {
     "name": "stdout",
     "output_type": "stream",
     "text": [
      "(0.7842000987543746, 2.4854150249494142, 7085, 8335)\n",
      "29874.6\n",
      "(0.779691550484379, 2.9188049964784177, 7085, 8335)\n",
      "10480166.0\n",
      "(0.7763567387716962, 2.1289507545078923, 7085, 8335)\n",
      "8761592.0\n",
      "(0.7818554899584134, 2.8244681335169886, 7085, 8335)\n",
      "6287856.0\n",
      "(0.7842000987543746, 2.4854150249494142, 1275, 625)\n",
      "93941686.6\n",
      "(0.7947935743951965, 2.3178705117089793, 1275, 625)\n",
      "96739254.0\n",
      "(0.795073293072992, 4.346110722182312, 1275, 625)\n",
      "76941241.6\n",
      "(0.7820814418795089, 2.6937531138542448, 1275, 625)\n",
      "92028018.8\n",
      "(0.779691550484379, 2.9188049964784177, 3675, 870)\n",
      "75879035.0\n",
      "(0.7947935743951965, 2.3178705117089793, 3675, 870)\n",
      "65966185.0\n",
      "(0.7761616333578073, 3.5134398773746676, 3675, 870)\n",
      "88408436.2\n",
      "(0.8166695337019622, 1.7329841759144458, 3675, 870)\n",
      "62319884.0\n",
      "(0.7763567387716962, 2.1289507545078923, 775, 2485)\n",
      "83858304.0\n",
      "(0.795073293072992, 4.346110722182312, 775, 2485)\n",
      "60115817.6\n",
      "(0.7761616333578073, 3.5134398773746676, 775, 2485)\n",
      "54401543.2\n",
      "(0.7727595757592027, 3.944517752354871, 775, 2485)\n",
      "53295781.4\n",
      "(0.7818554899584134, 2.8244681335169886, 3022, 476)\n",
      "83167823.6\n",
      "(0.7820814418795089, 2.6937531138542448, 3022, 476)\n",
      "81266322.4\n",
      "(0.8166695337019622, 1.7329841759144458, 3022, 476)\n",
      "74060568.2\n",
      "(0.7727595757592027, 3.944517752354871, 3022, 476)\n",
      "93578961.4\n"
     ]
    }
   ],
   "source": [
    "for i in range(len(stage_calibration_points)):\n",
    "    for j in range(len(stage_calibration_points)):\n",
    "        if i != j:\n",
    "            analytic_parameter_bundle = analytic_calibrator(stage_calibration_points[i], stage_calibration_points[j], image_calibration_points[i], image_calibration_points[j])\n",
    "            print(analytic_parameter_bundle)\n",
    "            print(sum_of_squared_error(analytic_parameter_bundle))"
   ]
  },
  {
   "cell_type": "code",
   "execution_count": 527,
   "id": "a4aba8c2",
   "metadata": {},
   "outputs": [
    {
     "data": {
      "text/plain": [
       "13751.25"
      ]
     },
     "execution_count": 527,
     "metadata": {},
     "output_type": "execute_result"
    }
   ],
   "source": [
    "hand_parameters = np.array((0.77, 2.5, 7000, 8300))\n",
    "sum_of_squared_error(hand_parameters)"
   ]
  },
  {
   "cell_type": "code",
   "execution_count": 528,
   "id": "730e3b80",
   "metadata": {},
   "outputs": [
    {
     "name": "stdout",
     "output_type": "stream",
     "text": [
      "(0.7842000987543746, 2.4854150249494142, 7085, 8335)\n",
      "30106.75\n",
      "[7.80743331e-01 2.50615183e+00 7.09350000e+03 8.33349999e+03]\n",
      "1056.000000000076\n",
      "[7.80743331e-01 2.50615183e+00 7.09350000e+03 8.33350000e+03]\n",
      "1056.0\n"
     ]
    }
   ],
   "source": [
    "analytic_parameter_bundle = analytic_calibrator(stage_calibration_points[0], stage_calibration_points[1], image_calibration_points[0], image_calibration_points[1])\n",
    "genetic_parameter_bundle = statistical_calibrator()[0]\n",
    "curvefit_parameter_bundle = statistical_calibrator()[1]\n",
    "print(analytic_parameter_bundle)\n",
    "print(sum_of_squared_error(analytic_parameter_bundle))\n",
    "print(genetic_parameter_bundle)\n",
    "print(sum_of_squared_error(genetic_parameter_bundle))\n",
    "print(curvefit_parameter_bundle)\n",
    "print(sum_of_squared_error(curvefit_parameter_bundle))"
   ]
  },
  {
   "cell_type": "code",
   "execution_count": 509,
   "id": "121a40fd",
   "metadata": {},
   "outputs": [],
   "source": []
  },
  {
   "cell_type": "code",
   "execution_count": 420,
   "id": "61437c36",
   "metadata": {},
   "outputs": [
    {
     "name": "stdout",
     "output_type": "stream",
     "text": [
      "19921377.50017062\n",
      "19921377.5\n",
      "[ 6.55214834e-01 -6.60647216e-01  6.56125000e+03  7.41775000e+03]\n"
     ]
    }
   ],
   "source": [
    "genetic_parameter_bundle = statistical_calibrator()\n",
    "print(sum_of_squared_error(genetic_parameter_bundle))\n",
    "\n",
    "print(sum_of_squared_error(fitted_parameters))\n",
    "print(fitted_parameters)"
   ]
  },
  {
   "cell_type": "code",
   "execution_count": 226,
   "id": "bb056ac9",
   "metadata": {},
   "outputs": [
    {
     "data": {
      "text/plain": [
       "array([13310, 33553])"
      ]
     },
     "execution_count": 226,
     "metadata": {},
     "output_type": "execute_result"
    }
   ],
   "source": [
    "stage_calibration_points[:][0]"
   ]
  },
  {
   "cell_type": "code",
   "execution_count": 468,
   "id": "aec8692f",
   "metadata": {},
   "outputs": [
    {
     "name": "stdout",
     "output_type": "stream",
     "text": [
      "[[6580.4973133  7389.73205911]\n",
      " [1668.4973133  1010.73205911]\n",
      " [1309.4973133  2962.73205911]\n",
      " [3251.4973133   951.73205911]]\n",
      "1148054.4409651242\n",
      "303629.35699871695\n",
      "9975130.431996152\n",
      "8483949.521356385\n"
     ]
    },
    {
     "data": {
      "text/plain": [
       "19910763.751316376"
      ]
     },
     "execution_count": 468,
     "metadata": {},
     "output_type": "execute_result"
    }
   ],
   "source": [
    "sum_of_squared_error(genetic_parameter_bundle)"
   ]
  },
  {
   "cell_type": "code",
   "execution_count": 11,
   "id": "fd0cc684",
   "metadata": {},
   "outputs": [],
   "source": [
    "def get_brightness(x,y,size): #Gets the mean brightness of a square extending size units out in each direction \n",
    "    brightness_array = []\n",
    "    for i in range((2*size)+1):\n",
    "        for j in range((2*size)+1):\n",
    "            brightness_array.append(image[y-size+i][x-size+j])\n",
    "            \n",
    "    #return np.mean(brightness_array)\n",
    "    return np.median(brightness_array)"
   ]
  },
  {
   "cell_type": "code",
   "execution_count": 12,
   "id": "bc8d7aa0",
   "metadata": {},
   "outputs": [],
   "source": [
    "def mapping_func(x,y,x_coeff, y_coeff,x_offset,y_offset,intensity,intensity_coeff, intensity_offset, offset):\n",
    "    anorthite_predicted = (x-x_offset)*x_coeff + (y-y_offset)*y_coeff + intensity_coeff(intensity-intensity_offset)+offset \n",
    "    return anorthie_predicted"
   ]
  },
  {
   "cell_type": "code",
   "execution_count": 13,
   "id": "e8af6a0f",
   "metadata": {},
   "outputs": [],
   "source": [
    "def draw_marker(x,y,size, image): #Draws a marker on the image so you can check if you have selected the correct start and end points\n",
    "    for i in range((2*size)+1):\n",
    "        image[y-size+i][x] = 1\n",
    "    for j in range((2*size)+1):\n",
    "        image[y][x-size+j] = 1\n",
    "    return image"
   ]
  },
  {
   "cell_type": "code",
   "execution_count": null,
   "id": "2a5037f2",
   "metadata": {},
   "outputs": [],
   "source": []
  },
  {
   "cell_type": "code",
   "execution_count": null,
   "id": "977d53dd",
   "metadata": {},
   "outputs": [],
   "source": []
  },
  {
   "cell_type": "code",
   "execution_count": null,
   "id": "291c6653",
   "metadata": {},
   "outputs": [],
   "source": []
  },
  {
   "cell_type": "code",
   "execution_count": 46,
   "id": "b12522de",
   "metadata": {},
   "outputs": [
    {
     "data": {
      "text/plain": [
       "[<matplotlib.lines.Line2D at 0x23a99539e20>]"
      ]
     },
     "execution_count": 46,
     "metadata": {},
     "output_type": "execute_result"
    },
    {
     "data": {
      "image/png": "[encoded data removed]",
      "text/plain": [
       "<Figure size 432x288 with 1 Axes>"
      ]
     },
     "metadata": {
      "needs_background": "light"
     },
     "output_type": "display_data"
    }
   ],
   "source": [
    "plt.plot(probe_x_list, probe_y_list, 'r+')   "
   ]
  },
  {
   "cell_type": "code",
   "execution_count": 47,
   "id": "85d440c4",
   "metadata": {},
   "outputs": [
    {
     "data": {
      "text/plain": [
       "[<matplotlib.lines.Line2D at 0x23a99fdb490>]"
      ]
     },
     "execution_count": 47,
     "metadata": {},
     "output_type": "execute_result"
    },
    {
     "data": {
      "image/png": "[encoded data removed]",
      "text/plain": [
       "<Figure size 432x288 with 1 Axes>"
      ]
     },
     "metadata": {
      "needs_background": "light"
     },
     "output_type": "display_data"
    }
   ],
   "source": [
    "plt.plot(probe_x_centred, probe_y_centred, 'r+')"
   ]
  },
  {
   "cell_type": "code",
   "execution_count": 48,
   "id": "f69bfa89",
   "metadata": {},
   "outputs": [
    {
     "data": {
      "text/plain": [
       "[<matplotlib.lines.Line2D at 0x23a9a21cee0>]"
      ]
     },
     "execution_count": 48,
     "metadata": {},
     "output_type": "execute_result"
    },
    {
     "data": {
      "image/png": "[encoded data removed]",
      "text/plain": [
       "<Figure size 432x288 with 1 Axes>"
      ]
     },
     "metadata": {
      "needs_background": "light"
     },
     "output_type": "display_data"
    }
   ],
   "source": [
    "plt.plot(probe_x_rotated, probe_y_rotated, 'r+')"
   ]
  },
  {
   "cell_type": "code",
   "execution_count": 49,
   "id": "469952a8",
   "metadata": {},
   "outputs": [
    {
     "data": {
      "text/plain": [
       "[<matplotlib.lines.Line2D at 0x23a9a039cd0>]"
      ]
     },
     "execution_count": 49,
     "metadata": {},
     "output_type": "execute_result"
    },
    {
     "data": {
      "image/png": "[encoded data removed]",
      "text/plain": [
       "<Figure size 432x288 with 1 Axes>"
      ]
     },
     "metadata": {
      "needs_background": "light"
     },
     "output_type": "display_data"
    }
   ],
   "source": [
    "plt.plot(probe_x_placed, probe_y_placed, 'r+')"
   ]
  },
  {
   "cell_type": "code",
   "execution_count": null,
   "id": "cfa102c0",
   "metadata": {},
   "outputs": [],
   "source": []
  }
 ],
 "metadata": {
  "kernelspec": {
   "display_name": "Python 3 (ipykernel)",
   "language": "python",
   "name": "python3"
  },
  "language_info": {
   "codemirror_mode": {
    "name": "ipython",
    "version": 3
   },
   "file_extension": ".py",
   "mimetype": "text/x-python",
   "name": "python",
   "nbconvert_exporter": "python",
   "pygments_lexer": "ipython3",
   "version": "3.9.7"
  }
 },
 "nbformat": 4,
 "nbformat_minor": 5
}
