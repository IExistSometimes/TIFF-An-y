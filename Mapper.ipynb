{
 "cells": [
  {
   "cell_type": "markdown",
   "id": "6d7686b1",
   "metadata": {},
   "source": [
    "Okay this is going to be the python which converts the stitched tiff into an anorthite content map\n",
    "\n",
    "Basic principle\n",
    "\n",
    "import profile files\n",
    "find relevant profiles (this may end up being manual)\n",
    "find profile start and end points (this will definitely be manual)\n",
    "use start and end points to create mapping of stage x-stage y to tiff x tiff y\n",
    "Take half of the data. Find its anorthite content and BSE intensity\n",
    "Use that to create a BSE -> An function\n",
    "Test that function on the other half of the data\n",
    "Apply that function to the tif to generate an image coloured by anorthite content\n"
   ]
  },
  {
   "cell_type": "code",
   "execution_count": 2,
   "id": "67c19877",
   "metadata": {},
   "outputs": [],
   "source": [
    "import numpy as np\n",
    "import matplotlib.pyplot as plt\n",
    "import pandas as pd\n",
    "import glob\n",
    "from PIL import Image\n",
    "from IPython.display import Audio\n",
    "from scipy.optimize import curve_fit\n",
    "from scipy.optimize import differential_evolution\n",
    "from sklearn.linear_model import LinearRegression\n",
    "from sklearn.model_selection import train_test_split \n",
    "from sklearn.metrics import mean_squared_error, mean_absolute_error\n",
    "#from sklearn.model_selection import train_test_split\n",
    "#from sklearn.neural_network import MLPRegressor\n",
    "#import warnings\n",
    "\n",
    "sound_file = './Eldritch_Blast.wav'"
   ]
  },
  {
   "cell_type": "code",
   "execution_count": 3,
   "id": "e7494ef9",
   "metadata": {},
   "outputs": [],
   "source": [
    "make_guideline_fig = 1\n",
    "if make_guideline_fig == 1:\n",
    "    image = np.array(plt.imread('John3_geo_25x_lwremoved.png'))\n",
    "    guidelines = 1\n",
    "    if guidelines == 1:\n",
    "        for i in range(int(np.floor(image.shape[1]/10))):\n",
    "            if i/100 == np.floor(i/100):\n",
    "                image[::,10*i] = 1\n",
    "            elif i/10 == np.floor(i/10):\n",
    "                image[::,(10*i)] = 0.5\n",
    "            else:\n",
    "                image[::,(10*i)] = 0\n",
    "\n",
    "        for j in range(int(np.floor(image.shape[0]/10))):\n",
    "            if j/100 == np.floor(j/100):\n",
    "                image[10*j,::] = 1\n",
    "            elif j/10 == np.floor(j/10):\n",
    "                image[(10*j),::] = 0.5\n",
    "            else:\n",
    "                image[(10*j),::] = 0\n",
    "    #plt.imshow(image)\n",
    "\n",
    "    #image = draw_marker(7085,8335,2,image)\n",
    "    #image = draw_marker(1275,625,2,image)\n",
    "    to_save = Image.fromarray(image)\n",
    "    to_save.save('John3_grid.tif')"
   ]
  },
  {
   "cell_type": "code",
   "execution_count": 8,
   "id": "86f6f56f",
   "metadata": {},
   "outputs": [],
   "source": [
    "#np.floor(image.shape[0]/10)"
   ]
  },
  {
   "cell_type": "code",
   "execution_count": 41,
   "id": "6a1c7da0",
   "metadata": {},
   "outputs": [],
   "source": [
    "raw_probe_data = pd.read_csv('C:/Users/rwfbl/Mapping data/John1_profiles_cleaned.csv')\n",
    "row_cleaned = raw_probe_data[0:260] #For some reason there were three extra rows of nans and 2 columns\n",
    "column_cleaned = row_cleaned.iloc[:,0:14]\n",
    "probe_data = column_cleaned\n"
   ]
  },
  {
   "cell_type": "code",
   "execution_count": 3,
   "id": "235bd5fe",
   "metadata": {},
   "outputs": [
    {
     "data": {
      "text/html": [
       "<div>\n",
       "<style scoped>\n",
       "    .dataframe tbody tr th:only-of-type {\n",
       "        vertical-align: middle;\n",
       "    }\n",
       "\n",
       "    .dataframe tbody tr th {\n",
       "        vertical-align: top;\n",
       "    }\n",
       "\n",
       "    .dataframe thead th {\n",
       "        text-align: right;\n",
       "    }\n",
       "</style>\n",
       "<table border=\"1\" class=\"dataframe\">\n",
       "  <thead>\n",
       "    <tr style=\"text-align: right;\">\n",
       "      <th></th>\n",
       "      <th>DataSet/Point</th>\n",
       "      <th>Na_wt</th>\n",
       "      <th>Si_wt</th>\n",
       "      <th>Al_wt</th>\n",
       "      <th>Ca_wt</th>\n",
       "      <th>Fe_wt</th>\n",
       "      <th>K_wt</th>\n",
       "      <th>O_wt</th>\n",
       "      <th>Total_wt</th>\n",
       "      <th>X_stage</th>\n",
       "      <th>Y_stage</th>\n",
       "      <th>Comment</th>\n",
       "      <th>Distance (?)</th>\n",
       "      <th>Point#</th>\n",
       "    </tr>\n",
       "  </thead>\n",
       "  <tbody>\n",
       "    <tr>\n",
       "      <th>0</th>\n",
       "      <td>1 / 1 .</td>\n",
       "      <td>1.6953</td>\n",
       "      <td>22.8987</td>\n",
       "      <td>17.0869</td>\n",
       "      <td>11.5706</td>\n",
       "      <td>0.4166</td>\n",
       "      <td>0.0143</td>\n",
       "      <td>46.7369</td>\n",
       "      <td>100.5912</td>\n",
       "      <td>11507.0</td>\n",
       "      <td>22382.0</td>\n",
       "      <td>John1_KS_4_HRprofile_rtoc</td>\n",
       "      <td>0.00</td>\n",
       "      <td>1.0</td>\n",
       "    </tr>\n",
       "    <tr>\n",
       "      <th>1</th>\n",
       "      <td>1 / 2 .</td>\n",
       "      <td>1.1387</td>\n",
       "      <td>22.0708</td>\n",
       "      <td>17.6326</td>\n",
       "      <td>12.4077</td>\n",
       "      <td>0.3928</td>\n",
       "      <td>0.0174</td>\n",
       "      <td>46.3796</td>\n",
       "      <td>100.1715</td>\n",
       "      <td>11511.6</td>\n",
       "      <td>22384.0</td>\n",
       "      <td>John1_KS_4_HRprofile_rtoc</td>\n",
       "      <td>5.00</td>\n",
       "      <td>2.0</td>\n",
       "    </tr>\n",
       "    <tr>\n",
       "      <th>2</th>\n",
       "      <td>1 / 3 .</td>\n",
       "      <td>0.8577</td>\n",
       "      <td>21.3988</td>\n",
       "      <td>17.9469</td>\n",
       "      <td>12.9730</td>\n",
       "      <td>0.3807</td>\n",
       "      <td>-0.0022</td>\n",
       "      <td>46.0030</td>\n",
       "      <td>99.6661</td>\n",
       "      <td>11516.2</td>\n",
       "      <td>22385.9</td>\n",
       "      <td>John1_KS_4_HRprofile_rtoc</td>\n",
       "      <td>10.00</td>\n",
       "      <td>3.0</td>\n",
       "    </tr>\n",
       "    <tr>\n",
       "      <th>3</th>\n",
       "      <td>1 / 4 .</td>\n",
       "      <td>0.8577</td>\n",
       "      <td>21.4688</td>\n",
       "      <td>17.9519</td>\n",
       "      <td>12.9037</td>\n",
       "      <td>0.3431</td>\n",
       "      <td>0.0123</td>\n",
       "      <td>46.0545</td>\n",
       "      <td>99.7083</td>\n",
       "      <td>11520.8</td>\n",
       "      <td>22387.9</td>\n",
       "      <td>John1_KS_4_HRprofile_rtoc</td>\n",
       "      <td>15.00</td>\n",
       "      <td>4.0</td>\n",
       "    </tr>\n",
       "    <tr>\n",
       "      <th>4</th>\n",
       "      <td>1 / 5 .</td>\n",
       "      <td>0.9051</td>\n",
       "      <td>21.3735</td>\n",
       "      <td>17.8379</td>\n",
       "      <td>12.8749</td>\n",
       "      <td>0.3130</td>\n",
       "      <td>0.0153</td>\n",
       "      <td>45.8509</td>\n",
       "      <td>99.3120</td>\n",
       "      <td>11525.4</td>\n",
       "      <td>22389.9</td>\n",
       "      <td>John1_KS_4_HRprofile_rtoc</td>\n",
       "      <td>20.00</td>\n",
       "      <td>5.0</td>\n",
       "    </tr>\n",
       "    <tr>\n",
       "      <th>...</th>\n",
       "      <td>...</td>\n",
       "      <td>...</td>\n",
       "      <td>...</td>\n",
       "      <td>...</td>\n",
       "      <td>...</td>\n",
       "      <td>...</td>\n",
       "      <td>...</td>\n",
       "      <td>...</td>\n",
       "      <td>...</td>\n",
       "      <td>...</td>\n",
       "      <td>...</td>\n",
       "      <td>...</td>\n",
       "      <td>...</td>\n",
       "      <td>...</td>\n",
       "    </tr>\n",
       "    <tr>\n",
       "      <th>255</th>\n",
       "      <td>2 / 96 .</td>\n",
       "      <td>0.8500</td>\n",
       "      <td>21.2200</td>\n",
       "      <td>17.8200</td>\n",
       "      <td>13.0300</td>\n",
       "      <td>0.3300</td>\n",
       "      <td>0.0300</td>\n",
       "      <td>45.6200</td>\n",
       "      <td>98.9000</td>\n",
       "      <td>15225.8</td>\n",
       "      <td>22691.5</td>\n",
       "      <td>John1_KS_4_LRprofile_short</td>\n",
       "      <td>4104.72</td>\n",
       "      <td>196.0</td>\n",
       "    </tr>\n",
       "    <tr>\n",
       "      <th>256</th>\n",
       "      <td>2 / 97 .</td>\n",
       "      <td>1.0400</td>\n",
       "      <td>21.1200</td>\n",
       "      <td>17.5200</td>\n",
       "      <td>12.6200</td>\n",
       "      <td>0.3800</td>\n",
       "      <td>0.0100</td>\n",
       "      <td>45.1600</td>\n",
       "      <td>97.8500</td>\n",
       "      <td>15268.6</td>\n",
       "      <td>22685.6</td>\n",
       "      <td>John1_KS_4_LRprofile_short</td>\n",
       "      <td>4147.93</td>\n",
       "      <td>197.0</td>\n",
       "    </tr>\n",
       "    <tr>\n",
       "      <th>257</th>\n",
       "      <td>2 / 98 .</td>\n",
       "      <td>1.0300</td>\n",
       "      <td>21.3900</td>\n",
       "      <td>17.6500</td>\n",
       "      <td>12.1300</td>\n",
       "      <td>0.2600</td>\n",
       "      <td>0.0300</td>\n",
       "      <td>45.3500</td>\n",
       "      <td>97.8400</td>\n",
       "      <td>15311.4</td>\n",
       "      <td>22679.7</td>\n",
       "      <td>John1_KS_4_LRprofile_short</td>\n",
       "      <td>4191.13</td>\n",
       "      <td>198.0</td>\n",
       "    </tr>\n",
       "    <tr>\n",
       "      <th>258</th>\n",
       "      <td>2 / 99 .</td>\n",
       "      <td>1.0600</td>\n",
       "      <td>21.5700</td>\n",
       "      <td>17.3400</td>\n",
       "      <td>12.3000</td>\n",
       "      <td>0.3100</td>\n",
       "      <td>0.0100</td>\n",
       "      <td>45.3800</td>\n",
       "      <td>97.9800</td>\n",
       "      <td>15354.2</td>\n",
       "      <td>22673.9</td>\n",
       "      <td>John1_KS_4_LRprofile_short</td>\n",
       "      <td>4234.34</td>\n",
       "      <td>199.0</td>\n",
       "    </tr>\n",
       "    <tr>\n",
       "      <th>259</th>\n",
       "      <td>2 / 100 .</td>\n",
       "      <td>0.8400</td>\n",
       "      <td>20.7600</td>\n",
       "      <td>17.6800</td>\n",
       "      <td>12.9700</td>\n",
       "      <td>0.2700</td>\n",
       "      <td>0.0200</td>\n",
       "      <td>44.9400</td>\n",
       "      <td>97.4900</td>\n",
       "      <td>15397.0</td>\n",
       "      <td>22668.0</td>\n",
       "      <td>John1_KS_4_LRprofile_short</td>\n",
       "      <td>4277.55</td>\n",
       "      <td>200.0</td>\n",
       "    </tr>\n",
       "  </tbody>\n",
       "</table>\n",
       "<p>260 rows × 14 columns</p>\n",
       "</div>"
      ],
      "text/plain": [
       "    DataSet/Point   Na_wt    Si_wt    Al_wt    Ca_wt   Fe_wt    K_wt     O_wt  \\\n",
       "0        1 / 1 .   1.6953  22.8987  17.0869  11.5706  0.4166  0.0143  46.7369   \n",
       "1        1 / 2 .   1.1387  22.0708  17.6326  12.4077  0.3928  0.0174  46.3796   \n",
       "2        1 / 3 .   0.8577  21.3988  17.9469  12.9730  0.3807 -0.0022  46.0030   \n",
       "3        1 / 4 .   0.8577  21.4688  17.9519  12.9037  0.3431  0.0123  46.0545   \n",
       "4        1 / 5 .   0.9051  21.3735  17.8379  12.8749  0.3130  0.0153  45.8509   \n",
       "..            ...     ...      ...      ...      ...     ...     ...      ...   \n",
       "255     2 / 96 .   0.8500  21.2200  17.8200  13.0300  0.3300  0.0300  45.6200   \n",
       "256     2 / 97 .   1.0400  21.1200  17.5200  12.6200  0.3800  0.0100  45.1600   \n",
       "257     2 / 98 .   1.0300  21.3900  17.6500  12.1300  0.2600  0.0300  45.3500   \n",
       "258     2 / 99 .   1.0600  21.5700  17.3400  12.3000  0.3100  0.0100  45.3800   \n",
       "259    2 / 100 .   0.8400  20.7600  17.6800  12.9700  0.2700  0.0200  44.9400   \n",
       "\n",
       "     Total_wt   X_stage   Y_stage                           Comment  \\\n",
       "0    100.5912   11507.0   22382.0         John1_KS_4_HRprofile_rtoc   \n",
       "1    100.1715   11511.6   22384.0         John1_KS_4_HRprofile_rtoc   \n",
       "2     99.6661   11516.2   22385.9         John1_KS_4_HRprofile_rtoc   \n",
       "3     99.7083   11520.8   22387.9         John1_KS_4_HRprofile_rtoc   \n",
       "4     99.3120   11525.4   22389.9         John1_KS_4_HRprofile_rtoc   \n",
       "..        ...       ...       ...                               ...   \n",
       "255   98.9000   15225.8   22691.5  John1_KS_4_LRprofile_short         \n",
       "256   97.8500   15268.6   22685.6  John1_KS_4_LRprofile_short         \n",
       "257   97.8400   15311.4   22679.7  John1_KS_4_LRprofile_short         \n",
       "258   97.9800   15354.2   22673.9  John1_KS_4_LRprofile_short         \n",
       "259   97.4900   15397.0   22668.0  John1_KS_4_LRprofile_short         \n",
       "\n",
       "     Distance (?)  Point#  \n",
       "0            0.00     1.0  \n",
       "1            5.00     2.0  \n",
       "2           10.00     3.0  \n",
       "3           15.00     4.0  \n",
       "4           20.00     5.0  \n",
       "..            ...     ...  \n",
       "255       4104.72   196.0  \n",
       "256       4147.93   197.0  \n",
       "257       4191.13   198.0  \n",
       "258       4234.34   199.0  \n",
       "259       4277.55   200.0  \n",
       "\n",
       "[260 rows x 14 columns]"
      ]
     },
     "execution_count": 3,
     "metadata": {},
     "output_type": "execute_result"
    }
   ],
   "source": [
    "probe_data"
   ]
  },
  {
   "cell_type": "code",
   "execution_count": 11,
   "id": "03775bfe-b009-4904-a1aa-645141bfd1b2",
   "metadata": {},
   "outputs": [],
   "source": [
    "#probe_data.iloc[:,12]"
   ]
  },
  {
   "cell_type": "code",
   "execution_count": 263,
   "id": "dd0a5357",
   "metadata": {},
   "outputs": [],
   "source": [
    "#List of points being used for the calibration in the form (x,y), it is crucial that these are written in the same order in both lists\n",
    "#stage_calibration_points = np.array([(13310,33553),(13438,21243),(11160,23249),(15397,22668),(11507,22382)])\n",
    "#image_calibration_points = np.array([(7085,8335),(1275,625),(3675,870),(775,2485),(3022,476)])\n",
    "#stage_end_points = np.array([(13310,33553),(13438,21243),(11160,23249),(15397,22668), (11507,22382), (12195, 22677)])\n",
    "#image_end_points = np.array([(3022+20,476+133), (2763, 1117), (7085+20,8335+133),(1275+20,625+133),(3675+20,870+133),(775+20,2485+133)])\n",
    "#profile_start_numbers = np.array([0,60,160])\n",
    "\n",
    "#For John1\n",
    "\n",
    "stage_calibration_points = np.array([(13310,33553),(13438,21243),(11160,23249),(15397,22668), (11507,22382)])\n",
    "image_calibration_points = np.array([(7085+20,8335+133),(1275+20,625+133),(3675+20,870+133),(775+20,2485+133), (3022+20,476+133)])\n",
    "image_end_points = np.array([(3022+20,476+133), (2763, 1117), (7085+20,8335+133),(1275+20,625+133),(3675+20,870+133),(775+20,2485+133)])\n",
    "profile_start_numbers = np.array([0,60,160])\n",
    "\n",
    "#calibrated_end_points = np.array([[2884.0, 560.0],[2756.0, 1100.0],[7145.0, 8421.0],[1473.0, 736.0], [3495.0, 979.0],[849.0, 2438.0]]) #Recorded with play = 200\n",
    "#calibrated_end_points = np.array([[2959.0, 581.0],[2661.0, 1074.0],[7138.0, 8373.0],[1475.0, 758.0],[3724.0, 1094.0],[966.0, 2541.0]]) #Play = 200, John1 geo, long wavelength removed\n",
    "#calibrated_end_points = np.array([[2983.0, 584.0],[2634.0, 1094.0],[7041.0, 8349.0],[1321.0, 824.0],[3736.0, 1130.0],[954.0, 2510.0]]) #Play = 200, John1 arith, long WAVELENGTH REMOVED\n",
    "calibrated_end_points = np.array([[3179.0, 660.0],[2941.0, 1146.0],[7040.0, 8349.0],[1317.0, 826.0],[3736.0, 1129.0],[954.0, 2510.0]]) #Play = 200, John1 offset, long wavelength removed\n",
    "do_all_profiles = np.array([0,1,2])\n",
    "\n"
   ]
  },
  {
   "cell_type": "code",
   "execution_count": null,
   "id": "c9fa8529-1b14-4078-b96b-52e71a89c22f",
   "metadata": {},
   "outputs": [],
   "source": [
    "#For John3\n",
    "\n",
    "#Short profile image [710, 3130],[1083, 3262]\n",
    "#Long profile image [11939, 6116], [1167, 2126]\n",
    "#Medium profile image [5435,7005], [4743,1039]"
   ]
  },
  {
   "cell_type": "code",
   "execution_count": 264,
   "id": "43016b5e-3105-41a1-af24-ce55496ec578",
   "metadata": {},
   "outputs": [
    {
     "data": {
      "text/plain": [
       "array([[-137.,  -51.],\n",
       "       [-178.,  -29.],\n",
       "       [  65.,  119.],\n",
       "       [ -22.,  -68.],\n",
       "       [ -41., -126.],\n",
       "       [-159.,  108.]])"
      ]
     },
     "execution_count": 264,
     "metadata": {},
     "output_type": "execute_result"
    }
   ],
   "source": [
    "image_end_points - calibrated_end_points"
   ]
  },
  {
   "cell_type": "code",
   "execution_count": 14,
   "id": "887ef3c6-e7c4-46c2-bc74-a38fead7c960",
   "metadata": {},
   "outputs": [
    {
     "ename": "NameError",
     "evalue": "name 'shear_curvefit_parameter_bundle' is not defined",
     "output_type": "error",
     "traceback": [
      "\u001b[1;31m---------------------------------------------------------------------------\u001b[0m",
      "\u001b[1;31mNameError\u001b[0m                                 Traceback (most recent call last)",
      "\u001b[1;32m~\\AppData\\Local\\Temp/ipykernel_2736/1488413906.py\u001b[0m in \u001b[0;36m<module>\u001b[1;34m\u001b[0m\n\u001b[0;32m      1\u001b[0m \u001b[1;31m#For john1 where one of the end points of one of the profiles is not well known\u001b[0m\u001b[1;33m\u001b[0m\u001b[1;33m\u001b[0m\u001b[0m\n\u001b[0;32m      2\u001b[0m \u001b[0mstage_hr_end_point\u001b[0m \u001b[1;33m=\u001b[0m \u001b[0mnp\u001b[0m\u001b[1;33m.\u001b[0m\u001b[0marray\u001b[0m\u001b[1;33m(\u001b[0m\u001b[1;33m[\u001b[0m\u001b[1;33m(\u001b[0m\u001b[1;36m12195\u001b[0m\u001b[1;33m,\u001b[0m \u001b[1;36m22677\u001b[0m\u001b[1;33m)\u001b[0m\u001b[1;33m]\u001b[0m\u001b[1;33m)\u001b[0m\u001b[1;33m\u001b[0m\u001b[1;33m\u001b[0m\u001b[0m\n\u001b[1;32m----> 3\u001b[1;33m \u001b[0mshear_parameter_bundle\u001b[0m \u001b[1;33m=\u001b[0m \u001b[0mshear_curvefit_parameter_bundle\u001b[0m\u001b[1;33m\u001b[0m\u001b[1;33m\u001b[0m\u001b[0m\n\u001b[0m\u001b[0;32m      4\u001b[0m \u001b[0mimage_hr_end_point\u001b[0m \u001b[1;33m=\u001b[0m \u001b[0mshear_transformer\u001b[0m\u001b[1;33m(\u001b[0m\u001b[0mstage_hr_end_point\u001b[0m\u001b[1;33m,\u001b[0m \u001b[0mshear_parameter_bundle\u001b[0m\u001b[1;33m[\u001b[0m\u001b[1;36m0\u001b[0m\u001b[1;33m]\u001b[0m\u001b[1;33m,\u001b[0m \u001b[0mshear_parameter_bundle\u001b[0m\u001b[1;33m[\u001b[0m\u001b[1;36m1\u001b[0m\u001b[1;33m]\u001b[0m\u001b[1;33m,\u001b[0m \u001b[0mshear_parameter_bundle\u001b[0m\u001b[1;33m[\u001b[0m\u001b[1;36m2\u001b[0m\u001b[1;33m]\u001b[0m\u001b[1;33m,\u001b[0m \u001b[0mshear_parameter_bundle\u001b[0m\u001b[1;33m[\u001b[0m\u001b[1;36m3\u001b[0m\u001b[1;33m]\u001b[0m\u001b[1;33m,\u001b[0m \u001b[0mshear_parameter_bundle\u001b[0m\u001b[1;33m[\u001b[0m\u001b[1;36m4\u001b[0m\u001b[1;33m]\u001b[0m\u001b[1;33m,\u001b[0m \u001b[0mshear_parameter_bundle\u001b[0m\u001b[1;33m[\u001b[0m\u001b[1;36m5\u001b[0m\u001b[1;33m]\u001b[0m\u001b[1;33m)\u001b[0m\u001b[1;33m\u001b[0m\u001b[1;33m\u001b[0m\u001b[0m\n",
      "\u001b[1;31mNameError\u001b[0m: name 'shear_curvefit_parameter_bundle' is not defined"
     ]
    }
   ],
   "source": [
    "#For john1 where one of the end points of one of the profiles is not well known\n",
    "stage_hr_end_point = np.array([(12195, 22677)])\n",
    "shear_parameter_bundle = shear_curvefit_parameter_bundle\n",
    "image_hr_end_point = shear_transformer(stage_hr_end_point, shear_parameter_bundle[0], shear_parameter_bundle[1], shear_parameter_bundle[2], shear_parameter_bundle[3], shear_parameter_bundle[4], shear_parameter_bundle[5])"
   ]
  },
  {
   "cell_type": "code",
   "execution_count": 15,
   "id": "1709d546-fe34-460d-8e04-1ccef63dff5f",
   "metadata": {},
   "outputs": [
    {
     "ename": "NameError",
     "evalue": "name 'image_hr_end_point' is not defined",
     "output_type": "error",
     "traceback": [
      "\u001b[1;31m---------------------------------------------------------------------------\u001b[0m",
      "\u001b[1;31mNameError\u001b[0m                                 Traceback (most recent call last)",
      "\u001b[1;32m~\\AppData\\Local\\Temp/ipykernel_2736/2088298311.py\u001b[0m in \u001b[0;36m<module>\u001b[1;34m\u001b[0m\n\u001b[1;32m----> 1\u001b[1;33m \u001b[0mimage_hr_end_point\u001b[0m\u001b[1;33m\u001b[0m\u001b[1;33m\u001b[0m\u001b[0m\n\u001b[0m",
      "\u001b[1;31mNameError\u001b[0m: name 'image_hr_end_point' is not defined"
     ]
    }
   ],
   "source": [
    "image_hr_end_point"
   ]
  },
  {
   "cell_type": "code",
   "execution_count": null,
   "id": "a461557c-da3e-4b14-b276-ddc0dc082e32",
   "metadata": {},
   "outputs": [],
   "source": []
  },
  {
   "cell_type": "code",
   "execution_count": 18,
   "id": "516b1ae7",
   "metadata": {},
   "outputs": [
    {
     "name": "stdout",
     "output_type": "stream",
     "text": [
      "1.5200036556977325\n",
      "1.523597038160226\n",
      "1.4388961212879854\n"
     ]
    }
   ],
   "source": [
    "stage_profile_1 = stage_calibration_points[1]-stage_calibration_points[0]\n",
    "stage_profile_2 = stage_calibration_points[3]-stage_calibration_points[2]\n",
    "stage_angle = np.arccos(np.dot(stage_profile_1, stage_profile_2)/(np.linalg.norm(stage_profile_1)*np.linalg.norm(stage_profile_1)))\n",
    "print(stage_angle)\n",
    "image_profile_1 = image_calibration_points[1]-image_calibration_points[0]\n",
    "image_profile_2 = image_calibration_points[3]-image_calibration_points[2]\n",
    "image_angle = np.arccos(np.dot(image_profile_1, image_profile_2)/(np.linalg.norm(image_profile_1)*np.linalg.norm(image_profile_1)))\n",
    "print(image_angle)\n",
    "rote_calibrated_1 =calibrated_end_points[3]-calibrated_end_points[2]\n",
    "rote_calibrated_2 = calibrated_end_points[5]-calibrated_end_points[4]\n",
    "image_angle = np.arccos(np.dot(rote_calibrated_1, rote_calibrated_2)/(np.linalg.norm(rote_calibrated_1)*np.linalg.norm(rote_calibrated_2)))\n",
    "print(image_angle)"
   ]
  },
  {
   "cell_type": "code",
   "execution_count": 19,
   "id": "19e3a249",
   "metadata": {
    "scrolled": true
   },
   "outputs": [],
   "source": [
    "#This weirdness is strange but necessary for the optimiser\n",
    "stage_cal_points_for_opt = []\n",
    "image_cal_points_for_opt = []\n",
    "\n",
    "for i in range(len(stage_calibration_points)):\n",
    "    stage_cal_points_for_opt.append(stage_calibration_points[i][0])\n",
    "    stage_cal_points_for_opt.append(stage_calibration_points[i][1])\n",
    "    image_cal_points_for_opt.append(image_calibration_points[i][0])\n",
    "    image_cal_points_for_opt.append(image_calibration_points[i][1])"
   ]
  },
  {
   "cell_type": "code",
   "execution_count": 265,
   "id": "d1ce47a9",
   "metadata": {},
   "outputs": [],
   "source": [
    "image = np.array(plt.imread('offset_fixed_rerun_lwremoved.png'))\n",
    "\n",
    "probe_x_list = probe_data.iloc[:,9]\n",
    "#print(probe_x_list[0]) #for checking that the right column was selected\n",
    "probe_y_list = probe_data.iloc[:,10]\n",
    "probe_points = []\n",
    "for i in range(len(probe_data.iloc[:,9])):\n",
    "    probe_points.append((probe_data.iloc[i,9], probe_data.iloc[i,10]))\n",
    "    #print(i, probe_points[i])\n",
    "probe_points = np.array(probe_points)\n",
    "#probe_y_list[0]\n",
    "anorthite_list = np.array((probe_data.iloc[:,4]/40.078)/((probe_data.iloc[:,4]/40.078)+(probe_data.iloc[:,1]/22.990)+(probe_data.iloc[:,6]/39.098)))\n",
    "dist_list = np.array(probe_data.iloc[:,12])\n",
    "#parameter_bundle = curvefit_parameter_bundle\n",
    "#probe_points_placed = transformer(probe_points, parameter_bundle[0], parameter_bundle[1], parameter_bundle[2], parameter_bundle[3])\n",
    "\n",
    "#shear_parameter_bundle = shear_curvefit_parameter_bundle\n",
    "#probe_points_placed = shear_transformer(probe_points, shear_parameter_bundle[0], shear_parameter_bundle[1], shear_parameter_bundle[2], shear_parameter_bundle[3], shear_parameter_bundle[4], shear_parameter_bundle[5])\n",
    "\n",
    "probe_points_placed = rote_transformer(calibrated_end_points, do_all_profiles) \n",
    "\n",
    "show_points = 0\n",
    "if show_points == 1:\n",
    "    \n",
    "    #print(probe_points_placed)\n",
    "    for i in range(len(probe_points_placed)):\n",
    "        draw_marker(int(probe_points_placed[i][0]), int(probe_points_placed[i][1]),4,image)\n",
    "    for i in range(len(image_calibration_points)):\n",
    "        draw_marker(int(image_calibration_points[i][0]), int(image_calibration_points[i][1]),4,image)\n",
    "        \n",
    "\n",
    "save = 0\n",
    "if save ==1:\n",
    "    \n",
    "    image_boosted = image *255\n",
    "    to_save = image_boosted.astype(np.uint8)\n",
    "    print(np.max(to_save))\n",
    "    to_save = Image.fromarray(to_save)\n",
    "    to_save.save('rote_calib_200.png')"
   ]
  },
  {
   "cell_type": "code",
   "execution_count": null,
   "id": "0c2aa9de-5c96-4894-9a97-4d430942bf17",
   "metadata": {},
   "outputs": [],
   "source": [
    "\n"
   ]
  },
  {
   "cell_type": "code",
   "execution_count": 35,
   "id": "989a4882-09d3-49a7-a318-a14cfe0a98af",
   "metadata": {},
   "outputs": [
    {
     "data": {
      "text/plain": [
       "0.16724384"
      ]
     },
     "execution_count": 35,
     "metadata": {},
     "output_type": "execute_result"
    }
   ],
   "source": [
    "np.mean(image)"
   ]
  },
  {
   "cell_type": "code",
   "execution_count": 266,
   "id": "f9f3039a",
   "metadata": {
    "tags": []
   },
   "outputs": [],
   "source": [
    "tile_origins = [( 134 , 85 ),\n",
    "( 134 , 785 ),\n",
    "( 134 , 1485 ),\n",
    "( 134 , 2185 ),\n",
    "( 134 , 2885 ),\n",
    "( 134 , 3585 ),\n",
    "( 134 , 4285 ),\n",
    "( 134 , 4985 ),\n",
    "( 134 , 5685 ),\n",
    "( 134 , 6385 ),\n",
    "( 134 , 7085 ),\n",
    "( 608 , 73 ),\n",
    "( 608 , 773 ),\n",
    "( 608 , 1473 ),\n",
    "( 608 , 2173 ),\n",
    "( 608 , 2873 ),\n",
    "( 608 , 3573 ),\n",
    "( 608 , 4273 ),\n",
    "( 608 , 4973 ),\n",
    "( 608 , 5673 ),\n",
    "( 608 , 6373 ),\n",
    "( 608 , 7073 ),\n",
    "( 1082 , 65 ),\n",
    "( 1082 , 765 ),\n",
    "( 1082 , 1465 ),\n",
    "( 1082 , 2165 ),\n",
    "( 1082 , 2865 ),\n",
    "( 1082 , 3565 ),\n",
    "( 1082 , 4265 ),\n",
    "( 1082 , 4965 ),\n",
    "( 1082 , 5665 ),\n",
    "( 1082 , 6365 ),\n",
    "( 1082 , 7065 ),\n",
    "( 1542 , 67 ),\n",
    "( 1542 , 767 ),\n",
    "( 1542 , 1467 ),\n",
    "( 1542 , 2167 ),\n",
    "( 1542 , 2867 ),\n",
    "( 1542 , 3567 ),\n",
    "( 1542 , 4267 ),\n",
    "( 1542 , 4967 ),\n",
    "( 1542 , 5667 ),\n",
    "( 1542 , 6367 ),\n",
    "( 1542 , 7067 ),\n",
    "( 2016 , 67 ),\n",
    "( 2016 , 767 ),\n",
    "( 2016 , 1467 ),\n",
    "( 2016 , 2167 ),\n",
    "( 2016 , 2867 ),\n",
    "( 2016 , 3567 ),\n",
    "( 2016 , 4267 ),\n",
    "( 2016 , 4967 ),\n",
    "( 2016 , 5667 ),\n",
    "( 2016 , 6367 ),\n",
    "( 2016 , 7067 ),\n",
    "( 2475 , 72 ),\n",
    "( 2475 , 772 ),\n",
    "( 2475 , 1472 ),\n",
    "( 2475 , 2172 ),\n",
    "( 2475 , 2872 ),\n",
    "( 2475 , 3572 ),\n",
    "( 2475 , 4272 ),\n",
    "( 2475 , 4972 ),\n",
    "( 2475 , 5672 ),\n",
    "( 2475 , 6372 ),\n",
    "( 2475 , 7072 ),\n",
    "( 2943 , 80 ),\n",
    "( 2943 , 780 ),\n",
    "( 2943 , 1480 ),\n",
    "( 2943 , 2180 ),\n",
    "( 2943 , 2880 ),\n",
    "( 2943 , 3580 ),\n",
    "( 2943 , 4280 ),\n",
    "( 2943 , 4980 ),\n",
    "( 2943 , 5680 ),\n",
    "( 2943 , 6380 ),\n",
    "( 2943 , 7080 ),\n",
    "( 3412 , 85 ),\n",
    "( 3412 , 785 ),\n",
    "( 3412 , 1485 ),\n",
    "( 3412 , 2185 ),\n",
    "( 3412 , 2885 ),\n",
    "( 3412 , 3585 ),\n",
    "( 3412 , 4285 ),\n",
    "( 3412 , 4985 ),\n",
    "( 3412 , 5685 ),\n",
    "( 3412 , 6385 ),\n",
    "( 3412 , 7085 ),\n",
    "( 3869 , 98 ),\n",
    "( 3869 , 798 ),\n",
    "( 3869 , 1498 ),\n",
    "( 3869 , 2198 ),\n",
    "( 3869 , 2898 ),\n",
    "( 3869 , 3598 ),\n",
    "( 3869 , 4298 ),\n",
    "( 3869 , 4998 ),\n",
    "( 3869 , 5698 ),\n",
    "( 3869 , 6398 ),\n",
    "( 3869 , 7098 ),\n",
    "( 4338 , 106 ),\n",
    "( 4338 , 806 ),\n",
    "( 4338 , 1506 ),\n",
    "( 4338 , 2206 ),\n",
    "( 4338 , 2906 ),\n",
    "( 4338 , 3606 ),\n",
    "( 4338 , 4306 ),\n",
    "( 4338 , 5006 ),\n",
    "( 4338 , 5706 ),\n",
    "( 4338 , 6406 ),\n",
    "( 4338 , 7106 ),\n",
    "( 4799 , 117 ),\n",
    "( 4799 , 817 ),\n",
    "( 4799 , 1517 ),\n",
    "( 4799 , 2217 ),\n",
    "( 4799 , 2917 ),\n",
    "( 4799 , 3617 ),\n",
    "( 4799 , 4317 ),\n",
    "( 4799 , 5017 ),\n",
    "( 4799 , 5717 ),\n",
    "( 4799 , 6417 ),\n",
    "( 4799 , 7117 ),\n",
    "( 5264 , 125 ),\n",
    "( 5264 , 825 ),\n",
    "( 5264 , 1525 ),\n",
    "( 5264 , 2225 ),\n",
    "( 5264 , 2925 ),\n",
    "( 5264 , 3625 ),\n",
    "( 5264 , 4325 ),\n",
    "( 5264 , 5025 ),\n",
    "( 5264 , 5725 ),\n",
    "( 5264 , 6425 ),\n",
    "( 5264 , 7125 ),\n",
    "( 5734 , 129 ),\n",
    "( 5734 , 829 ),\n",
    "( 5734 , 1529 ),\n",
    "( 5734 , 2229 ),\n",
    "( 5734 , 2929 ),\n",
    "( 5734 , 3629 ),\n",
    "( 5734 , 4329 ),\n",
    "( 5734 , 5029 ),\n",
    "( 5734 , 5729 ),\n",
    "( 5734 , 6429 ),\n",
    "( 5734 , 7129 ),\n",
    "( 6197 , 129 ),\n",
    "( 6197 , 829 ),\n",
    "( 6197 , 1529 ),\n",
    "( 6197 , 2229 ),\n",
    "( 6197 , 2929 ),\n",
    "( 6197 , 3629 ),\n",
    "( 6197 , 4329 ),\n",
    "( 6197 , 5029 ),\n",
    "( 6197 , 5729 ),\n",
    "( 6197 , 6429 ),\n",
    "( 6197 , 7129 ),\n",
    "( 6668 , 136 ),\n",
    "( 6668 , 836 ),\n",
    "( 6668 , 1536 ),\n",
    "( 6668 , 2236 ),\n",
    "( 6668 , 2936 ),\n",
    "( 6668 , 3636 ),\n",
    "( 6668 , 4336 ),\n",
    "( 6668 , 5036 ),\n",
    "( 6668 , 5736 ),\n",
    "( 6668 , 6436 ),\n",
    "( 6668 , 7136 ),\n",
    "( 7131 , 144 ),\n",
    "( 7131 , 844 ),\n",
    "( 7131 , 1544 ),\n",
    "( 7131 , 2244 ),\n",
    "( 7131 , 2944 ),\n",
    "( 7131 , 3644 ),\n",
    "( 7131 , 4344 ),\n",
    "( 7131 , 5044 ),\n",
    "( 7131 , 5744 ),\n",
    "( 7131 , 6444 ),\n",
    "( 7131 , 7144 ),\n",
    "( 7598 , 147 ),\n",
    "( 7598 , 847 ),\n",
    "( 7598 , 1547 ),\n",
    "( 7598 , 2247 ),\n",
    "( 7598 , 2947 ),\n",
    "( 7598 , 3647 ),\n",
    "( 7598 , 4347 ),\n",
    "( 7598 , 5047 ),\n",
    "( 7598 , 5747 ),\n",
    "( 7598 , 6447 ),\n",
    "( 7598 , 7147 ),\n",
    "( 8068 , 150 ),\n",
    "( 8068 , 850 ),\n",
    "( 8068 , 1550 ),\n",
    "( 8068 , 2250 ),\n",
    "( 8068 , 2950 ),\n",
    "( 8068 , 3650 ),\n",
    "( 8068 , 4350 ),\n",
    "( 8068 , 5050 ),\n",
    "( 8068 , 5750 ),\n",
    "( 8068 , 6450 ),\n",
    "( 8068 , 7150 ),\n",
    "( 8532 , 150 ),\n",
    "( 8532 , 850 ),\n",
    "( 8532 , 1550 ),\n",
    "( 8532 , 2250 ),\n",
    "( 8532 , 2950 ),\n",
    "( 8532 , 3650 ),\n",
    "( 8532 , 4350 ),\n",
    "( 8532 , 5050 ),\n",
    "( 8532 , 5750 ),\n",
    "( 8532 , 6450 ),\n",
    "( 8532 , 7150 )]"
   ]
  },
  {
   "cell_type": "code",
   "execution_count": 22,
   "id": "88867fda",
   "metadata": {},
   "outputs": [
    {
     "data": {
      "text/plain": [
       "4338"
      ]
     },
     "execution_count": 22,
     "metadata": {},
     "output_type": "execute_result"
    }
   ],
   "source": [
    "tile_origins[100][0]"
   ]
  },
  {
   "cell_type": "code",
   "execution_count": null,
   "id": "4302c13a-683f-4096-b824-f614159b6ae6",
   "metadata": {},
   "outputs": [],
   "source": []
  },
  {
   "cell_type": "code",
   "execution_count": 23,
   "id": "deab5433",
   "metadata": {},
   "outputs": [
    {
     "ename": "NameError",
     "evalue": "name 'probe_points_placed' is not defined",
     "output_type": "error",
     "traceback": [
      "\u001b[1;31m---------------------------------------------------------------------------\u001b[0m",
      "\u001b[1;31mNameError\u001b[0m                                 Traceback (most recent call last)",
      "\u001b[1;32m~\\AppData\\Local\\Temp/ipykernel_2736/2052425656.py\u001b[0m in \u001b[0;36m<module>\u001b[1;34m\u001b[0m\n\u001b[1;32m----> 1\u001b[1;33m \u001b[0mprobe_points_placed\u001b[0m\u001b[1;33m[\u001b[0m\u001b[1;36m0\u001b[0m\u001b[1;33m,\u001b[0m \u001b[1;36m0\u001b[0m\u001b[1;33m]\u001b[0m\u001b[1;33m\u001b[0m\u001b[1;33m\u001b[0m\u001b[0m\n\u001b[0m",
      "\u001b[1;31mNameError\u001b[0m: name 'probe_points_placed' is not defined"
     ]
    }
   ],
   "source": [
    "probe_points_placed[0, 0]"
   ]
  },
  {
   "cell_type": "code",
   "execution_count": 24,
   "id": "1defe7aa",
   "metadata": {},
   "outputs": [
    {
     "data": {
      "text/plain": [
       "(260,)"
      ]
     },
     "execution_count": 24,
     "metadata": {},
     "output_type": "execute_result"
    }
   ],
   "source": [
    "anorthite_list.shape"
   ]
  },
  {
   "cell_type": "code",
   "execution_count": 272,
   "id": "a262e6b9",
   "metadata": {},
   "outputs": [
    {
     "data": {
      "image/png": "[encoded data removed]",
      "text/plain": [
       "<Figure size 432x288 with 1 Axes>"
      ]
     },
     "metadata": {
      "needs_background": "light"
     },
     "output_type": "display_data"
    }
   ],
   "source": [
    "search_size = 3\n",
    "intensity_list = []\n",
    "for i in range(len(probe_points_placed)):\n",
    "    #print(probe_points_placed[i][0],' ',probe_points_placed[i][1])\n",
    "    intensity_list.append(get_brightness(int(probe_points_placed[i][0]),int(probe_points_placed[i][1]), search_size))\n",
    "    \n",
    "clean_list_entries = []\n",
    "for i in range(len(probe_points_placed)):\n",
    "    if intensity_list[i] >0.46 and intensity_list[i] <250/256 and anorthite_list[i]>0.6 and anorthite_list[i]<1.0:\n",
    "        clean_list_entries.append(i)\n",
    "    \n",
    "#xlim=[0.3,0.6], ylim=[0.8,0.9]\n",
    "fig, ax = plt.subplots(1,1)\n",
    "intensity_array = np.array(intensity_list)\n",
    "clean_intensity_array = intensity_array[clean_list_entries]\n",
    "anorthite_array = np.array(anorthite_list)\n",
    "clean_anorthite_array = anorthite_array[clean_list_entries]\n",
    "clean_x_array = np.array(probe_points_placed)[clean_list_entries, 0]\n",
    "clean_y_array = np.array(probe_points_placed)[clean_list_entries, 1]\n",
    "\n",
    "\n",
    "clean_set = np.array([clean_intensity_array, clean_anorthite_array, clean_x_array, clean_y_array])\n",
    "ax.plot(clean_intensity_array,clean_anorthite_array, 'r+')\n",
    "#ax.set_xlim(0.45*255,0.5*255)\n",
    "#ax.set_ylim(0.8,0.93)\n",
    "plt.show()"
   ]
  },
  {
   "cell_type": "code",
   "execution_count": 153,
   "id": "a9c1b033-e1c5-4d20-986b-49c25a4a446f",
   "metadata": {},
   "outputs": [],
   "source": [
    "#print(\"X\")\n",
    "#for i in range(len(clean_intensity_array)):\n",
    "#    print(clean_x_array[i])\n",
    "#print(\"Y\")\n",
    "#for i in range(len(clean_intensity_array)):\n",
    "#    print(clean_y_array[i])\n",
    "#print(\"Intensity\")\n",
    "#for i in range(len(clean_intensity_array)):\n",
    "#    print(clean_intensity_array[i])\n",
    "#print(\"Real anorthite\")\n",
    "#for i in range(len(clean_intensity_array)):\n",
    "#    print(clean_anorthite_array[i])\n",
    "#print(\"Linear anorthite\")\n",
    "#for i in range(len(clean_intensity_array)):\n",
    "#    print(linfit_predicted_ans[i])\n",
    "#print(\"Squared anorthite\")\n",
    "#for i in range(len(clean_intensity_array)):\n",
    "#    print(linfit_predicted_ans[i])\n",
    "    "
   ]
  },
  {
   "cell_type": "code",
   "execution_count": 273,
   "id": "da7db5d1",
   "metadata": {},
   "outputs": [],
   "source": [
    "clean_set_by_tile = []\n",
    "for i in range(len(tile_origins)):\n",
    "    clean_set_in_tile = []\n",
    "    for j in range(len(clean_set[0])):\n",
    "        if clean_set[3,j]>tile_origins[i][0] and clean_set[3,j]<tile_origins[i][0]+512 and clean_set[2,j]>tile_origins[i][1] and clean_set[2, j]<tile_origins[i][1]+768:\n",
    "            clean_set_in_tile.append(clean_set[:,j])\n",
    "          \n",
    "    clean_set_in_tile = np.array(clean_set_in_tile)\n",
    "    clean_set_by_tile.append(clean_set_in_tile)"
   ]
  },
  {
   "cell_type": "code",
   "execution_count": 274,
   "id": "f152ec60",
   "metadata": {},
   "outputs": [],
   "source": [
    "clean_set_by_tile = np.array(clean_set_by_tile, dtype=object)"
   ]
  },
  {
   "cell_type": "code",
   "execution_count": 275,
   "id": "58ccb663",
   "metadata": {},
   "outputs": [],
   "source": [
    "clean_set_populated_tiles = []\n",
    "for i in range(len(clean_set_by_tile)):\n",
    "    if len(clean_set_by_tile[i])>6:\n",
    "        clean_set_populated_tiles.append(clean_set_by_tile[i])\n",
    "    "
   ]
  },
  {
   "cell_type": "code",
   "execution_count": 276,
   "id": "a191acd5",
   "metadata": {},
   "outputs": [
    {
     "name": "stdout",
     "output_type": "stream",
     "text": [
      "0.7253218073810297\n",
      "0.7257886326744984\n",
      "0.6471335987445068\n",
      "0.6965298176667996\n",
      "0.5272510096833093\n",
      "0.32262631054521457\n",
      "0.13602906034652495\n",
      "-0.14354031275891163\n",
      "-0.00028672651552537007\n",
      "0.04595756523939735\n",
      "0.4869297306752826\n",
      "-0.11491443021847281\n"
     ]
    }
   ],
   "source": [
    "for i in range(len(clean_set_populated_tiles)):\n",
    "    \n",
    "    print(np.corrcoef(clean_set_populated_tiles[i][:,0], clean_set_populated_tiles[i][:,1])[0,1])"
   ]
  },
  {
   "cell_type": "code",
   "execution_count": 277,
   "id": "f6320a49",
   "metadata": {},
   "outputs": [],
   "source": [
    "tilewise_anint_params = []\n",
    "tilewise_predicted_ans = []\n",
    "for i in range(len(clean_set_populated_tiles)):\n",
    "    tile_model = LinearRegression()\n",
    "    tile_independents = np.transpose(np.array([clean_set_populated_tiles[i][:,2], clean_set_populated_tiles[i][:,3], clean_set_populated_tiles[i][:,0]]))\n",
    "    #tile_independents = np.transpose(np.array((clean_set_populated_tiles[i][:,0], clean_set_populated_tiles[i][:,0]**2, clean_set_populated_tiles[i][:,0]**0.5)))\n",
    "    tile_dependents = clean_set_populated_tiles[i][:,1]\n",
    "    tile_model.fit(tile_independents, tile_dependents)\n",
    "    predictions = tile_model.predict(tile_independents)\n",
    "    tilewise_predicted_ans.append(np.array(predictions))\n",
    "    tilewise_anint_params.append(np.append(tile_model.coef_,tile_model.intercept_))"
   ]
  },
  {
   "cell_type": "code",
   "execution_count": 278,
   "id": "db618590",
   "metadata": {},
   "outputs": [
    {
     "data": {
      "text/plain": [
       "[array([-2.33168640e-05, -5.58411606e-06,  3.81632990e+00, -8.33247586e-01]),\n",
       " array([ 0.00907715, -0.00690874,  2.80832594, -6.68558255]),\n",
       " array([-1.26817108e-05, -5.47238478e-06,  1.82640328e+00,  7.92614347e-02]),\n",
       " array([-1.87049426e-03, -3.24448822e-03,  4.76713568e+00,  9.26932593e+00]),\n",
       " array([-2.67958734e-05, -3.34074680e-05,  1.89727988e+00,  1.02344679e-01]),\n",
       " array([-6.06947036e-05, -1.46282059e-04,  7.69437445e-01,  9.21106253e-01]),\n",
       " array([-3.04772393e-03, -6.20137867e-03,  4.19171268e-01,  1.91519473e+01]),\n",
       " array([ 7.20255126e-03,  1.45768031e-02,  3.27933851e-01, -4.27048894e+01]),\n",
       " array([-0.01877245,  0.01424622,  0.03075987, 13.88552018]),\n",
       " array([-1.05267743e-02,  8.01319384e-03, -1.81413443e-01,  8.17766700e+00]),\n",
       " array([ 1.82967672e-03, -1.37062777e-03,  2.01301910e+00, -1.45753924e+00]),\n",
       " array([ 0.01057882, -0.00806885, -0.82563765, -5.88726797])]"
      ]
     },
     "execution_count": 278,
     "metadata": {},
     "output_type": "execute_result"
    }
   ],
   "source": [
    "tilewise_anint_params"
   ]
  },
  {
   "cell_type": "code",
   "execution_count": 61,
   "id": "a2ba313b-1eb9-4dd9-81a0-4d8856249b0d",
   "metadata": {},
   "outputs": [
    {
     "ename": "IndexError",
     "evalue": "list index out of range",
     "output_type": "error",
     "traceback": [
      "\u001b[1;31m---------------------------------------------------------------------------\u001b[0m",
      "\u001b[1;31mIndexError\u001b[0m                                Traceback (most recent call last)",
      "\u001b[1;32m~\\AppData\\Local\\Temp/ipykernel_4428/1618045425.py\u001b[0m in \u001b[0;36m<module>\u001b[1;34m\u001b[0m\n\u001b[0;32m      1\u001b[0m \u001b[0mtile_to_see\u001b[0m \u001b[1;33m=\u001b[0m \u001b[1;36m12\u001b[0m\u001b[1;33m\u001b[0m\u001b[1;33m\u001b[0m\u001b[0m\n\u001b[1;32m----> 2\u001b[1;33m \u001b[0mprint\u001b[0m\u001b[1;33m(\u001b[0m\u001b[0mclean_set_populated_tiles\u001b[0m\u001b[1;33m[\u001b[0m\u001b[0mtile_to_see\u001b[0m\u001b[1;33m]\u001b[0m\u001b[1;33m)\u001b[0m\u001b[1;33m\u001b[0m\u001b[1;33m\u001b[0m\u001b[0m\n\u001b[0m\u001b[0;32m      3\u001b[0m \u001b[0mprint\u001b[0m\u001b[1;33m(\u001b[0m\u001b[1;34m\"Anorthites\"\u001b[0m\u001b[1;33m)\u001b[0m\u001b[1;33m\u001b[0m\u001b[1;33m\u001b[0m\u001b[0m\n\u001b[0;32m      4\u001b[0m \u001b[1;32mfor\u001b[0m \u001b[0mi\u001b[0m \u001b[1;32min\u001b[0m \u001b[0mrange\u001b[0m\u001b[1;33m(\u001b[0m\u001b[0mlen\u001b[0m\u001b[1;33m(\u001b[0m\u001b[0mclean_set_populated_tiles\u001b[0m\u001b[1;33m[\u001b[0m\u001b[0mtile_to_see\u001b[0m\u001b[1;33m]\u001b[0m\u001b[1;33m[\u001b[0m\u001b[1;33m:\u001b[0m\u001b[1;33m,\u001b[0m\u001b[1;36m0\u001b[0m\u001b[1;33m]\u001b[0m\u001b[1;33m)\u001b[0m\u001b[1;33m)\u001b[0m\u001b[1;33m:\u001b[0m\u001b[1;33m\u001b[0m\u001b[1;33m\u001b[0m\u001b[0m\n\u001b[0;32m      5\u001b[0m     \u001b[0mprint\u001b[0m\u001b[1;33m(\u001b[0m\u001b[0mclean_set_populated_tiles\u001b[0m\u001b[1;33m[\u001b[0m\u001b[0mtile_to_see\u001b[0m\u001b[1;33m]\u001b[0m\u001b[1;33m[\u001b[0m\u001b[0mi\u001b[0m\u001b[1;33m,\u001b[0m\u001b[1;36m1\u001b[0m\u001b[1;33m]\u001b[0m\u001b[1;33m)\u001b[0m\u001b[1;33m\u001b[0m\u001b[1;33m\u001b[0m\u001b[0m\n",
      "\u001b[1;31mIndexError\u001b[0m: list index out of range"
     ]
    }
   ],
   "source": [
    "tile_to_see = 12\n",
    "print(clean_set_populated_tiles[tile_to_see])\n",
    "print(\"Anorthites\")\n",
    "for i in range(len(clean_set_populated_tiles[tile_to_see][:,0])):\n",
    "    print(clean_set_populated_tiles[tile_to_see][i,1])\n",
    "print(\"Intensities\")\n",
    "for i in range(len(clean_set_populated_tiles[tile_to_see][:,0])):\n",
    "    print(clean_set_populated_tiles[tile_to_see][i,0])\n",
    "print(\"x\")\n",
    "for i in range(len(clean_set_populated_tiles[tile_to_see][:,0])):\n",
    "    print(clean_set_populated_tiles[tile_to_see][i,2])\n",
    "print(\"y\")\n",
    "for i in range(len(clean_set_populated_tiles[tile_to_see][:,0])):\n",
    "    print(clean_set_populated_tiles[tile_to_see][i,3])"
   ]
  },
  {
   "cell_type": "code",
   "execution_count": 110,
   "id": "a2102fea",
   "metadata": {},
   "outputs": [
    {
     "data": {
      "text/plain": [
       "[<matplotlib.lines.Line2D at 0x2129c026be0>]"
      ]
     },
     "execution_count": 110,
     "metadata": {},
     "output_type": "execute_result"
    },
    {
     "data": {
      "image/png": "[encoded data removed]",
      "text/plain": [
       "<Figure size 432x288 with 1 Axes>"
      ]
     },
     "metadata": {
      "needs_background": "light"
     },
     "output_type": "display_data"
    }
   ],
   "source": [
    "x = np.linspace(0.75, 0.91, 20)\n",
    "tile_to_see = 3\n",
    "plt.plot(clean_set_populated_tiles[tile_to_see][:,0], clean_set_populated_tiles[tile_to_see][:,1], 'r+')"
   ]
  },
  {
   "cell_type": "code",
   "execution_count": 241,
   "id": "e2b6fb39-a3d0-4676-8529-8dd9671c924b",
   "metadata": {},
   "outputs": [
    {
     "data": {
      "image/png": "[encoded data removed]",
      "text/plain": [
       "<Figure size 432x288 with 1 Axes>"
      ]
     },
     "metadata": {
      "needs_background": "light"
     },
     "output_type": "display_data"
    }
   ],
   "source": [
    "fig, ax = plt.subplots()\n",
    "tile_to_see = np.array([0,1,2,3])\n",
    "tile_to_consider = np.array([3])\n",
    "for i in tile_to_see:\n",
    "    ax.plot(clean_set_populated_tiles[i][:,0], clean_set_populated_tiles[i][:,1], 'r+')\n",
    "#for i in tile_to_consider:\n",
    "#    ax.plot(clean_set_populated_tiles[i][:,0], clean_set_populated_tiles[i][:,1], 'b+')\n",
    "plt.show()"
   ]
  },
  {
   "cell_type": "code",
   "execution_count": 68,
   "id": "85198bd4-490c-47cc-b1dd-3eedcf9b601b",
   "metadata": {},
   "outputs": [
    {
     "ename": "IndexError",
     "evalue": "list index out of range",
     "output_type": "error",
     "traceback": [
      "\u001b[1;31m---------------------------------------------------------------------------\u001b[0m",
      "\u001b[1;31mIndexError\u001b[0m                                Traceback (most recent call last)",
      "\u001b[1;32m~\\AppData\\Local\\Temp/ipykernel_10756/608549524.py\u001b[0m in \u001b[0;36m<module>\u001b[1;34m\u001b[0m\n\u001b[0;32m      2\u001b[0m \u001b[0mtile_to_see\u001b[0m \u001b[1;33m=\u001b[0m \u001b[0mnp\u001b[0m\u001b[1;33m.\u001b[0m\u001b[0marray\u001b[0m\u001b[1;33m(\u001b[0m\u001b[1;33m[\u001b[0m\u001b[1;36m0\u001b[0m\u001b[1;33m,\u001b[0m\u001b[1;36m1\u001b[0m\u001b[1;33m,\u001b[0m\u001b[1;36m2\u001b[0m\u001b[1;33m,\u001b[0m\u001b[1;36m3\u001b[0m\u001b[1;33m,\u001b[0m\u001b[1;36m4\u001b[0m\u001b[1;33m,\u001b[0m\u001b[1;36m5\u001b[0m\u001b[1;33m,\u001b[0m\u001b[1;36m6\u001b[0m\u001b[1;33m,\u001b[0m\u001b[1;36m7\u001b[0m\u001b[1;33m,\u001b[0m\u001b[1;36m8\u001b[0m\u001b[1;33m,\u001b[0m\u001b[1;36m9\u001b[0m\u001b[1;33m,\u001b[0m\u001b[1;36m11\u001b[0m\u001b[1;33m,\u001b[0m \u001b[1;36m12\u001b[0m\u001b[1;33m,\u001b[0m \u001b[1;36m13\u001b[0m\u001b[1;33m,\u001b[0m \u001b[1;36m14\u001b[0m\u001b[1;33m,\u001b[0m \u001b[1;36m15\u001b[0m\u001b[1;33m]\u001b[0m\u001b[1;33m)\u001b[0m\u001b[1;33m\u001b[0m\u001b[1;33m\u001b[0m\u001b[0m\n\u001b[0;32m      3\u001b[0m \u001b[1;32mfor\u001b[0m \u001b[0mi\u001b[0m \u001b[1;32min\u001b[0m \u001b[0mtile_to_see\u001b[0m\u001b[1;33m:\u001b[0m\u001b[1;33m\u001b[0m\u001b[1;33m\u001b[0m\u001b[0m\n\u001b[1;32m----> 4\u001b[1;33m     \u001b[0max\u001b[0m\u001b[1;33m.\u001b[0m\u001b[0mplot\u001b[0m\u001b[1;33m(\u001b[0m\u001b[0mclean_set_populated_tiles\u001b[0m\u001b[1;33m[\u001b[0m\u001b[0mi\u001b[0m\u001b[1;33m]\u001b[0m\u001b[1;33m[\u001b[0m\u001b[1;33m:\u001b[0m\u001b[1;33m,\u001b[0m\u001b[1;36m1\u001b[0m\u001b[1;33m]\u001b[0m\u001b[1;33m,\u001b[0m \u001b[0mtilewise_predicted_ans\u001b[0m\u001b[1;33m[\u001b[0m\u001b[0mi\u001b[0m\u001b[1;33m]\u001b[0m\u001b[1;33m,\u001b[0m \u001b[1;34m'r+'\u001b[0m\u001b[1;33m)\u001b[0m\u001b[1;33m\u001b[0m\u001b[1;33m\u001b[0m\u001b[0m\n\u001b[0m\u001b[0;32m      5\u001b[0m \u001b[0max\u001b[0m\u001b[1;33m.\u001b[0m\u001b[0mplot\u001b[0m\u001b[1;33m(\u001b[0m\u001b[0mx\u001b[0m\u001b[1;33m,\u001b[0m\u001b[0mx\u001b[0m\u001b[1;33m)\u001b[0m\u001b[1;33m\u001b[0m\u001b[1;33m\u001b[0m\u001b[0m\n\u001b[0;32m      6\u001b[0m \u001b[0mplt\u001b[0m\u001b[1;33m.\u001b[0m\u001b[0mshow\u001b[0m\u001b[1;33m(\u001b[0m\u001b[1;33m)\u001b[0m\u001b[1;33m\u001b[0m\u001b[1;33m\u001b[0m\u001b[0m\n",
      "\u001b[1;31mIndexError\u001b[0m: list index out of range"
     ]
    },
    {
     "data": {
      "image/png": "[encoded data removed]",
      "text/plain": [
       "<Figure size 432x288 with 1 Axes>"
      ]
     },
     "metadata": {
      "needs_background": "light"
     },
     "output_type": "display_data"
    }
   ],
   "source": [
    "fig, ax = plt.subplots()\n",
    "tile_to_see = np.array([0,1,2,3,4,5,6,7,8,9,11, 12, 13, 14, 15])\n",
    "for i in tile_to_see:\n",
    "    ax.plot(clean_set_populated_tiles[i][:,1], tilewise_predicted_ans[i], 'r+')\n",
    "ax.plot(x,x)\n",
    "plt.show()"
   ]
  },
  {
   "cell_type": "code",
   "execution_count": 107,
   "id": "0b3fc349-db59-42bb-9dd4-ccea831a6256",
   "metadata": {},
   "outputs": [
    {
     "data": {
      "image/png": "[encoded data removed]",
      "text/plain": [
       "<Figure size 432x288 with 1 Axes>"
      ]
     },
     "metadata": {
      "needs_background": "light"
     },
     "output_type": "display_data"
    }
   ],
   "source": [
    "fig, ax = plt.subplots()\n",
    "tile_to_see = np.array([0,1,2,3,4,5,6,7,8,9,11, 12, 13, 14, 15])\n",
    "for i in tile_to_see:\n",
    "    ax.plot(tilewise_predicted_ans[i], clean_set_populated_tiles[i][:,1] , 'r+')\n",
    "ax.plot(x,x)\n",
    "plt.show()"
   ]
  },
  {
   "cell_type": "code",
   "execution_count": 100,
   "id": "e027baa0",
   "metadata": {},
   "outputs": [
    {
     "data": {
      "text/plain": [
       "[<matplotlib.lines.Line2D at 0x2129c05c5b0>]"
      ]
     },
     "execution_count": 100,
     "metadata": {},
     "output_type": "execute_result"
    },
    {
     "data": {
      "image/png": "[encoded data removed]",
      "text/plain": [
       "<Figure size 432x288 with 1 Axes>"
      ]
     },
     "metadata": {
      "needs_background": "light"
     },
     "output_type": "display_data"
    }
   ],
   "source": [
    "tile_to_see = 4\n",
    "plt.plot(clean_set_populated_tiles[tile_to_see][:,1], tilewise_predicted_ans[tile_to_see], 'r+')\n",
    "plt.plot(x, x)\n",
    "#plt.plot(clean_set_populated_tiles[tile_to_see][:,1], clean_set_populated_tiles[tile_to_see][:,1], 'b+')"
   ]
  },
  {
   "cell_type": "code",
   "execution_count": 83,
   "id": "de9cc719-deed-43c2-89dc-bf2469936245",
   "metadata": {},
   "outputs": [
    {
     "data": {
      "text/plain": [
       "[<matplotlib.lines.Line2D at 0x1bc81ead5e0>]"
      ]
     },
     "execution_count": 83,
     "metadata": {},
     "output_type": "execute_result"
    },
    {
     "data": {
      "image/png": "[encoded data removed]",
      "text/plain": [
       "<Figure size 432x288 with 1 Axes>"
      ]
     },
     "metadata": {
      "needs_background": "light"
     },
     "output_type": "display_data"
    }
   ],
   "source": [
    "tile_to_see = 5\n",
    "plt.plot(clean_set_populated_tiles[tile_to_see][:,2], tilewise_predicted_ans[tile_to_see], 'r+')"
   ]
  },
  {
   "cell_type": "code",
   "execution_count": 84,
   "id": "1ad720e4-90e8-4781-a695-7f8288244924",
   "metadata": {},
   "outputs": [
    {
     "data": {
      "text/plain": [
       "[<matplotlib.lines.Line2D at 0x1bc81f0dfd0>]"
      ]
     },
     "execution_count": 84,
     "metadata": {},
     "output_type": "execute_result"
    },
    {
     "data": {
      "image/png": "[encoded data removed]",
      "text/plain": [
       "<Figure size 432x288 with 1 Axes>"
      ]
     },
     "metadata": {
      "needs_background": "light"
     },
     "output_type": "display_data"
    }
   ],
   "source": [
    "#tile_to_see = 3\n",
    "plt.plot(clean_set_populated_tiles[tile_to_see][:,2],clean_set_populated_tiles[tile_to_see][:,1], 'r+')"
   ]
  },
  {
   "cell_type": "code",
   "execution_count": 248,
   "id": "713f27fc",
   "metadata": {},
   "outputs": [
    {
     "data": {
      "text/plain": [
       "array([0.88176192, 0.87300062, 0.88654137, 0.87731377, 0.88263348,\n",
       "       0.86327857, 0.86903411])"
      ]
     },
     "execution_count": 248,
     "metadata": {},
     "output_type": "execute_result"
    }
   ],
   "source": []
  },
  {
   "cell_type": "code",
   "execution_count": 203,
   "id": "699baf96",
   "metadata": {},
   "outputs": [],
   "source": []
  },
  {
   "cell_type": "code",
   "execution_count": 202,
   "id": "8b81908e",
   "metadata": {},
   "outputs": [],
   "source": [
    "#clean_set[1, :]"
   ]
  },
  {
   "cell_type": "code",
   "execution_count": 201,
   "id": "8ee271e1",
   "metadata": {},
   "outputs": [],
   "source": [
    "#for i in range(clean_set.shape[1]):\n",
    "#    print(clean_set[0,i], clean_set[1,i])"
   ]
  },
  {
   "cell_type": "code",
   "execution_count": 17,
   "id": "e4d6508d-65fd-4979-bfd9-51cf23eed73c",
   "metadata": {},
   "outputs": [],
   "source": [
    "#dist_list"
   ]
  },
  {
   "cell_type": "code",
   "execution_count": 44,
   "id": "8c21d7c0-ef72-4222-b78c-6025d078e0c4",
   "metadata": {},
   "outputs": [],
   "source": [
    "def rote_transformer(image_end_points, profiles_to_transform):\n",
    "    \n",
    "    #Transforms the points by taking the calibration points as rote truth\n",
    "    \n",
    "    probe_points_placed = []\n",
    "    for i in range(len(profiles_to_transform)):\n",
    "        j = int(profiles_to_transform[i])\n",
    "        if j == len(profile_start_numbers)-1:\n",
    "            points_in_profile = probe_points[profile_start_numbers[j]:len(probe_points)]\n",
    "            dist_in_profile = dist_list[profile_start_numbers[j]:len(probe_points)]\n",
    "        else:\n",
    "            points_in_profile = probe_points[profile_start_numbers[j]:profile_start_numbers[j+1]]\n",
    "            dist_in_profile = dist_list[profile_start_numbers[j]:profile_start_numbers[j+1]]\n",
    "        \n",
    "        profile_start = image_end_points[2*i]\n",
    "        profile_end =  image_end_points[(2*i)+1]\n",
    "        profile_vector = profile_end-profile_start\n",
    "        relative_dist = dist_in_profile/np.max(dist_in_profile)\n",
    "        #print(profile_vector)\n",
    "        #print(profile_start)\n",
    "        #print(profile_end)\n",
    "        #print(points_in_profile)\n",
    "        #print(relative_dist)\n",
    "        for k in range(len(relative_dist)):\n",
    "            probe_points_placed.append(np.round((profile_start + (relative_dist[k]*profile_vector))))\n",
    "    return np.array(probe_points_placed)"
   ]
  },
  {
   "cell_type": "code",
   "execution_count": 40,
   "id": "f9ae1c76-c517-4800-a526-93c95be625c0",
   "metadata": {},
   "outputs": [],
   "source": [
    "rote_placed = rote_transformer(probe_points, image_end_points, [0,1,2]) "
   ]
  },
  {
   "cell_type": "code",
   "execution_count": 32,
   "id": "9b0845d5-c3c8-49a4-b69b-30b5b0fbbff2",
   "metadata": {},
   "outputs": [
    {
     "data": {
      "text/plain": [
       "array([[[  0,   0,   0, 255],\n",
       "        [  0,   0,   0, 255],\n",
       "        [  0,   0,   0, 255],\n",
       "        ...,\n",
       "        [  0,   0,   0, 255],\n",
       "        [  0,   0,   0, 255],\n",
       "        [  0,   0,   0, 255]],\n",
       "\n",
       "       [[  0,   0,   0, 255],\n",
       "        [  0,   0,   0, 255],\n",
       "        [  0,   0,   0, 255],\n",
       "        ...,\n",
       "        [  0,   0,   0, 255],\n",
       "        [  0,   0,   0, 255],\n",
       "        [  0,   0,   0, 255]],\n",
       "\n",
       "       [[  0,   0,   0, 255],\n",
       "        [  0,   0,   0, 255],\n",
       "        [  0,   0,   0, 255],\n",
       "        ...,\n",
       "        [  0,   0,   0, 255],\n",
       "        [  0,   0,   0, 255],\n",
       "        [  0,   0,   0, 255]],\n",
       "\n",
       "       ...,\n",
       "\n",
       "       [[  0,   0,   0, 255],\n",
       "        [  0,   0,   0, 255],\n",
       "        [  0,   0,   0, 255],\n",
       "        ...,\n",
       "        [  0,   0,   0, 255],\n",
       "        [  0,   0,   0, 255],\n",
       "        [  0,   0,   0, 255]],\n",
       "\n",
       "       [[  0,   0,   0, 255],\n",
       "        [  0,   0,   0, 255],\n",
       "        [  0,   0,   0, 255],\n",
       "        ...,\n",
       "        [  0,   0,   0, 255],\n",
       "        [  0,   0,   0, 255],\n",
       "        [  0,   0,   0, 255]],\n",
       "\n",
       "       [[  0,   0,   0, 255],\n",
       "        [  0,   0,   0, 255],\n",
       "        [  0,   0,   0, 255],\n",
       "        ...,\n",
       "        [  0,   0,   0, 255],\n",
       "        [  0,   0,   0, 255],\n",
       "        [  0,   0,   0, 255]]], dtype=uint8)"
      ]
     },
     "execution_count": 32,
     "metadata": {},
     "output_type": "execute_result"
    }
   ],
   "source": [
    "image"
   ]
  },
  {
   "cell_type": "code",
   "execution_count": 273,
   "id": "95e99102-cef1-4963-938c-a9198a874bc7",
   "metadata": {},
   "outputs": [
    {
     "ename": "IndexError",
     "evalue": "index 3 is out of bounds for axis 0 with size 3",
     "output_type": "error",
     "traceback": [
      "\u001b[1;31m---------------------------------------------------------------------------\u001b[0m",
      "\u001b[1;31mIndexError\u001b[0m                                Traceback (most recent call last)",
      "\u001b[1;32m~\\AppData\\Local\\Temp/ipykernel_5828/1545776386.py\u001b[0m in \u001b[0;36m<module>\u001b[1;34m\u001b[0m\n\u001b[0;32m      1\u001b[0m \u001b[0mi\u001b[0m \u001b[1;33m=\u001b[0m \u001b[1;36m2\u001b[0m\u001b[1;33m\u001b[0m\u001b[1;33m\u001b[0m\u001b[0m\n\u001b[1;32m----> 2\u001b[1;33m \u001b[0mprint\u001b[0m\u001b[1;33m(\u001b[0m\u001b[0mlen\u001b[0m\u001b[1;33m(\u001b[0m\u001b[0mprobe_points\u001b[0m\u001b[1;33m[\u001b[0m\u001b[0mprofile_start_numbers\u001b[0m\u001b[1;33m[\u001b[0m\u001b[0mi\u001b[0m\u001b[1;33m]\u001b[0m\u001b[1;33m:\u001b[0m\u001b[0mprofile_start_numbers\u001b[0m\u001b[1;33m[\u001b[0m\u001b[0mi\u001b[0m\u001b[1;33m+\u001b[0m\u001b[1;36m1\u001b[0m\u001b[1;33m]\u001b[0m\u001b[1;33m]\u001b[0m\u001b[1;33m)\u001b[0m\u001b[1;33m)\u001b[0m\u001b[1;33m\u001b[0m\u001b[1;33m\u001b[0m\u001b[0m\n\u001b[0m",
      "\u001b[1;31mIndexError\u001b[0m: index 3 is out of bounds for axis 0 with size 3"
     ]
    }
   ],
   "source": [
    "i = 0\n",
    "print(len(probe_points[profile_start_numbers[i]:profile_start_numbers[i+1]]))\n",
    "i = 1\n",
    "print(len(probe_points[profile_start_numbers[i]:profile_start_numbers[i+1]]))"
   ]
  },
  {
   "cell_type": "code",
   "execution_count": 275,
   "id": "9c8ce5a3-9899-429d-8439-5d345072db56",
   "metadata": {},
   "outputs": [
    {
     "name": "stdout",
     "output_type": "stream",
     "text": [
      "0\n"
     ]
    }
   ],
   "source": [
    "i = 2\n",
    "print(len(probe_points[profile_start_numbers[i]:len(profile_start_numbers)]))"
   ]
  },
  {
   "cell_type": "code",
   "execution_count": 45,
   "id": "71dd7f18-6f41-4ab8-9d43-aaddb90a0023",
   "metadata": {},
   "outputs": [],
   "source": [
    "def rote_evaluator(rote_parameter_bundle):\n",
    "    \n",
    "    #This function exists for the genetic optimiser, it needs to be a function which takes a parameter bundle (for the rote transformer the parameters are only the profile concerned's number and image coordinates of its end points)\n",
    "    #and returns a number which is smaller for better results\n",
    "    rote_parameter_bundle = np.round(rote_parameter_bundle)\n",
    "    if isinstance(rote_parameter_bundle[0], np.float64):\n",
    "        profiles_in_question = [rote_parameter_bundle[0]]\n",
    "    else:\n",
    "        profiles_in_question = rote_parameter_bundle[0]\n",
    "    points_from_params = []\n",
    "    for i in range(int(((len(rote_parameter_bundle)-1))/2)):\n",
    "        point_from_params = (rote_parameter_bundle[(2*i)+1], rote_parameter_bundle[(2*i)+2]) #convert 1d params list into set of tuples representing end points\n",
    "        points_from_params.append(point_from_params)\n",
    "    points_from_params = np.array(points_from_params)\n",
    "    \n",
    "    #data_point_numbers = [profile_start_numbers[profile_in_question], profile_start_numbers[profile_in_question+1]]\n",
    "    #relevant_probe_points = probe_points[data_point_numbers[0]:data_point_numbers[1]]\n",
    "    placed_points = rote_transformer(points_from_params, profiles_in_question)\n",
    "    correl_score = correlation_scorer(placed_points, profiles_in_question)\n",
    "    \n",
    "    return 100*(1-correl_score)\n",
    "    "
   ]
  },
  {
   "cell_type": "code",
   "execution_count": 47,
   "id": "6097c65c-c7da-481d-9b5d-9a89543e6e54",
   "metadata": {},
   "outputs": [],
   "source": [
    "thing = [1]"
   ]
  },
  {
   "cell_type": "code",
   "execution_count": 48,
   "id": "1e5c4790-4016-401a-b9e7-6c71c1d24a09",
   "metadata": {},
   "outputs": [
    {
     "data": {
      "text/plain": [
       "1"
      ]
     },
     "execution_count": 48,
     "metadata": {},
     "output_type": "execute_result"
    }
   ],
   "source": []
  },
  {
   "cell_type": "code",
   "execution_count": null,
   "id": "5f25a28a-a6e1-4a03-8f5d-fd3b0d9ccf3a",
   "metadata": {},
   "outputs": [],
   "source": []
  },
  {
   "cell_type": "code",
   "execution_count": 28,
   "id": "623b9432-0265-4b14-8b45-1caf0c81e9eb",
   "metadata": {},
   "outputs": [
    {
     "data": {
      "text/plain": [
       "array([[11507. , 22382. ],\n",
       "       [11511.6, 22384. ],\n",
       "       [11516.2, 22385.9],\n",
       "       [11520.8, 22387.9],\n",
       "       [11525.4, 22389.9],\n",
       "       [11530. , 22391.9],\n",
       "       [11534.6, 22393.8],\n",
       "       [11539.2, 22395.8],\n",
       "       [11543.8, 22397.8],\n",
       "       [11548.4, 22399.7]])"
      ]
     },
     "execution_count": 28,
     "metadata": {},
     "output_type": "execute_result"
    }
   ],
   "source": [
    "probe_points[0:10]"
   ]
  },
  {
   "cell_type": "code",
   "execution_count": 46,
   "id": "5438815f-237a-48a4-8e9b-998dc3f3ac29",
   "metadata": {},
   "outputs": [],
   "source": [
    "def rote_calibrator(end_points, play):\n",
    "    \n",
    "    #Function which looks at different combinations of end points near where they are expected to be\n",
    "    end_values = end_points.flatten()\n",
    "    calibrated_end_points = []\n",
    "    \n",
    "    for i in range(int(len(end_points)/2)):\n",
    "        parameter_bounds = []\n",
    "        parameter_bounds.append([i-0.1,i+0.1])\n",
    "        for j in range(4):\n",
    "            parameter_bounds.append([end_values[(4*i)+j]-play,end_values[(4*i)+j]+play])\n",
    "\n",
    "        genetic_parameters = differential_evolution(rote_evaluator, parameter_bounds, seed = 7, maxiter=500, popsize=50).x #The seed is for the random number generator, setting it leads to stable results\n",
    "        genetic_parameters = np.round(genetic_parameters)\n",
    "        calibrated_end_points.append([genetic_parameters[1], genetic_parameters[2]])\n",
    "        calibrated_end_points.append([genetic_parameters[3], genetic_parameters[4]])\n",
    "        print(\"Just finished profile \", i, \"so far: \", calibrated_end_points)\n",
    "        print(\"This profile got this score: \", rote_evaluator(genetic_parameters))\n",
    "    \n",
    "    return calibrated_end_points, rote_evaluator(genetic_parameters)"
   ]
  },
  {
   "cell_type": "code",
   "execution_count": 152,
   "id": "8b4f2034-d840-4527-a033-1e6fdcde7ce7",
   "metadata": {},
   "outputs": [],
   "source": []
  },
  {
   "cell_type": "code",
   "execution_count": 158,
   "id": "97f7a274-f51b-4339-9c20-d84d7a2953fd",
   "metadata": {},
   "outputs": [],
   "source": [
    "correlation_scorer(probe_points_placed, do_all_profiles)"
   ]
  },
  {
   "cell_type": "code",
   "execution_count": 154,
   "id": "0adcccfc-6e94-4ee6-aeb8-894be8400019",
   "metadata": {},
   "outputs": [
    {
     "data": {
      "text/plain": [
       "0.395773850357447"
      ]
     },
     "execution_count": 154,
     "metadata": {},
     "output_type": "execute_result"
    }
   ],
   "source": [
    "correlation_scorer(probe_points_placed, do_all_profiles)"
   ]
  },
  {
   "cell_type": "code",
   "execution_count": 262,
   "id": "1a3112ef-b5c1-4a9e-ac38-bf24390e8f07",
   "metadata": {},
   "outputs": [
    {
     "name": "stdout",
     "output_type": "stream",
     "text": [
      "Just finished profile  0 so far:  [[3179.0, 660.0], [2941.0, 1146.0]]\n",
      "This profile got this score:  20.524691561947918\n",
      "Just finished profile  1 so far:  [[3179.0, 660.0], [2941.0, 1146.0], [7040.0, 8349.0], [1317.0, 826.0]]\n",
      "This profile got this score:  30.028276197284676\n",
      "Just finished profile  2 so far:  [[3179.0, 660.0], [2941.0, 1146.0], [7040.0, 8349.0], [1317.0, 826.0], [3736.0, 1129.0], [954.0, 2510.0]]\n",
      "This profile got this score:  17.65872840976175\n"
     ]
    },
    {
     "data": {
      "text/plain": [
       "([[3179.0, 660.0],\n",
       "  [2941.0, 1146.0],\n",
       "  [7040.0, 8349.0],\n",
       "  [1317.0, 826.0],\n",
       "  [3736.0, 1129.0],\n",
       "  [954.0, 2510.0]],\n",
       " 17.65872840976175)"
      ]
     },
     "execution_count": 262,
     "metadata": {},
     "output_type": "execute_result"
    }
   ],
   "source": [
    "rote_calibrator(image_end_points, 200)"
   ]
  },
  {
   "cell_type": "code",
   "execution_count": 13,
   "id": "5b564ea4",
   "metadata": {},
   "outputs": [],
   "source": [
    "def analytic_calibrator(stage_point_1, stage_point_2, image_point_1, image_point_2):\n",
    "\n",
    "    #Transforms the stage coordinates to image coordinates based on exactly two points\n",
    "    \n",
    "    #Set these values\n",
    "\n",
    "    #for John1\n",
    "    stage_start = np.array(stage_point_1) #These can be any two points for which the stage coordinates are known\n",
    "    stage_end = np.array(stage_point_2) #In the form (x,y) which is probably technically suboptimal but is definitely easier to read\n",
    "    image_start = np.array(image_point_1) #These must be the same two points on the image\n",
    "    image_end = np.array(image_point_2)\n",
    "    \n",
    "    #Do not touch\n",
    "    \n",
    "    #Transformation we want is distinctly stage coordinates -> image coordinates\n",
    "    \n",
    "    #We do this in three steps, taking advantage of the knowledge that both coordinate systems are square grids\n",
    "    \n",
    "    stage_calibration_vector = stage_end - stage_start #Our goal is to transform this stage vector into the image vector while preserving the square-gridness\n",
    "    image_calibration_vector = image_end - image_start #This tranformation should then be able to be applied to other points \n",
    "    \n",
    "    stage_cal_length = np.sqrt(stage_calibration_vector[0]**2 + stage_calibration_vector[1]**2)\n",
    "    image_cal_length = np.sqrt(image_calibration_vector[0]**2 + image_calibration_vector[1]**2)\n",
    "    stage_cal_normalised = np.array([(stage_calibration_vector[0]/stage_cal_length),(stage_calibration_vector[1]/stage_cal_length)])\n",
    "    image_cal_normalised = np.array([(image_calibration_vector[0]/image_cal_length),(image_calibration_vector[1]/image_cal_length)])\n",
    "    stage_to_image_scale = image_cal_length/stage_cal_length\n",
    "    #print(stage_to_image_scale)\n",
    "    #print(stage_calibration_vector)\n",
    "    #print(image_calibration_vector)\n",
    "    \n",
    "    theta_from_cos = np.arccos((stage_cal_normalised[0]*image_cal_normalised[0]) + (stage_cal_normalised[1]*image_cal_normalised[1]))\n",
    "    #print(stage_cal_normalised)\n",
    "    #print(image_cal_normalised)\n",
    "    #print(theta_from_cos)\n",
    "    theta = np.pi + np.arcsin((image_cal_normalised[1]-stage_cal_normalised[1]*np.cos(theta_from_cos))/stage_cal_normalised[0]) #There definitely exists a better way to do this but it works\n",
    "    \n",
    "    return stage_to_image_scale, theta, image_start[0], image_start[1]\n",
    "    \n",
    "    \n",
    "def transformer(probe_points, stage_to_image_scale, theta, x_offset, y_offset):\n",
    "    \n",
    "    #probe_x_list = []\n",
    "    #probe_y_list = []\n",
    "    #for i in range(len(probe_points)):\n",
    "        #probe_x_list.append(probe_points[i][0])\n",
    "        #probe_y_list.append(probe_points[i][1])\n",
    "        \n",
    "    #Now onto the actual transformation\n",
    "    probe_x_centred = probe_points[:,0] - stage_calibration_points[0][0]\n",
    "    probe_y_centred = probe_points[:,1] - stage_calibration_points[0][1]\n",
    "    #print(probe_x_centred)\n",
    "    #plt.plot(probe_x_centred, probe_y_centred, 'r+')   \n",
    "    \n",
    "    probe_x_scaled = probe_x_centred * stage_to_image_scale\n",
    "    probe_y_scaled = probe_y_centred * stage_to_image_scale\n",
    "    \n",
    "    #plt.plot(probe_x_scaled, probe_y_scaled, 'r+')\n",
    "    \n",
    "    probe_x_rotated = probe_x_scaled*np.cos(theta) + probe_y_scaled*np.sin(theta)\n",
    "    probe_y_rotated = probe_x_scaled*np.sin(theta) - probe_y_scaled*np.cos(theta)\n",
    "    \n",
    "    #plt.plot(probe_x_rotated, probe_y_rotated, 'r+')\n",
    "    \n",
    "    probe_x_placed = np.round(probe_x_rotated) + np.round(x_offset)\n",
    "    probe_y_placed = np.round(probe_y_rotated) + np.round(y_offset)\n",
    "    \n",
    "    #plt.plot(probe_x_placed, probe_y_placed, 'r+')\n",
    "    \n",
    "    probe_points_placed = []\n",
    "    for i in range(len(probe_points)):\n",
    "        #probe_points_placed.append((probe_x_placed[i], probe_y_placed[i],probe_x_placed[i], probe_y_placed[i],probe_y_placed[i]))\n",
    "        probe_points_placed.append((probe_x_placed[i], probe_y_placed[i]))\n",
    "    probe_points_placed = np.array(probe_points_placed)    \n",
    "    \n",
    "    #plt.plot(probe_points_placed[:,0],probe_points_placed[:,1], 'r+')\n",
    "    \n",
    "    return probe_points_placed\n",
    "\n",
    "def shear_transformer(probe_points, stage_to_image_scale, theta, x_offset, y_offset, x_shear, y_shear):\n",
    "    \n",
    "    #probe_x_list = []\n",
    "    #probe_y_list = []\n",
    "    #for i in range(len(probe_points)):\n",
    "        #probe_x_list.append(probe_points[i][0])\n",
    "        #probe_y_list.append(probe_points[i][1])\n",
    "        \n",
    "    #Now onto the actual transformation\n",
    "    probe_x_centred = probe_points[:,0] - stage_calibration_points[0][0]\n",
    "    probe_y_centred = probe_points[:,1] - stage_calibration_points[0][1]\n",
    "    #print(probe_x_centred)\n",
    "    #plt.plot(probe_x_centred, probe_y_centred, 'r+')   \n",
    "    \n",
    "#    probe_x_sheared = probe_x_centred + shear*probe_y_centred\n",
    "#    probe_y_sheared = probe_y_centred + shear*probe_x_centred\n",
    "#    \n",
    "#    probe_x_scaled = probe_x_sheared * stage_to_image_scale\n",
    "#    probe_y_scaled = probe_y_sheared * stage_to_image_scale\n",
    "\n",
    "    probe_x_scaled = probe_x_centred * stage_to_image_scale\n",
    "    probe_y_scaled = probe_y_centred * stage_to_image_scale\n",
    "    \n",
    "    #plt.plot(probe_x_scaled, probe_y_scaled, 'r+')\n",
    "    \n",
    "    probe_x_rotated = probe_x_scaled*np.cos(theta) + probe_y_scaled*np.sin(theta)\n",
    "    probe_y_rotated = probe_x_scaled*np.sin(theta) - probe_y_scaled*np.cos(theta)\n",
    "    \n",
    "    probe_x_sheared = probe_x_rotated + x_shear*probe_y_rotated\n",
    "    probe_y_sheared = probe_y_rotated + y_shear*probe_x_rotated\n",
    "    \n",
    "    #plt.plot(probe_x_rotated, probe_y_rotated, 'r+')\n",
    "    \n",
    "#    probe_x_placed = np.round(probe_x_rotated) + np.round(x_offset)\n",
    "#    probe_y_placed = np.round(probe_y_rotated) + np.round(y_offset)\n",
    "\n",
    "    probe_x_placed = np.round(probe_x_sheared) + np.round(x_offset)\n",
    "    probe_y_placed = np.round(probe_y_sheared) + np.round(y_offset)\n",
    "\n",
    "    \n",
    "    #plt.plot(probe_x_placed, probe_y_placed, 'r+')\n",
    "    \n",
    "    probe_points_placed = []\n",
    "    for i in range(len(probe_points)):\n",
    "        #probe_points_placed.append((probe_x_placed[i], probe_y_placed[i],probe_x_placed[i], probe_y_placed[i],probe_y_placed[i]))\n",
    "        probe_points_placed.append((probe_x_placed[i], probe_y_placed[i]))\n",
    "    probe_points_placed = np.array(probe_points_placed)    \n",
    "    \n",
    "    #plt.plot(probe_points_placed[:,0],probe_points_placed[:,1], 'r+')\n",
    "    \n",
    "    return probe_points_placed\n"
   ]
  },
  {
   "cell_type": "code",
   "execution_count": 14,
   "id": "942dbc4b",
   "metadata": {},
   "outputs": [],
   "source": [
    "def transformer_for_opt(optimiser_points, stage_to_image_scale, theta, x_offset, y_offset):\n",
    "    \n",
    "    probe_x_list = []\n",
    "    probe_y_list = []\n",
    "    for i in range(int(len(optimiser_points)/2)):\n",
    "        probe_x_list.append(optimiser_points[2*i])\n",
    "        probe_y_list.append(optimiser_points[(2*i)+1])\n",
    "        \n",
    "    #Now onto the actual transformation\n",
    "    probe_x_centred = probe_x_list - stage_calibration_points[0][0]\n",
    "    probe_y_centred = probe_y_list - stage_calibration_points[0][1]\n",
    "    #print(probe_x_centred)\n",
    "    #plt.plot(probe_x_centred, probe_y_centred, 'r+')   \n",
    "    \n",
    "    probe_x_scaled = probe_x_centred * stage_to_image_scale\n",
    "    probe_y_scaled = probe_y_centred * stage_to_image_scale\n",
    "    \n",
    "    #plt.plot(probe_x_scaled, probe_y_scaled, 'r+')\n",
    "    \n",
    "    probe_x_rotated = probe_x_scaled*np.cos(theta) + probe_y_scaled*np.sin(theta)\n",
    "    probe_y_rotated = probe_x_scaled*np.sin(theta) - probe_y_scaled*np.cos(theta)\n",
    "    \n",
    "    #plt.plot(probe_x_rotated, probe_y_rotated, 'r+')\n",
    "    \n",
    "    probe_x_placed = np.round(probe_x_rotated) + x_offset\n",
    "    probe_y_placed = np.round(probe_y_rotated) + y_offset\n",
    "    \n",
    "    #plt.plot(probe_x_placed, probe_y_placed, 'r+')\n",
    "    \n",
    "    probe_points_placed = []\n",
    "    for i in range(int(len(optimiser_points)/2)):\n",
    "        #probe_points_placed.append((probe_x_placed[i], probe_y_placed[i],probe_x_placed[i], probe_y_placed[i],probe_y_placed[i]))\n",
    "        probe_points_placed.append(probe_x_placed[i])\n",
    "        probe_points_placed.append(probe_y_placed[i])\n",
    "    probe_points_placed = np.array(probe_points_placed)    \n",
    "    \n",
    "    #plt.plot(probe_points_placed[:,0],probe_points_placed[:,1], 'r+')\n",
    "    \n",
    "    return probe_points_placed\n",
    "\n",
    "def shear_transformer_for_opt(optimiser_points, stage_to_image_scale, theta, x_offset, y_offset, x_shear, y_shear):\n",
    "    \n",
    "    probe_x_list = []\n",
    "    probe_y_list = []\n",
    "    for i in range(int(len(optimiser_points)/2)):\n",
    "        probe_x_list.append(optimiser_points[2*i])\n",
    "        probe_y_list.append(optimiser_points[(2*i)+1])\n",
    "        \n",
    "    #Now onto the actual transformation\n",
    "    probe_x_centred = probe_x_list - stage_calibration_points[0][0]\n",
    "    probe_y_centred = probe_y_list - stage_calibration_points[0][1]\n",
    "    #print(probe_x_centred)\n",
    "    #plt.plot(probe_x_centred, probe_y_centred, 'r+')   \n",
    "    \n",
    "#    probe_x_sheared = probe_x_centred + shear*probe_y_centred\n",
    "#    probe_y_sheared = probe_y_centred + shear*probe_x_centred\n",
    "#    \n",
    "#    probe_x_scaled = probe_x_sheared * stage_to_image_scale\n",
    "#    probe_y_scaled = probe_y_sheared * stage_to_image_scale\n",
    "\n",
    "    probe_x_scaled = probe_x_centred * stage_to_image_scale\n",
    "    probe_y_scaled = probe_y_centred * stage_to_image_scale\n",
    "    \n",
    "    #plt.plot(probe_x_scaled, probe_y_scaled, 'r+')\n",
    "    \n",
    "    probe_x_rotated = probe_x_scaled*np.cos(theta) + probe_y_scaled*np.sin(theta)\n",
    "    probe_y_rotated = probe_x_scaled*np.sin(theta) - probe_y_scaled*np.cos(theta)\n",
    "    \n",
    "    probe_x_sheared = probe_x_rotated + x_shear*probe_y_rotated\n",
    "    probe_y_sheared = probe_y_rotated + y_shear*probe_x_rotated\n",
    "    \n",
    "    #plt.plot(probe_x_rotated, probe_y_rotated, 'r+')\n",
    "    \n",
    "#    probe_x_placed = np.round(probe_x_rotated) + np.round(x_offset)\n",
    "#    probe_y_placed = np.round(probe_y_rotated) + np.round(y_offset)\n",
    "\n",
    "    probe_x_placed = np.round(probe_x_sheared) + np.round(x_offset)\n",
    "    probe_y_placed = np.round(probe_y_sheared) + np.round(y_offset)\n",
    "    \n",
    "    #plt.plot(probe_x_placed, probe_y_placed, 'r+')\n",
    "    \n",
    "    probe_points_placed = []\n",
    "    for i in range(int(len(optimiser_points)/2)):\n",
    "        #probe_points_placed.append((probe_x_placed[i], probe_y_placed[i],probe_x_placed[i], probe_y_placed[i],probe_y_placed[i]))\n",
    "        probe_points_placed.append(probe_x_placed[i])\n",
    "        probe_points_placed.append(probe_y_placed[i])\n",
    "    probe_points_placed = np.array(probe_points_placed)    \n",
    "    \n",
    "    #plt.plot(probe_points_placed[:,0],probe_points_placed[:,1], 'r+')\n",
    "    \n",
    "    return probe_points_placed"
   ]
  },
  {
   "cell_type": "code",
   "execution_count": 15,
   "id": "b864154d",
   "metadata": {},
   "outputs": [],
   "source": [
    "#probe_points[:,0]\n",
    "#transformer(probe_points, analytic_parameter_bundle[0], analytic_parameter_bundle[1], analytic_parameter_bundle[2], analytic_parameter_bundle[3])"
   ]
  },
  {
   "cell_type": "code",
   "execution_count": 15,
   "id": "581a48dc",
   "metadata": {},
   "outputs": [],
   "source": [
    "def statistical_calibrator():\n",
    "    \n",
    "    #Transforms the stage coordinates to image coordinates with the same methodology as above\n",
    "    #but finds the parameters for the transformation statistically using as many points as have been supplied\n",
    "    \n",
    "\n",
    "    \n",
    "    \n",
    "    #Find starting parameters, since I already have an approximate method for doing this, I may as well start the search off in very nearly the \"right place\" and search a relatively narrow range\n",
    "    \n",
    "    analytic_parameter_bundle = analytic_calibrator(stage_calibration_points[0], stage_calibration_points[1], image_calibration_points[0], image_calibration_points[1])\n",
    "    max_stage_to_image_scale = analytic_parameter_bundle[0]*2 #This should be easily large enough in each direction and scales\n",
    "    min_stage_to_image_scale = analytic_parameter_bundle[0]*-2 #in case in future this is used in a context with a very different scale factor\n",
    "    max_theta = analytic_parameter_bundle[1] + (np.pi/6) #Sixty degrees of play ought to be enough\n",
    "    min_theta = analytic_parameter_bundle[1] - (np.pi/6)\n",
    "    #max_x_centring = (analytic_parameter_bundle[2]*1.1) + 100*np.sign(analytic_parameter_bundle[2]) #This is less obvious\n",
    "    #min_x_centring = (analytic_parameter_bundle[2]*0.9) - 100*np.sign(analytic_parameter_bundle[2]) #but should work for most cases\n",
    "    #max_y_centring = (analytic_parameter_bundle[3]*1.1) + 100*np.sign(analytic_parameter_bundle[3])\n",
    "    #min_y_centring = (analytic_parameter_bundle[3]*0.9) - 100*np.sign(analytic_parameter_bundle[3])\n",
    "    max_x_offset = (analytic_parameter_bundle[2]*1.1) + 100*np.sign(analytic_parameter_bundle[2]) #These ranges are quite large\n",
    "    min_x_offset = (analytic_parameter_bundle[2]*0.9) - 100*np.sign(analytic_parameter_bundle[2]) #ultimately larger is better\n",
    "    max_y_offset = (analytic_parameter_bundle[3]*1.1) + 100*np.sign(analytic_parameter_bundle[3]) #so long as it still runs in a \n",
    "    min_y_offset = (analytic_parameter_bundle[3]*0.9) - 100*np.sign(analytic_parameter_bundle[3]) #reasonable time\n",
    "    \n",
    "    parameter_bounds = []\n",
    "    parameter_bounds.append([min_stage_to_image_scale,max_stage_to_image_scale])\n",
    "    parameter_bounds.append([min_theta,max_theta])\n",
    "    #parameter_bounds.append([min_x_centring,max_x_centring])\n",
    "    #parameter_bounds.append([min_y_centring,max_y_centring])\n",
    "    parameter_bounds.append([min_x_offset,max_x_offset])\n",
    "    parameter_bounds.append([min_y_offset,max_y_offset])\n",
    "    \n",
    "    genetic_parameters = differential_evolution(mean_of_squared_error, parameter_bounds, seed = 7, maxiter=1000, popsize=100).x #The seed is for the random number generator, setting it leads to stable results\n",
    "    \n",
    "    fitted_parameters, pcov = curve_fit(transformer_for_opt, stage_cal_points_for_opt, image_cal_points_for_opt, genetic_parameters)\n",
    "    return genetic_parameters, fitted_parameters"
   ]
  },
  {
   "cell_type": "code",
   "execution_count": 16,
   "id": "ee71487f-3241-4d7b-b667-f637a4420843",
   "metadata": {},
   "outputs": [],
   "source": [
    "def shear_statistical_calibrator():\n",
    "    \n",
    "    #Transforms the stage coordinates to image coordinates with the same methodology as above\n",
    "    #but finds the parameters for the transformation statistically using as many points as have been supplied\n",
    "    \n",
    "\n",
    "    \n",
    "    \n",
    "    #Find starting parameters, since I already have an approximate method for doing this, I may as well start the search off in very nearly the \"right place\" and search a relatively narrow range\n",
    "    \n",
    "    analytic_parameter_bundle = analytic_calibrator(stage_calibration_points[0], stage_calibration_points[1], image_calibration_points[0], image_calibration_points[1])\n",
    "    max_stage_to_image_scale = analytic_parameter_bundle[0]*2 #This should be easily large enough in each direction and scales\n",
    "    min_stage_to_image_scale = analytic_parameter_bundle[0]*-2 #in case in future this is used in a context with a very different scale factor\n",
    "    max_theta = analytic_parameter_bundle[1] + (np.pi/6) #Sixty degrees of play ought to be enough\n",
    "    min_theta = analytic_parameter_bundle[1] - (np.pi/6)\n",
    "    #max_x_centring = (analytic_parameter_bundle[2]*1.1) + 100*np.sign(analytic_parameter_bundle[2]) #This is less obvious\n",
    "    #min_x_centring = (analytic_parameter_bundle[2]*0.9) - 100*np.sign(analytic_parameter_bundle[2]) #but should work for most cases\n",
    "    #max_y_centring = (analytic_parameter_bundle[3]*1.1) + 100*np.sign(analytic_parameter_bundle[3])\n",
    "    #min_y_centring = (analytic_parameter_bundle[3]*0.9) - 100*np.sign(analytic_parameter_bundle[3])\n",
    "    max_x_offset = (analytic_parameter_bundle[2]*1.1) + 100*np.sign(analytic_parameter_bundle[2]) #These ranges are quite large\n",
    "    min_x_offset = (analytic_parameter_bundle[2]*0.9) - 100*np.sign(analytic_parameter_bundle[2]) #ultimately larger is better\n",
    "    max_y_offset = (analytic_parameter_bundle[3]*1.1) + 100*np.sign(analytic_parameter_bundle[3]) #so long as it still runs in a \n",
    "    min_y_offset = (analytic_parameter_bundle[3]*0.9) - 100*np.sign(analytic_parameter_bundle[3]) #reasonable time\n",
    "    max_x_shear = 0.5 #This should be plenty enough even for particularly egregious miss-positionings\n",
    "    min_x_shear = -0.5 \n",
    "    max_y_shear = 0.5 #This should be plenty enough even for particularly egregious miss-positionings\n",
    "    min_y_shear = -0.5 \n",
    "    \n",
    "    parameter_bounds = []\n",
    "    parameter_bounds.append([min_stage_to_image_scale,max_stage_to_image_scale])\n",
    "    parameter_bounds.append([min_theta,max_theta])\n",
    "    #parameter_bounds.append([min_x_centring,max_x_centring])\n",
    "    #parameter_bounds.append([min_y_centring,max_y_centring])\n",
    "    parameter_bounds.append([min_x_offset,max_x_offset])\n",
    "    parameter_bounds.append([min_y_offset,max_y_offset])\n",
    "    parameter_bounds.append([min_x_shear,max_x_shear])\n",
    "    parameter_bounds.append([min_y_shear,max_y_shear])\n",
    "    \n",
    "    shear_genetic_parameters = differential_evolution(mean_of_squared_error, parameter_bounds, seed = 7, maxiter=1000, popsize=100).x #The seed is for the random number generator, setting it leads to stable results\n",
    "    \n",
    "    shear_fitted_parameters, pcov = curve_fit(shear_transformer_for_opt, stage_cal_points_for_opt, image_cal_points_for_opt, shear_genetic_parameters)\n",
    "    return shear_genetic_parameters, shear_fitted_parameters"
   ]
  },
  {
   "cell_type": "code",
   "execution_count": 17,
   "id": "fd6f1e0e-5749-4410-9517-2253de9da24d",
   "metadata": {},
   "outputs": [],
   "source": [
    "#for i in range(len(probe_points_placed[:,0])):\n",
    "#    print(probe_points_placed[i,1])"
   ]
  },
  {
   "cell_type": "code",
   "execution_count": 18,
   "id": "aaf73e6d",
   "metadata": {},
   "outputs": [],
   "source": [
    "def mean_of_squared_error(parameter_bundle):\n",
    "    \n",
    "    #Computes the mean squared error of position of the calibration points for a given transformer parameter bundle\n",
    "    \n",
    "    #print(parameter_bundle)\n",
    "    if len(parameter_bundle) == 4:\n",
    "        image_points = transformer(stage_calibration_points, parameter_bundle[0], parameter_bundle[1], parameter_bundle[2], parameter_bundle[3])\n",
    "    elif len(parameter_bundle) == 6:\n",
    "        image_points = shear_transformer(stage_calibration_points, parameter_bundle[0], parameter_bundle[1], parameter_bundle[2], parameter_bundle[3],parameter_bundle[4], parameter_bundle[5])\n",
    "    total = 0\n",
    "    #print(image_points)\n",
    "    for i in range(len(image_points)):\n",
    "        total = total + ((image_points[i][0]-image_calibration_points[i][0])**2) + ((image_points[i][1]-image_calibration_points[i][1])**2)\n",
    "        #print(((image_points[i][0]-image_calibration_points[i][0])**2) + ((image_points[i][1]-image_calibration_points[i][1])**2))\n",
    "    return (total/len(image_points))"
   ]
  },
  {
   "cell_type": "code",
   "execution_count": 50,
   "id": "8361215c-7e78-4e58-869c-73cef20c3a35",
   "metadata": {},
   "outputs": [],
   "source": [
    "def correlation_scorer(probe_points_placed, profiles_in_question):\n",
    "    search_size = 3\n",
    "    relevant_intensities = []\n",
    "    for i in range(len(probe_points_placed)):\n",
    "        #print(probe_points_placed[i][0],' ',probe_points_placed[i][1])\n",
    "        relevant_intensities.append(get_brightness(int(probe_points_placed[i][0]),int(probe_points_placed[i][1]), search_size))\n",
    "    relevant_intensities = np.array(relevant_intensities)\n",
    "    relevant_intensities = relevant_intensities.flatten()\n",
    "    relevant_anorthites = []\n",
    "    for i in range(len(profiles_in_question)):\n",
    "        j = int(profiles_in_question[i])\n",
    "        if j == len(profile_start_numbers)-1:\n",
    "            relevant_anorthites.extend(np.array(anorthite_list[profile_start_numbers[j]:len(probe_points)]))\n",
    "        else:\n",
    "            relevant_anorthites.extend(np.array(anorthite_list[profile_start_numbers[j]:profile_start_numbers[j+1]]))\n",
    "    \n",
    "    relevant_anorthites = np.array(relevant_anorthites)\n",
    "    relevant_anorthites =  relevant_anorthites.flatten()\n",
    "    #print(relevant_anorthites.shape)\n",
    "    #print(relevant_intensities.shape)\n",
    "    #print(relevant_anorthites)\n",
    "    #print(relevant_intensities)\n",
    "    correlation_thing = np.transpose(np.column_stack((relevant_intensities, relevant_anorthites)))\n",
    "    #print(correlation_thing.shape)\n",
    "    cross_correlation = np.corrcoef(correlation_thing)[0,1]\n",
    "    #print(cross_correlation)\n",
    "    return cross_correlation"
   ]
  },
  {
   "cell_type": "code",
   "execution_count": 20,
   "id": "7feefcd9-e5b9-404e-9b55-40bc87124340",
   "metadata": {},
   "outputs": [],
   "source": [
    "def full_fit_scorer(probe_points_placed, profiles_in_question):\n",
    "    search_size = 2\n",
    "    relevant_intensities = []\n",
    "    for i in range(len(probe_points_placed)):\n",
    "        #print(probe_points_placed[i][0],' ',probe_points_placed[i][1])\n",
    "        relevant_intensities.append(get_brightness(int(probe_points_placed[i][0]),int(probe_points_placed[i][1]), search_size))\n",
    "    relevant_intensities = np.array(relevant_intensities)\n",
    "    relevant_intensities = relevant_intensities.flatten()\n",
    "    relevant_anorthites = []\n",
    "    relevant_x = []\n",
    "    relevant_y = []\n",
    "    for i in range(len(profiles_in_question)):\n",
    "        j = int(profiles_in_question[i])\n",
    "        if j == len(profile_start_numbers)-1:\n",
    "            relevant_anorthites.extend(np.array(anorthite_list[profile_start_numbers[j]:len(probe_points)]))\n",
    "            relevant_x.extend(np.array(probe_points_placed[0, profile_start_numbers[j]:len(probe_points)]))\n",
    "            relevant_y.extend(np.array(probe_points_placed[1, profile_start_numbers[j]:len(probe_points)]))\n",
    "        else:\n",
    "            relevant_anorthites.extend(np.array(anorthite_list[profile_start_numbers[j]:profile_start_numbers[j+1]]))\n",
    "            relevant_x.extend(np.array(probe_points_placed[0, profile_start_numbers[j]:profile_start_numbers[j+1]]))\n",
    "            relevant_y.extend(np.array(probe_points_placed[1, profile_start_numbers[j]:profile_start_numbers[j+1]]))\n",
    "    relevant_anorthites = np.array(relevant_anorthites)\n",
    "    relevant_anorthites =  relevant_anorthites.flatten()\n",
    "    relevant_x = np.array(relevant_x)\n",
    "    relevant_x =  relevant_x.flatten()\n",
    "    relevant_y = np.array(relevant_y)\n",
    "    relevant_y =  relevant_y.flatten()\n",
    "    "
   ]
  },
  {
   "cell_type": "code",
   "execution_count": null,
   "id": "c50d0dbd-e914-4e6f-be1b-b8b43b7d36d3",
   "metadata": {},
   "outputs": [],
   "source": [
    "parameter_bundle = curvefit_parameter_bundle\n",
    "probe_points_placed = transformer(probe_points, parameter_bundle[0], parameter_bundle[1], parameter_bundle[2], parameter_bundle[3])\n",
    "correlation_scorer(probe_points_placed)\n",
    "shear_parameter_bundle = shear_curvefit_parameter_bundle\n",
    "probe_points_placed = shear_transformer(probe_points, shear_parameter_bundle[0], shear_parameter_bundle[1], shear_parameter_bundle[2], shear_parameter_bundle[3], shear_parameter_bundle[4], shear_parameter_bundle[5])\n",
    "correlation_scorer(probe_points_placed)\n",
    "probe_points_placed = rote_transformer(probe_points, image_end_points, profile_start_numbers) \n",
    "correlation_scorer(probe_points_placed)\n"
   ]
  },
  {
   "cell_type": "code",
   "execution_count": 311,
   "id": "0f4b5153-ccbb-453b-b572-40ee477e92ab",
   "metadata": {},
   "outputs": [
    {
     "data": {
      "text/plain": [
       "array([[1., 1.],\n",
       "       [1., 1.]])"
      ]
     },
     "execution_count": 311,
     "metadata": {},
     "output_type": "execute_result"
    }
   ],
   "source": [
    "correlation_thing = np.transpose(np.column_stack((intensity_array, intensity_array)))\n",
    "np.corrcoef(correlation_thing)"
   ]
  },
  {
   "cell_type": "code",
   "execution_count": 12,
   "id": "cebe3d16",
   "metadata": {},
   "outputs": [
    {
     "ename": "NameError",
     "evalue": "name 'analytic_calibrator' is not defined",
     "output_type": "error",
     "traceback": [
      "\u001b[1;31m---------------------------------------------------------------------------\u001b[0m",
      "\u001b[1;31mNameError\u001b[0m                                 Traceback (most recent call last)",
      "\u001b[1;32m~\\AppData\\Local\\Temp/ipykernel_16600/4167454890.py\u001b[0m in \u001b[0;36m<module>\u001b[1;34m\u001b[0m\n\u001b[0;32m      2\u001b[0m     \u001b[1;32mfor\u001b[0m \u001b[0mj\u001b[0m \u001b[1;32min\u001b[0m \u001b[0mrange\u001b[0m\u001b[1;33m(\u001b[0m\u001b[0mlen\u001b[0m\u001b[1;33m(\u001b[0m\u001b[0mstage_calibration_points\u001b[0m\u001b[1;33m)\u001b[0m\u001b[1;33m)\u001b[0m\u001b[1;33m:\u001b[0m\u001b[1;33m\u001b[0m\u001b[1;33m\u001b[0m\u001b[0m\n\u001b[0;32m      3\u001b[0m         \u001b[1;32mif\u001b[0m \u001b[0mi\u001b[0m \u001b[1;33m!=\u001b[0m \u001b[0mj\u001b[0m\u001b[1;33m:\u001b[0m\u001b[1;33m\u001b[0m\u001b[1;33m\u001b[0m\u001b[0m\n\u001b[1;32m----> 4\u001b[1;33m             \u001b[0manalytic_parameter_bundle\u001b[0m \u001b[1;33m=\u001b[0m \u001b[0manalytic_calibrator\u001b[0m\u001b[1;33m(\u001b[0m\u001b[0mstage_calibration_points\u001b[0m\u001b[1;33m[\u001b[0m\u001b[0mi\u001b[0m\u001b[1;33m]\u001b[0m\u001b[1;33m,\u001b[0m \u001b[0mstage_calibration_points\u001b[0m\u001b[1;33m[\u001b[0m\u001b[0mj\u001b[0m\u001b[1;33m]\u001b[0m\u001b[1;33m,\u001b[0m \u001b[0mimage_calibration_points\u001b[0m\u001b[1;33m[\u001b[0m\u001b[0mi\u001b[0m\u001b[1;33m]\u001b[0m\u001b[1;33m,\u001b[0m \u001b[0mimage_calibration_points\u001b[0m\u001b[1;33m[\u001b[0m\u001b[0mj\u001b[0m\u001b[1;33m]\u001b[0m\u001b[1;33m)\u001b[0m\u001b[1;33m\u001b[0m\u001b[1;33m\u001b[0m\u001b[0m\n\u001b[0m\u001b[0;32m      5\u001b[0m             \u001b[0mprint\u001b[0m\u001b[1;33m(\u001b[0m\u001b[0manalytic_parameter_bundle\u001b[0m\u001b[1;33m)\u001b[0m\u001b[1;33m\u001b[0m\u001b[1;33m\u001b[0m\u001b[0m\n\u001b[0;32m      6\u001b[0m             \u001b[0mprint\u001b[0m\u001b[1;33m(\u001b[0m\u001b[0msum_of_squared_error\u001b[0m\u001b[1;33m(\u001b[0m\u001b[0manalytic_parameter_bundle\u001b[0m\u001b[1;33m)\u001b[0m\u001b[1;33m)\u001b[0m\u001b[1;33m\u001b[0m\u001b[1;33m\u001b[0m\u001b[0m\n",
      "\u001b[1;31mNameError\u001b[0m: name 'analytic_calibrator' is not defined"
     ]
    }
   ],
   "source": [
    "for i in range(len(stage_calibration_points)):\n",
    "    for j in range(len(stage_calibration_points)):\n",
    "        if i != j:\n",
    "            analytic_parameter_bundle = analytic_calibrator(stage_calibration_points[i], stage_calibration_points[j], image_calibration_points[i], image_calibration_points[j])\n",
    "            print(analytic_parameter_bundle)\n",
    "            print(sum_of_squared_error(analytic_parameter_bundle))"
   ]
  },
  {
   "cell_type": "code",
   "execution_count": 18,
   "id": "a4aba8c2",
   "metadata": {},
   "outputs": [
    {
     "data": {
      "text/plain": [
       "13751.25"
      ]
     },
     "execution_count": 18,
     "metadata": {},
     "output_type": "execute_result"
    }
   ],
   "source": [
    "hand_parameters = np.array((0.77, 2.5, 7000, 8300))\n",
    "sum_of_squared_error(hand_parameters)"
   ]
  },
  {
   "cell_type": "code",
   "execution_count": 42,
   "id": "730e3b80",
   "metadata": {},
   "outputs": [
    {
     "name": "stderr",
     "output_type": "stream",
     "text": [
      "C:\\Users\\rwfbl\\anaconda3\\lib\\site-packages\\scipy\\optimize\\minpack.py:833: OptimizeWarning: Covariance of the parameters could not be estimated\n",
      "  warnings.warn('Covariance of the parameters could not be estimated',\n"
     ]
    },
    {
     "name": "stdout",
     "output_type": "stream",
     "text": [
      "(0.7842000987543746, 2.4854150249494142, 7105, 8468)\n",
      "29874.6\n",
      "[7.80749866e-01 2.50513644e+00 7.11354869e+03 8.46305544e+03]\n",
      "962.8\n",
      "[7.80749866e-01 2.50513644e+00 7.11380000e+03 8.46200000e+03]\n",
      "961.8\n"
     ]
    }
   ],
   "source": [
    "analytic_parameter_bundle = analytic_calibrator(stage_calibration_points[0], stage_calibration_points[1], image_calibration_points[0], image_calibration_points[1])\n",
    "genetic_parameter_bundle = statistical_calibrator()[0]\n",
    "curvefit_parameter_bundle = statistical_calibrator()[1]\n",
    "print(analytic_parameter_bundle)\n",
    "print(mean_of_squared_error(analytic_parameter_bundle))\n",
    "print(genetic_parameter_bundle)\n",
    "print(mean_of_squared_error(genetic_parameter_bundle))\n",
    "print(curvefit_parameter_bundle)\n",
    "print(mean_of_squared_error(curvefit_parameter_bundle))"
   ]
  },
  {
   "cell_type": "code",
   "execution_count": 43,
   "id": "121a40fd",
   "metadata": {},
   "outputs": [],
   "source": [
    "shear_genetic_parameter_bundle, shear_curvefit_parameter_bundle = shear_statistical_calibrator()"
   ]
  },
  {
   "cell_type": "code",
   "execution_count": 44,
   "id": "29991353-f656-4353-9bdb-235aefea5902",
   "metadata": {},
   "outputs": [
    {
     "name": "stdout",
     "output_type": "stream",
     "text": [
      "[ 7.68878838e-01  2.34457257e+00  7.11633433e+03  8.47068554e+03\n",
      " -1.59415255e-01  1.66634650e-01]\n",
      "918.2\n",
      "[ 7.68878838e-01  2.34457257e+00  7.11633433e+03  8.47068554e+03\n",
      " -1.59415255e-01  1.66634650e-01]\n",
      "918.2\n"
     ]
    }
   ],
   "source": [
    "print(shear_genetic_parameter_bundle)\n",
    "print(mean_of_squared_error(shear_genetic_parameter_bundle))\n",
    "print(shear_curvefit_parameter_bundle)\n",
    "print(mean_of_squared_error(shear_curvefit_parameter_bundle))"
   ]
  },
  {
   "cell_type": "code",
   "execution_count": 45,
   "id": "46024844-9d6e-492c-b8b5-9f63a9b36a66",
   "metadata": {},
   "outputs": [
    {
     "ename": "TypeError",
     "evalue": "shear_transformer() missing 1 required positional argument: 'y_shear'",
     "output_type": "error",
     "traceback": [
      "\u001b[1;31m---------------------------------------------------------------------------\u001b[0m",
      "\u001b[1;31mTypeError\u001b[0m                                 Traceback (most recent call last)",
      "\u001b[1;32m~\\AppData\\Local\\Temp/ipykernel_18948/939563807.py\u001b[0m in \u001b[0;36m<module>\u001b[1;34m\u001b[0m\n\u001b[1;32m----> 1\u001b[1;33m \u001b[0mshear_placed\u001b[0m \u001b[1;33m=\u001b[0m \u001b[0mshear_transformer\u001b[0m\u001b[1;33m(\u001b[0m\u001b[0mprobe_points\u001b[0m\u001b[1;33m,\u001b[0m \u001b[0mshear_genetic_parameter_bundle\u001b[0m\u001b[1;33m[\u001b[0m\u001b[1;36m0\u001b[0m\u001b[1;33m]\u001b[0m\u001b[1;33m,\u001b[0m \u001b[0mshear_genetic_parameter_bundle\u001b[0m\u001b[1;33m[\u001b[0m\u001b[1;36m1\u001b[0m\u001b[1;33m]\u001b[0m\u001b[1;33m,\u001b[0m \u001b[0mshear_genetic_parameter_bundle\u001b[0m\u001b[1;33m[\u001b[0m\u001b[1;36m2\u001b[0m\u001b[1;33m]\u001b[0m\u001b[1;33m,\u001b[0m \u001b[0mshear_genetic_parameter_bundle\u001b[0m\u001b[1;33m[\u001b[0m\u001b[1;36m3\u001b[0m\u001b[1;33m]\u001b[0m\u001b[1;33m,\u001b[0m \u001b[0mshear_genetic_parameter_bundle\u001b[0m\u001b[1;33m[\u001b[0m\u001b[1;36m4\u001b[0m\u001b[1;33m]\u001b[0m\u001b[1;33m)\u001b[0m\u001b[1;33m\u001b[0m\u001b[1;33m\u001b[0m\u001b[0m\n\u001b[0m\u001b[0;32m      2\u001b[0m \u001b[0mstage_profile_1\u001b[0m \u001b[1;33m=\u001b[0m \u001b[0mstage_calibration_points\u001b[0m\u001b[1;33m[\u001b[0m\u001b[1;36m1\u001b[0m\u001b[1;33m]\u001b[0m\u001b[1;33m-\u001b[0m\u001b[0mstage_calibration_points\u001b[0m\u001b[1;33m[\u001b[0m\u001b[1;36m0\u001b[0m\u001b[1;33m]\u001b[0m\u001b[1;33m\u001b[0m\u001b[1;33m\u001b[0m\u001b[0m\n\u001b[0;32m      3\u001b[0m \u001b[0mstage_profile_2\u001b[0m \u001b[1;33m=\u001b[0m \u001b[0mstage_calibration_points\u001b[0m\u001b[1;33m[\u001b[0m\u001b[1;36m3\u001b[0m\u001b[1;33m]\u001b[0m\u001b[1;33m-\u001b[0m\u001b[0mstage_calibration_points\u001b[0m\u001b[1;33m[\u001b[0m\u001b[1;36m2\u001b[0m\u001b[1;33m]\u001b[0m\u001b[1;33m\u001b[0m\u001b[1;33m\u001b[0m\u001b[0m\n\u001b[0;32m      4\u001b[0m \u001b[0mstage_angle\u001b[0m \u001b[1;33m=\u001b[0m \u001b[0mnp\u001b[0m\u001b[1;33m.\u001b[0m\u001b[0marccos\u001b[0m\u001b[1;33m(\u001b[0m\u001b[0mnp\u001b[0m\u001b[1;33m.\u001b[0m\u001b[0mdot\u001b[0m\u001b[1;33m(\u001b[0m\u001b[0mstage_profile_1\u001b[0m\u001b[1;33m,\u001b[0m \u001b[0mstage_profile_2\u001b[0m\u001b[1;33m)\u001b[0m\u001b[1;33m/\u001b[0m\u001b[1;33m(\u001b[0m\u001b[0mnp\u001b[0m\u001b[1;33m.\u001b[0m\u001b[0mlinalg\u001b[0m\u001b[1;33m.\u001b[0m\u001b[0mnorm\u001b[0m\u001b[1;33m(\u001b[0m\u001b[0mstage_profile_1\u001b[0m\u001b[1;33m)\u001b[0m\u001b[1;33m*\u001b[0m\u001b[0mnp\u001b[0m\u001b[1;33m.\u001b[0m\u001b[0mlinalg\u001b[0m\u001b[1;33m.\u001b[0m\u001b[0mnorm\u001b[0m\u001b[1;33m(\u001b[0m\u001b[0mstage_profile_1\u001b[0m\u001b[1;33m)\u001b[0m\u001b[1;33m)\u001b[0m\u001b[1;33m)\u001b[0m\u001b[1;33m\u001b[0m\u001b[1;33m\u001b[0m\u001b[0m\n\u001b[0;32m      5\u001b[0m \u001b[0mprint\u001b[0m\u001b[1;33m(\u001b[0m\u001b[0mstage_angle\u001b[0m\u001b[1;33m)\u001b[0m\u001b[1;33m\u001b[0m\u001b[1;33m\u001b[0m\u001b[0m\n",
      "\u001b[1;31mTypeError\u001b[0m: shear_transformer() missing 1 required positional argument: 'y_shear'"
     ]
    }
   ],
   "source": [
    "shear_placed = shear_transformer(probe_points, shear_genetic_parameter_bundle[0], shear_genetic_parameter_bundle[1], shear_genetic_parameter_bundle[2], shear_genetic_parameter_bundle[3], shear_genetic_parameter_bundle[4])\n",
    "stage_profile_1 = stage_calibration_points[1]-stage_calibration_points[0]\n",
    "stage_profile_2 = stage_calibration_points[3]-stage_calibration_points[2]\n",
    "stage_angle = np.arccos(np.dot(stage_profile_1, stage_profile_2)/(np.linalg.norm(stage_profile_1)*np.linalg.norm(stage_profile_1)))\n",
    "print(stage_angle)\n",
    "image_profile_1 = image_calibration_points[1]-image_calibration_points[0]\n",
    "image_profile_2 = image_calibration_points[3]-image_calibration_points[2]\n",
    "image_angle = np.arccos(np.dot(image_profile_1, image_profile_2)/(np.linalg.norm(image_profile_1)*np.linalg.norm(image_profile_1)))\n",
    "print(image_angle)\n",
    "sheared_profile_1 =shear_placed[65]-shear_placed[155]\n",
    "sheared_profile_2 = shear_placed[165]-shear_placed[255]\n",
    "sheared_angle = np.arccos(np.dot(sheared_profile_1, sheared_profile_2)/(np.linalg.norm(sheared_profile_1)*np.linalg.norm(sheared_profile_1)))\n",
    "print(sheared_angle)\n"
   ]
  },
  {
   "cell_type": "code",
   "execution_count": 23,
   "id": "61437c36",
   "metadata": {},
   "outputs": [
    {
     "ename": "NameError",
     "evalue": "name 'genetic_parameter_bundle' is not defined",
     "output_type": "error",
     "traceback": [
      "\u001b[1;31m---------------------------------------------------------------------------\u001b[0m",
      "\u001b[1;31mNameError\u001b[0m                                 Traceback (most recent call last)",
      "\u001b[1;32m~\\AppData\\Local\\Temp/ipykernel_9632/3011754263.py\u001b[0m in \u001b[0;36m<module>\u001b[1;34m\u001b[0m\n\u001b[1;32m----> 1\u001b[1;33m \u001b[0mgenetic_parameter_bundle\u001b[0m \u001b[1;33m=\u001b[0m \u001b[0mstatistical_calibrator\u001b[0m\u001b[1;33m(\u001b[0m\u001b[1;33m)\u001b[0m\u001b[1;33m\u001b[0m\u001b[1;33m\u001b[0m\u001b[0m\n\u001b[0m\u001b[0;32m      2\u001b[0m \u001b[0mprint\u001b[0m\u001b[1;33m(\u001b[0m\u001b[0msum_of_squared_error\u001b[0m\u001b[1;33m(\u001b[0m\u001b[0mgenetic_parameter_bundle\u001b[0m\u001b[1;33m)\u001b[0m\u001b[1;33m)\u001b[0m\u001b[1;33m\u001b[0m\u001b[1;33m\u001b[0m\u001b[0m\n\u001b[0;32m      3\u001b[0m \u001b[1;33m\u001b[0m\u001b[0m\n\u001b[0;32m      4\u001b[0m \u001b[0mprint\u001b[0m\u001b[1;33m(\u001b[0m\u001b[0msum_of_squared_error\u001b[0m\u001b[1;33m(\u001b[0m\u001b[0mfitted_parameters\u001b[0m\u001b[1;33m)\u001b[0m\u001b[1;33m)\u001b[0m\u001b[1;33m\u001b[0m\u001b[1;33m\u001b[0m\u001b[0m\n\u001b[0;32m      5\u001b[0m \u001b[0mprint\u001b[0m\u001b[1;33m(\u001b[0m\u001b[0mfitted_parameters\u001b[0m\u001b[1;33m)\u001b[0m\u001b[1;33m\u001b[0m\u001b[1;33m\u001b[0m\u001b[0m\n",
      "\u001b[1;32m~\\AppData\\Local\\Temp/ipykernel_9632/320559748.py\u001b[0m in \u001b[0;36mstatistical_calibrator\u001b[1;34m()\u001b[0m\n\u001b[0;32m     33\u001b[0m     \u001b[0mgenetic_parameters\u001b[0m \u001b[1;33m=\u001b[0m \u001b[0mdifferential_evolution\u001b[0m\u001b[1;33m(\u001b[0m\u001b[0msum_of_squared_error\u001b[0m\u001b[1;33m,\u001b[0m \u001b[0mparameter_bounds\u001b[0m\u001b[1;33m,\u001b[0m \u001b[0mseed\u001b[0m \u001b[1;33m=\u001b[0m \u001b[1;36m7\u001b[0m\u001b[1;33m,\u001b[0m \u001b[0mmaxiter\u001b[0m\u001b[1;33m=\u001b[0m\u001b[1;36m1000\u001b[0m\u001b[1;33m,\u001b[0m \u001b[0mpopsize\u001b[0m\u001b[1;33m=\u001b[0m\u001b[1;36m100\u001b[0m\u001b[1;33m)\u001b[0m\u001b[1;33m.\u001b[0m\u001b[0mx\u001b[0m \u001b[1;31m#The seed is for the random number generator, setting it leads to stable results\u001b[0m\u001b[1;33m\u001b[0m\u001b[1;33m\u001b[0m\u001b[0m\n\u001b[0;32m     34\u001b[0m \u001b[1;33m\u001b[0m\u001b[0m\n\u001b[1;32m---> 35\u001b[1;33m     \u001b[0mfitted_parameters\u001b[0m\u001b[1;33m,\u001b[0m \u001b[0mpcov\u001b[0m \u001b[1;33m=\u001b[0m \u001b[0mcurve_fit\u001b[0m\u001b[1;33m(\u001b[0m\u001b[0mtransformer_for_opt\u001b[0m\u001b[1;33m,\u001b[0m \u001b[0mstage_cal_points_for_opt\u001b[0m\u001b[1;33m,\u001b[0m \u001b[0mimage_cal_points_for_opt\u001b[0m\u001b[1;33m,\u001b[0m \u001b[0mgenetic_parameter_bundle\u001b[0m\u001b[1;33m)\u001b[0m\u001b[1;33m\u001b[0m\u001b[1;33m\u001b[0m\u001b[0m\n\u001b[0m\u001b[0;32m     36\u001b[0m     \u001b[1;32mreturn\u001b[0m \u001b[0mgenetic_parameters\u001b[0m\u001b[1;33m,\u001b[0m \u001b[0mfitted_parameters\u001b[0m\u001b[1;33m\u001b[0m\u001b[1;33m\u001b[0m\u001b[0m\n",
      "\u001b[1;31mNameError\u001b[0m: name 'genetic_parameter_bundle' is not defined"
     ]
    }
   ],
   "source": [
    "genetic_parameter_bundle = statistical_calibrator()\n",
    "print(sum_of_squared_error(genetic_parameter_bundle))\n",
    "\n",
    "print(sum_of_squared_error(fitted_parameters))\n",
    "print(fitted_parameters)"
   ]
  },
  {
   "cell_type": "code",
   "execution_count": 226,
   "id": "bb056ac9",
   "metadata": {},
   "outputs": [
    {
     "data": {
      "text/plain": [
       "array([13310, 33553])"
      ]
     },
     "execution_count": 226,
     "metadata": {},
     "output_type": "execute_result"
    }
   ],
   "source": [
    "stage_calibration_points[:][0]"
   ]
  },
  {
   "cell_type": "code",
   "execution_count": 468,
   "id": "aec8692f",
   "metadata": {},
   "outputs": [
    {
     "name": "stdout",
     "output_type": "stream",
     "text": [
      "[[6580.4973133  7389.73205911]\n",
      " [1668.4973133  1010.73205911]\n",
      " [1309.4973133  2962.73205911]\n",
      " [3251.4973133   951.73205911]]\n",
      "1148054.4409651242\n",
      "303629.35699871695\n",
      "9975130.431996152\n",
      "8483949.521356385\n"
     ]
    },
    {
     "data": {
      "text/plain": [
       "19910763.751316376"
      ]
     },
     "execution_count": 468,
     "metadata": {},
     "output_type": "execute_result"
    }
   ],
   "source": [
    "sum_of_squared_error(genetic_parameter_bundle)"
   ]
  },
  {
   "cell_type": "code",
   "execution_count": 52,
   "id": "fd0cc684",
   "metadata": {},
   "outputs": [],
   "source": [
    "def get_brightness(x,y,size): #Gets the mean brightness of a square extending size units out in each direction \n",
    "    brightness_array = []\n",
    "    for i in range((2*size)+1):\n",
    "        for j in range((2*size)+1):\n",
    "            brightness_array.append(image[y-size+i][x-size+j])\n",
    "            \n",
    "    #return np.mean(brightness_array)\n",
    "    return np.median(brightness_array)"
   ]
  },
  {
   "cell_type": "code",
   "execution_count": 129,
   "id": "bc8d7aa0",
   "metadata": {},
   "outputs": [],
   "source": [
    "#def mapping_func(anint_parameter_bundle):\n",
    "#    x = np.array(clean_set[2,:])\n",
    "#    y = np.array(clean_set[3,:])\n",
    "#    intensity = np.array(clean_set[0,:])\n",
    "#    x_offset, x_coeff, y_offset, y_coeff, intensity_offset, intensity_coeff, offset = anint_parameter_bundle\n",
    "#    anorthite_predicted = (x-x_offset)*x_coeff + (y-y_offset)*y_coeff + intensity_coeff*(intensity-intensity_offset)+offset \n",
    "#    return np.array(anorthite_predicted)"
   ]
  },
  {
   "cell_type": "code",
   "execution_count": 186,
   "id": "4916c208",
   "metadata": {},
   "outputs": [],
   "source": [
    "def mapping_func(anint_parameter_bundle):\n",
    "    x = np.array(clean_set[2,:])\n",
    "    y = np.array(clean_set[3,:])\n",
    "    intensity = np.array(clean_set[0,:])\n",
    "    if len(anint_parameter_bundle) == 4:\n",
    "        anint_parameter_bundle = np.insert(anint_parameter_bundle, 3, 0)\n",
    "        print(anint_parameter_bundle)\n",
    "    \n",
    "    #x_coeff, y_coeff, intensity_coeff, offset = anint_parameter_bundle\n",
    "    x_coeff, y_coeff, intensity_coeff, intensity_squared_coeff, offset = anint_parameter_bundle\n",
    "    #anorthite_predicted = (x)*x_coeff + (y)*y_coeff + intensity_coeff*(intensity)+offset \n",
    "    anorthite_predicted = x*x_coeff+y*y_coeff+intensity_coeff*intensity+intensity_squared_coeff*(intensity**2)+offset\n",
    "    return np.array(anorthite_predicted)"
   ]
  },
  {
   "cell_type": "code",
   "execution_count": 100,
   "id": "e8af6a0f",
   "metadata": {},
   "outputs": [],
   "source": [
    "def draw_marker(x,y,size, image): #Draws a marker on the image so you can check if you have selected the correct start and end points\n",
    "    for i in range((2*size)+1):\n",
    "        image[y-size+i][x] = 1\n",
    "    for j in range((2*size)+1):\n",
    "        image[y][x-size+j] = 1\n",
    "    return image"
   ]
  },
  {
   "cell_type": "code",
   "execution_count": 176,
   "id": "2a5037f2",
   "metadata": {},
   "outputs": [],
   "source": [
    "def get_anint_params(clean_set):\n",
    "    #anint parameter bundle  = x_coefficient, y_coefficient, intensity_coefficient, offset\n",
    "#    parameter_bounds = []\n",
    "#    parameter_bounds.append([-5000,5000])\n",
    "#    parameter_bounds.append([-1/1000,1/1000])\n",
    "#    parameter_bounds.append([-5000,5000])\n",
    "#    parameter_bounds.append([-1/1000,1/1000])\n",
    "#    parameter_bounds.append([-1,1])\n",
    "#    parameter_bounds.append([-10,10])\n",
    "#    parameter_bounds.append([-10,10])\n",
    "    \n",
    "    parameter_bounds = []\n",
    "\n",
    "    parameter_bounds.append([-1/10000,1/10000])\n",
    "    parameter_bounds.append([-1/10000,1/10000])\n",
    "    parameter_bounds.append([-20,20])\n",
    "    parameter_bounds.append([-20,20])\n",
    "    parameter_bounds.append([-10000,10000])\n",
    "    \n",
    "    genetic_anint_parameters = differential_evolution(anint_mean_squared_error, parameter_bounds, seed = 7, maxiter=1000, popsize=100).x\n",
    "    return genetic_anint_parameters"
   ]
  },
  {
   "cell_type": "code",
   "execution_count": 97,
   "id": "977d53dd",
   "metadata": {},
   "outputs": [],
   "source": [
    "def anint_mean_squared_error(anint_parameter_bundle):\n",
    "    probe_ans = clean_set[1,:]\n",
    "    predicted_ans = mapping_func(anint_parameter_bundle)\n",
    "    point_errors = []\n",
    "    for i in range(len(probe_ans)):\n",
    "        point_errors.append((probe_ans[i]-predicted_ans[i])**2)\n",
    "    total_error = np.sum(point_errors)\n",
    "    return total_error/len(point_errors)"
   ]
  },
  {
   "cell_type": "code",
   "execution_count": 96,
   "id": "772268e1",
   "metadata": {},
   "outputs": [],
   "source": [
    "def get_expected_intensities(anint_parameter_bundle):\n",
    "    \n",
    "    x = np.array(clean_set[2,:])\n",
    "    y = np.array(clean_set[3,:])\n",
    "    anorthite = np.array(clean_set[1,:])\n",
    "    x_coeff, y_coeff, intensity_coeff, offset = anint_parameter_bundle\n",
    "    intensities = (anorthite - ((x)*x_coeff + (y)*y_coeff + offset))/intensity_coeff\n",
    "    \n",
    "    return intensities"
   ]
  },
  {
   "cell_type": "code",
   "execution_count": 123,
   "id": "0c3372bc",
   "metadata": {},
   "outputs": [],
   "source": [
    "def draw_intensity_squares(intensities, size):\n",
    "    for i in range(len(intensities)):\n",
    "        x = int(clean_set[2,i])\n",
    "        y = int(clean_set[3,i])\n",
    "        image[y-size-1:y+size+2,x-size-1:x+size+2] = 1\n",
    "        image[y-size:y+size+1,x-size:x+size+1] = intensities[i]\n",
    "        "
   ]
  },
  {
   "cell_type": "code",
   "execution_count": 124,
   "id": "1cfeca23",
   "metadata": {},
   "outputs": [],
   "source": [
    "def draw_intensity_comparison(intensities, size, column_spacing, filename):\n",
    "    height = int(np.ceil((np.sqrt(len(intensities))/10)))*10\n",
    "    width = int(np.ceil(len(intensities)/height))\n",
    "    units = 2*(size+1)\n",
    "    baseline = np.zeros((height*units, width*(3*units+column_spacing)))\n",
    "    for i in range(len(intensities)):\n",
    "        y_placement = units*np.mod(i, height) +size\n",
    "        x_placement = (3*units+column_spacing)*np.floor_divide(i, height) +size\n",
    "        baseline[y_placement-size:y_placement+size+1, x_placement-size: x_placement+size+1] = image[int(clean_set[3,i]-size):int(clean_set[3,i]+size+1),int(clean_set[2,i]-size):int(clean_set[2,i]+size+1)]\n",
    "        x_placement = x_placement + units\n",
    "        baseline[y_placement-size:y_placement+size+1, x_placement-size: x_placement+size+1] = clean_set[0,i]\n",
    "        x_placement = x_placement + units\n",
    "        baseline[y_placement-size:y_placement+size+1, x_placement-size: x_placement+size+1] = intensities[i]\n",
    "    name = filename+\".tif\"\n",
    "    baseline = baseline *((256*256)-1)\n",
    "    to_save = baseline.astype(np.uint16)\n",
    "    to_save = Image.fromarray(to_save)\n",
    "    to_save.save(name)\n",
    "    return baseline"
   ]
  },
  {
   "cell_type": "code",
   "execution_count": 22,
   "id": "742fa9a6",
   "metadata": {},
   "outputs": [
    {
     "ename": "NameError",
     "evalue": "name 'clean_set' is not defined",
     "output_type": "error",
     "traceback": [
      "\u001b[1;31m---------------------------------------------------------------------------\u001b[0m",
      "\u001b[1;31mNameError\u001b[0m                                 Traceback (most recent call last)",
      "\u001b[1;32m~\\AppData\\Local\\Temp/ipykernel_5828/2596186990.py\u001b[0m in \u001b[0;36m<module>\u001b[1;34m\u001b[0m\n\u001b[0;32m      1\u001b[0m \u001b[0msize\u001b[0m \u001b[1;33m=\u001b[0m \u001b[1;36m4\u001b[0m\u001b[1;33m\u001b[0m\u001b[1;33m\u001b[0m\u001b[0m\n\u001b[1;32m----> 2\u001b[1;33m \u001b[1;32mfor\u001b[0m \u001b[0mi\u001b[0m \u001b[1;32min\u001b[0m \u001b[0mrange\u001b[0m\u001b[1;33m(\u001b[0m\u001b[0mlen\u001b[0m\u001b[1;33m(\u001b[0m\u001b[0mclean_set\u001b[0m\u001b[1;33m[\u001b[0m\u001b[1;36m3\u001b[0m\u001b[1;33m]\u001b[0m\u001b[1;33m)\u001b[0m\u001b[1;33m)\u001b[0m\u001b[1;33m:\u001b[0m\u001b[1;33m\u001b[0m\u001b[1;33m\u001b[0m\u001b[0m\n\u001b[0m\u001b[0;32m      3\u001b[0m     \u001b[0mprint\u001b[0m\u001b[1;33m(\u001b[0m\u001b[0mi\u001b[0m\u001b[1;33m)\u001b[0m\u001b[1;33m\u001b[0m\u001b[1;33m\u001b[0m\u001b[0m\n\u001b[0;32m      4\u001b[0m     \u001b[0mprint\u001b[0m\u001b[1;33m(\u001b[0m\u001b[0mimage\u001b[0m\u001b[1;33m[\u001b[0m\u001b[0mint\u001b[0m\u001b[1;33m(\u001b[0m\u001b[0mclean_set\u001b[0m\u001b[1;33m[\u001b[0m\u001b[1;36m3\u001b[0m\u001b[1;33m,\u001b[0m\u001b[0mi\u001b[0m\u001b[1;33m]\u001b[0m\u001b[1;33m-\u001b[0m\u001b[0msize\u001b[0m\u001b[1;33m)\u001b[0m\u001b[1;33m:\u001b[0m\u001b[0mint\u001b[0m\u001b[1;33m(\u001b[0m\u001b[0mclean_set\u001b[0m\u001b[1;33m[\u001b[0m\u001b[1;36m3\u001b[0m\u001b[1;33m,\u001b[0m\u001b[0mi\u001b[0m\u001b[1;33m]\u001b[0m\u001b[1;33m+\u001b[0m\u001b[0msize\u001b[0m\u001b[1;33m+\u001b[0m\u001b[1;36m1\u001b[0m\u001b[1;33m)\u001b[0m\u001b[1;33m,\u001b[0m\u001b[0mint\u001b[0m\u001b[1;33m(\u001b[0m\u001b[0mclean_set\u001b[0m\u001b[1;33m[\u001b[0m\u001b[1;36m2\u001b[0m\u001b[1;33m,\u001b[0m\u001b[0mi\u001b[0m\u001b[1;33m]\u001b[0m\u001b[1;33m-\u001b[0m\u001b[0msize\u001b[0m\u001b[1;33m)\u001b[0m\u001b[1;33m:\u001b[0m\u001b[0mint\u001b[0m\u001b[1;33m(\u001b[0m\u001b[0mclean_set\u001b[0m\u001b[1;33m[\u001b[0m\u001b[1;36m2\u001b[0m\u001b[1;33m,\u001b[0m\u001b[0mi\u001b[0m\u001b[1;33m]\u001b[0m\u001b[1;33m+\u001b[0m\u001b[0msize\u001b[0m\u001b[1;33m+\u001b[0m\u001b[1;36m1\u001b[0m\u001b[1;33m)\u001b[0m\u001b[1;33m]\u001b[0m\u001b[1;33m)\u001b[0m\u001b[1;33m\u001b[0m\u001b[1;33m\u001b[0m\u001b[0m\n",
      "\u001b[1;31mNameError\u001b[0m: name 'clean_set' is not defined"
     ]
    }
   ],
   "source": [
    "size = 4\n",
    "for i in range(len(clean_set[3])):\n",
    "    print(i)\n",
    "    print(image[int(clean_set[3,i]-size):int(clean_set[3,i]+size+1),int(clean_set[2,i]-size):int(clean_set[2,i]+size+1)])\n"
   ]
  },
  {
   "cell_type": "code",
   "execution_count": 156,
   "id": "858235d7",
   "metadata": {},
   "outputs": [
    {
     "data": {
      "text/plain": [
       "array([[27709.99904752, 27915.9998104 , 28117.00064957, ...,\n",
       "            0.        ,     0.        ,     0.        ],\n",
       "       [28029.00003925, 28190.99952042, 28304.99973401, ...,\n",
       "            0.        ,     0.        ,     0.        ],\n",
       "       [28298.99982557, 28338.99921522, 28415.99999338, ...,\n",
       "            0.        ,     0.        ,     0.        ],\n",
       "       ...,\n",
       "       [33052.99954981, 32744.00035858, 33360.99875629, ...,\n",
       "            0.        ,     0.        ,     0.        ],\n",
       "       [32467.00067908, 33044.99967188, 32675.99944308, ...,\n",
       "            0.        ,     0.        ,     0.        ],\n",
       "       [    0.        ,     0.        ,     0.        , ...,\n",
       "            0.        ,     0.        ,     0.        ]])"
      ]
     },
     "execution_count": 156,
     "metadata": {},
     "output_type": "execute_result"
    }
   ],
   "source": [
    "draw_intensity_comparison(get_expected_intensities(multi_lin_reg_parameter_bundle), 4, 9, \"intensity_comparison_wide\")"
   ]
  },
  {
   "cell_type": "code",
   "execution_count": 79,
   "id": "a5c4d81e",
   "metadata": {},
   "outputs": [],
   "source": [
    "draw_intensity_squares(get_expected_intensities(multi_lin_reg_parameter_bundle), 4)\n"
   ]
  },
  {
   "cell_type": "code",
   "execution_count": 90,
   "id": "d9998b48",
   "metadata": {},
   "outputs": [
    {
     "data": {
      "text/plain": [
       "9"
      ]
     },
     "execution_count": 90,
     "metadata": {},
     "output_type": "execute_result"
    }
   ],
   "source": [
    "len(image[0, 5-4:5+4+1])"
   ]
  },
  {
   "cell_type": "code",
   "execution_count": 80,
   "id": "1d2d1ada",
   "metadata": {},
   "outputs": [],
   "source": [
    "to_save = Image.fromarray(image)\n",
    "to_save.save('expected_intensities.tif')"
   ]
  },
  {
   "cell_type": "code",
   "execution_count": 279,
   "id": "291c6653",
   "metadata": {},
   "outputs": [],
   "source": [
    "anint_parameter_bundle = get_anint_params(clean_set)"
   ]
  },
  {
   "cell_type": "code",
   "execution_count": 280,
   "id": "c22f2ee1",
   "metadata": {},
   "outputs": [
    {
     "name": "stdout",
     "output_type": "stream",
     "text": [
      "[ 1.89200229e-06 -1.84679545e-06 -9.74247243e+00  1.20800039e+01\n",
      "  2.78851186e+00]\n"
     ]
    }
   ],
   "source": [
    "print(anint_parameter_bundle)"
   ]
  },
  {
   "cell_type": "code",
   "execution_count": 281,
   "id": "e6ab7c2c-992f-4b48-9de4-2b69e5c95ce1",
   "metadata": {},
   "outputs": [],
   "source": [
    "squaredfit_predicted_ans = mapping_func(anint_parameter_bundle)"
   ]
  },
  {
   "cell_type": "code",
   "execution_count": 282,
   "id": "08ef9570",
   "metadata": {},
   "outputs": [
    {
     "data": {
      "text/plain": [
       "0.00013874240382164157"
      ]
     },
     "execution_count": 282,
     "metadata": {},
     "output_type": "execute_result"
    }
   ],
   "source": [
    "anint_mean_squared_error(anint_parameter_bundle)"
   ]
  },
  {
   "cell_type": "code",
   "execution_count": 283,
   "id": "352ab143",
   "metadata": {},
   "outputs": [
    {
     "data": {
      "text/plain": [
       "LinearRegression()"
      ]
     },
     "execution_count": 283,
     "metadata": {},
     "output_type": "execute_result"
    }
   ],
   "source": [
    "model = LinearRegression()\n",
    "independents = np.transpose(np.array([clean_set[2], clean_set[3], clean_set[0],clean_set[0]**2]))\n",
    "dependents = clean_set[1]\n",
    "#ind_train, ind_test, dep_train, dep_test = train_test_split( \n",
    "#    independents, dependents, test_size=0.3, random_state=7) \n",
    "model.fit(independents, dependents)"
   ]
  },
  {
   "cell_type": "code",
   "execution_count": 284,
   "id": "a3e3aba1",
   "metadata": {},
   "outputs": [
    {
     "name": "stdout",
     "output_type": "stream",
     "text": [
      "mean_squared_error for multi lin:  0.00013868559393036956\n"
     ]
    }
   ],
   "source": [
    "multi_lin_predict = model.predict(independents)\n",
    "#genetic_predict = mapping_func(anint_parameter_bundle)\n",
    "\n",
    "print('mean_squared_error for multi lin: ', mean_squared_error(clean_set[1], multi_lin_predict)) \n",
    "#print('mean_squared_error for genetic: ', mean_squared_error(clean_set[1], genetic_predict)) \n",
    "\n",
    "\n"
   ]
  },
  {
   "cell_type": "code",
   "execution_count": null,
   "id": "b38a300f-2519-41aa-86ce-aba788e700b7",
   "metadata": {},
   "outputs": [],
   "source": []
  },
  {
   "cell_type": "code",
   "execution_count": 285,
   "id": "fbd13e68",
   "metadata": {},
   "outputs": [],
   "source": [
    "multi_lin_reg_parameter_bundle = np.append(model.coef_,model.intercept_)"
   ]
  },
  {
   "cell_type": "code",
   "execution_count": 249,
   "id": "04e70728-14aa-4f4c-80b3-a2b5b913a48d",
   "metadata": {},
   "outputs": [
    {
     "name": "stdout",
     "output_type": "stream",
     "text": [
      "[ 4.12226048e-06 -3.14992794e-06  2.66029140e+01 -2.62760649e+01\n",
      " -5.83468035e+00]\n"
     ]
    }
   ],
   "source": [
    "print(multi_lin_reg_parameter_bundle)\n",
    "linfit_predicted_ans = mapping_func(multi_lin_reg_parameter_bundle)"
   ]
  },
  {
   "cell_type": "code",
   "execution_count": 192,
   "id": "afdfc527-5f45-41d7-ae63-5880ad8d4371",
   "metadata": {},
   "outputs": [],
   "source": [
    "#linfit_predicted_ans"
   ]
  },
  {
   "cell_type": "code",
   "execution_count": 193,
   "id": "3c0f0dca-ce3f-48d9-b7d4-489d60c07dfa",
   "metadata": {},
   "outputs": [],
   "source": [
    "#model.predict(independents)"
   ]
  },
  {
   "cell_type": "code",
   "execution_count": 158,
   "id": "e7722886-0d05-49f6-8b34-bc076c87e07c",
   "metadata": {},
   "outputs": [
    {
     "data": {
      "text/plain": [
       "258"
      ]
     },
     "execution_count": 158,
     "metadata": {},
     "output_type": "execute_result"
    }
   ],
   "source": [
    "len(linfit_predicted_ans)"
   ]
  },
  {
   "cell_type": "code",
   "execution_count": 159,
   "id": "0b24e148-edc2-40d7-a0c7-7bbee5619cef",
   "metadata": {},
   "outputs": [
    {
     "data": {
      "text/plain": [
       "258"
      ]
     },
     "execution_count": 159,
     "metadata": {},
     "output_type": "execute_result"
    }
   ],
   "source": [
    "len(squaredfit_predicted_ans)"
   ]
  },
  {
   "cell_type": "code",
   "execution_count": 194,
   "id": "a3f90fb5",
   "metadata": {},
   "outputs": [
    {
     "data": {
      "text/plain": [
       "0.00011605042750845133"
      ]
     },
     "execution_count": 194,
     "metadata": {},
     "output_type": "execute_result"
    }
   ],
   "source": [
    "anint_mean_squared_error(multi_lin_reg_parameter_bundle)"
   ]
  },
  {
   "cell_type": "code",
   "execution_count": 168,
   "id": "8ece7ddb-155f-4604-a2e9-f5a83932ac48",
   "metadata": {},
   "outputs": [
    {
     "data": {
      "text/plain": [
       "0.00016202288712032262"
      ]
     },
     "execution_count": 168,
     "metadata": {},
     "output_type": "execute_result"
    }
   ],
   "source": [
    "anint_mean_squared_error(anint_parameter_bundle)"
   ]
  },
  {
   "cell_type": "code",
   "execution_count": 156,
   "id": "3777d1ac",
   "metadata": {},
   "outputs": [
    {
     "data": {
      "text/plain": [
       "{'copy_X': True,\n",
       " 'fit_intercept': True,\n",
       " 'n_jobs': None,\n",
       " 'normalize': False,\n",
       " 'positive': False}"
      ]
     },
     "execution_count": 156,
     "metadata": {},
     "output_type": "execute_result"
    }
   ],
   "source": [
    "model.get_params()"
   ]
  },
  {
   "cell_type": "code",
   "execution_count": 250,
   "id": "e0ee1c30",
   "metadata": {},
   "outputs": [
    {
     "name": "stdout",
     "output_type": "stream",
     "text": [
      "0.8938971203452528 0.8578136261395866\n",
      "0.894220068401228 0.8591647170878773\n",
      "0.9159486654912968 0.8291810014440745\n"
     ]
    }
   ],
   "source": [
    "print(np.max(multi_lin_predict), np.min(multi_lin_predict))\n",
    "print(np.max(squaredfit_predicted_ans), np.min(squaredfit_predicted_ans))\n",
    "print(np.max(clean_set[1]), np.min(clean_set[1]))\n"
   ]
  },
  {
   "cell_type": "code",
   "execution_count": 251,
   "id": "489db54c",
   "metadata": {},
   "outputs": [
    {
     "data": {
      "text/plain": [
       "0.26866163891197936"
      ]
     },
     "execution_count": 251,
     "metadata": {},
     "output_type": "execute_result"
    }
   ],
   "source": [
    "model.score(independents, dependents)"
   ]
  },
  {
   "cell_type": "code",
   "execution_count": 191,
   "id": "6d9154ae",
   "metadata": {},
   "outputs": [
    {
     "ename": "NameError",
     "evalue": "name 'anint_sum_of_squared_error' is not defined",
     "output_type": "error",
     "traceback": [
      "\u001b[1;31m---------------------------------------------------------------------------\u001b[0m",
      "\u001b[1;31mNameError\u001b[0m                                 Traceback (most recent call last)",
      "\u001b[1;32m~\\AppData\\Local\\Temp/ipykernel_5828/2240582445.py\u001b[0m in \u001b[0;36m<module>\u001b[1;34m\u001b[0m\n\u001b[1;32m----> 1\u001b[1;33m \u001b[0mprint\u001b[0m\u001b[1;33m(\u001b[0m\u001b[0manint_sum_of_squared_error\u001b[0m\u001b[1;33m(\u001b[0m\u001b[0manint_parameter_bundle\u001b[0m\u001b[1;33m)\u001b[0m\u001b[1;33m)\u001b[0m\u001b[1;33m\u001b[0m\u001b[1;33m\u001b[0m\u001b[0m\n\u001b[0m",
      "\u001b[1;31mNameError\u001b[0m: name 'anint_sum_of_squared_error' is not defined"
     ]
    }
   ],
   "source": [
    "print(anint_sum_of_squared_error(anint_parameter_bundle))"
   ]
  },
  {
   "cell_type": "code",
   "execution_count": 192,
   "id": "f31b2277",
   "metadata": {},
   "outputs": [
    {
     "ename": "NameError",
     "evalue": "name 'anint_parameter_bundle' is not defined",
     "output_type": "error",
     "traceback": [
      "\u001b[1;31m---------------------------------------------------------------------------\u001b[0m",
      "\u001b[1;31mNameError\u001b[0m                                 Traceback (most recent call last)",
      "\u001b[1;32m~\\AppData\\Local\\Temp/ipykernel_5828/125458333.py\u001b[0m in \u001b[0;36m<module>\u001b[1;34m\u001b[0m\n\u001b[1;32m----> 1\u001b[1;33m \u001b[0mprint\u001b[0m\u001b[1;33m(\u001b[0m\u001b[0manint_parameter_bundle\u001b[0m\u001b[1;33m)\u001b[0m\u001b[1;33m\u001b[0m\u001b[1;33m\u001b[0m\u001b[0m\n\u001b[0m",
      "\u001b[1;31mNameError\u001b[0m: name 'anint_parameter_bundle' is not defined"
     ]
    }
   ],
   "source": [
    "print(anint_parameter_bundle)"
   ]
  },
  {
   "cell_type": "code",
   "execution_count": null,
   "id": "e67c28f7",
   "metadata": {},
   "outputs": [],
   "source": [
    "#old anint params\n",
    "#[-2.28197631e+03 -2.18965047e-07  4.56878803e+02 -2.12759749e-06\n",
    "#  5.30254008e-01  1.11776470e+00  9.52672984e-01]"
   ]
  },
  {
   "cell_type": "code",
   "execution_count": 170,
   "id": "b5967d5b",
   "metadata": {},
   "outputs": [],
   "source": [
    "#for i in range(len(clean_set[1,:])):\n",
    "#    print(clean_set[0,i])"
   ]
  },
  {
   "cell_type": "code",
   "execution_count": 171,
   "id": "f7bace3f",
   "metadata": {},
   "outputs": [],
   "source": [
    "#predicted_ans = mapping_func(anint_parameter_bundle)\n",
    "#for i in range(len(clean_set[1,:])):\n",
    "#    print(predicted_ans[i])"
   ]
  },
  {
   "cell_type": "code",
   "execution_count": 252,
   "id": "b12522de",
   "metadata": {},
   "outputs": [
    {
     "data": {
      "text/plain": [
       "[<matplotlib.lines.Line2D at 0x269276fd4f0>]"
      ]
     },
     "execution_count": 252,
     "metadata": {},
     "output_type": "execute_result"
    },
    {
     "data": {
      "image/png": "[encoded data removed]",
      "text/plain": [
       "<Figure size 432x288 with 1 Axes>"
      ]
     },
     "metadata": {
      "needs_background": "light"
     },
     "output_type": "display_data"
    }
   ],
   "source": [
    "plt.plot(clean_set[1,:], (multi_lin_predict-clean_set[1,:]), 'r+')   "
   ]
  },
  {
   "cell_type": "code",
   "execution_count": 253,
   "id": "297fbdae",
   "metadata": {},
   "outputs": [
    {
     "data": {
      "text/plain": [
       "[<matplotlib.lines.Line2D at 0x269276964c0>]"
      ]
     },
     "execution_count": 253,
     "metadata": {},
     "output_type": "execute_result"
    },
    {
     "data": {
      "image/png": "[encoded data removed]",
      "text/plain": [
       "<Figure size 432x288 with 1 Axes>"
      ]
     },
     "metadata": {
      "needs_background": "light"
     },
     "output_type": "display_data"
    }
   ],
   "source": [
    "plt.plot(multi_lin_predict, (clean_set[1,:]-multi_lin_predict), 'r+')   "
   ]
  },
  {
   "cell_type": "code",
   "execution_count": 199,
   "id": "8c8d653b",
   "metadata": {},
   "outputs": [
    {
     "data": {
      "text/plain": [
       "[<matplotlib.lines.Line2D at 0x26926fbfcd0>]"
      ]
     },
     "execution_count": 199,
     "metadata": {},
     "output_type": "execute_result"
    },
    {
     "data": {
      "image/png": "[encoded data removed]",
      "text/plain": [
       "<Figure size 432x288 with 1 Axes>"
      ]
     },
     "metadata": {
      "needs_background": "light"
     },
     "output_type": "display_data"
    }
   ],
   "source": [
    "plt.plot((clean_set[1,:]-multi_lin_predict), 'r+')   "
   ]
  },
  {
   "cell_type": "code",
   "execution_count": 200,
   "id": "953010ac",
   "metadata": {},
   "outputs": [
    {
     "data": {
      "text/plain": [
       "[<matplotlib.lines.Line2D at 0x26926ee5100>]"
      ]
     },
     "execution_count": 200,
     "metadata": {},
     "output_type": "execute_result"
    },
    {
     "data": {
      "image/png": "[encoded data removed]",
      "text/plain": [
       "<Figure size 432x288 with 1 Axes>"
      ]
     },
     "metadata": {
      "needs_background": "light"
     },
     "output_type": "display_data"
    }
   ],
   "source": [
    "plt.plot(multi_lin_predict, clean_set[1,:], 'r+')  "
   ]
  },
  {
   "cell_type": "code",
   "execution_count": 254,
   "id": "549fad1f",
   "metadata": {},
   "outputs": [
    {
     "data": {
      "text/plain": [
       "[<matplotlib.lines.Line2D at 0x2692881c370>]"
      ]
     },
     "execution_count": 254,
     "metadata": {},
     "output_type": "execute_result"
    },
    {
     "data": {
      "image/png": "[encoded data removed]",
      "text/plain": [
       "<Figure size 432x288 with 1 Axes>"
      ]
     },
     "metadata": {
      "needs_background": "light"
     },
     "output_type": "display_data"
    }
   ],
   "source": [
    "plt.plot(multi_lin_predict, 'r+')"
   ]
  },
  {
   "cell_type": "code",
   "execution_count": 255,
   "id": "d98286f1",
   "metadata": {},
   "outputs": [
    {
     "data": {
      "text/plain": [
       "[<matplotlib.lines.Line2D at 0x26928899820>]"
      ]
     },
     "execution_count": 255,
     "metadata": {},
     "output_type": "execute_result"
    },
    {
     "data": {
      "image/png": "[encoded data removed]",
      "text/plain": [
       "<Figure size 432x288 with 1 Axes>"
      ]
     },
     "metadata": {
      "needs_background": "light"
     },
     "output_type": "display_data"
    }
   ],
   "source": [
    "plt.plot(clean_set[1,:], 'r+')"
   ]
  },
  {
   "cell_type": "code",
   "execution_count": 256,
   "id": "df190d9f",
   "metadata": {},
   "outputs": [
    {
     "data": {
      "text/plain": [
       "[<matplotlib.lines.Line2D at 0x26928894c40>]"
      ]
     },
     "execution_count": 256,
     "metadata": {},
     "output_type": "execute_result"
    },
    {
     "data": {
      "image/png": "[encoded data removed]",
      "text/plain": [
       "<Figure size 432x288 with 1 Axes>"
      ]
     },
     "metadata": {
      "needs_background": "light"
     },
     "output_type": "display_data"
    }
   ],
   "source": [
    "plt.plot(clean_set[0,:], 'r+')"
   ]
  },
  {
   "cell_type": "code",
   "execution_count": 218,
   "id": "680155db-4689-4b00-ad29-5574107bf6bb",
   "metadata": {},
   "outputs": [
    {
     "data": {
      "text/plain": [
       "[<matplotlib.lines.Line2D at 0x2692753f1f0>]"
      ]
     },
     "execution_count": 218,
     "metadata": {},
     "output_type": "execute_result"
    },
    {
     "data": {
      "image/png": "[encoded data removed]",
      "text/plain": [
       "<Figure size 432x288 with 1 Axes>"
      ]
     },
     "metadata": {
      "needs_background": "light"
     },
     "output_type": "display_data"
    }
   ],
   "source": [
    "plt.plot(squaredfit_predicted_ans, 'r+')\n",
    "plt.plot(multi_lin_predict, 'b+')\n",
    "plt.plot(clean_set[1], 'g+')"
   ]
  },
  {
   "cell_type": "code",
   "execution_count": 121,
   "id": "85d440c4",
   "metadata": {},
   "outputs": [
    {
     "ename": "ValueError",
     "evalue": "too many values to unpack (expected 4)",
     "output_type": "error",
     "traceback": [
      "\u001b[1;31m---------------------------------------------------------------------------\u001b[0m",
      "\u001b[1;31mValueError\u001b[0m                                Traceback (most recent call last)",
      "\u001b[1;32m~\\AppData\\Local\\Temp/ipykernel_10756/2781554618.py\u001b[0m in \u001b[0;36m<module>\u001b[1;34m\u001b[0m\n\u001b[1;32m----> 1\u001b[1;33m \u001b[0mexpected_intensities\u001b[0m \u001b[1;33m=\u001b[0m \u001b[0mget_expected_intensities\u001b[0m\u001b[1;33m(\u001b[0m\u001b[0mmulti_lin_reg_parameter_bundle\u001b[0m\u001b[1;33m)\u001b[0m\u001b[1;33m\u001b[0m\u001b[1;33m\u001b[0m\u001b[0m\n\u001b[0m\u001b[0;32m      2\u001b[0m \u001b[0mplt\u001b[0m\u001b[1;33m.\u001b[0m\u001b[0mplot\u001b[0m\u001b[1;33m(\u001b[0m\u001b[0mexpected_intensities\u001b[0m\u001b[1;33m,\u001b[0m \u001b[0mclean_set\u001b[0m\u001b[1;33m[\u001b[0m\u001b[1;36m0\u001b[0m\u001b[1;33m,\u001b[0m\u001b[1;33m:\u001b[0m\u001b[1;33m]\u001b[0m\u001b[1;33m-\u001b[0m\u001b[0mexpected_intensities\u001b[0m\u001b[1;33m,\u001b[0m  \u001b[1;34m'r+'\u001b[0m\u001b[1;33m)\u001b[0m\u001b[1;33m\u001b[0m\u001b[1;33m\u001b[0m\u001b[0m\n",
      "\u001b[1;32m~\\AppData\\Local\\Temp/ipykernel_10756/3152856525.py\u001b[0m in \u001b[0;36mget_expected_intensities\u001b[1;34m(anint_parameter_bundle)\u001b[0m\n\u001b[0;32m      4\u001b[0m     \u001b[0my\u001b[0m \u001b[1;33m=\u001b[0m \u001b[0mnp\u001b[0m\u001b[1;33m.\u001b[0m\u001b[0marray\u001b[0m\u001b[1;33m(\u001b[0m\u001b[0mclean_set\u001b[0m\u001b[1;33m[\u001b[0m\u001b[1;36m3\u001b[0m\u001b[1;33m,\u001b[0m\u001b[1;33m:\u001b[0m\u001b[1;33m]\u001b[0m\u001b[1;33m)\u001b[0m\u001b[1;33m\u001b[0m\u001b[1;33m\u001b[0m\u001b[0m\n\u001b[0;32m      5\u001b[0m     \u001b[0manorthite\u001b[0m \u001b[1;33m=\u001b[0m \u001b[0mnp\u001b[0m\u001b[1;33m.\u001b[0m\u001b[0marray\u001b[0m\u001b[1;33m(\u001b[0m\u001b[0mclean_set\u001b[0m\u001b[1;33m[\u001b[0m\u001b[1;36m1\u001b[0m\u001b[1;33m,\u001b[0m\u001b[1;33m:\u001b[0m\u001b[1;33m]\u001b[0m\u001b[1;33m)\u001b[0m\u001b[1;33m\u001b[0m\u001b[1;33m\u001b[0m\u001b[0m\n\u001b[1;32m----> 6\u001b[1;33m     \u001b[0mx_coeff\u001b[0m\u001b[1;33m,\u001b[0m \u001b[0my_coeff\u001b[0m\u001b[1;33m,\u001b[0m \u001b[0mintensity_coeff\u001b[0m\u001b[1;33m,\u001b[0m \u001b[0moffset\u001b[0m \u001b[1;33m=\u001b[0m \u001b[0manint_parameter_bundle\u001b[0m\u001b[1;33m\u001b[0m\u001b[1;33m\u001b[0m\u001b[0m\n\u001b[0m\u001b[0;32m      7\u001b[0m     \u001b[0mintensities\u001b[0m \u001b[1;33m=\u001b[0m \u001b[1;33m(\u001b[0m\u001b[0manorthite\u001b[0m \u001b[1;33m-\u001b[0m \u001b[1;33m(\u001b[0m\u001b[1;33m(\u001b[0m\u001b[0mx\u001b[0m\u001b[1;33m)\u001b[0m\u001b[1;33m*\u001b[0m\u001b[0mx_coeff\u001b[0m \u001b[1;33m+\u001b[0m \u001b[1;33m(\u001b[0m\u001b[0my\u001b[0m\u001b[1;33m)\u001b[0m\u001b[1;33m*\u001b[0m\u001b[0my_coeff\u001b[0m \u001b[1;33m+\u001b[0m \u001b[0moffset\u001b[0m\u001b[1;33m)\u001b[0m\u001b[1;33m)\u001b[0m\u001b[1;33m/\u001b[0m\u001b[0mintensity_coeff\u001b[0m\u001b[1;33m\u001b[0m\u001b[1;33m\u001b[0m\u001b[0m\n\u001b[0;32m      8\u001b[0m \u001b[1;33m\u001b[0m\u001b[0m\n",
      "\u001b[1;31mValueError\u001b[0m: too many values to unpack (expected 4)"
     ]
    }
   ],
   "source": [
    "expected_intensities = get_expected_intensities(multi_lin_reg_parameter_bundle)\n",
    "plt.plot(expected_intensities, clean_set[0,:]-expected_intensities,  'r+')"
   ]
  },
  {
   "cell_type": "code",
   "execution_count": 205,
   "id": "f69bfa89",
   "metadata": {},
   "outputs": [],
   "source": [
    "def anorthise(image, anint_params):\n",
    "    image_copy = image.copy()\n",
    "    if len(anint_params) == 4:\n",
    "        anint_params = np.insert(anint_params, 3, 0)\n",
    "        print(anint_params)\n",
    "    \n",
    "    image_copy[image_copy<40/256] = 0\n",
    "    points = np.nonzero(image)\n",
    "    brightnesses = image[points]\n",
    "    anorthites = points[1]*anint_params[0] + points[0]*anint_params[1]+ brightnesses*anint_params[2] + (brightnesses**2)*anint_params[3]+anint_params[4]\n",
    "    image_copy[points] = anorthites\n",
    "    image_copy[image_copy<0.6] = 0\n",
    "    \n",
    "    return image_copy, anorthites\n",
    "    \n",
    "    "
   ]
  },
  {
   "cell_type": "code",
   "execution_count": 206,
   "id": "759cb935-a628-45d0-99cf-2692ba649c11",
   "metadata": {},
   "outputs": [],
   "source": [
    "def colourise(anorthites_image): #0-1 image please\n",
    "    points = 0\n",
    "    colours = plt.get_cmap('plasma')\n",
    "    points = np.nonzero(anorthites_image)\n",
    "    print(np.array(points).shape)\n",
    "    rgba_shape = np.array((anorthites_image.shape[0], anorthites_image.shape[1], 4))\n",
    "    anorthites_image_rgba = np.zeros((rgba_shape))\n",
    "    anorthites_image_copy = (anorthites_image.copy()-0.6)/(1-0.6)\n",
    "    #anorthites_image_copy[anorthites_image_copy == 0] = np.array([0,0,0,0])\n",
    "    anorthites_image_rgba[points] = colours(anorthites_image_copy[points])\n",
    "    #print(anorthites_image_copy[points].shape)\n",
    "    #print(colours(anorthites_image[points]).shape)\n",
    "    \n",
    "    return anorthites_image_rgba, colours(anorthites_image_copy[points])\n",
    "    \n",
    "    \n",
    "    \n",
    "    "
   ]
  },
  {
   "cell_type": "code",
   "execution_count": 286,
   "id": "469952a8",
   "metadata": {},
   "outputs": [],
   "source": [
    "anint_test_params = multi_lin_reg_parameter_bundle"
   ]
  },
  {
   "cell_type": "code",
   "execution_count": 287,
   "id": "cfa102c0",
   "metadata": {},
   "outputs": [],
   "source": [
    "anorth_image, anorth_nums = anorthise(image, anint_test_params)"
   ]
  },
  {
   "cell_type": "code",
   "execution_count": 209,
   "id": "cb70f7d4-08e3-46f4-9351-6aa8ad582cc6",
   "metadata": {},
   "outputs": [],
   "source": [
    "anorth_nums = 0"
   ]
  },
  {
   "cell_type": "code",
   "execution_count": 210,
   "id": "baa12260-7dc0-499f-94ac-af19b9d0386a",
   "metadata": {},
   "outputs": [
    {
     "data": {
      "text/plain": [
       "<matplotlib.image.AxesImage at 0x269277d3100>"
      ]
     },
     "execution_count": 210,
     "metadata": {},
     "output_type": "execute_result"
    },
    {
     "data": {
      "image/png": "[encoded data removed]",
      "text/plain": [
       "<Figure size 432x288 with 1 Axes>"
      ]
     },
     "metadata": {
      "needs_background": "light"
     },
     "output_type": "display_data"
    }
   ],
   "source": [
    "plt.imshow(anorth_image)"
   ]
  },
  {
   "cell_type": "code",
   "execution_count": 213,
   "id": "23dd921c-395b-4028-825c-85c04cb5bca5",
   "metadata": {},
   "outputs": [],
   "source": [
    "anorth_series = pd.Series(anorth_nums[::1000])"
   ]
  },
  {
   "cell_type": "code",
   "execution_count": 214,
   "id": "0ce61dd3-6714-4476-8379-248e2041b70e",
   "metadata": {},
   "outputs": [],
   "source": [
    "real_anorth_series = pd.Series(anorthite_list)"
   ]
  },
  {
   "cell_type": "code",
   "execution_count": 215,
   "id": "877e99d6-e4a0-43bd-807d-2e10b994dd49",
   "metadata": {},
   "outputs": [
    {
     "data": {
      "text/plain": [
       "0      0.795742\n",
       "1      0.861012\n",
       "2      0.896795\n",
       "3      0.895374\n",
       "4      0.889862\n",
       "         ...   \n",
       "255    0.895992\n",
       "256    0.873764\n",
       "257    0.869140\n",
       "258    0.868759\n",
       "259    0.897276\n",
       "Length: 260, dtype: float64"
      ]
     },
     "execution_count": 215,
     "metadata": {},
     "output_type": "execute_result"
    }
   ],
   "source": [
    "real_anorth_series"
   ]
  },
  {
   "cell_type": "code",
   "execution_count": 17,
   "id": "0071d2d5-e378-4b84-90b5-26b7e012b0a6",
   "metadata": {},
   "outputs": [],
   "source": [
    "anorth_image_series = pd.Series(anorth_image.flatten()[::10000])"
   ]
  },
  {
   "cell_type": "code",
   "execution_count": 18,
   "id": "07e6d122-4dd8-449f-8ba4-f476034b3a37",
   "metadata": {},
   "outputs": [
    {
     "data": {
      "text/plain": [
       "0       0.0\n",
       "1       0.0\n",
       "2       0.0\n",
       "3       0.0\n",
       "4       0.0\n",
       "       ... \n",
       "9006    0.0\n",
       "9007    0.0\n",
       "9008    0.0\n",
       "9009    0.0\n",
       "9010    0.0\n",
       "Length: 9011, dtype: float32"
      ]
     },
     "execution_count": 18,
     "metadata": {},
     "output_type": "execute_result"
    }
   ],
   "source": [
    "#anorth_image_series"
   ]
  },
  {
   "cell_type": "code",
   "execution_count": 14,
   "id": "0820f022-0838-4118-b8ed-3a8c7095339c",
   "metadata": {},
   "outputs": [
    {
     "data": {
      "text/plain": [
       "0        0.374182\n",
       "1        0.778066\n",
       "2        0.881631\n",
       "3        0.709452\n",
       "4        0.904304\n",
       "           ...   \n",
       "32240    0.849428\n",
       "32241    0.875664\n",
       "32242    0.858357\n",
       "32243    0.858169\n",
       "32244    0.819414\n",
       "Length: 32245, dtype: float64"
      ]
     },
     "execution_count": 14,
     "metadata": {},
     "output_type": "execute_result"
    }
   ],
   "source": [
    "#anorth_series"
   ]
  },
  {
   "cell_type": "code",
   "execution_count": 40,
   "id": "f3c7c4da-4c6b-40b5-9198-35ac63084acd",
   "metadata": {},
   "outputs": [
    {
     "data": {
      "image/png": "[encoded data removed]",
      "text/plain": [
       "<Figure size 432x288 with 1 Axes>"
      ]
     },
     "metadata": {
      "needs_background": "light"
     },
     "output_type": "display_data"
    }
   ],
   "source": [
    "#ax = anorth_series.plot.kde(bw_method = 0.01) Geo mean John1\n",
    "#ax = real_anorth_series.plot.kde(bw_method = 0.01)"
   ]
  },
  {
   "cell_type": "code",
   "execution_count": 217,
   "id": "16d324aa-7aed-4865-ae9a-bda354e0f313",
   "metadata": {},
   "outputs": [
    {
     "data": {
      "image/png": "[encoded data removed]",
      "text/plain": [
       "<Figure size 432x288 with 1 Axes>"
      ]
     },
     "metadata": {
      "needs_background": "light"
     },
     "output_type": "display_data"
    }
   ],
   "source": [
    "ax = anorth_series.plot.kde(bw_method = 1) #\n",
    "ax = real_anorth_series.plot.kde(bw_method = 1)"
   ]
  },
  {
   "cell_type": "code",
   "execution_count": 22,
   "id": "d012138b-544a-4100-95e4-52a7c63d215b",
   "metadata": {},
   "outputs": [],
   "source": [
    "anorth_image[np.nonzero(anorth_image)] = anorth_image[np.nonzero(anorth_image)]-0.75"
   ]
  },
  {
   "cell_type": "code",
   "execution_count": 23,
   "id": "03c625cc-10bf-448c-8b5b-6ca8d8c601ea",
   "metadata": {},
   "outputs": [],
   "source": [
    "anorth_image_series = pd.Series(anorth_image.flatten()[::10000])"
   ]
  },
  {
   "cell_type": "code",
   "execution_count": 24,
   "id": "374d6a5b-0c9e-4bc7-ab69-d2386970adcf",
   "metadata": {},
   "outputs": [
    {
     "data": {
      "text/plain": [
       "0       0.0\n",
       "1       0.0\n",
       "2       0.0\n",
       "3       0.0\n",
       "4       0.0\n",
       "       ... \n",
       "9006    0.0\n",
       "9007    0.0\n",
       "9008    0.0\n",
       "9009    0.0\n",
       "9010    0.0\n",
       "Length: 9011, dtype: float32"
      ]
     },
     "execution_count": 24,
     "metadata": {},
     "output_type": "execute_result"
    }
   ],
   "source": [
    "anorth_image_series"
   ]
  },
  {
   "cell_type": "code",
   "execution_count": 25,
   "id": "b6da7e0f-5c76-416d-aabb-c6221a99d775",
   "metadata": {},
   "outputs": [
    {
     "data": {
      "image/png": "[encoded data removed]",
      "text/plain": [
       "<Figure size 432x288 with 1 Axes>"
      ]
     },
     "metadata": {
      "needs_background": "light"
     },
     "output_type": "display_data"
    }
   ],
   "source": [
    "ax = anorth_image_series.plot.kde(bw_method = 0.01)"
   ]
  },
  {
   "cell_type": "code",
   "execution_count": 32,
   "id": "c4d1b8f4-f5fb-4b9e-9d11-d1fa18d4cf68",
   "metadata": {},
   "outputs": [],
   "source": [
    "anorth_image[np.nonzero(anorth_image)] = anorth_image[np.nonzero(anorth_image)]+0.01"
   ]
  },
  {
   "cell_type": "code",
   "execution_count": 33,
   "id": "36b9450f-938e-401a-84e7-40da1cd73be2",
   "metadata": {},
   "outputs": [],
   "source": [
    "anorth_image_series = pd.Series(anorth_image.flatten()[::10000])"
   ]
  },
  {
   "cell_type": "code",
   "execution_count": 34,
   "id": "22e62efa-10d1-4e39-8b88-d326abe111d1",
   "metadata": {},
   "outputs": [
    {
     "data": {
      "image/png": "[encoded data removed]",
      "text/plain": [
       "<Figure size 432x288 with 1 Axes>"
      ]
     },
     "metadata": {
      "needs_background": "light"
     },
     "output_type": "display_data"
    }
   ],
   "source": [
    "ax = anorth_image_series.plot.kde(bw_method = 0.01)"
   ]
  },
  {
   "cell_type": "code",
   "execution_count": 36,
   "id": "2249a67a-b0e3-4203-9196-8165a7fc113d",
   "metadata": {},
   "outputs": [
    {
     "data": {
      "text/plain": [
       "<matplotlib.image.AxesImage at 0x210ab06a760>"
      ]
     },
     "execution_count": 36,
     "metadata": {},
     "output_type": "execute_result"
    },
    {
     "data": {
      "image/png": "[encoded data removed]",
      "text/plain": [
       "<Figure size 432x288 with 1 Axes>"
      ]
     },
     "metadata": {
      "needs_background": "light"
     },
     "output_type": "display_data"
    }
   ],
   "source": [
    "plt.imshow(anorth_image)"
   ]
  },
  {
   "cell_type": "code",
   "execution_count": 288,
   "id": "2fea7a69-b17c-4743-9d50-a9fb13e455af",
   "metadata": {},
   "outputs": [
    {
     "name": "stdout",
     "output_type": "stream",
     "text": [
      "(2, 32233265)\n"
     ]
    }
   ],
   "source": [
    "colour_im, colour_nums = colourise(anorth_image)"
   ]
  },
  {
   "cell_type": "code",
   "execution_count": 221,
   "id": "202730a9-462a-4c08-b9cb-800264dced9b",
   "metadata": {},
   "outputs": [],
   "source": [
    "anorth_image = 0"
   ]
  },
  {
   "cell_type": "code",
   "execution_count": 33,
   "id": "d7cb7c9d-0959-4758-b8eb-063b9a105817",
   "metadata": {},
   "outputs": [
    {
     "data": {
      "text/plain": [
       "0.11164683656655348"
      ]
     },
     "execution_count": 33,
     "metadata": {},
     "output_type": "execute_result"
    }
   ],
   "source": [
    "np.mean(colour_im[:,:,2])"
   ]
  },
  {
   "cell_type": "code",
   "execution_count": 22,
   "id": "0883ad69-88d5-40ef-bec1-abdfbc976337",
   "metadata": {},
   "outputs": [
    {
     "data": {
      "text/plain": [
       "<matplotlib.image.AxesImage at 0x269124727f0>"
      ]
     },
     "execution_count": 22,
     "metadata": {},
     "output_type": "execute_result"
    },
    {
     "data": {
      "image/png": "[encoded data removed]",
      "text/plain": [
       "<Figure size 432x288 with 1 Axes>"
      ]
     },
     "metadata": {
      "needs_background": "light"
     },
     "output_type": "display_data"
    }
   ],
   "source": [
    "plt.imshow(colour_im)"
   ]
  },
  {
   "cell_type": "code",
   "execution_count": 23,
   "id": "4e3899bc-1ef0-4b5c-a011-323a6994293c",
   "metadata": {},
   "outputs": [
    {
     "data": {
      "text/plain": [
       "(10178, 8853, 4)"
      ]
     },
     "execution_count": 23,
     "metadata": {},
     "output_type": "execute_result"
    }
   ],
   "source": [
    "colour_im.shape"
   ]
  },
  {
   "cell_type": "code",
   "execution_count": 289,
   "id": "e5e7108a-022e-4098-b9bb-f6b0a9f2200b",
   "metadata": {},
   "outputs": [],
   "source": [
    "to_save = (colour_im*255).astype(np.uint8)\n",
    "to_save = Image.fromarray(to_save)\n",
    "to_save.save('John1_offset_coloured.tif')"
   ]
  },
  {
   "cell_type": "code",
   "execution_count": null,
   "id": "7122aea2-4303-49df-a08c-c93c6f3c68d9",
   "metadata": {},
   "outputs": [],
   "source": []
  }
 ],
 "metadata": {
  "kernelspec": {
   "display_name": "Python 3 (ipykernel)",
   "language": "python",
   "name": "python3"
  },
  "language_info": {
   "codemirror_mode": {
    "name": "ipython",
    "version": 3
   },
   "file_extension": ".py",
   "mimetype": "text/x-python",
   "name": "python",
   "nbconvert_exporter": "python",
   "pygments_lexer": "ipython3",
   "version": "3.9.7"
  }
 },
 "nbformat": 4,
 "nbformat_minor": 5
}
