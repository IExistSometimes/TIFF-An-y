{
 "cells": [
  {
   "cell_type": "code",
   "execution_count": 1,
   "id": "822b40b2",
   "metadata": {},
   "outputs": [],
   "source": [
    "import sklearn\n",
    "import skimage\n",
    "import numpy as np\n",
    "import matplotlib.pyplot as plt\n",
    "import pandas as pd\n",
    "from sklearn.datasets import load_digits\n",
    "from sklearn.decomposition import IncrementalPCA\n",
    "from PIL import Image\n",
    "from skimage.transform import rescale, resize, downscale_local_mean\n",
    "from skimage.measure import block_reduce\n",
    "from scipy.stats import gmean\n",
    "from skimage.restoration import denoise_tv_chambolle\n",
    "import glob"
   ]
  },
  {
   "cell_type": "code",
   "execution_count": 2,
   "id": "8fc1474a",
   "metadata": {},
   "outputs": [
    {
     "name": "stderr",
     "output_type": "stream",
     "text": [
      "C:\\Users\\rwfbl\\anaconda3\\lib\\site-packages\\PIL\\Image.py:2918: DecompressionBombWarning: Image size (90105834 pixels) exceeds limit of 89478485 pixels, could be decompression bomb DOS attack.\n",
      "  warnings.warn(\n"
     ]
    }
   ],
   "source": [
    "image = plt.imread(\"un-brightened_thresh.tif\")"
   ]
  },
  {
   "cell_type": "code",
   "execution_count": 3,
   "id": "ad3c56d3",
   "metadata": {},
   "outputs": [
    {
     "data": {
      "text/plain": [
       "0"
      ]
     },
     "execution_count": 3,
     "metadata": {},
     "output_type": "execute_result"
    }
   ],
   "source": [
    "np.min(image)"
   ]
  },
  {
   "cell_type": "code",
   "execution_count": 4,
   "id": "a9380c94",
   "metadata": {},
   "outputs": [],
   "source": [
    "de_noised = denoise_tv_chambolle(image, weight = 1)"
   ]
  },
  {
   "cell_type": "code",
   "execution_count": 5,
   "id": "4be696a9",
   "metadata": {},
   "outputs": [
    {
     "data": {
      "text/plain": [
       "0.703120684250619"
      ]
     },
     "execution_count": 5,
     "metadata": {},
     "output_type": "execute_result"
    }
   ],
   "source": [
    "np.max(de_noised)"
   ]
  },
  {
   "cell_type": "code",
   "execution_count": 6,
   "id": "9be7539c",
   "metadata": {},
   "outputs": [],
   "source": [
    "to_save = de_noised*256*256\n",
    "to_save = to_save.astype(np.uint16)\n",
    "#plt.imshow(stitched)\n",
    "to_save = Image.fromarray(to_save)\n",
    "to_save.save('un_brightened_thresh_wt1.png')"
   ]
  },
  {
   "cell_type": "code",
   "execution_count": 7,
   "id": "c2c1d42b",
   "metadata": {},
   "outputs": [],
   "source": [
    "to_save = []"
   ]
  },
  {
   "cell_type": "code",
   "execution_count": null,
   "id": "263c08a9",
   "metadata": {},
   "outputs": [],
   "source": []
  }
 ],
 "metadata": {
  "kernelspec": {
   "display_name": "Python 3 (ipykernel)",
   "language": "python",
   "name": "python3"
  },
  "language_info": {
   "codemirror_mode": {
    "name": "ipython",
    "version": 3
   },
   "file_extension": ".py",
   "mimetype": "text/x-python",
   "name": "python",
   "nbconvert_exporter": "python",
   "pygments_lexer": "ipython3",
   "version": "3.9.7"
  }
 },
 "nbformat": 4,
 "nbformat_minor": 5
}
